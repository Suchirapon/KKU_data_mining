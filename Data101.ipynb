{
  "nbformat": 4,
  "nbformat_minor": 0,
  "metadata": {
    "colab": {
      "name": "Data101.ipynb",
      "provenance": [],
      "authorship_tag": "ABX9TyOfKY7Va+cNPrxiAfQNgfkR",
      "include_colab_link": true
    },
    "kernelspec": {
      "name": "python3",
      "display_name": "Python 3"
    }
  },
  "cells": [
    {
      "cell_type": "markdown",
      "metadata": {
        "id": "view-in-github",
        "colab_type": "text"
      },
      "source": [
        "<a href=\"https://colab.research.google.com/github/Suchirapon/KKU_data_mining/blob/master/Data101.ipynb\" target=\"_parent\"><img src=\"https://colab.research.google.com/assets/colab-badge.svg\" alt=\"Open In Colab\"/></a>"
      ]
    },
    {
      "cell_type": "markdown",
      "metadata": {
        "id": "oAOTVIxhcfNG",
        "colab_type": "text"
      },
      "source": [
        "ตัวอย่างการเรียกใช้ package ที่ชื่อว่า pandas\n",
        "โดยที่คำสั่ง import คือ การเรียกใช้ package "
      ]
    },
    {
      "cell_type": "code",
      "metadata": {
        "id": "FGKi9rdMWqYX",
        "colab_type": "code",
        "colab": {}
      },
      "source": [
        "import pandas"
      ],
      "execution_count": null,
      "outputs": []
    },
    {
      "cell_type": "markdown",
      "metadata": {
        "id": "dLFEKyFtcsTG",
        "colab_type": "text"
      },
      "source": [
        "ตัวอย่างการเปลี่ยนชื่อ pandas ให้สั้นลง โดยใช้คำสั่ง as เพื่อเปลี่ยนเป็นชื่อที่ต้องการ"
      ]
    },
    {
      "cell_type": "code",
      "metadata": {
        "id": "qNPx05jVWw_6",
        "colab_type": "code",
        "colab": {}
      },
      "source": [
        "import pandas as pd "
      ],
      "execution_count": null,
      "outputs": []
    },
    {
      "cell_type": "markdown",
      "metadata": {
        "id": "p8ZMsFTgjqEt",
        "colab_type": "text"
      },
      "source": [
        "ถ้า Library ใหญ่ขึ้นที่จะรวมเป็นโฟลเดอร์ จะใช้คำสั่ง **from** ตามด้วย *ชื่อโปรเจกต์ใหญ่*\n",
        "  **import** ตามด้วย *แพ็กเกจที่ต้องการ*"
      ]
    },
    {
      "cell_type": "code",
      "metadata": {
        "id": "LxW6ZGbcY3OR",
        "colab_type": "code",
        "colab": {
          "base_uri": "https://localhost:8080/",
          "height": 35
        },
        "outputId": "eeca06aa-2e70-42fb-940a-62363569ad6b"
      },
      "source": [
        "from google.colab import drive \n",
        "drive.mount('/content/drive')"
      ],
      "execution_count": null,
      "outputs": [
        {
          "output_type": "stream",
          "text": [
            "Drive already mounted at /content/drive; to attempt to forcibly remount, call drive.mount(\"/content/drive\", force_remount=True).\n"
          ],
          "name": "stdout"
        }
      ]
    },
    {
      "cell_type": "markdown",
      "metadata": {
        "id": "8ngRyWtElfgq",
        "colab_type": "text"
      },
      "source": [
        "การ import **os**  คือ การเรียกใช้การทำงานที่เกี่ยวกับไฟล์ทั้งหมด"
      ]
    },
    {
      "cell_type": "code",
      "metadata": {
        "id": "5v5hz1omY3ly",
        "colab_type": "code",
        "colab": {}
      },
      "source": [
        "import os "
      ],
      "execution_count": null,
      "outputs": []
    },
    {
      "cell_type": "markdown",
      "metadata": {
        "id": "HQ32_PvMng_z",
        "colab_type": "text"
      },
      "source": [
        "**path** คือ การสร้างตัวแปรเป็นที่อยู่ของไฟล์"
      ]
    },
    {
      "cell_type": "code",
      "metadata": {
        "id": "WtlXG3I0fPZK",
        "colab_type": "code",
        "colab": {}
      },
      "source": [
        "path = '/content/drive/My Drive/DWDM_material'"
      ],
      "execution_count": null,
      "outputs": []
    },
    {
      "cell_type": "markdown",
      "metadata": {
        "id": "Tl3Dr-pBojjL",
        "colab_type": "text"
      },
      "source": [
        "**listdir** คือ ลิสต์ไฟล์ทั้งหมดตามที่อยู่ที่เรากำหนดไว้"
      ]
    },
    {
      "cell_type": "code",
      "metadata": {
        "id": "sWxO2vQwY3ze",
        "colab_type": "code",
        "colab": {
          "base_uri": "https://localhost:8080/",
          "height": 35
        },
        "outputId": "47bd1920-18a0-4302-c444-036c14b12984"
      },
      "source": [
        "os.listdir(path)"
      ],
      "execution_count": null,
      "outputs": [
        {
          "output_type": "execute_result",
          "data": {
            "text/plain": [
              "['test.csv']"
            ]
          },
          "metadata": {
            "tags": []
          },
          "execution_count": 8
        }
      ]
    },
    {
      "cell_type": "code",
      "metadata": {
        "id": "o5PjdHWvgBkg",
        "colab_type": "code",
        "colab": {}
      },
      "source": [
        "import pandas as pd "
      ],
      "execution_count": null,
      "outputs": []
    },
    {
      "cell_type": "markdown",
      "metadata": {
        "id": "-RWZfGoru1Hs",
        "colab_type": "text"
      },
      "source": [
        "สร้างตัวแปรใหม่ที่ชื่อ file_path \n",
        "เราจะเปิดไฟล์ .csv โดยสร้างตัวแปร os.path.join โดยเราจะ join สองอย่างคือ path และ ชื่อไฟล์ของเรา คือ test.csv"
      ]
    },
    {
      "cell_type": "code",
      "metadata": {
        "id": "jRniPCjMhHyQ",
        "colab_type": "code",
        "colab": {
          "base_uri": "https://localhost:8080/",
          "height": 35
        },
        "outputId": "c5c7ca37-9cd0-4450-9594-b443db105fa1"
      },
      "source": [
        "file_path = os.path.join(path,'test.csv')\n",
        "print(file_path)"
      ],
      "execution_count": null,
      "outputs": [
        {
          "output_type": "stream",
          "text": [
            "/content/drive/My Drive/DWDM_material/test.csv\n"
          ],
          "name": "stdout"
        }
      ]
    },
    {
      "cell_type": "code",
      "metadata": {
        "id": "AqUn1MMygLIW",
        "colab_type": "code",
        "colab": {
          "base_uri": "https://localhost:8080/",
          "height": 202
        },
        "outputId": "78c38a9e-d460-40d6-9226-2fb4ce314210"
      },
      "source": [
        "pd.read_csv(file_path).head()"
      ],
      "execution_count": null,
      "outputs": [
        {
          "output_type": "execute_result",
          "data": {
            "text/html": [
              "<div>\n",
              "<style scoped>\n",
              "    .dataframe tbody tr th:only-of-type {\n",
              "        vertical-align: middle;\n",
              "    }\n",
              "\n",
              "    .dataframe tbody tr th {\n",
              "        vertical-align: top;\n",
              "    }\n",
              "\n",
              "    .dataframe thead th {\n",
              "        text-align: right;\n",
              "    }\n",
              "</style>\n",
              "<table border=\"1\" class=\"dataframe\">\n",
              "  <thead>\n",
              "    <tr style=\"text-align: right;\">\n",
              "      <th></th>\n",
              "      <th>Unnamed: 0</th>\n",
              "      <th>x</th>\n",
              "      <th>y</th>\n",
              "    </tr>\n",
              "  </thead>\n",
              "  <tbody>\n",
              "    <tr>\n",
              "      <th>0</th>\n",
              "      <td>0</td>\n",
              "      <td>55.3846</td>\n",
              "      <td>97.1795</td>\n",
              "    </tr>\n",
              "    <tr>\n",
              "      <th>1</th>\n",
              "      <td>1</td>\n",
              "      <td>51.5385</td>\n",
              "      <td>96.0256</td>\n",
              "    </tr>\n",
              "    <tr>\n",
              "      <th>2</th>\n",
              "      <td>2</td>\n",
              "      <td>46.1538</td>\n",
              "      <td>94.4872</td>\n",
              "    </tr>\n",
              "    <tr>\n",
              "      <th>3</th>\n",
              "      <td>3</td>\n",
              "      <td>42.8205</td>\n",
              "      <td>91.4103</td>\n",
              "    </tr>\n",
              "    <tr>\n",
              "      <th>4</th>\n",
              "      <td>4</td>\n",
              "      <td>40.7692</td>\n",
              "      <td>88.3333</td>\n",
              "    </tr>\n",
              "  </tbody>\n",
              "</table>\n",
              "</div>"
            ],
            "text/plain": [
              "   Unnamed: 0        x        y\n",
              "0           0  55.3846  97.1795\n",
              "1           1  51.5385  96.0256\n",
              "2           2  46.1538  94.4872\n",
              "3           3  42.8205  91.4103\n",
              "4           4  40.7692  88.3333"
            ]
          },
          "metadata": {
            "tags": []
          },
          "execution_count": 11
        }
      ]
    },
    {
      "cell_type": "markdown",
      "metadata": {
        "id": "WPYcGDF6wflY",
        "colab_type": "text"
      },
      "source": [
        "ตั้งชื่อให้ table1 เป็นตัวแปร ทำให้ pd.read_csv(file_path) มาอยู่ในตัวแปร หลังจากนั้นถ้าจะใช้ก็ให้พิมพ์ชื่อตัวแปร table1 แล้วก็รันผล เพื่อโชว์ตัวแปรและค่าข้างในตัวแปร"
      ]
    },
    {
      "cell_type": "code",
      "metadata": {
        "id": "dHZVcPO5gB40",
        "colab_type": "code",
        "colab": {}
      },
      "source": [
        "table1 = pd.read_csv(file_path)"
      ],
      "execution_count": null,
      "outputs": []
    },
    {
      "cell_type": "code",
      "metadata": {
        "id": "jvMeYQTagCKh",
        "colab_type": "code",
        "colab": {
          "base_uri": "https://localhost:8080/",
          "height": 415
        },
        "outputId": "687b1530-1ead-4c73-fddd-b34d02356034"
      },
      "source": [
        "table1"
      ],
      "execution_count": null,
      "outputs": [
        {
          "output_type": "execute_result",
          "data": {
            "text/html": [
              "<div>\n",
              "<style scoped>\n",
              "    .dataframe tbody tr th:only-of-type {\n",
              "        vertical-align: middle;\n",
              "    }\n",
              "\n",
              "    .dataframe tbody tr th {\n",
              "        vertical-align: top;\n",
              "    }\n",
              "\n",
              "    .dataframe thead th {\n",
              "        text-align: right;\n",
              "    }\n",
              "</style>\n",
              "<table border=\"1\" class=\"dataframe\">\n",
              "  <thead>\n",
              "    <tr style=\"text-align: right;\">\n",
              "      <th></th>\n",
              "      <th>Unnamed: 0</th>\n",
              "      <th>x</th>\n",
              "      <th>y</th>\n",
              "    </tr>\n",
              "  </thead>\n",
              "  <tbody>\n",
              "    <tr>\n",
              "      <th>0</th>\n",
              "      <td>0</td>\n",
              "      <td>55.3846</td>\n",
              "      <td>97.1795</td>\n",
              "    </tr>\n",
              "    <tr>\n",
              "      <th>1</th>\n",
              "      <td>1</td>\n",
              "      <td>51.5385</td>\n",
              "      <td>96.0256</td>\n",
              "    </tr>\n",
              "    <tr>\n",
              "      <th>2</th>\n",
              "      <td>2</td>\n",
              "      <td>46.1538</td>\n",
              "      <td>94.4872</td>\n",
              "    </tr>\n",
              "    <tr>\n",
              "      <th>3</th>\n",
              "      <td>3</td>\n",
              "      <td>42.8205</td>\n",
              "      <td>91.4103</td>\n",
              "    </tr>\n",
              "    <tr>\n",
              "      <th>4</th>\n",
              "      <td>4</td>\n",
              "      <td>40.7692</td>\n",
              "      <td>88.3333</td>\n",
              "    </tr>\n",
              "    <tr>\n",
              "      <th>...</th>\n",
              "      <td>...</td>\n",
              "      <td>...</td>\n",
              "      <td>...</td>\n",
              "    </tr>\n",
              "    <tr>\n",
              "      <th>137</th>\n",
              "      <td>137</td>\n",
              "      <td>39.4872</td>\n",
              "      <td>25.3846</td>\n",
              "    </tr>\n",
              "    <tr>\n",
              "      <th>138</th>\n",
              "      <td>138</td>\n",
              "      <td>91.2821</td>\n",
              "      <td>41.5385</td>\n",
              "    </tr>\n",
              "    <tr>\n",
              "      <th>139</th>\n",
              "      <td>139</td>\n",
              "      <td>50.0000</td>\n",
              "      <td>95.7692</td>\n",
              "    </tr>\n",
              "    <tr>\n",
              "      <th>140</th>\n",
              "      <td>140</td>\n",
              "      <td>47.9487</td>\n",
              "      <td>95.0000</td>\n",
              "    </tr>\n",
              "    <tr>\n",
              "      <th>141</th>\n",
              "      <td>141</td>\n",
              "      <td>44.1026</td>\n",
              "      <td>92.6923</td>\n",
              "    </tr>\n",
              "  </tbody>\n",
              "</table>\n",
              "<p>142 rows × 3 columns</p>\n",
              "</div>"
            ],
            "text/plain": [
              "     Unnamed: 0        x        y\n",
              "0             0  55.3846  97.1795\n",
              "1             1  51.5385  96.0256\n",
              "2             2  46.1538  94.4872\n",
              "3             3  42.8205  91.4103\n",
              "4             4  40.7692  88.3333\n",
              "..          ...      ...      ...\n",
              "137         137  39.4872  25.3846\n",
              "138         138  91.2821  41.5385\n",
              "139         139  50.0000  95.7692\n",
              "140         140  47.9487  95.0000\n",
              "141         141  44.1026  92.6923\n",
              "\n",
              "[142 rows x 3 columns]"
            ]
          },
          "metadata": {
            "tags": []
          },
          "execution_count": 13
        }
      ]
    },
    {
      "cell_type": "markdown",
      "metadata": {
        "id": "QOepyocvkFUv",
        "colab_type": "text"
      },
      "source": [
        "ดูแต่หัวตารางโดยพิมพ์ชื่อตัวแปร คือ table1 ตามด้วย **.head()**  แปลว่า เราจะโชว์แค่ห้าบรรทัดแรก"
      ]
    },
    {
      "cell_type": "code",
      "metadata": {
        "id": "28kQz634gCZ2",
        "colab_type": "code",
        "colab": {
          "base_uri": "https://localhost:8080/",
          "height": 202
        },
        "outputId": "08c71de9-cd9c-4350-ecaf-da6ae2c62ee6"
      },
      "source": [
        "table1.head()"
      ],
      "execution_count": null,
      "outputs": [
        {
          "output_type": "execute_result",
          "data": {
            "text/html": [
              "<div>\n",
              "<style scoped>\n",
              "    .dataframe tbody tr th:only-of-type {\n",
              "        vertical-align: middle;\n",
              "    }\n",
              "\n",
              "    .dataframe tbody tr th {\n",
              "        vertical-align: top;\n",
              "    }\n",
              "\n",
              "    .dataframe thead th {\n",
              "        text-align: right;\n",
              "    }\n",
              "</style>\n",
              "<table border=\"1\" class=\"dataframe\">\n",
              "  <thead>\n",
              "    <tr style=\"text-align: right;\">\n",
              "      <th></th>\n",
              "      <th>Unnamed: 0</th>\n",
              "      <th>x</th>\n",
              "      <th>y</th>\n",
              "    </tr>\n",
              "  </thead>\n",
              "  <tbody>\n",
              "    <tr>\n",
              "      <th>0</th>\n",
              "      <td>0</td>\n",
              "      <td>55.3846</td>\n",
              "      <td>97.1795</td>\n",
              "    </tr>\n",
              "    <tr>\n",
              "      <th>1</th>\n",
              "      <td>1</td>\n",
              "      <td>51.5385</td>\n",
              "      <td>96.0256</td>\n",
              "    </tr>\n",
              "    <tr>\n",
              "      <th>2</th>\n",
              "      <td>2</td>\n",
              "      <td>46.1538</td>\n",
              "      <td>94.4872</td>\n",
              "    </tr>\n",
              "    <tr>\n",
              "      <th>3</th>\n",
              "      <td>3</td>\n",
              "      <td>42.8205</td>\n",
              "      <td>91.4103</td>\n",
              "    </tr>\n",
              "    <tr>\n",
              "      <th>4</th>\n",
              "      <td>4</td>\n",
              "      <td>40.7692</td>\n",
              "      <td>88.3333</td>\n",
              "    </tr>\n",
              "  </tbody>\n",
              "</table>\n",
              "</div>"
            ],
            "text/plain": [
              "   Unnamed: 0        x        y\n",
              "0           0  55.3846  97.1795\n",
              "1           1  51.5385  96.0256\n",
              "2           2  46.1538  94.4872\n",
              "3           3  42.8205  91.4103\n",
              "4           4  40.7692  88.3333"
            ]
          },
          "metadata": {
            "tags": []
          },
          "execution_count": 14
        }
      ]
    },
    {
      "cell_type": "markdown",
      "metadata": {
        "id": "gt1VTUKyzPoc",
        "colab_type": "text"
      },
      "source": [
        "pyplot เป็นแพ็กเกจที่เอาไว้ใช้พล็อตกราฟ\n",
        "คำสั่งแรก คือ **scatter**  โดยเอาแต่ละจุดไปพล็อตที่กราฟ x และ y "
      ]
    },
    {
      "cell_type": "code",
      "metadata": {
        "id": "_cK7AV-4kRo8",
        "colab_type": "code",
        "colab": {}
      },
      "source": [
        "from matplotlib import pyplot as plt"
      ],
      "execution_count": null,
      "outputs": []
    },
    {
      "cell_type": "code",
      "metadata": {
        "id": "C2tAK4NkkwGX",
        "colab_type": "code",
        "colab": {
          "base_uri": "https://localhost:8080/",
          "height": 283
        },
        "outputId": "fd973dea-7ab8-4c29-8e8a-a1e4949a6dc8"
      },
      "source": [
        "plt.scatter(table1['x'],table1['y'])"
      ],
      "execution_count": null,
      "outputs": [
        {
          "output_type": "execute_result",
          "data": {
            "text/plain": [
              "<matplotlib.collections.PathCollection at 0x7f925ee43c18>"
            ]
          },
          "metadata": {
            "tags": []
          },
          "execution_count": 16
        },
        {
          "output_type": "display_data",
          "data": {
            "image/png": "[encoded data removed]",
            "text/plain": [
              "<Figure size 432x288 with 1 Axes>"
            ]
          },
          "metadata": {
            "tags": [],
            "needs_background": "light"
          }
        }
      ]
    },
    {
      "cell_type": "markdown",
      "metadata": {
        "id": "FJ_KlJc5h9Kj",
        "colab_type": "text"
      },
      "source": [
        "# Centrality การหาค่ากลาง"
      ]
    },
    {
      "cell_type": "code",
      "metadata": {
        "id": "9U4lRkDfh0yJ",
        "colab_type": "code",
        "colab": {
          "base_uri": "https://localhost:8080/",
          "height": 225
        },
        "outputId": "8e938b01-fb2d-4fac-c73c-cb29b3fb3512"
      },
      "source": [
        "table1.x"
      ],
      "execution_count": null,
      "outputs": [
        {
          "output_type": "execute_result",
          "data": {
            "text/plain": [
              "0      55.3846\n",
              "1      51.5385\n",
              "2      46.1538\n",
              "3      42.8205\n",
              "4      40.7692\n",
              "        ...   \n",
              "137    39.4872\n",
              "138    91.2821\n",
              "139    50.0000\n",
              "140    47.9487\n",
              "141    44.1026\n",
              "Name: x, Length: 142, dtype: float64"
            ]
          },
          "metadata": {
            "tags": []
          },
          "execution_count": 17
        }
      ]
    },
    {
      "cell_type": "markdown",
      "metadata": {
        "id": "t06mpt3Rjt-N",
        "colab_type": "text"
      },
      "source": [
        "การจะเรียกใช้ค่ามี 2 แบบ คือ **table1['x']** หรือ \n",
        "**table1.x** สามารถเรียกใช้ได้ 2 แบบ _แต่ตัวที่เป็น . ตามด้วยชื่อที่จะเรียกใช้_ จะมีปัญหาถ้าชื่อคอลัมมีช่องว่าง "
      ]
    },
    {
      "cell_type": "code",
      "metadata": {
        "id": "nipFfYPOiFZs",
        "colab_type": "code",
        "colab": {
          "base_uri": "https://localhost:8080/",
          "height": 225
        },
        "outputId": "de8a1131-4153-459f-fbdd-cecd473d968f"
      },
      "source": [
        "table1['x']"
      ],
      "execution_count": null,
      "outputs": [
        {
          "output_type": "execute_result",
          "data": {
            "text/plain": [
              "0      55.3846\n",
              "1      51.5385\n",
              "2      46.1538\n",
              "3      42.8205\n",
              "4      40.7692\n",
              "        ...   \n",
              "137    39.4872\n",
              "138    91.2821\n",
              "139    50.0000\n",
              "140    47.9487\n",
              "141    44.1026\n",
              "Name: x, Length: 142, dtype: float64"
            ]
          },
          "metadata": {
            "tags": []
          },
          "execution_count": 18
        }
      ]
    },
    {
      "cell_type": "markdown",
      "metadata": {
        "id": "OOEUPM6H1f74",
        "colab_type": "text"
      },
      "source": [
        "ชื่อตาราง __.describe()__ คือ สถิติที่ใช้อธิบาย เป็นคำสั่งที่ใช้คำนวณค่ากลาง ค่าการกระจายของตาราง"
      ]
    },
    {
      "cell_type": "code",
      "metadata": {
        "id": "kAFV_9KxiFlR",
        "colab_type": "code",
        "colab": {
          "base_uri": "https://localhost:8080/",
          "height": 294
        },
        "outputId": "7d2e483e-baed-477d-eb90-c7c16bb278fb"
      },
      "source": [
        "table1.describe()"
      ],
      "execution_count": null,
      "outputs": [
        {
          "output_type": "execute_result",
          "data": {
            "text/html": [
              "<div>\n",
              "<style scoped>\n",
              "    .dataframe tbody tr th:only-of-type {\n",
              "        vertical-align: middle;\n",
              "    }\n",
              "\n",
              "    .dataframe tbody tr th {\n",
              "        vertical-align: top;\n",
              "    }\n",
              "\n",
              "    .dataframe thead th {\n",
              "        text-align: right;\n",
              "    }\n",
              "</style>\n",
              "<table border=\"1\" class=\"dataframe\">\n",
              "  <thead>\n",
              "    <tr style=\"text-align: right;\">\n",
              "      <th></th>\n",
              "      <th>Unnamed: 0</th>\n",
              "      <th>x</th>\n",
              "      <th>y</th>\n",
              "    </tr>\n",
              "  </thead>\n",
              "  <tbody>\n",
              "    <tr>\n",
              "      <th>count</th>\n",
              "      <td>142.000000</td>\n",
              "      <td>142.000000</td>\n",
              "      <td>142.000000</td>\n",
              "    </tr>\n",
              "    <tr>\n",
              "      <th>mean</th>\n",
              "      <td>70.500000</td>\n",
              "      <td>54.263273</td>\n",
              "      <td>47.832253</td>\n",
              "    </tr>\n",
              "    <tr>\n",
              "      <th>std</th>\n",
              "      <td>41.135953</td>\n",
              "      <td>16.765142</td>\n",
              "      <td>26.935403</td>\n",
              "    </tr>\n",
              "    <tr>\n",
              "      <th>min</th>\n",
              "      <td>0.000000</td>\n",
              "      <td>22.307700</td>\n",
              "      <td>2.948700</td>\n",
              "    </tr>\n",
              "    <tr>\n",
              "      <th>25%</th>\n",
              "      <td>35.250000</td>\n",
              "      <td>44.102600</td>\n",
              "      <td>25.288450</td>\n",
              "    </tr>\n",
              "    <tr>\n",
              "      <th>50%</th>\n",
              "      <td>70.500000</td>\n",
              "      <td>53.333300</td>\n",
              "      <td>46.025600</td>\n",
              "    </tr>\n",
              "    <tr>\n",
              "      <th>75%</th>\n",
              "      <td>105.750000</td>\n",
              "      <td>64.743600</td>\n",
              "      <td>68.525675</td>\n",
              "    </tr>\n",
              "    <tr>\n",
              "      <th>max</th>\n",
              "      <td>141.000000</td>\n",
              "      <td>98.205100</td>\n",
              "      <td>99.487200</td>\n",
              "    </tr>\n",
              "  </tbody>\n",
              "</table>\n",
              "</div>"
            ],
            "text/plain": [
              "       Unnamed: 0           x           y\n",
              "count  142.000000  142.000000  142.000000\n",
              "mean    70.500000   54.263273   47.832253\n",
              "std     41.135953   16.765142   26.935403\n",
              "min      0.000000   22.307700    2.948700\n",
              "25%     35.250000   44.102600   25.288450\n",
              "50%     70.500000   53.333300   46.025600\n",
              "75%    105.750000   64.743600   68.525675\n",
              "max    141.000000   98.205100   99.487200"
            ]
          },
          "metadata": {
            "tags": []
          },
          "execution_count": 19
        }
      ]
    },
    {
      "cell_type": "markdown",
      "metadata": {
        "id": "dmNbbr_LnIWs",
        "colab_type": "text"
      },
      "source": [
        "## Python Data Structure"
      ]
    },
    {
      "cell_type": "markdown",
      "metadata": {
        "id": "hEFfQYA0nXlL",
        "colab_type": "text"
      },
      "source": [
        "การสร้างตัวแปร หรือ Variable โดยสร้างตัวแปรให้เป็น _อักษรตัวใดตัวหนึ่ง_ แล้วกำหนดให้ __=__  _ค่าใดค่าหนึ่ง_"
      ]
    },
    {
      "cell_type": "code",
      "metadata": {
        "id": "uJF2l1FciFrA",
        "colab_type": "code",
        "colab": {}
      },
      "source": [
        "a = 1\n",
        "b = 3"
      ],
      "execution_count": null,
      "outputs": []
    },
    {
      "cell_type": "code",
      "metadata": {
        "id": "kcSL3d5CiFvV",
        "colab_type": "code",
        "colab": {}
      },
      "source": [
        "c = a + b"
      ],
      "execution_count": null,
      "outputs": []
    },
    {
      "cell_type": "code",
      "metadata": {
        "id": "ggU27dUniFzr",
        "colab_type": "code",
        "colab": {
          "base_uri": "https://localhost:8080/",
          "height": 35
        },
        "outputId": "f43b7118-1c36-49ca-c180-aa7887f25f94"
      },
      "source": [
        "c"
      ],
      "execution_count": null,
      "outputs": [
        {
          "output_type": "execute_result",
          "data": {
            "text/plain": [
              "4"
            ]
          },
          "metadata": {
            "tags": []
          },
          "execution_count": 22
        }
      ]
    },
    {
      "cell_type": "markdown",
      "metadata": {
        "id": "45jwIQb77ms4",
        "colab_type": "text"
      },
      "source": [
        "สร้างตัวแปรให้เป็นชื่อยาว เช่น name = __'__ _ชื่ออักษร_\n",
        "  __'__ "
      ]
    },
    {
      "cell_type": "code",
      "metadata": {
        "id": "JVzJoFMGnwNA",
        "colab_type": "code",
        "colab": {}
      },
      "source": [
        "name = 'a'"
      ],
      "execution_count": null,
      "outputs": []
    },
    {
      "cell_type": "code",
      "metadata": {
        "id": "jmYIEu2wnwYr",
        "colab_type": "code",
        "colab": {
          "base_uri": "https://localhost:8080/",
          "height": 35
        },
        "outputId": "c86f00fc-2c2d-4b74-e54b-91e8d05cc9aa"
      },
      "source": [
        "name"
      ],
      "execution_count": null,
      "outputs": [
        {
          "output_type": "execute_result",
          "data": {
            "application/vnd.google.colaboratory.intrinsic+json": {
              "type": "string"
            },
            "text/plain": [
              "'a'"
            ]
          },
          "metadata": {
            "tags": []
          },
          "execution_count": 24
        }
      ]
    },
    {
      "cell_type": "markdown",
      "metadata": {
        "id": "zP2rTJQx8dl7",
        "colab_type": "text"
      },
      "source": [
        "สร้าง one = '1' โดยกำหนดให้ 1 เป็นตัวอักษร เพราะมี __' '__ ล้อมรอบ "
      ]
    },
    {
      "cell_type": "code",
      "metadata": {
        "id": "wbDeSH7wnwf9",
        "colab_type": "code",
        "colab": {}
      },
      "source": [
        "one = '1'"
      ],
      "execution_count": null,
      "outputs": []
    },
    {
      "cell_type": "markdown",
      "metadata": {
        "id": "bfOH4pbY9NmC",
        "colab_type": "text"
      },
      "source": [
        "เกิดการ error เนื่องจาก เราไม่สามารถเอาตัวเลขไปบวกกับตัวอักษรได้ ต้องเปลี่ยน โดยใช้คำสั่ง __int__"
      ]
    },
    {
      "cell_type": "code",
      "metadata": {
        "id": "4K2oCo0Bnwkv",
        "colab_type": "code",
        "colab": {
          "base_uri": "https://localhost:8080/",
          "height": 167
        },
        "outputId": "d7713336-1ad1-47d4-d152-681a31a24b0b"
      },
      "source": [
        "a + one "
      ],
      "execution_count": null,
      "outputs": [
        {
          "output_type": "error",
          "ename": "TypeError",
          "evalue": "ignored",
          "traceback": [
            "\u001b[0;31m---------------------------------------------------------------------------\u001b[0m",
            "\u001b[0;31mTypeError\u001b[0m                                 Traceback (most recent call last)",
            "\u001b[0;32m<ipython-input-26-7aaf08d09bda>\u001b[0m in \u001b[0;36m<module>\u001b[0;34m()\u001b[0m\n\u001b[0;32m----> 1\u001b[0;31m \u001b[0ma\u001b[0m \u001b[0;34m+\u001b[0m \u001b[0mone\u001b[0m\u001b[0;34m\u001b[0m\u001b[0;34m\u001b[0m\u001b[0m\n\u001b[0m",
            "\u001b[0;31mTypeError\u001b[0m: unsupported operand type(s) for +: 'int' and 'str'"
          ]
        }
      ]
    },
    {
      "cell_type": "markdown",
      "metadata": {
        "id": "ORwQyWWVppti",
        "colab_type": "text"
      },
      "source": [
        "### Casting int() float() str() การเปลี่ยนชนิดของตัวแปร"
      ]
    },
    {
      "cell_type": "code",
      "metadata": {
        "id": "qOuNCWE6oL5R",
        "colab_type": "code",
        "colab": {
          "base_uri": "https://localhost:8080/",
          "height": 35
        },
        "outputId": "5092223b-981c-4ede-e80e-4fd9cc0cae17"
      },
      "source": [
        "a + int(one)"
      ],
      "execution_count": null,
      "outputs": [
        {
          "output_type": "execute_result",
          "data": {
            "text/plain": [
              "2"
            ]
          },
          "metadata": {
            "tags": []
          },
          "execution_count": 27
        }
      ]
    },
    {
      "cell_type": "code",
      "metadata": {
        "id": "VYjzpzmDo2Dg",
        "colab_type": "code",
        "colab": {}
      },
      "source": [
        "num = '112.76'"
      ],
      "execution_count": null,
      "outputs": []
    },
    {
      "cell_type": "markdown",
      "metadata": {
        "id": "UG6qwW5i_Des",
        "colab_type": "text"
      },
      "source": [
        "เกิด error เนื่องจาก ค่า 112.76 เป็นค่าที่เป็นเลขทศนิยม ต้องเปลี่ยนไปใช้คำสั่ง __float__ "
      ]
    },
    {
      "cell_type": "code",
      "metadata": {
        "id": "VCHsjkRXo2QH",
        "colab_type": "code",
        "colab": {
          "base_uri": "https://localhost:8080/",
          "height": 167
        },
        "outputId": "649b73e6-abd3-470c-e8d7-c0f44bbb8f62"
      },
      "source": [
        "int(num)"
      ],
      "execution_count": null,
      "outputs": [
        {
          "output_type": "error",
          "ename": "ValueError",
          "evalue": "ignored",
          "traceback": [
            "\u001b[0;31m---------------------------------------------------------------------------\u001b[0m",
            "\u001b[0;31mValueError\u001b[0m                                Traceback (most recent call last)",
            "\u001b[0;32m<ipython-input-35-fa4446644730>\u001b[0m in \u001b[0;36m<module>\u001b[0;34m()\u001b[0m\n\u001b[0;32m----> 1\u001b[0;31m \u001b[0mint\u001b[0m\u001b[0;34m(\u001b[0m\u001b[0mnum\u001b[0m\u001b[0;34m)\u001b[0m\u001b[0;34m\u001b[0m\u001b[0;34m\u001b[0m\u001b[0m\n\u001b[0m",
            "\u001b[0;31mValueError\u001b[0m: invalid literal for int() with base 10: '112.76'"
          ]
        }
      ]
    },
    {
      "cell_type": "code",
      "metadata": {
        "id": "H0Cm_Azeo2bs",
        "colab_type": "code",
        "colab": {
          "base_uri": "https://localhost:8080/",
          "height": 35
        },
        "outputId": "e0954dc4-3a70-48a7-f469-965e2335d30f"
      },
      "source": [
        "float(num)"
      ],
      "execution_count": null,
      "outputs": [
        {
          "output_type": "execute_result",
          "data": {
            "text/plain": [
              "112.76"
            ]
          },
          "metadata": {
            "tags": []
          },
          "execution_count": 33
        }
      ]
    },
    {
      "cell_type": "code",
      "metadata": {
        "id": "PUJ0Q4DnpkLP",
        "colab_type": "code",
        "colab": {
          "base_uri": "https://localhost:8080/",
          "height": 35
        },
        "outputId": "cfff9c0d-80ba-40fd-8822-8a0125eaa803"
      },
      "source": [
        "str(float(num))"
      ],
      "execution_count": null,
      "outputs": [
        {
          "output_type": "execute_result",
          "data": {
            "application/vnd.google.colaboratory.intrinsic+json": {
              "type": "string"
            },
            "text/plain": [
              "'112.76'"
            ]
          },
          "metadata": {
            "tags": []
          },
          "execution_count": 34
        }
      ]
    },
    {
      "cell_type": "markdown",
      "metadata": {
        "id": "-47_R8OhqbdB",
        "colab_type": "text"
      },
      "source": [
        "### HW เปลี่ยนค่าตัวแปร num2 = '112.76887' เป็นเลขจำนวนเต็ม 112 ด้วย function casting int() float() str() เท่านั้น"
      ]
    },
    {
      "cell_type": "code",
      "metadata": {
        "id": "sJcOwinIqW8N",
        "colab_type": "code",
        "colab": {}
      },
      "source": [
        "num2 = '112.76887'"
      ],
      "execution_count": null,
      "outputs": []
    },
    {
      "cell_type": "markdown",
      "metadata": {
        "id": "vNmZE4W9_ym5",
        "colab_type": "text"
      },
      "source": [
        "รัน __float__ ก่อน พอรันแล้วจะสามารถเปลี่ยนไปเป็น __int__ ได้"
      ]
    },
    {
      "cell_type": "code",
      "metadata": {
        "id": "CFVVZiuAqlCt",
        "colab_type": "code",
        "colab": {
          "base_uri": "https://localhost:8080/",
          "height": 35
        },
        "outputId": "9d1a5697-79cb-463c-af0c-2dc3a15dffd2"
      },
      "source": [
        "float(num2)"
      ],
      "execution_count": null,
      "outputs": [
        {
          "output_type": "execute_result",
          "data": {
            "text/plain": [
              "112.76887"
            ]
          },
          "metadata": {
            "tags": []
          },
          "execution_count": 44
        }
      ]
    },
    {
      "cell_type": "code",
      "metadata": {
        "id": "E9uUFjSgq4h7",
        "colab_type": "code",
        "colab": {
          "base_uri": "https://localhost:8080/",
          "height": 35
        },
        "outputId": "98aed12a-136e-4343-9ae8-dd2f89e9d5dc"
      },
      "source": [
        "int(float(num2))"
      ],
      "execution_count": null,
      "outputs": [
        {
          "output_type": "execute_result",
          "data": {
            "text/plain": [
              "112"
            ]
          },
          "metadata": {
            "tags": []
          },
          "execution_count": 45
        }
      ]
    },
    {
      "cell_type": "markdown",
      "metadata": {
        "id": "BicNYv-uIW8T",
        "colab_type": "text"
      },
      "source": [
        "### list"
      ]
    },
    {
      "cell_type": "code",
      "metadata": {
        "id": "2g-42u9zIUlL",
        "colab_type": "code",
        "colab": {}
      },
      "source": [
        "list_a = [1, 3, 7, 19]"
      ],
      "execution_count": null,
      "outputs": []
    },
    {
      "cell_type": "markdown",
      "metadata": {
        "id": "55g8e_kypnRL",
        "colab_type": "text"
      },
      "source": [
        "index(ing) คือ ตัวชี้ "
      ]
    },
    {
      "cell_type": "code",
      "metadata": {
        "id": "I2n7bNOrJEAj",
        "colab_type": "code",
        "colab": {
          "base_uri": "https://localhost:8080/",
          "height": 35
        },
        "outputId": "00c06a07-c575-47a7-9889-6348d2c6bcf8"
      },
      "source": [
        "list_a[0]"
      ],
      "execution_count": null,
      "outputs": [
        {
          "output_type": "execute_result",
          "data": {
            "text/plain": [
              "1"
            ]
          },
          "metadata": {
            "tags": []
          },
          "execution_count": 2
        }
      ]
    },
    {
      "cell_type": "code",
      "metadata": {
        "id": "iZsHQSH6JDvi",
        "colab_type": "code",
        "colab": {
          "base_uri": "https://localhost:8080/",
          "height": 35
        },
        "outputId": "5b5532b5-01cd-43b0-fc5b-0362005354dd"
      },
      "source": [
        "list_a[1]"
      ],
      "execution_count": null,
      "outputs": [
        {
          "output_type": "execute_result",
          "data": {
            "text/plain": [
              "3"
            ]
          },
          "metadata": {
            "tags": []
          },
          "execution_count": 3
        }
      ]
    },
    {
      "cell_type": "code",
      "metadata": {
        "id": "CtKesTmnKGrL",
        "colab_type": "code",
        "colab": {
          "base_uri": "https://localhost:8080/",
          "height": 35
        },
        "outputId": "a5985a83-ebe5-49ba-a29b-dc4bf8c34971"
      },
      "source": [
        "list_a[-1]"
      ],
      "execution_count": null,
      "outputs": [
        {
          "output_type": "execute_result",
          "data": {
            "text/plain": [
              "19"
            ]
          },
          "metadata": {
            "tags": []
          },
          "execution_count": 4
        }
      ]
    },
    {
      "cell_type": "code",
      "metadata": {
        "id": "Dxh9SWWlKG40",
        "colab_type": "code",
        "colab": {
          "base_uri": "https://localhost:8080/",
          "height": 35
        },
        "outputId": "2ee1fd68-75f1-413f-fb17-2d0292c14dfd"
      },
      "source": [
        "len(list_a)"
      ],
      "execution_count": null,
      "outputs": [
        {
          "output_type": "execute_result",
          "data": {
            "text/plain": [
              "4"
            ]
          },
          "metadata": {
            "tags": []
          },
          "execution_count": 5
        }
      ]
    },
    {
      "cell_type": "code",
      "metadata": {
        "id": "C-hhUOghKG95",
        "colab_type": "code",
        "colab": {}
      },
      "source": [
        "list_b = [1,4,'thai',['a',3,9]]"
      ],
      "execution_count": null,
      "outputs": []
    },
    {
      "cell_type": "code",
      "metadata": {
        "id": "5kvgorSdKHEq",
        "colab_type": "code",
        "colab": {
          "base_uri": "https://localhost:8080/",
          "height": 35
        },
        "outputId": "d5124488-a554-4643-965b-503022dc2678"
      },
      "source": [
        "list_b[-1][0]"
      ],
      "execution_count": null,
      "outputs": [
        {
          "output_type": "execute_result",
          "data": {
            "application/vnd.google.colaboratory.intrinsic+json": {
              "type": "string"
            },
            "text/plain": [
              "'a'"
            ]
          },
          "metadata": {
            "tags": []
          },
          "execution_count": 8
        }
      ]
    },
    {
      "cell_type": "code",
      "metadata": {
        "id": "-ZOhTcxqKHIU",
        "colab_type": "code",
        "colab": {
          "base_uri": "https://localhost:8080/",
          "height": 35
        },
        "outputId": "d223f5ac-2c1a-409c-cc39-4da4d6451906"
      },
      "source": [
        "list_b[-1][2]"
      ],
      "execution_count": null,
      "outputs": [
        {
          "output_type": "execute_result",
          "data": {
            "text/plain": [
              "9"
            ]
          },
          "metadata": {
            "tags": []
          },
          "execution_count": 10
        }
      ]
    },
    {
      "cell_type": "code",
      "metadata": {
        "id": "6Xlw8lIhKHR7",
        "colab_type": "code",
        "colab": {
          "base_uri": "https://localhost:8080/",
          "height": 35
        },
        "outputId": "5558cfed-997d-4015-c360-985b7f06b307"
      },
      "source": [
        "list_c = list_a + list_b\n",
        "list_c"
      ],
      "execution_count": null,
      "outputs": [
        {
          "output_type": "execute_result",
          "data": {
            "text/plain": [
              "[1, 3, 7, 19, 1, 4, 'thai', ['a', 3, 9]]"
            ]
          },
          "metadata": {
            "tags": []
          },
          "execution_count": 12
        }
      ]
    },
    {
      "cell_type": "markdown",
      "metadata": {
        "id": "NIQf1nMIMZ4-",
        "colab_type": "text"
      },
      "source": [
        "create empty list 1 การสร้างlistว่างแบบที่ 1"
      ]
    },
    {
      "cell_type": "code",
      "metadata": {
        "id": "Mj7P0QlOKHPf",
        "colab_type": "code",
        "colab": {}
      },
      "source": [
        "list_a1 = []"
      ],
      "execution_count": null,
      "outputs": []
    },
    {
      "cell_type": "markdown",
      "metadata": {
        "id": "lZOciNLYMjXd",
        "colab_type": "text"
      },
      "source": [
        "create empty list 2 การสร้างlistว่างแบบที่ 2"
      ]
    },
    {
      "cell_type": "code",
      "metadata": {
        "id": "ZRBvGq0QKHNi",
        "colab_type": "code",
        "colab": {}
      },
      "source": [
        "list_a2 = list()"
      ],
      "execution_count": null,
      "outputs": []
    },
    {
      "cell_type": "markdown",
      "metadata": {
        "id": "aumaW-qOM5rC",
        "colab_type": "text"
      },
      "source": [
        "การเพิ่มสมาชิกเข้าไปในlistว่าง"
      ]
    },
    {
      "cell_type": "code",
      "metadata": {
        "id": "pLAhFEgXKHBk",
        "colab_type": "code",
        "colab": {
          "base_uri": "https://localhost:8080/",
          "height": 35
        },
        "outputId": "1eec06ee-4951-444a-d9e4-20aaddbb9955"
      },
      "source": [
        "list_a1.append(666)\n",
        "list_a1 "
      ],
      "execution_count": null,
      "outputs": [
        {
          "output_type": "execute_result",
          "data": {
            "text/plain": [
              "[666]"
            ]
          },
          "metadata": {
            "tags": []
          },
          "execution_count": 21
        }
      ]
    },
    {
      "cell_type": "code",
      "metadata": {
        "id": "OuV-63XBKG70",
        "colab_type": "code",
        "colab": {
          "base_uri": "https://localhost:8080/",
          "height": 52
        },
        "outputId": "d563756d-9d75-4283-b252-1a7e5da40efa"
      },
      "source": [
        "print(list_c)\n",
        "list_c.append(1234)\n",
        "print(list_c)"
      ],
      "execution_count": null,
      "outputs": [
        {
          "output_type": "stream",
          "text": [
            "[1, 3, 7, 19, 1, 4, 'thai', ['a', 3, 9]]\n",
            "[1, 3, 7, 19, 1, 4, 'thai', ['a', 3, 9], 1234]\n"
          ],
          "name": "stdout"
        }
      ]
    },
    {
      "cell_type": "markdown",
      "metadata": {
        "id": "oqjI7rSfOhKP",
        "colab_type": "text"
      },
      "source": [
        "### string is a list of character str คือ list ของตัวอักษร"
      ]
    },
    {
      "cell_type": "code",
      "metadata": {
        "id": "bg1_EEfeNjIE",
        "colab_type": "code",
        "colab": {}
      },
      "source": [
        "word_a = 'statistics KKU'"
      ],
      "execution_count": null,
      "outputs": []
    },
    {
      "cell_type": "markdown",
      "metadata": {
        "id": "Coxb5aawPQrk",
        "colab_type": "text"
      },
      "source": [
        "ถ้าอยากได้ตัวสุดท้ายของอักษร สำหรับlist จะต้องใช้วงเล็บ __[  ]__ เสมอ"
      ]
    },
    {
      "cell_type": "code",
      "metadata": {
        "id": "2PYKL4lQNjXd",
        "colab_type": "code",
        "colab": {
          "base_uri": "https://localhost:8080/",
          "height": 35
        },
        "outputId": "1113d4e6-bd0f-4c2e-974c-9140dca4b455"
      },
      "source": [
        "word_a[-1]"
      ],
      "execution_count": null,
      "outputs": [
        {
          "output_type": "execute_result",
          "data": {
            "application/vnd.google.colaboratory.intrinsic+json": {
              "type": "string"
            },
            "text/plain": [
              "'U'"
            ]
          },
          "metadata": {
            "tags": []
          },
          "execution_count": 28
        }
      ]
    },
    {
      "cell_type": "markdown",
      "metadata": {
        "id": "5VPO4lxQPpWn",
        "colab_type": "text"
      },
      "source": [
        "การเอา word_a ตัวแรกมาต่อเพิ่มกับ Thailand "
      ]
    },
    {
      "cell_type": "code",
      "metadata": {
        "id": "miI6gWTSNjxX",
        "colab_type": "code",
        "colab": {
          "base_uri": "https://localhost:8080/",
          "height": 35
        },
        "outputId": "e6ba72a7-7d50-4f01-b558-db1f3d252e64"
      },
      "source": [
        "word_a + ' Thailand'"
      ],
      "execution_count": null,
      "outputs": [
        {
          "output_type": "execute_result",
          "data": {
            "application/vnd.google.colaboratory.intrinsic+json": {
              "type": "string"
            },
            "text/plain": [
              "'statistics KKU Thailand'"
            ]
          },
          "metadata": {
            "tags": []
          },
          "execution_count": 29
        }
      ]
    },
    {
      "cell_type": "code",
      "metadata": {
        "id": "UOTFVC0LPyKW",
        "colab_type": "code",
        "colab": {
          "base_uri": "https://localhost:8080/",
          "height": 35
        },
        "outputId": "0888758b-e940-4975-cf49-d8e0aa0d0aab"
      },
      "source": [
        "len(word_a)"
      ],
      "execution_count": null,
      "outputs": [
        {
          "output_type": "execute_result",
          "data": {
            "text/plain": [
              "14"
            ]
          },
          "metadata": {
            "tags": []
          },
          "execution_count": 30
        }
      ]
    },
    {
      "cell_type": "markdown",
      "metadata": {
        "id": "EIg2huZmQGXs",
        "colab_type": "text"
      },
      "source": [
        "สามารถแทรกตัวแปรเข้าไปใน str ได้ ใช้ __f__ แทรกเข้าไปอยู่หน้า str ตัวแรก"
      ]
    },
    {
      "cell_type": "code",
      "metadata": {
        "id": "oaVWbIpyPyon",
        "colab_type": "code",
        "colab": {
          "base_uri": "https://localhost:8080/",
          "height": 35
        },
        "outputId": "1e25907d-e1fc-4487-a333-d794c356eff4"
      },
      "source": [
        "f'list_c = {list_c}'"
      ],
      "execution_count": null,
      "outputs": [
        {
          "output_type": "execute_result",
          "data": {
            "application/vnd.google.colaboratory.intrinsic+json": {
              "type": "string"
            },
            "text/plain": [
              "\"list_c = [1, 3, 7, 19, 1, 4, 'thai', ['a', 3, 9], 1234]\""
            ]
          },
          "metadata": {
            "tags": []
          },
          "execution_count": 31
        }
      ]
    },
    {
      "cell_type": "markdown",
      "metadata": {
        "id": "a0UJu0MjQ1ti",
        "colab_type": "text"
      },
      "source": [
        ""
      ]
    },
    {
      "cell_type": "code",
      "metadata": {
        "id": "9-AqaIgxRlXm",
        "colab_type": "code",
        "colab": {
          "base_uri": "https://localhost:8080/",
          "height": 35
        },
        "outputId": "56d01f57-4aba-4879-94af-e77dec5dcb94"
      },
      "source": [
        "st_x = f'list_c = {list_c}'\n",
        "st_x"
      ],
      "execution_count": null,
      "outputs": [
        {
          "output_type": "execute_result",
          "data": {
            "application/vnd.google.colaboratory.intrinsic+json": {
              "type": "string"
            },
            "text/plain": [
              "\"list_c = [1, 3, 7, 19, 1, 4, 'thai', ['a', 3, 9], 1234]\""
            ]
          },
          "metadata": {
            "tags": []
          },
          "execution_count": 35
        }
      ]
    },
    {
      "cell_type": "code",
      "metadata": {
        "id": "bhPau1UsPyyR",
        "colab_type": "code",
        "colab": {
          "base_uri": "https://localhost:8080/",
          "height": 35
        },
        "outputId": "5e07b0ec-0d60-4d62-be03-d42f722414b2"
      },
      "source": [
        "f'modulo example -> 4 mod 3 = {4%3}'"
      ],
      "execution_count": null,
      "outputs": [
        {
          "output_type": "execute_result",
          "data": {
            "application/vnd.google.colaboratory.intrinsic+json": {
              "type": "string"
            },
            "text/plain": [
              "'modulo example -> 4 mod 3 = 1'"
            ]
          },
          "metadata": {
            "tags": []
          },
          "execution_count": 32
        }
      ]
    },
    {
      "cell_type": "markdown",
      "metadata": {
        "id": "2BdVHHRPRxCU",
        "colab_type": "text"
      },
      "source": [
        "st_x.split()"
      ]
    },
    {
      "cell_type": "code",
      "metadata": {
        "id": "vfreVv8WRcFL",
        "colab_type": "code",
        "colab": {
          "base_uri": "https://localhost:8080/",
          "height": 260
        },
        "outputId": "d4618e80-c57e-48f6-9044-7cf4d0f4c5af"
      },
      "source": [
        "print(st_x)\n",
        "st_x.split()"
      ],
      "execution_count": null,
      "outputs": [
        {
          "output_type": "stream",
          "text": [
            "list_c = [1, 3, 7, 19, 1, 4, 'thai', ['a', 3, 9], 1234]\n"
          ],
          "name": "stdout"
        },
        {
          "output_type": "execute_result",
          "data": {
            "text/plain": [
              "['list_c',\n",
              " '=',\n",
              " '[1,',\n",
              " '3,',\n",
              " '7,',\n",
              " '19,',\n",
              " '1,',\n",
              " '4,',\n",
              " \"'thai',\",\n",
              " \"['a',\",\n",
              " '3,',\n",
              " '9],',\n",
              " '1234]']"
            ]
          },
          "metadata": {
            "tags": []
          },
          "execution_count": 38
        }
      ]
    },
    {
      "cell_type": "code",
      "metadata": {
        "id": "9az12P_KRcYF",
        "colab_type": "code",
        "colab": {
          "base_uri": "https://localhost:8080/",
          "height": 52
        },
        "outputId": "647f6402-b1b3-460b-e6ea-7c0d39593a6f"
      },
      "source": [
        "print(st_x)\n",
        "st_x.split(', ')"
      ],
      "execution_count": null,
      "outputs": [
        {
          "output_type": "stream",
          "text": [
            "list_c = [1, 3, 7, 19, 1, 4, 'thai', ['a', 3, 9], 1234]\n"
          ],
          "name": "stdout"
        },
        {
          "output_type": "execute_result",
          "data": {
            "text/plain": [
              "['list_c = [1', '3', '7', '19', '1', '4', \"'thai'\", \"['a'\", '3', '9]', '1234]']"
            ]
          },
          "metadata": {
            "tags": []
          },
          "execution_count": 40
        }
      ]
    },
    {
      "cell_type": "markdown",
      "metadata": {
        "id": "G2-BplAATlbN",
        "colab_type": "text"
      },
      "source": [
        "# Loop"
      ]
    },
    {
      "cell_type": "markdown",
      "metadata": {
        "id": "sLvoz6kIsuCc",
        "colab_type": "text"
      },
      "source": [
        "__for__ ตามด้วยตัวแปรที่จะใช้วนลูป __in__ ตามด้วย [_สมาชิกแต่ละตัวใน list_ ] "
      ]
    },
    {
      "cell_type": "code",
      "metadata": {
        "id": "QWfSTXXyRcqV",
        "colab_type": "code",
        "colab": {
          "base_uri": "https://localhost:8080/",
          "height": 156
        },
        "outputId": "0ff19197-19ac-4eea-c781-b64009ff6cf0"
      },
      "source": [
        "for i in [1,2,3,4]:\n",
        "    print(f'first line {i} ')\n",
        "    print(f'second line {2*i} ')"
      ],
      "execution_count": null,
      "outputs": [
        {
          "output_type": "stream",
          "text": [
            "first line 1 \n",
            "second line 2 \n",
            "first line 2 \n",
            "second line 4 \n",
            "first line 3 \n",
            "second line 6 \n",
            "first line 4 \n",
            "second line 8 \n"
          ],
          "name": "stdout"
        }
      ]
    },
    {
      "cell_type": "code",
      "metadata": {
        "id": "5Gg2gGUlThn8",
        "colab_type": "code",
        "colab": {
          "base_uri": "https://localhost:8080/",
          "height": 87
        },
        "outputId": "7faf2167-151b-4152-c5a2-39507527bba0"
      },
      "source": [
        "for i in [1,2,3,4]:\n",
        "    print('HaHaHa')"
      ],
      "execution_count": null,
      "outputs": [
        {
          "output_type": "stream",
          "text": [
            "HaHaHa\n",
            "HaHaHa\n",
            "HaHaHa\n",
            "HaHaHa\n"
          ],
          "name": "stdout"
        }
      ]
    },
    {
      "cell_type": "code",
      "metadata": {
        "id": "3Cbnt6ibThyF",
        "colab_type": "code",
        "colab": {
          "base_uri": "https://localhost:8080/",
          "height": 87
        },
        "outputId": "33f50427-a4de-41de-918d-2afc0de21c85"
      },
      "source": [
        "for x in list_a:\n",
        "    print(x)"
      ],
      "execution_count": null,
      "outputs": [
        {
          "output_type": "stream",
          "text": [
            "1\n",
            "3\n",
            "7\n",
            "19\n"
          ],
          "name": "stdout"
        }
      ]
    },
    {
      "cell_type": "markdown",
      "metadata": {
        "id": "JC6g1XA3tGjq",
        "colab_type": "text"
      },
      "source": [
        "คำสั่งที่ช่วยไม่ให้เราเขียน list ยาว คือ __range__ : สร้าง list ขึ้นมาใหม่"
      ]
    },
    {
      "cell_type": "code",
      "metadata": {
        "id": "l3LNnaMGTh6b",
        "colab_type": "code",
        "colab": {
          "base_uri": "https://localhost:8080/",
          "height": 35
        },
        "outputId": "24ec07fd-be72-4118-b881-73c7dbacd1c8"
      },
      "source": [
        "range(6)"
      ],
      "execution_count": null,
      "outputs": [
        {
          "output_type": "execute_result",
          "data": {
            "text/plain": [
              "range(0, 6)"
            ]
          },
          "metadata": {
            "tags": []
          },
          "execution_count": 46
        }
      ]
    },
    {
      "cell_type": "code",
      "metadata": {
        "id": "mPxc1XFcTiCb",
        "colab_type": "code",
        "colab": {
          "base_uri": "https://localhost:8080/",
          "height": 121
        },
        "outputId": "74f7c5ea-768d-4138-e31d-67561623a2a5"
      },
      "source": [
        "for i in range(6):\n",
        "    print(i)"
      ],
      "execution_count": null,
      "outputs": [
        {
          "output_type": "stream",
          "text": [
            "0\n",
            "1\n",
            "2\n",
            "3\n",
            "4\n",
            "5\n"
          ],
          "name": "stdout"
        }
      ]
    },
    {
      "cell_type": "code",
      "metadata": {
        "id": "hmc6G7X1TiKO",
        "colab_type": "code",
        "colab": {
          "base_uri": "https://localhost:8080/",
          "height": 277
        },
        "outputId": "a07c7d9f-3e75-41aa-bd66-a1810a458e68"
      },
      "source": [
        "for i in range(3):\n",
        "    print(' start inner')\n",
        "    for j in range(3):\n",
        "      print(f'i = {i}, j = {j} ixj = {i*j}')\n",
        "    print(' end inner')"
      ],
      "execution_count": null,
      "outputs": [
        {
          "output_type": "stream",
          "text": [
            " start inner\n",
            "i = 0, j = 0 ixj = 0\n",
            "i = 0, j = 1 ixj = 0\n",
            "i = 0, j = 2 ixj = 0\n",
            " end inner\n",
            " start inner\n",
            "i = 1, j = 0 ixj = 0\n",
            "i = 1, j = 1 ixj = 1\n",
            "i = 1, j = 2 ixj = 2\n",
            " end inner\n",
            " start inner\n",
            "i = 2, j = 0 ixj = 0\n",
            "i = 2, j = 1 ixj = 2\n",
            "i = 2, j = 2 ixj = 4\n",
            " end inner\n"
          ],
          "name": "stdout"
        }
      ]
    },
    {
      "cell_type": "markdown",
      "metadata": {
        "id": "-8u-Ik1xZRgy",
        "colab_type": "text"
      },
      "source": [
        "# If statement เงื่อนไข (<, >, <=, >=, ==, !=)"
      ]
    },
    {
      "cell_type": "markdown",
      "metadata": {
        "id": "Zta0bOgDsQW6",
        "colab_type": "text"
      },
      "source": [
        "__if__ คือ ถ้าเงื่อนไขตรงถึงจะแสดงผลลัพธ์ออกมา ถ้าไม่ตรงก็จะไม่แสดงออกมา"
      ]
    },
    {
      "cell_type": "code",
      "metadata": {
        "id": "RLPvpIy9YQGl",
        "colab_type": "code",
        "colab": {
          "base_uri": "https://localhost:8080/",
          "height": 35
        },
        "outputId": "e15837eb-aee0-4c03-c9f5-e2597fd77894"
      },
      "source": [
        "stringX = 'abcdefghijklmnopq'\n",
        "if len(stringX) > 6:\n",
        "    print('StringX is longer than 6')"
      ],
      "execution_count": null,
      "outputs": [
        {
          "output_type": "stream",
          "text": [
            "StringX is longer than 6\n"
          ],
          "name": "stdout"
        }
      ]
    },
    {
      "cell_type": "markdown",
      "metadata": {
        "id": "gvOmLqqUsc4w",
        "colab_type": "text"
      },
      "source": [
        "เพิ่ม __else__ เป็นอีกตัวที่บอกว่าถ้าไม่แสดงอย่างแรก ก็จะให้แสดงอย่างที่สอง"
      ]
    },
    {
      "cell_type": "code",
      "metadata": {
        "id": "H90QcUYtYQYY",
        "colab_type": "code",
        "colab": {
          "base_uri": "https://localhost:8080/",
          "height": 35
        },
        "outputId": "7fb15035-f3a5-464a-ce1a-cda999fbb90d"
      },
      "source": [
        "stringX = 'abcdefghijklmnopq'\n",
        "if len(stringX) > 100:\n",
        "    print('StringX is longer than 6')\n",
        "else :\n",
        "    print('XXX')"
      ],
      "execution_count": null,
      "outputs": [
        {
          "output_type": "stream",
          "text": [
            "XXX\n"
          ],
          "name": "stdout"
        }
      ]
    },
    {
      "cell_type": "code",
      "metadata": {
        "id": "_AHqUI06YQlH",
        "colab_type": "code",
        "colab": {
          "base_uri": "https://localhost:8080/",
          "height": 35
        },
        "outputId": "d32bb392-7fa2-46cc-af82-86f3cf2bfa4e"
      },
      "source": [
        "stringX = 'abcdefghijklmnopq'\n",
        "if len(stringX) < 10:\n",
        "    print('StringX is shorter than 10')\n",
        "elif len(stringX) == 17:\n",
        "    print(stringX)\n",
        "else :\n",
        "    print('XXX')"
      ],
      "execution_count": null,
      "outputs": [
        {
          "output_type": "stream",
          "text": [
            "abcdefghijklmnopq\n"
          ],
          "name": "stdout"
        }
      ]
    },
    {
      "cell_type": "markdown",
      "metadata": {
        "id": "_VmYHn6Mbsv4",
        "colab_type": "text"
      },
      "source": [
        "### Exercise 1\n",
        "หาค่ามากที่สุดใน list_E = [-4, -1, -9, 8, 11]\n",
        "โดยไม่ใช้ฟังก์ชัน max()"
      ]
    },
    {
      "cell_type": "code",
      "metadata": {
        "id": "f4SIGU9zbqXO",
        "colab_type": "code",
        "colab": {
          "base_uri": "https://localhost:8080/",
          "height": 121
        },
        "outputId": "170d9ca0-501c-42e0-b4ee-0289d1c1747d"
      },
      "source": [
        "list_EX = [-4, -1, -9, 8, 11]\n",
        "maximum = -10000000\n",
        "for i in list_EX :\n",
        "    if i > maximum:\n",
        "      print (f'{i}>{maximum} UPDATE!, ' ,end=' ')\n",
        "      maximum = i\n",
        "      print (f'now maximum is {maximum}')\n",
        "    else:\n",
        "      print (f'{i}<{maximum} NOT UPDATE!, now maximum is {maximum}')\n",
        "print(f'Answer is {maximum} is the maximum number of {list_EX}')"
      ],
      "execution_count": null,
      "outputs": [
        {
          "output_type": "stream",
          "text": [
            "-4>-10000000 UPDATE!,  now maximum is -4\n",
            "-1>-4 UPDATE!,  now maximum is -1\n",
            "-9<-1 NOT UPDATE!, now maximum is -1\n",
            "8>-1 UPDATE!,  now maximum is 8\n",
            "11>8 UPDATE!,  now maximum is 11\n",
            "Answer is 11 is the maximum number of [-4, -1, -9, 8, 11]\n"
          ],
          "name": "stdout"
        }
      ]
    },
    {
      "cell_type": "markdown",
      "metadata": {
        "id": "g16du9y7iRfH",
        "colab_type": "text"
      },
      "source": [
        "### HW\n",
        "เขียนฟังก์ชัน เรียงลำดับค่าใน list_E = [-4, -1, -9, 8, 11]\n",
        "จากค่ามากที่สุดไปน้อยที่สุด โดยไม่ใช้ฟังก์ชัน sort()"
      ]
    },
    {
      "cell_type": "code",
      "metadata": {
        "id": "FzGifbYHezqU",
        "colab_type": "code",
        "colab": {
          "base_uri": "https://localhost:8080/",
          "height": 35
        },
        "outputId": "0f600c8b-b7cf-4f7d-e36e-b5eeb08086c1"
      },
      "source": [
        "list_EX = [-4, -1, -9, 8, 11]\n",
        "LIST1_EX = len(list_EX)\n",
        "LIST2_EX = LIST1_EX - 1\n",
        "for a in range(LIST1_EX) :\n",
        "      for b in range(LIST2_EX) :\n",
        "            if list_EX[b] < list_EX[b+1] :\n",
        "                ccc = list_EX[b]\n",
        "                list_EX[b] = list_EX[b+1] \n",
        "                list_EX[b+1] = ccc\n",
        "print(list_EX)"
      ],
      "execution_count": 5,
      "outputs": [
        {
          "output_type": "stream",
          "text": [
            "[11, 8, -1, -4, -9]\n"
          ],
          "name": "stdout"
        }
      ]
    },
    {
      "cell_type": "markdown",
      "metadata": {
        "id": "7WN9sgWHjtOE",
        "colab_type": "text"
      },
      "source": [
        "# Function()  \n",
        "เป็นการเก็บโค๊ดที่เขียนไปแล้วเก็บไว้ใน function เพื่อใช้เรียกมาใหม่"
      ]
    },
    {
      "cell_type": "code",
      "metadata": {
        "id": "z1Qqr7RXjq2H",
        "colab_type": "code",
        "colab": {
          "base_uri": "https://localhost:8080/",
          "height": 121
        },
        "outputId": "15321bf7-825a-4df2-98f2-d30a99a0fd78"
      },
      "source": [
        "list_EX = [-4, -1, -9, 8, 11]\n",
        "maximum = -10000000\n",
        "for i in list_EX :\n",
        "    if i > maximum:\n",
        "      print (f'{i}>{maximum} UPDATE!, ' ,end=' ')\n",
        "      maximum = i\n",
        "      print (f'now maximum is {maximum}')\n",
        "    else:\n",
        "      print (f'{i}<{maximum} NOT UPDATE!, now maximum is {maximum}')\n",
        "print(f'Answer is {maximum} is the maximum number of {list_EX}')"
      ],
      "execution_count": null,
      "outputs": [
        {
          "output_type": "stream",
          "text": [
            "-4>-10000000 UPDATE!,  now maximum is -4\n",
            "-1>-4 UPDATE!,  now maximum is -1\n",
            "-9<-1 NOT UPDATE!, now maximum is -1\n",
            "8>-1 UPDATE!,  now maximum is 8\n",
            "11>8 UPDATE!,  now maximum is 11\n",
            "Answer is 11 is the maximum number of [-4, -1, -9, 8, 11]\n"
          ],
          "name": "stdout"
        }
      ]
    },
    {
      "cell_type": "code",
      "metadata": {
        "id": "N-tYzSOikQ6D",
        "colab_type": "code",
        "colab": {}
      },
      "source": [
        "def find_max(in_list): \n",
        "      maximum = -10000000\n",
        "      for i in in_list:\n",
        "          if i > maximum:\n",
        "              print (f'{i}>{maximum} UPDATE!, ' ,end=' ')\n",
        "              maximum = i\n",
        "              print (f'now maximum is {maximum}')\n",
        "          else:\n",
        "              print (f'{i}<{maximum} NOT UPDATE!, now maximum is {maximum}')\n",
        "\n",
        "      print(f'Answer is {maximum} is the maximum number of {in_list}')"
      ],
      "execution_count": null,
      "outputs": []
    },
    {
      "cell_type": "code",
      "metadata": {
        "id": "--EqeD4hnQt0",
        "colab_type": "code",
        "colab": {
          "base_uri": "https://localhost:8080/",
          "height": 121
        },
        "outputId": "860665c5-048d-4367-b638-6bbd665558e3"
      },
      "source": [
        "find_max([12, 1666, 912312, -2, 77])"
      ],
      "execution_count": null,
      "outputs": [
        {
          "output_type": "stream",
          "text": [
            "12>-10000000 UPDATE!,  now maximum is 12\n",
            "1666>12 UPDATE!,  now maximum is 1666\n",
            "912312>1666 UPDATE!,  now maximum is 912312\n",
            "-2<912312 NOT UPDATE!, now maximum is 912312\n",
            "77<912312 NOT UPDATE!, now maximum is 912312\n",
            "Answer is 912312 is the maximum number of [12, 1666, 912312, -2, 77]\n"
          ],
          "name": "stdout"
        }
      ]
    },
    {
      "cell_type": "markdown",
      "metadata": {
        "id": "Y7uHKvSZrodo",
        "colab_type": "text"
      },
      "source": [
        "__return__ คือ การเอา output ไปใช้ต่อ โดยการส่งค่ากลับมา"
      ]
    },
    {
      "cell_type": "code",
      "metadata": {
        "id": "vcuwEqMXnutK",
        "colab_type": "code",
        "colab": {}
      },
      "source": [
        "def find_max(in_list): \n",
        "      maximum = -10000000\n",
        "      for i in in_list:\n",
        "          if i > maximum:\n",
        "              print (f'{i}>{maximum} UPDATE!, ' ,end=' ')\n",
        "              maximum = i\n",
        "              print (f'now maximum is {maximum}')\n",
        "          else:\n",
        "              print (f'{i}<{maximum} NOT UPDATE!, now maximum is {maximum}')\n",
        "\n",
        "      print(f'Answer is {maximum} is the maximum number of {in_list}')\n",
        "      return maximum"
      ],
      "execution_count": null,
      "outputs": []
    },
    {
      "cell_type": "code",
      "metadata": {
        "id": "czsBNHYOnu28",
        "colab_type": "code",
        "colab": {
          "base_uri": "https://localhost:8080/",
          "height": 121
        },
        "outputId": "b7d72c14-6208-46e1-ff65-1719da1d3ff2"
      },
      "source": [
        "a = find_max([12, 1666, 912312, -2, 77])"
      ],
      "execution_count": null,
      "outputs": [
        {
          "output_type": "stream",
          "text": [
            "12>-10000000 UPDATE!,  now maximum is 12\n",
            "1666>12 UPDATE!,  now maximum is 1666\n",
            "912312>1666 UPDATE!,  now maximum is 912312\n",
            "-2<912312 NOT UPDATE!, now maximum is 912312\n",
            "77<912312 NOT UPDATE!, now maximum is 912312\n",
            "Answer is 912312 is the maximum number of [12, 1666, 912312, -2, 77]\n"
          ],
          "name": "stdout"
        }
      ]
    },
    {
      "cell_type": "code",
      "metadata": {
        "id": "KttESujpnudI",
        "colab_type": "code",
        "colab": {
          "base_uri": "https://localhost:8080/",
          "height": 35
        },
        "outputId": "c6fa3091-ae41-418b-fd44-1c4e07a830d9"
      },
      "source": [
        "a"
      ],
      "execution_count": null,
      "outputs": [
        {
          "output_type": "execute_result",
          "data": {
            "text/plain": [
              "912312"
            ]
          },
          "metadata": {
            "tags": []
          },
          "execution_count": 72
        }
      ]
    }
  ]
}