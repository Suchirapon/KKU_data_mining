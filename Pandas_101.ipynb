{
  "nbformat": 4,
  "nbformat_minor": 0,
  "metadata": {
    "colab": {
      "name": "Pandas 101.ipynb",
      "provenance": [],
      "include_colab_link": true
    },
    "kernelspec": {
      "name": "python3",
      "display_name": "Python 3"
    }
  },
  "cells": [
    {
      "cell_type": "markdown",
      "metadata": {
        "id": "view-in-github",
        "colab_type": "text"
      },
      "source": [
        "<a href=\"https://colab.research.google.com/github/Suchirapon/KKU_data_mining/blob/master/Pandas_101.ipynb\" target=\"_parent\"><img src=\"https://colab.research.google.com/assets/colab-badge.svg\" alt=\"Open In Colab\"/></a>"
      ]
    },
    {
      "cell_type": "code",
      "metadata": {
        "id": "YPuMZ2btWn8P",
        "colab_type": "code",
        "colab": {
          "base_uri": "https://localhost:8080/",
          "height": 124
        },
        "outputId": "4911f0b5-85f2-480a-f939-5bcd90b2bc75"
      },
      "source": [
        "from google.colab import drive \n",
        "drive.mount('/content/drive')\n",
        "#เชื่อม Drive"
      ],
      "execution_count": null,
      "outputs": [
        {
          "output_type": "stream",
          "text": [
            "Go to this URL in a browser: https://accounts.google.com/o/oauth2/auth?client_id=947318989803-6bn6qk8qdgf4n4g3pfee6491hc0brc4i.apps.googleusercontent.com&redirect_uri=urn%3aietf%3awg%3aoauth%3a2.0%3aoob&scope=email%20https%3a%2f%2fwww.googleapis.com%2fauth%2fdocs.test%20https%3a%2f%2fwww.googleapis.com%2fauth%2fdrive%20https%3a%2f%2fwww.googleapis.com%2fauth%2fdrive.photos.readonly%20https%3a%2f%2fwww.googleapis.com%2fauth%2fpeopleapi.readonly&response_type=code\n",
            "\n",
            "Enter your authorization code:\n",
            "··········\n",
            "Mounted at /content/drive\n"
          ],
          "name": "stdout"
        }
      ]
    },
    {
      "cell_type": "code",
      "metadata": {
        "id": "-X0xe-iscCTJ",
        "colab_type": "code",
        "colab": {}
      },
      "source": [
        "path = '/content/drive/My Drive/DWDM_material'"
      ],
      "execution_count": null,
      "outputs": []
    },
    {
      "cell_type": "code",
      "metadata": {
        "id": "_e2I04cTdz5p",
        "colab_type": "code",
        "colab": {}
      },
      "source": [
        "import os\n",
        "import pandas\n",
        "# เรียกใช้ฟังก์ชัน"
      ],
      "execution_count": null,
      "outputs": []
    },
    {
      "cell_type": "code",
      "metadata": {
        "id": "a879UeJAcdIg",
        "colab_type": "code",
        "colab": {}
      },
      "source": [
        "search_click = os.path.join(path,'search_click.csv')  #สร้างที่อยู่โดยใช้ os.path.join\n",
        "w_restaurant = os.path.join(path,'w_restaurant.csv')"
      ],
      "execution_count": null,
      "outputs": []
    },
    {
      "cell_type": "markdown",
      "metadata": {
        "id": "lyINgNYWe5PW",
        "colab_type": "text"
      },
      "source": [
        "#Then use _pandas_ to load the data into the environment"
      ]
    },
    {
      "cell_type": "code",
      "metadata": {
        "id": "IUPMd3FWcdRd",
        "colab_type": "code",
        "colab": {
          "base_uri": "https://localhost:8080/",
          "height": 202
        },
        "outputId": "507a6893-2c1b-4b0e-e3ae-edaa712e3249"
      },
      "source": [
        "search_click_df = pandas.read_csv(search_click)\n",
        "search_click_df.head()"
      ],
      "execution_count": null,
      "outputs": [
        {
          "output_type": "execute_result",
          "data": {
            "text/html": [
              "<div>\n",
              "<style scoped>\n",
              "    .dataframe tbody tr th:only-of-type {\n",
              "        vertical-align: middle;\n",
              "    }\n",
              "\n",
              "    .dataframe tbody tr th {\n",
              "        vertical-align: top;\n",
              "    }\n",
              "\n",
              "    .dataframe thead th {\n",
              "        text-align: right;\n",
              "    }\n",
              "</style>\n",
              "<table border=\"1\" class=\"dataframe\">\n",
              "  <thead>\n",
              "    <tr style=\"text-align: right;\">\n",
              "      <th></th>\n",
              "      <th>click_timestamp</th>\n",
              "      <th>search_id</th>\n",
              "      <th>business_id</th>\n",
              "      <th>display_position</th>\n",
              "      <th>time_diff_nanos</th>\n",
              "      <th>ads</th>\n",
              "    </tr>\n",
              "  </thead>\n",
              "  <tbody>\n",
              "    <tr>\n",
              "      <th>0</th>\n",
              "      <td>11:38.9</td>\n",
              "      <td>5c004472-5ecc-4159-9698-9f329b8e26e1</td>\n",
              "      <td>298839.0</td>\n",
              "      <td>0</td>\n",
              "      <td>2.222400e+15</td>\n",
              "      <td>True</td>\n",
              "    </tr>\n",
              "    <tr>\n",
              "      <th>1</th>\n",
              "      <td>30:51.3</td>\n",
              "      <td>5f34eca0-c04e-4c10-b600-54aa447dbd8e</td>\n",
              "      <td>171372.0</td>\n",
              "      <td>0</td>\n",
              "      <td>4.608380e+14</td>\n",
              "      <td>True</td>\n",
              "    </tr>\n",
              "    <tr>\n",
              "      <th>2</th>\n",
              "      <td>32:09.6</td>\n",
              "      <td>8dc6d1f0-11f1-4239-9dd2-5c1674c81224</td>\n",
              "      <td>16157.0</td>\n",
              "      <td>0</td>\n",
              "      <td>2.581490e+15</td>\n",
              "      <td>True</td>\n",
              "    </tr>\n",
              "    <tr>\n",
              "      <th>3</th>\n",
              "      <td>00:59.8</td>\n",
              "      <td>1a5810e9-3d1f-44b9-9a2e-26ede21c524b</td>\n",
              "      <td>89741.0</td>\n",
              "      <td>1</td>\n",
              "      <td>1.404580e+15</td>\n",
              "      <td>True</td>\n",
              "    </tr>\n",
              "    <tr>\n",
              "      <th>4</th>\n",
              "      <td>23:36.8</td>\n",
              "      <td>6bc75e0d-fc65-471e-9926-ff6be6708639</td>\n",
              "      <td>189564.0</td>\n",
              "      <td>1</td>\n",
              "      <td>9.333590e+14</td>\n",
              "      <td>True</td>\n",
              "    </tr>\n",
              "  </tbody>\n",
              "</table>\n",
              "</div>"
            ],
            "text/plain": [
              "  click_timestamp                             search_id  ...  time_diff_nanos   ads\n",
              "0         11:38.9  5c004472-5ecc-4159-9698-9f329b8e26e1  ...     2.222400e+15  True\n",
              "1         30:51.3  5f34eca0-c04e-4c10-b600-54aa447dbd8e  ...     4.608380e+14  True\n",
              "2         32:09.6  8dc6d1f0-11f1-4239-9dd2-5c1674c81224  ...     2.581490e+15  True\n",
              "3         00:59.8  1a5810e9-3d1f-44b9-9a2e-26ede21c524b  ...     1.404580e+15  True\n",
              "4         23:36.8  6bc75e0d-fc65-471e-9926-ff6be6708639  ...     9.333590e+14  True\n",
              "\n",
              "[5 rows x 6 columns]"
            ]
          },
          "metadata": {
            "tags": []
          },
          "execution_count": 23
        }
      ]
    },
    {
      "cell_type": "code",
      "metadata": {
        "id": "-4qfKcQlcdWq",
        "colab_type": "code",
        "colab": {
          "base_uri": "https://localhost:8080/",
          "height": 378
        },
        "outputId": "fa48a01b-deac-4517-e990-d9be7fa9c0d3"
      },
      "source": [
        "w_restaurant_df = pandas.read_csv(w_restaurant)\n",
        "w_restaurant_df.head()"
      ],
      "execution_count": null,
      "outputs": [
        {
          "output_type": "execute_result",
          "data": {
            "text/html": [
              "<div>\n",
              "<style scoped>\n",
              "    .dataframe tbody tr th:only-of-type {\n",
              "        vertical-align: middle;\n",
              "    }\n",
              "\n",
              "    .dataframe tbody tr th {\n",
              "        vertical-align: top;\n",
              "    }\n",
              "\n",
              "    .dataframe thead th {\n",
              "        text-align: right;\n",
              "    }\n",
              "</style>\n",
              "<table border=\"1\" class=\"dataframe\">\n",
              "  <thead>\n",
              "    <tr style=\"text-align: right;\">\n",
              "      <th></th>\n",
              "      <th>id</th>\n",
              "      <th>name</th>\n",
              "      <th>domain_id</th>\n",
              "      <th>closed</th>\n",
              "      <th>city_name</th>\n",
              "      <th>zipcode</th>\n",
              "      <th>geohash</th>\n",
              "      <th>new_open</th>\n",
              "      <th>weighted_average_rating</th>\n",
              "      <th>number_of_chains</th>\n",
              "      <th>number_of_bookmarks</th>\n",
              "      <th>number_of_reviews</th>\n",
              "      <th>number_of_product_tags</th>\n",
              "      <th>total_number_of_views</th>\n",
              "      <th>number_of_checkins</th>\n",
              "      <th>number_of_menu_groups</th>\n",
              "      <th>number_of_menu_photos</th>\n",
              "      <th>category_name</th>\n",
              "      <th>price_range</th>\n",
              "      <th>avg_price</th>\n",
              "      <th>parking</th>\n",
              "      <th>credit_card_accepted</th>\n",
              "      <th>good_for_groups</th>\n",
              "      <th>good_for_kids</th>\n",
              "      <th>bookable</th>\n",
              "      <th>best_of_wongnai</th>\n",
              "      <th>wifi</th>\n",
              "      <th>number_of_seats</th>\n",
              "      <th>music_venue</th>\n",
              "      <th>hotel_restaurant</th>\n",
              "      <th>pet_friendly</th>\n",
              "      <th>delivery</th>\n",
              "    </tr>\n",
              "  </thead>\n",
              "  <tbody>\n",
              "    <tr>\n",
              "      <th>0</th>\n",
              "      <td>2</td>\n",
              "      <td>นครินทร์ทันตกรรม</td>\n",
              "      <td>2</td>\n",
              "      <td>0</td>\n",
              "      <td>Samut Songkhram</td>\n",
              "      <td>75000</td>\n",
              "      <td>w4rh7g3</td>\n",
              "      <td>0</td>\n",
              "      <td>5.000000</td>\n",
              "      <td>NaN</td>\n",
              "      <td>NaN</td>\n",
              "      <td>1</td>\n",
              "      <td>0</td>\n",
              "      <td>3016</td>\n",
              "      <td>0</td>\n",
              "      <td>0</td>\n",
              "      <td>0</td>\n",
              "      <td>Orthodontic</td>\n",
              "      <td>NaN</td>\n",
              "      <td>NaN</td>\n",
              "      <td>3.0</td>\n",
              "      <td>0.0</td>\n",
              "      <td>NaN</td>\n",
              "      <td>NaN</td>\n",
              "      <td>NaN</td>\n",
              "      <td>NaN</td>\n",
              "      <td>NaN</td>\n",
              "      <td>13.0</td>\n",
              "      <td>NaN</td>\n",
              "      <td>NaN</td>\n",
              "      <td>NaN</td>\n",
              "      <td>NaN</td>\n",
              "    </tr>\n",
              "    <tr>\n",
              "      <th>1</th>\n",
              "      <td>4</td>\n",
              "      <td>Corner House</td>\n",
              "      <td>1</td>\n",
              "      <td>0</td>\n",
              "      <td>Bangkok Metropolitan Region</td>\n",
              "      <td>12150</td>\n",
              "      <td>w4rx73h</td>\n",
              "      <td>0</td>\n",
              "      <td>2.000000</td>\n",
              "      <td>NaN</td>\n",
              "      <td>NaN</td>\n",
              "      <td>1</td>\n",
              "      <td>0</td>\n",
              "      <td>321</td>\n",
              "      <td>0</td>\n",
              "      <td>0</td>\n",
              "      <td>1</td>\n",
              "      <td>Quick Meal</td>\n",
              "      <td>1.0</td>\n",
              "      <td>NaN</td>\n",
              "      <td>1.0</td>\n",
              "      <td>NaN</td>\n",
              "      <td>NaN</td>\n",
              "      <td>NaN</td>\n",
              "      <td>NaN</td>\n",
              "      <td>NaN</td>\n",
              "      <td>NaN</td>\n",
              "      <td>NaN</td>\n",
              "      <td>NaN</td>\n",
              "      <td>NaN</td>\n",
              "      <td>NaN</td>\n",
              "      <td>NaN</td>\n",
              "    </tr>\n",
              "    <tr>\n",
              "      <th>2</th>\n",
              "      <td>5</td>\n",
              "      <td>วัดโลกยสุธาราม</td>\n",
              "      <td>4</td>\n",
              "      <td>0</td>\n",
              "      <td>Phra Nakhon Si Ayutthaya</td>\n",
              "      <td>13000</td>\n",
              "      <td>w4x98jk</td>\n",
              "      <td>0</td>\n",
              "      <td>4.000000</td>\n",
              "      <td>NaN</td>\n",
              "      <td>1.0</td>\n",
              "      <td>0</td>\n",
              "      <td>0</td>\n",
              "      <td>167</td>\n",
              "      <td>0</td>\n",
              "      <td>0</td>\n",
              "      <td>0</td>\n",
              "      <td>Historical/Religion</td>\n",
              "      <td>NaN</td>\n",
              "      <td>NaN</td>\n",
              "      <td>1.0</td>\n",
              "      <td>NaN</td>\n",
              "      <td>NaN</td>\n",
              "      <td>NaN</td>\n",
              "      <td>NaN</td>\n",
              "      <td>NaN</td>\n",
              "      <td>NaN</td>\n",
              "      <td>NaN</td>\n",
              "      <td>NaN</td>\n",
              "      <td>NaN</td>\n",
              "      <td>NaN</td>\n",
              "      <td>NaN</td>\n",
              "    </tr>\n",
              "    <tr>\n",
              "      <th>3</th>\n",
              "      <td>6</td>\n",
              "      <td>นันท์คาราโอเกะ</td>\n",
              "      <td>1</td>\n",
              "      <td>0</td>\n",
              "      <td>Bangkok Metropolitan Region</td>\n",
              "      <td>10700</td>\n",
              "      <td>w4rqw9q</td>\n",
              "      <td>0</td>\n",
              "      <td>0.000000</td>\n",
              "      <td>NaN</td>\n",
              "      <td>NaN</td>\n",
              "      <td>0</td>\n",
              "      <td>0</td>\n",
              "      <td>901</td>\n",
              "      <td>0</td>\n",
              "      <td>0</td>\n",
              "      <td>0</td>\n",
              "      <td>Karaoke</td>\n",
              "      <td>NaN</td>\n",
              "      <td>NaN</td>\n",
              "      <td>NaN</td>\n",
              "      <td>NaN</td>\n",
              "      <td>NaN</td>\n",
              "      <td>NaN</td>\n",
              "      <td>NaN</td>\n",
              "      <td>NaN</td>\n",
              "      <td>NaN</td>\n",
              "      <td>NaN</td>\n",
              "      <td>NaN</td>\n",
              "      <td>NaN</td>\n",
              "      <td>NaN</td>\n",
              "      <td>NaN</td>\n",
              "    </tr>\n",
              "    <tr>\n",
              "      <th>4</th>\n",
              "      <td>7</td>\n",
              "      <td>Buono Caffe</td>\n",
              "      <td>1</td>\n",
              "      <td>0</td>\n",
              "      <td>Bangkok Metropolitan Region</td>\n",
              "      <td>10220</td>\n",
              "      <td>w4rx4gd</td>\n",
              "      <td>0</td>\n",
              "      <td>3.738462</td>\n",
              "      <td>NaN</td>\n",
              "      <td>15.0</td>\n",
              "      <td>3</td>\n",
              "      <td>0</td>\n",
              "      <td>2360</td>\n",
              "      <td>1</td>\n",
              "      <td>0</td>\n",
              "      <td>2</td>\n",
              "      <td>Café/Coffee Shop</td>\n",
              "      <td>1.0</td>\n",
              "      <td>NaN</td>\n",
              "      <td>1.0</td>\n",
              "      <td>0.0</td>\n",
              "      <td>NaN</td>\n",
              "      <td>NaN</td>\n",
              "      <td>NaN</td>\n",
              "      <td>NaN</td>\n",
              "      <td>1.0</td>\n",
              "      <td>2.0</td>\n",
              "      <td>NaN</td>\n",
              "      <td>NaN</td>\n",
              "      <td>NaN</td>\n",
              "      <td>NaN</td>\n",
              "    </tr>\n",
              "  </tbody>\n",
              "</table>\n",
              "</div>"
            ],
            "text/plain": [
              "   id              name  domain_id  ...  hotel_restaurant pet_friendly delivery\n",
              "0   2  นครินทร์ทันตกรรม          2  ...               NaN          NaN      NaN\n",
              "1   4      Corner House          1  ...               NaN          NaN      NaN\n",
              "2   5    วัดโลกยสุธาราม          4  ...               NaN          NaN      NaN\n",
              "3   6    นันท์คาราโอเกะ          1  ...               NaN          NaN      NaN\n",
              "4   7       Buono Caffe          1  ...               NaN          NaN      NaN\n",
              "\n",
              "[5 rows x 32 columns]"
            ]
          },
          "metadata": {
            "tags": []
          },
          "execution_count": 20
        }
      ]
    },
    {
      "cell_type": "markdown",
      "metadata": {
        "id": "E6Aejpfvg1rF",
        "colab_type": "text"
      },
      "source": [
        "#To check if the dimension of loaded data is correct as described in the description "
      ]
    },
    {
      "cell_type": "code",
      "metadata": {
        "id": "OayPCgEScdZp",
        "colab_type": "code",
        "colab": {
          "base_uri": "https://localhost:8080/",
          "height": 35
        },
        "outputId": "aa3ccdcb-b977-4cb1-c7ce-2c1aa6fd313b"
      },
      "source": [
        "search_click_df.shape # .shape เป็นคำสั่งที่ใช้เช็คว่าข้อมูลที่เอามามีความผิดพลาดรึเปล่า จำนวนแถว,จำนวนหลัก"
      ],
      "execution_count": null,
      "outputs": [
        {
          "output_type": "execute_result",
          "data": {
            "text/plain": [
              "(1048575, 6)"
            ]
          },
          "metadata": {
            "tags": []
          },
          "execution_count": 24
        }
      ]
    },
    {
      "cell_type": "code",
      "metadata": {
        "id": "Vv5YLt1IcdeY",
        "colab_type": "code",
        "colab": {
          "base_uri": "https://localhost:8080/",
          "height": 35
        },
        "outputId": "e679d691-ecac-4542-802e-7b8252872b61"
      },
      "source": [
        "w_restaurant_df.shape"
      ],
      "execution_count": null,
      "outputs": [
        {
          "output_type": "execute_result",
          "data": {
            "text/plain": [
              "(246847, 32)"
            ]
          },
          "metadata": {
            "tags": []
          },
          "execution_count": 25
        }
      ]
    },
    {
      "cell_type": "markdown",
      "metadata": {
        "id": "9rmN3oSFmYta",
        "colab_type": "text"
      },
      "source": [
        "## 0. Point to data in the table การชี้ข้อมูลไปที่ตารางโดยใช้ Dict"
      ]
    },
    {
      "cell_type": "code",
      "metadata": {
        "id": "_G4LykMEcdcm",
        "colab_type": "code",
        "colab": {
          "base_uri": "https://localhost:8080/",
          "height": 225
        },
        "outputId": "1060bb30-bc6b-4150-b0ca-b92453164f7d"
      },
      "source": [
        "search_click_df['search_id'] #ใช้ชื่อคอลัมเรียกออกมา คือ search_id"
      ],
      "execution_count": null,
      "outputs": [
        {
          "output_type": "execute_result",
          "data": {
            "text/plain": [
              "0          5c004472-5ecc-4159-9698-9f329b8e26e1\n",
              "1          5f34eca0-c04e-4c10-b600-54aa447dbd8e\n",
              "2          8dc6d1f0-11f1-4239-9dd2-5c1674c81224\n",
              "3          1a5810e9-3d1f-44b9-9a2e-26ede21c524b\n",
              "4          6bc75e0d-fc65-471e-9926-ff6be6708639\n",
              "                           ...                 \n",
              "1048570    99aab616-6fc5-4fbf-994b-4aebee7bb360\n",
              "1048571    d70a2c5d-ee94-4e4c-9f7c-c5faac6db12a\n",
              "1048572    4c1de7fe-300e-41aa-9d01-914344fc3753\n",
              "1048573    2ec0ddec-e450-4b98-9779-42b77aa7eda5\n",
              "1048574    5741d9cf-b9f1-441d-aa83-d2b0179bf874\n",
              "Name: search_id, Length: 1048575, dtype: object"
            ]
          },
          "metadata": {
            "tags": []
          },
          "execution_count": 26
        }
      ]
    },
    {
      "cell_type": "code",
      "metadata": {
        "id": "gnAQdrLBmk39",
        "colab_type": "code",
        "colab": {}
      },
      "source": [
        "search_click_df['search_id'][0] #indexแรก คือ คอมลัม indexสอง คือ แถวหรือลำดับของข้อมูล"
      ],
      "execution_count": null,
      "outputs": []
    },
    {
      "cell_type": "code",
      "metadata": {
        "id": "IVewQXLMo0SF",
        "colab_type": "code",
        "colab": {
          "base_uri": "https://localhost:8080/",
          "height": 415
        },
        "outputId": "bf7dd726-fc10-49cc-8401-c44ab109046c"
      },
      "source": [
        "w_restaurant_df[['name' ,'city_name', 'weighted_average_rating']]\n",
        "#อยากได้แค่บางส่วนโดยการตัดตารางด้วยชื่อคอลัมที่มีอยู่ อยากได้ name , city_name , weighted_average_rating \n",
        "#โดยจะมีเครื่องหมายลิสต์ 2 อันซ้อนกันอยู่ [[]]"
      ],
      "execution_count": null,
      "outputs": [
        {
          "output_type": "execute_result",
          "data": {
            "text/html": [
              "<div>\n",
              "<style scoped>\n",
              "    .dataframe tbody tr th:only-of-type {\n",
              "        vertical-align: middle;\n",
              "    }\n",
              "\n",
              "    .dataframe tbody tr th {\n",
              "        vertical-align: top;\n",
              "    }\n",
              "\n",
              "    .dataframe thead th {\n",
              "        text-align: right;\n",
              "    }\n",
              "</style>\n",
              "<table border=\"1\" class=\"dataframe\">\n",
              "  <thead>\n",
              "    <tr style=\"text-align: right;\">\n",
              "      <th></th>\n",
              "      <th>name</th>\n",
              "      <th>city_name</th>\n",
              "      <th>weighted_average_rating</th>\n",
              "    </tr>\n",
              "  </thead>\n",
              "  <tbody>\n",
              "    <tr>\n",
              "      <th>0</th>\n",
              "      <td>นครินทร์ทันตกรรม</td>\n",
              "      <td>Samut Songkhram</td>\n",
              "      <td>5.000000</td>\n",
              "    </tr>\n",
              "    <tr>\n",
              "      <th>1</th>\n",
              "      <td>Corner House</td>\n",
              "      <td>Bangkok Metropolitan Region</td>\n",
              "      <td>2.000000</td>\n",
              "    </tr>\n",
              "    <tr>\n",
              "      <th>2</th>\n",
              "      <td>วัดโลกยสุธาราม</td>\n",
              "      <td>Phra Nakhon Si Ayutthaya</td>\n",
              "      <td>4.000000</td>\n",
              "    </tr>\n",
              "    <tr>\n",
              "      <th>3</th>\n",
              "      <td>นันท์คาราโอเกะ</td>\n",
              "      <td>Bangkok Metropolitan Region</td>\n",
              "      <td>0.000000</td>\n",
              "    </tr>\n",
              "    <tr>\n",
              "      <th>4</th>\n",
              "      <td>Buono Caffe</td>\n",
              "      <td>Bangkok Metropolitan Region</td>\n",
              "      <td>3.738462</td>\n",
              "    </tr>\n",
              "    <tr>\n",
              "      <th>...</th>\n",
              "      <td>...</td>\n",
              "      <td>...</td>\n",
              "      <td>...</td>\n",
              "    </tr>\n",
              "    <tr>\n",
              "      <th>246842</th>\n",
              "      <td>Sushi Tama</td>\n",
              "      <td>Bangkok Metropolitan Region</td>\n",
              "      <td>3.663522</td>\n",
              "    </tr>\n",
              "    <tr>\n",
              "      <th>246843</th>\n",
              "      <td>สะบายดี คาราโอเกะ</td>\n",
              "      <td>Bangkok Metropolitan Region</td>\n",
              "      <td>0.000000</td>\n",
              "    </tr>\n",
              "    <tr>\n",
              "      <th>246844</th>\n",
              "      <td>สเต็กแม่&amp;กาแฟลูก</td>\n",
              "      <td>Bangkok Metropolitan Region</td>\n",
              "      <td>4.000000</td>\n",
              "    </tr>\n",
              "    <tr>\n",
              "      <th>246845</th>\n",
              "      <td>Mom Made</td>\n",
              "      <td>Nakhon Si Thammarat</td>\n",
              "      <td>5.000000</td>\n",
              "    </tr>\n",
              "    <tr>\n",
              "      <th>246846</th>\n",
              "      <td>ก๋วยเตี๋ยวหมูน้ำตก ก๋วยเตี๋ยวเรือทอง</td>\n",
              "      <td>Suphan Buri</td>\n",
              "      <td>3.000000</td>\n",
              "    </tr>\n",
              "  </tbody>\n",
              "</table>\n",
              "<p>246847 rows × 3 columns</p>\n",
              "</div>"
            ],
            "text/plain": [
              "                                        name  ... weighted_average_rating\n",
              "0                           นครินทร์ทันตกรรม  ...                5.000000\n",
              "1                               Corner House  ...                2.000000\n",
              "2                             วัดโลกยสุธาราม  ...                4.000000\n",
              "3                             นันท์คาราโอเกะ  ...                0.000000\n",
              "4                                Buono Caffe  ...                3.738462\n",
              "...                                      ...  ...                     ...\n",
              "246842                            Sushi Tama  ...                3.663522\n",
              "246843                     สะบายดี คาราโอเกะ  ...                0.000000\n",
              "246844                      สเต็กแม่&กาแฟลูก  ...                4.000000\n",
              "246845                              Mom Made  ...                5.000000\n",
              "246846  ก๋วยเตี๋ยวหมูน้ำตก ก๋วยเตี๋ยวเรือทอง  ...                3.000000\n",
              "\n",
              "[246847 rows x 3 columns]"
            ]
          },
          "metadata": {
            "tags": []
          },
          "execution_count": 30
        }
      ]
    },
    {
      "cell_type": "markdown",
      "metadata": {
        "id": "eEpGGfhAna36",
        "colab_type": "text"
      },
      "source": [
        "#iloc เปลี่ยนมุมมองตารางให้เป็นเหมือน numply คือ มีคอลัมและแถว"
      ]
    },
    {
      "cell_type": "code",
      "metadata": {
        "id": "RZ1OYmVYmk7j",
        "colab_type": "code",
        "colab": {
          "base_uri": "https://localhost:8080/",
          "height": 35
        },
        "outputId": "6f31087a-0f44-4a57-a3f8-0d322a9b78d1"
      },
      "source": [
        "search_click_df.iloc[0,1] # แถวที่0 , หลักหรือคอลัมที่1 "
      ],
      "execution_count": null,
      "outputs": [
        {
          "output_type": "execute_result",
          "data": {
            "application/vnd.google.colaboratory.intrinsic+json": {
              "type": "string"
            },
            "text/plain": [
              "'5c004472-5ecc-4159-9698-9f329b8e26e1'"
            ]
          },
          "metadata": {
            "tags": []
          },
          "execution_count": 27
        }
      ]
    },
    {
      "cell_type": "code",
      "metadata": {
        "id": "lb0felx2mk-i",
        "colab_type": "code",
        "colab": {
          "base_uri": "https://localhost:8080/",
          "height": 355
        },
        "outputId": "2dcead18-8e27-4944-9120-2cca8409ef8e"
      },
      "source": [
        "search_click_df.iloc[:10,:2]  "
      ],
      "execution_count": null,
      "outputs": [
        {
          "output_type": "execute_result",
          "data": {
            "text/html": [
              "<div>\n",
              "<style scoped>\n",
              "    .dataframe tbody tr th:only-of-type {\n",
              "        vertical-align: middle;\n",
              "    }\n",
              "\n",
              "    .dataframe tbody tr th {\n",
              "        vertical-align: top;\n",
              "    }\n",
              "\n",
              "    .dataframe thead th {\n",
              "        text-align: right;\n",
              "    }\n",
              "</style>\n",
              "<table border=\"1\" class=\"dataframe\">\n",
              "  <thead>\n",
              "    <tr style=\"text-align: right;\">\n",
              "      <th></th>\n",
              "      <th>click_timestamp</th>\n",
              "      <th>search_id</th>\n",
              "    </tr>\n",
              "  </thead>\n",
              "  <tbody>\n",
              "    <tr>\n",
              "      <th>0</th>\n",
              "      <td>11:38.9</td>\n",
              "      <td>5c004472-5ecc-4159-9698-9f329b8e26e1</td>\n",
              "    </tr>\n",
              "    <tr>\n",
              "      <th>1</th>\n",
              "      <td>30:51.3</td>\n",
              "      <td>5f34eca0-c04e-4c10-b600-54aa447dbd8e</td>\n",
              "    </tr>\n",
              "    <tr>\n",
              "      <th>2</th>\n",
              "      <td>32:09.6</td>\n",
              "      <td>8dc6d1f0-11f1-4239-9dd2-5c1674c81224</td>\n",
              "    </tr>\n",
              "    <tr>\n",
              "      <th>3</th>\n",
              "      <td>00:59.8</td>\n",
              "      <td>1a5810e9-3d1f-44b9-9a2e-26ede21c524b</td>\n",
              "    </tr>\n",
              "    <tr>\n",
              "      <th>4</th>\n",
              "      <td>23:36.8</td>\n",
              "      <td>6bc75e0d-fc65-471e-9926-ff6be6708639</td>\n",
              "    </tr>\n",
              "    <tr>\n",
              "      <th>5</th>\n",
              "      <td>48:16.7</td>\n",
              "      <td>92ea02ba-2c89-4efd-973c-e23526c531de</td>\n",
              "    </tr>\n",
              "    <tr>\n",
              "      <th>6</th>\n",
              "      <td>39:18.4</td>\n",
              "      <td>79d61918-fb3e-4181-99b6-7a7abddfcdb1</td>\n",
              "    </tr>\n",
              "    <tr>\n",
              "      <th>7</th>\n",
              "      <td>33:39.0</td>\n",
              "      <td>7f8b2b57-dea1-4fe1-84c8-5a7d63750e47</td>\n",
              "    </tr>\n",
              "    <tr>\n",
              "      <th>8</th>\n",
              "      <td>07:48.3</td>\n",
              "      <td>3d9217bb-3eae-42b5-8cf3-a756efae2cfa</td>\n",
              "    </tr>\n",
              "    <tr>\n",
              "      <th>9</th>\n",
              "      <td>41:25.4</td>\n",
              "      <td>a2cb0d41-6e1f-4169-9140-cb671fbb41dc</td>\n",
              "    </tr>\n",
              "  </tbody>\n",
              "</table>\n",
              "</div>"
            ],
            "text/plain": [
              "  click_timestamp                             search_id\n",
              "0         11:38.9  5c004472-5ecc-4159-9698-9f329b8e26e1\n",
              "1         30:51.3  5f34eca0-c04e-4c10-b600-54aa447dbd8e\n",
              "2         32:09.6  8dc6d1f0-11f1-4239-9dd2-5c1674c81224\n",
              "3         00:59.8  1a5810e9-3d1f-44b9-9a2e-26ede21c524b\n",
              "4         23:36.8  6bc75e0d-fc65-471e-9926-ff6be6708639\n",
              "5         48:16.7  92ea02ba-2c89-4efd-973c-e23526c531de\n",
              "6         39:18.4  79d61918-fb3e-4181-99b6-7a7abddfcdb1\n",
              "7         33:39.0  7f8b2b57-dea1-4fe1-84c8-5a7d63750e47\n",
              "8         07:48.3  3d9217bb-3eae-42b5-8cf3-a756efae2cfa\n",
              "9         41:25.4  a2cb0d41-6e1f-4169-9140-cb671fbb41dc"
            ]
          },
          "metadata": {
            "tags": []
          },
          "execution_count": 28
        }
      ]
    },
    {
      "cell_type": "markdown",
      "metadata": {
        "id": "ImG175cqrXVB",
        "colab_type": "text"
      },
      "source": [
        "#Missing Values"
      ]
    },
    {
      "cell_type": "code",
      "metadata": {
        "id": "z6Usmkt1mlCV",
        "colab_type": "code",
        "colab": {
          "base_uri": "https://localhost:8080/",
          "height": 415
        },
        "outputId": "916fd3f2-fa2d-46db-844a-0187afdba58f"
      },
      "source": [
        "#เช็คว่าตารางมี missing หรือไม่\n",
        "## Missing Values\n",
        "search_click_df.isnull() #แต่ละช่องในตารางเป็นช่องว่างหรือป่าว"
      ],
      "execution_count": null,
      "outputs": [
        {
          "output_type": "execute_result",
          "data": {
            "text/html": [
              "<div>\n",
              "<style scoped>\n",
              "    .dataframe tbody tr th:only-of-type {\n",
              "        vertical-align: middle;\n",
              "    }\n",
              "\n",
              "    .dataframe tbody tr th {\n",
              "        vertical-align: top;\n",
              "    }\n",
              "\n",
              "    .dataframe thead th {\n",
              "        text-align: right;\n",
              "    }\n",
              "</style>\n",
              "<table border=\"1\" class=\"dataframe\">\n",
              "  <thead>\n",
              "    <tr style=\"text-align: right;\">\n",
              "      <th></th>\n",
              "      <th>click_timestamp</th>\n",
              "      <th>search_id</th>\n",
              "      <th>business_id</th>\n",
              "      <th>display_position</th>\n",
              "      <th>time_diff_nanos</th>\n",
              "      <th>ads</th>\n",
              "    </tr>\n",
              "  </thead>\n",
              "  <tbody>\n",
              "    <tr>\n",
              "      <th>0</th>\n",
              "      <td>False</td>\n",
              "      <td>False</td>\n",
              "      <td>False</td>\n",
              "      <td>False</td>\n",
              "      <td>False</td>\n",
              "      <td>False</td>\n",
              "    </tr>\n",
              "    <tr>\n",
              "      <th>1</th>\n",
              "      <td>False</td>\n",
              "      <td>False</td>\n",
              "      <td>False</td>\n",
              "      <td>False</td>\n",
              "      <td>False</td>\n",
              "      <td>False</td>\n",
              "    </tr>\n",
              "    <tr>\n",
              "      <th>2</th>\n",
              "      <td>False</td>\n",
              "      <td>False</td>\n",
              "      <td>False</td>\n",
              "      <td>False</td>\n",
              "      <td>False</td>\n",
              "      <td>False</td>\n",
              "    </tr>\n",
              "    <tr>\n",
              "      <th>3</th>\n",
              "      <td>False</td>\n",
              "      <td>False</td>\n",
              "      <td>False</td>\n",
              "      <td>False</td>\n",
              "      <td>False</td>\n",
              "      <td>False</td>\n",
              "    </tr>\n",
              "    <tr>\n",
              "      <th>4</th>\n",
              "      <td>False</td>\n",
              "      <td>False</td>\n",
              "      <td>False</td>\n",
              "      <td>False</td>\n",
              "      <td>False</td>\n",
              "      <td>False</td>\n",
              "    </tr>\n",
              "    <tr>\n",
              "      <th>...</th>\n",
              "      <td>...</td>\n",
              "      <td>...</td>\n",
              "      <td>...</td>\n",
              "      <td>...</td>\n",
              "      <td>...</td>\n",
              "      <td>...</td>\n",
              "    </tr>\n",
              "    <tr>\n",
              "      <th>1048570</th>\n",
              "      <td>False</td>\n",
              "      <td>False</td>\n",
              "      <td>False</td>\n",
              "      <td>False</td>\n",
              "      <td>False</td>\n",
              "      <td>False</td>\n",
              "    </tr>\n",
              "    <tr>\n",
              "      <th>1048571</th>\n",
              "      <td>False</td>\n",
              "      <td>False</td>\n",
              "      <td>False</td>\n",
              "      <td>False</td>\n",
              "      <td>False</td>\n",
              "      <td>False</td>\n",
              "    </tr>\n",
              "    <tr>\n",
              "      <th>1048572</th>\n",
              "      <td>False</td>\n",
              "      <td>False</td>\n",
              "      <td>False</td>\n",
              "      <td>False</td>\n",
              "      <td>False</td>\n",
              "      <td>False</td>\n",
              "    </tr>\n",
              "    <tr>\n",
              "      <th>1048573</th>\n",
              "      <td>False</td>\n",
              "      <td>False</td>\n",
              "      <td>False</td>\n",
              "      <td>False</td>\n",
              "      <td>False</td>\n",
              "      <td>False</td>\n",
              "    </tr>\n",
              "    <tr>\n",
              "      <th>1048574</th>\n",
              "      <td>False</td>\n",
              "      <td>False</td>\n",
              "      <td>False</td>\n",
              "      <td>False</td>\n",
              "      <td>False</td>\n",
              "      <td>False</td>\n",
              "    </tr>\n",
              "  </tbody>\n",
              "</table>\n",
              "<p>1048575 rows × 6 columns</p>\n",
              "</div>"
            ],
            "text/plain": [
              "         click_timestamp  search_id  ...  time_diff_nanos    ads\n",
              "0                  False      False  ...            False  False\n",
              "1                  False      False  ...            False  False\n",
              "2                  False      False  ...            False  False\n",
              "3                  False      False  ...            False  False\n",
              "4                  False      False  ...            False  False\n",
              "...                  ...        ...  ...              ...    ...\n",
              "1048570            False      False  ...            False  False\n",
              "1048571            False      False  ...            False  False\n",
              "1048572            False      False  ...            False  False\n",
              "1048573            False      False  ...            False  False\n",
              "1048574            False      False  ...            False  False\n",
              "\n",
              "[1048575 rows x 6 columns]"
            ]
          },
          "metadata": {
            "tags": []
          },
          "execution_count": 31
        }
      ]
    },
    {
      "cell_type": "code",
      "metadata": {
        "id": "g10ZOgJBoyG0",
        "colab_type": "code",
        "colab": {
          "base_uri": "https://localhost:8080/",
          "height": 139
        },
        "outputId": "5857bc3e-caa2-44d1-ea8d-5562c4d38e26"
      },
      "source": [
        "search_click_df.isnull().any() #.any จะยุบรวม T ในแต่ละคอลัมมา or กัน ดูตามแนวคอลัมว่ามี"
      ],
      "execution_count": null,
      "outputs": [
        {
          "output_type": "execute_result",
          "data": {
            "text/plain": [
              "click_timestamp     False\n",
              "search_id            True\n",
              "business_id          True\n",
              "display_position    False\n",
              "time_diff_nanos     False\n",
              "ads                 False\n",
              "dtype: bool"
            ]
          },
          "metadata": {
            "tags": []
          },
          "execution_count": 35
        }
      ]
    },
    {
      "cell_type": "code",
      "metadata": {
        "id": "zGqrF7TXoyJ3",
        "colab_type": "code",
        "colab": {
          "base_uri": "https://localhost:8080/",
          "height": 35
        },
        "outputId": "a7dfd674-defb-4c9b-8bcf-7d411949d341"
      },
      "source": [
        "search_click_df.isnull().any().any()"
      ],
      "execution_count": null,
      "outputs": [
        {
          "output_type": "execute_result",
          "data": {
            "text/plain": [
              "True"
            ]
          },
          "metadata": {
            "tags": []
          },
          "execution_count": 34
        }
      ]
    },
    {
      "cell_type": "markdown",
      "metadata": {
        "id": "TeJmTTHss22Q",
        "colab_type": "text"
      },
      "source": [
        "# Handling missing values 1 การจัดการ Missing\n",
        "data ไหนมี missing อยู่ก็ให้ลบออก "
      ]
    },
    {
      "cell_type": "code",
      "metadata": {
        "id": "tQRjlvvnoyM7",
        "colab_type": "code",
        "colab": {}
      },
      "source": [
        "search_click_df_nm = search_click_df.dropna()"
      ],
      "execution_count": null,
      "outputs": []
    },
    {
      "cell_type": "code",
      "metadata": {
        "id": "LaL_FqcRoySp",
        "colab_type": "code",
        "colab": {
          "base_uri": "https://localhost:8080/",
          "height": 35
        },
        "outputId": "2afa6c02-1d68-4d08-a585-83e6dd767270"
      },
      "source": [
        "search_click_df_nm.isnull().any().any() #เอามาเช็คอีกรอบจะเห็นว่าเป็น False แล้ว คือ ไม่มี missing อยู่ แต่จะทำให้ข้อมูลมันลดลง"
      ],
      "execution_count": null,
      "outputs": [
        {
          "output_type": "execute_result",
          "data": {
            "text/plain": [
              "False"
            ]
          },
          "metadata": {
            "tags": []
          },
          "execution_count": 38
        }
      ]
    },
    {
      "cell_type": "code",
      "metadata": {
        "id": "jM6zurU2oyPy",
        "colab_type": "code",
        "colab": {
          "base_uri": "https://localhost:8080/",
          "height": 52
        },
        "outputId": "dad5a270-f574-4fdf-8ee2-aa8be9d2c163"
      },
      "source": [
        "print(search_click_df.shape)\n",
        "print(search_click_df_nm.shape)"
      ],
      "execution_count": null,
      "outputs": [
        {
          "output_type": "stream",
          "text": [
            "(1048575, 6)\n",
            "(1048206, 6)\n"
          ],
          "name": "stdout"
        }
      ]
    },
    {
      "cell_type": "code",
      "metadata": {
        "id": "j9OuvMURuKEj",
        "colab_type": "code",
        "colab": {}
      },
      "source": [
        "## Excercise 1 ตรวจสอบว่า การลบข้อมูล missing ออกจากตาราง w_restarant จำทำให้ข้อมูลลดลงกี่เปอร์เซ็น"
      ],
      "execution_count": null,
      "outputs": []
    },
    {
      "cell_type": "code",
      "metadata": {
        "id": "0mZTUPdauKKe",
        "colab_type": "code",
        "colab": {
          "base_uri": "https://localhost:8080/",
          "height": 435
        },
        "outputId": "ccba8d54-d35c-4065-d147-73c7a3f37278"
      },
      "source": [
        "w_restaurant_df.isnull() "
      ],
      "execution_count": null,
      "outputs": [
        {
          "output_type": "execute_result",
          "data": {
            "text/html": [
              "<div>\n",
              "<style scoped>\n",
              "    .dataframe tbody tr th:only-of-type {\n",
              "        vertical-align: middle;\n",
              "    }\n",
              "\n",
              "    .dataframe tbody tr th {\n",
              "        vertical-align: top;\n",
              "    }\n",
              "\n",
              "    .dataframe thead th {\n",
              "        text-align: right;\n",
              "    }\n",
              "</style>\n",
              "<table border=\"1\" class=\"dataframe\">\n",
              "  <thead>\n",
              "    <tr style=\"text-align: right;\">\n",
              "      <th></th>\n",
              "      <th>id</th>\n",
              "      <th>name</th>\n",
              "      <th>domain_id</th>\n",
              "      <th>closed</th>\n",
              "      <th>city_name</th>\n",
              "      <th>zipcode</th>\n",
              "      <th>geohash</th>\n",
              "      <th>new_open</th>\n",
              "      <th>weighted_average_rating</th>\n",
              "      <th>number_of_chains</th>\n",
              "      <th>number_of_bookmarks</th>\n",
              "      <th>number_of_reviews</th>\n",
              "      <th>number_of_product_tags</th>\n",
              "      <th>total_number_of_views</th>\n",
              "      <th>number_of_checkins</th>\n",
              "      <th>number_of_menu_groups</th>\n",
              "      <th>number_of_menu_photos</th>\n",
              "      <th>category_name</th>\n",
              "      <th>price_range</th>\n",
              "      <th>avg_price</th>\n",
              "      <th>parking</th>\n",
              "      <th>credit_card_accepted</th>\n",
              "      <th>good_for_groups</th>\n",
              "      <th>good_for_kids</th>\n",
              "      <th>bookable</th>\n",
              "      <th>best_of_wongnai</th>\n",
              "      <th>wifi</th>\n",
              "      <th>number_of_seats</th>\n",
              "      <th>music_venue</th>\n",
              "      <th>hotel_restaurant</th>\n",
              "      <th>pet_friendly</th>\n",
              "      <th>delivery</th>\n",
              "    </tr>\n",
              "  </thead>\n",
              "  <tbody>\n",
              "    <tr>\n",
              "      <th>0</th>\n",
              "      <td>False</td>\n",
              "      <td>False</td>\n",
              "      <td>False</td>\n",
              "      <td>False</td>\n",
              "      <td>False</td>\n",
              "      <td>False</td>\n",
              "      <td>False</td>\n",
              "      <td>False</td>\n",
              "      <td>False</td>\n",
              "      <td>True</td>\n",
              "      <td>True</td>\n",
              "      <td>False</td>\n",
              "      <td>False</td>\n",
              "      <td>False</td>\n",
              "      <td>False</td>\n",
              "      <td>False</td>\n",
              "      <td>False</td>\n",
              "      <td>False</td>\n",
              "      <td>True</td>\n",
              "      <td>True</td>\n",
              "      <td>False</td>\n",
              "      <td>False</td>\n",
              "      <td>True</td>\n",
              "      <td>True</td>\n",
              "      <td>True</td>\n",
              "      <td>True</td>\n",
              "      <td>True</td>\n",
              "      <td>False</td>\n",
              "      <td>True</td>\n",
              "      <td>True</td>\n",
              "      <td>True</td>\n",
              "      <td>True</td>\n",
              "    </tr>\n",
              "    <tr>\n",
              "      <th>1</th>\n",
              "      <td>False</td>\n",
              "      <td>False</td>\n",
              "      <td>False</td>\n",
              "      <td>False</td>\n",
              "      <td>False</td>\n",
              "      <td>False</td>\n",
              "      <td>False</td>\n",
              "      <td>False</td>\n",
              "      <td>False</td>\n",
              "      <td>True</td>\n",
              "      <td>True</td>\n",
              "      <td>False</td>\n",
              "      <td>False</td>\n",
              "      <td>False</td>\n",
              "      <td>False</td>\n",
              "      <td>False</td>\n",
              "      <td>False</td>\n",
              "      <td>False</td>\n",
              "      <td>False</td>\n",
              "      <td>True</td>\n",
              "      <td>False</td>\n",
              "      <td>True</td>\n",
              "      <td>True</td>\n",
              "      <td>True</td>\n",
              "      <td>True</td>\n",
              "      <td>True</td>\n",
              "      <td>True</td>\n",
              "      <td>True</td>\n",
              "      <td>True</td>\n",
              "      <td>True</td>\n",
              "      <td>True</td>\n",
              "      <td>True</td>\n",
              "    </tr>\n",
              "    <tr>\n",
              "      <th>2</th>\n",
              "      <td>False</td>\n",
              "      <td>False</td>\n",
              "      <td>False</td>\n",
              "      <td>False</td>\n",
              "      <td>False</td>\n",
              "      <td>False</td>\n",
              "      <td>False</td>\n",
              "      <td>False</td>\n",
              "      <td>False</td>\n",
              "      <td>True</td>\n",
              "      <td>False</td>\n",
              "      <td>False</td>\n",
              "      <td>False</td>\n",
              "      <td>False</td>\n",
              "      <td>False</td>\n",
              "      <td>False</td>\n",
              "      <td>False</td>\n",
              "      <td>False</td>\n",
              "      <td>True</td>\n",
              "      <td>True</td>\n",
              "      <td>False</td>\n",
              "      <td>True</td>\n",
              "      <td>True</td>\n",
              "      <td>True</td>\n",
              "      <td>True</td>\n",
              "      <td>True</td>\n",
              "      <td>True</td>\n",
              "      <td>True</td>\n",
              "      <td>True</td>\n",
              "      <td>True</td>\n",
              "      <td>True</td>\n",
              "      <td>True</td>\n",
              "    </tr>\n",
              "    <tr>\n",
              "      <th>3</th>\n",
              "      <td>False</td>\n",
              "      <td>False</td>\n",
              "      <td>False</td>\n",
              "      <td>False</td>\n",
              "      <td>False</td>\n",
              "      <td>False</td>\n",
              "      <td>False</td>\n",
              "      <td>False</td>\n",
              "      <td>False</td>\n",
              "      <td>True</td>\n",
              "      <td>True</td>\n",
              "      <td>False</td>\n",
              "      <td>False</td>\n",
              "      <td>False</td>\n",
              "      <td>False</td>\n",
              "      <td>False</td>\n",
              "      <td>False</td>\n",
              "      <td>False</td>\n",
              "      <td>True</td>\n",
              "      <td>True</td>\n",
              "      <td>True</td>\n",
              "      <td>True</td>\n",
              "      <td>True</td>\n",
              "      <td>True</td>\n",
              "      <td>True</td>\n",
              "      <td>True</td>\n",
              "      <td>True</td>\n",
              "      <td>True</td>\n",
              "      <td>True</td>\n",
              "      <td>True</td>\n",
              "      <td>True</td>\n",
              "      <td>True</td>\n",
              "    </tr>\n",
              "    <tr>\n",
              "      <th>4</th>\n",
              "      <td>False</td>\n",
              "      <td>False</td>\n",
              "      <td>False</td>\n",
              "      <td>False</td>\n",
              "      <td>False</td>\n",
              "      <td>False</td>\n",
              "      <td>False</td>\n",
              "      <td>False</td>\n",
              "      <td>False</td>\n",
              "      <td>True</td>\n",
              "      <td>False</td>\n",
              "      <td>False</td>\n",
              "      <td>False</td>\n",
              "      <td>False</td>\n",
              "      <td>False</td>\n",
              "      <td>False</td>\n",
              "      <td>False</td>\n",
              "      <td>False</td>\n",
              "      <td>False</td>\n",
              "      <td>True</td>\n",
              "      <td>False</td>\n",
              "      <td>False</td>\n",
              "      <td>True</td>\n",
              "      <td>True</td>\n",
              "      <td>True</td>\n",
              "      <td>True</td>\n",
              "      <td>False</td>\n",
              "      <td>False</td>\n",
              "      <td>True</td>\n",
              "      <td>True</td>\n",
              "      <td>True</td>\n",
              "      <td>True</td>\n",
              "    </tr>\n",
              "    <tr>\n",
              "      <th>...</th>\n",
              "      <td>...</td>\n",
              "      <td>...</td>\n",
              "      <td>...</td>\n",
              "      <td>...</td>\n",
              "      <td>...</td>\n",
              "      <td>...</td>\n",
              "      <td>...</td>\n",
              "      <td>...</td>\n",
              "      <td>...</td>\n",
              "      <td>...</td>\n",
              "      <td>...</td>\n",
              "      <td>...</td>\n",
              "      <td>...</td>\n",
              "      <td>...</td>\n",
              "      <td>...</td>\n",
              "      <td>...</td>\n",
              "      <td>...</td>\n",
              "      <td>...</td>\n",
              "      <td>...</td>\n",
              "      <td>...</td>\n",
              "      <td>...</td>\n",
              "      <td>...</td>\n",
              "      <td>...</td>\n",
              "      <td>...</td>\n",
              "      <td>...</td>\n",
              "      <td>...</td>\n",
              "      <td>...</td>\n",
              "      <td>...</td>\n",
              "      <td>...</td>\n",
              "      <td>...</td>\n",
              "      <td>...</td>\n",
              "      <td>...</td>\n",
              "    </tr>\n",
              "    <tr>\n",
              "      <th>246842</th>\n",
              "      <td>False</td>\n",
              "      <td>False</td>\n",
              "      <td>False</td>\n",
              "      <td>False</td>\n",
              "      <td>False</td>\n",
              "      <td>False</td>\n",
              "      <td>False</td>\n",
              "      <td>False</td>\n",
              "      <td>False</td>\n",
              "      <td>False</td>\n",
              "      <td>False</td>\n",
              "      <td>False</td>\n",
              "      <td>False</td>\n",
              "      <td>False</td>\n",
              "      <td>False</td>\n",
              "      <td>False</td>\n",
              "      <td>False</td>\n",
              "      <td>False</td>\n",
              "      <td>False</td>\n",
              "      <td>True</td>\n",
              "      <td>False</td>\n",
              "      <td>False</td>\n",
              "      <td>False</td>\n",
              "      <td>False</td>\n",
              "      <td>False</td>\n",
              "      <td>True</td>\n",
              "      <td>False</td>\n",
              "      <td>True</td>\n",
              "      <td>True</td>\n",
              "      <td>True</td>\n",
              "      <td>True</td>\n",
              "      <td>True</td>\n",
              "    </tr>\n",
              "    <tr>\n",
              "      <th>246843</th>\n",
              "      <td>False</td>\n",
              "      <td>False</td>\n",
              "      <td>False</td>\n",
              "      <td>False</td>\n",
              "      <td>False</td>\n",
              "      <td>True</td>\n",
              "      <td>False</td>\n",
              "      <td>False</td>\n",
              "      <td>False</td>\n",
              "      <td>True</td>\n",
              "      <td>False</td>\n",
              "      <td>False</td>\n",
              "      <td>False</td>\n",
              "      <td>False</td>\n",
              "      <td>False</td>\n",
              "      <td>False</td>\n",
              "      <td>False</td>\n",
              "      <td>False</td>\n",
              "      <td>False</td>\n",
              "      <td>True</td>\n",
              "      <td>False</td>\n",
              "      <td>False</td>\n",
              "      <td>False</td>\n",
              "      <td>True</td>\n",
              "      <td>False</td>\n",
              "      <td>True</td>\n",
              "      <td>True</td>\n",
              "      <td>False</td>\n",
              "      <td>True</td>\n",
              "      <td>True</td>\n",
              "      <td>True</td>\n",
              "      <td>True</td>\n",
              "    </tr>\n",
              "    <tr>\n",
              "      <th>246844</th>\n",
              "      <td>False</td>\n",
              "      <td>False</td>\n",
              "      <td>False</td>\n",
              "      <td>False</td>\n",
              "      <td>False</td>\n",
              "      <td>False</td>\n",
              "      <td>False</td>\n",
              "      <td>False</td>\n",
              "      <td>False</td>\n",
              "      <td>True</td>\n",
              "      <td>False</td>\n",
              "      <td>False</td>\n",
              "      <td>False</td>\n",
              "      <td>False</td>\n",
              "      <td>False</td>\n",
              "      <td>False</td>\n",
              "      <td>False</td>\n",
              "      <td>False</td>\n",
              "      <td>False</td>\n",
              "      <td>True</td>\n",
              "      <td>False</td>\n",
              "      <td>False</td>\n",
              "      <td>False</td>\n",
              "      <td>False</td>\n",
              "      <td>False</td>\n",
              "      <td>True</td>\n",
              "      <td>True</td>\n",
              "      <td>True</td>\n",
              "      <td>True</td>\n",
              "      <td>True</td>\n",
              "      <td>True</td>\n",
              "      <td>True</td>\n",
              "    </tr>\n",
              "    <tr>\n",
              "      <th>246845</th>\n",
              "      <td>False</td>\n",
              "      <td>False</td>\n",
              "      <td>False</td>\n",
              "      <td>False</td>\n",
              "      <td>False</td>\n",
              "      <td>False</td>\n",
              "      <td>False</td>\n",
              "      <td>False</td>\n",
              "      <td>False</td>\n",
              "      <td>True</td>\n",
              "      <td>False</td>\n",
              "      <td>False</td>\n",
              "      <td>False</td>\n",
              "      <td>False</td>\n",
              "      <td>False</td>\n",
              "      <td>False</td>\n",
              "      <td>False</td>\n",
              "      <td>False</td>\n",
              "      <td>False</td>\n",
              "      <td>True</td>\n",
              "      <td>False</td>\n",
              "      <td>False</td>\n",
              "      <td>False</td>\n",
              "      <td>False</td>\n",
              "      <td>False</td>\n",
              "      <td>True</td>\n",
              "      <td>True</td>\n",
              "      <td>True</td>\n",
              "      <td>True</td>\n",
              "      <td>True</td>\n",
              "      <td>True</td>\n",
              "      <td>True</td>\n",
              "    </tr>\n",
              "    <tr>\n",
              "      <th>246846</th>\n",
              "      <td>False</td>\n",
              "      <td>False</td>\n",
              "      <td>False</td>\n",
              "      <td>False</td>\n",
              "      <td>False</td>\n",
              "      <td>False</td>\n",
              "      <td>False</td>\n",
              "      <td>False</td>\n",
              "      <td>False</td>\n",
              "      <td>True</td>\n",
              "      <td>True</td>\n",
              "      <td>False</td>\n",
              "      <td>False</td>\n",
              "      <td>False</td>\n",
              "      <td>False</td>\n",
              "      <td>False</td>\n",
              "      <td>False</td>\n",
              "      <td>False</td>\n",
              "      <td>False</td>\n",
              "      <td>True</td>\n",
              "      <td>True</td>\n",
              "      <td>True</td>\n",
              "      <td>True</td>\n",
              "      <td>True</td>\n",
              "      <td>True</td>\n",
              "      <td>True</td>\n",
              "      <td>True</td>\n",
              "      <td>True</td>\n",
              "      <td>True</td>\n",
              "      <td>True</td>\n",
              "      <td>True</td>\n",
              "      <td>True</td>\n",
              "    </tr>\n",
              "  </tbody>\n",
              "</table>\n",
              "<p>246847 rows × 32 columns</p>\n",
              "</div>"
            ],
            "text/plain": [
              "           id   name  domain_id  ...  hotel_restaurant  pet_friendly  delivery\n",
              "0       False  False      False  ...              True          True      True\n",
              "1       False  False      False  ...              True          True      True\n",
              "2       False  False      False  ...              True          True      True\n",
              "3       False  False      False  ...              True          True      True\n",
              "4       False  False      False  ...              True          True      True\n",
              "...       ...    ...        ...  ...               ...           ...       ...\n",
              "246842  False  False      False  ...              True          True      True\n",
              "246843  False  False      False  ...              True          True      True\n",
              "246844  False  False      False  ...              True          True      True\n",
              "246845  False  False      False  ...              True          True      True\n",
              "246846  False  False      False  ...              True          True      True\n",
              "\n",
              "[246847 rows x 32 columns]"
            ]
          },
          "metadata": {
            "tags": []
          },
          "execution_count": 41
        }
      ]
    },
    {
      "cell_type": "code",
      "metadata": {
        "id": "SJX5_j0BuKOH",
        "colab_type": "code",
        "colab": {}
      },
      "source": [
        "w_restaurant_df.isnull().any() "
      ],
      "execution_count": null,
      "outputs": []
    },
    {
      "cell_type": "code",
      "metadata": {
        "id": "39ltBofXuKUd",
        "colab_type": "code",
        "colab": {}
      },
      "source": [
        "w_restaurant_df_nm = w_restaurant_df.dropna()"
      ],
      "execution_count": null,
      "outputs": []
    },
    {
      "cell_type": "code",
      "metadata": {
        "id": "9VwuA5w5uKTH",
        "colab_type": "code",
        "colab": {
          "base_uri": "https://localhost:8080/",
          "height": 35
        },
        "outputId": "d5aa73bc-9157-4899-995c-5bc63fdc2786"
      },
      "source": [
        "w_restaurant_df_nm.isnull().any().any()"
      ],
      "execution_count": null,
      "outputs": [
        {
          "output_type": "execute_result",
          "data": {
            "text/plain": [
              "False"
            ]
          },
          "metadata": {
            "tags": []
          },
          "execution_count": 44
        }
      ]
    },
    {
      "cell_type": "code",
      "metadata": {
        "id": "IBacHVaQvO-h",
        "colab_type": "code",
        "colab": {
          "base_uri": "https://localhost:8080/",
          "height": 52
        },
        "outputId": "e3bb4f4a-dfc4-4b01-c71f-99cb9d31b191"
      },
      "source": [
        "print(w_restaurant_df.shape)\n",
        "print(w_restaurant_df_nm.shape)"
      ],
      "execution_count": null,
      "outputs": [
        {
          "output_type": "stream",
          "text": [
            "(246847, 32)\n",
            "(4, 32)\n"
          ],
          "name": "stdout"
        }
      ]
    },
    {
      "cell_type": "code",
      "metadata": {
        "id": "E_eOuD8ovWsY",
        "colab_type": "code",
        "colab": {
          "base_uri": "https://localhost:8080/",
          "height": 69
        },
        "outputId": "1849b98c-ff34-4edc-a46e-bb1e8b7a1413"
      },
      "source": [
        "size_before_drop = w_restaurant_df.shape[0]\n",
        "size_after_drop = w_restaurant_df.dropna().shape[0]\n",
        "print(f'size_before_drop = {size_before_drop},\\nsize after drop = {size_after_drop}\\\n",
        "        \\nwhich is {100*((size_before_drop-size_after_drop)/size_before_drop)}')"
      ],
      "execution_count": null,
      "outputs": [
        {
          "output_type": "stream",
          "text": [
            "size_before_drop = 246847,\n",
            "size after drop = 4        \n",
            "which is 99.99837956304918\n"
          ],
          "name": "stdout"
        }
      ]
    },
    {
      "cell_type": "code",
      "metadata": {
        "id": "v7hlSct-yh0R",
        "colab_type": "code",
        "colab": {
          "base_uri": "https://localhost:8080/",
          "height": 589
        },
        "outputId": "a3ed5f3a-b453-4a3b-f1d8-67cb31e2cb4c"
      },
      "source": [
        "w_restaurant_df.isnull().any()"
      ],
      "execution_count": null,
      "outputs": [
        {
          "output_type": "execute_result",
          "data": {
            "text/plain": [
              "id                         False\n",
              "name                       False\n",
              "domain_id                  False\n",
              "closed                     False\n",
              "city_name                  False\n",
              "zipcode                     True\n",
              "geohash                    False\n",
              "new_open                   False\n",
              "weighted_average_rating    False\n",
              "number_of_chains            True\n",
              "number_of_bookmarks         True\n",
              "number_of_reviews          False\n",
              "number_of_product_tags     False\n",
              "total_number_of_views      False\n",
              "number_of_checkins         False\n",
              "number_of_menu_groups      False\n",
              "number_of_menu_photos      False\n",
              "category_name              False\n",
              "price_range                 True\n",
              "avg_price                   True\n",
              "parking                     True\n",
              "credit_card_accepted        True\n",
              "good_for_groups             True\n",
              "good_for_kids               True\n",
              "bookable                    True\n",
              "best_of_wongnai             True\n",
              "wifi                        True\n",
              "number_of_seats             True\n",
              "music_venue                 True\n",
              "hotel_restaurant            True\n",
              "pet_friendly                True\n",
              "delivery                    True\n",
              "dtype: bool"
            ]
          },
          "metadata": {
            "tags": []
          },
          "execution_count": 57
        }
      ]
    },
    {
      "cell_type": "code",
      "metadata": {
        "id": "oMWTmvBiyh_J",
        "colab_type": "code",
        "colab": {
          "base_uri": "https://localhost:8080/",
          "height": 35
        },
        "outputId": "41665cf0-375c-47ee-9c48-dc353e15381f"
      },
      "source": [
        "w_restaurant_df.dropna(subset=['id','price_range']).shape #เลือก drop เฉพาะคอลัมที่ต้องการ "
      ],
      "execution_count": null,
      "outputs": [
        {
          "output_type": "execute_result",
          "data": {
            "text/plain": [
              "(180972, 32)"
            ]
          },
          "metadata": {
            "tags": []
          },
          "execution_count": 58
        }
      ]
    },
    {
      "cell_type": "markdown",
      "metadata": {
        "id": "Ixg4VTFV0CrV",
        "colab_type": "text"
      },
      "source": [
        "#Methot 2 (raplace with reasonable value) แทนที่ด้วยค่าที่เหมาะสม"
      ]
    },
    {
      "cell_type": "code",
      "metadata": {
        "id": "S-jbMVSNyiEp",
        "colab_type": "code",
        "colab": {}
      },
      "source": [
        "#เราจะไม่ให้ data หายไปเลย โดยการเอาค่า default ใส่เข้าไป"
      ],
      "execution_count": null,
      "outputs": []
    },
    {
      "cell_type": "markdown",
      "metadata": {
        "id": "HW_4JxNp1SEW",
        "colab_type": "text"
      },
      "source": [
        "#\n",
        "เราจะใส่ค่า missing value เข้าไป"
      ]
    },
    {
      "cell_type": "code",
      "metadata": {
        "id": "10Nf4PlVyiDC",
        "colab_type": "code",
        "colab": {}
      },
      "source": [
        "w_restaurant_df[['number_of_chains']] = w_restaurant_df[['number_of_chains']].fillna(0)\n",
        "#เราจะสร้างคอลัมใหม่ไปแทน number_of_chains โดยให้ค่าเป็นค่าเดิม แต่ missing จะถูกแทนด้วย 0"
      ],
      "execution_count": null,
      "outputs": []
    },
    {
      "cell_type": "code",
      "metadata": {
        "id": "vS8Hvo9R3PBO",
        "colab_type": "code",
        "colab": {
          "base_uri": "https://localhost:8080/",
          "height": 589
        },
        "outputId": "d8bd0b57-5195-45e4-bdac-885a0c34f8d4"
      },
      "source": [
        "w_restaurant_df.isnull().any()"
      ],
      "execution_count": null,
      "outputs": [
        {
          "output_type": "execute_result",
          "data": {
            "text/plain": [
              "id                         False\n",
              "name                       False\n",
              "domain_id                  False\n",
              "closed                     False\n",
              "city_name                  False\n",
              "zipcode                     True\n",
              "geohash                    False\n",
              "new_open                   False\n",
              "weighted_average_rating    False\n",
              "number_of_chains           False\n",
              "number_of_bookmarks         True\n",
              "number_of_reviews          False\n",
              "number_of_product_tags     False\n",
              "total_number_of_views      False\n",
              "number_of_checkins         False\n",
              "number_of_menu_groups      False\n",
              "number_of_menu_photos      False\n",
              "category_name              False\n",
              "price_range                 True\n",
              "avg_price                   True\n",
              "parking                     True\n",
              "credit_card_accepted        True\n",
              "good_for_groups             True\n",
              "good_for_kids               True\n",
              "bookable                    True\n",
              "best_of_wongnai             True\n",
              "wifi                        True\n",
              "number_of_seats             True\n",
              "music_venue                 True\n",
              "hotel_restaurant            True\n",
              "pet_friendly                True\n",
              "delivery                    True\n",
              "dtype: bool"
            ]
          },
          "metadata": {
            "tags": []
          },
          "execution_count": 60
        }
      ]
    }
  ]
}