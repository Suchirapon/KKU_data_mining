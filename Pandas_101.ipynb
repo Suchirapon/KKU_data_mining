{
  "nbformat": 4,
  "nbformat_minor": 0,
  "metadata": {
    "colab": {
      "name": "Pandas 101.ipynb",
      "provenance": [],
      "include_colab_link": true
    },
    "kernelspec": {
      "name": "python3",
      "display_name": "Python 3"
    }
  },
  "cells": [
    {
      "cell_type": "markdown",
      "metadata": {
        "id": "view-in-github",
        "colab_type": "text"
      },
      "source": [
        "<a href=\"https://colab.research.google.com/github/Suchirapon/KKU_data_mining/blob/master/Pandas_101.ipynb\" target=\"_parent\"><img src=\"https://colab.research.google.com/assets/colab-badge.svg\" alt=\"Open In Colab\"/></a>"
      ]
    },
    {
      "cell_type": "code",
      "metadata": {
        "id": "YPuMZ2btWn8P",
        "outputId": "792199dd-e56a-4a51-b990-8709d78c9b39",
        "colab": {
          "base_uri": "https://localhost:8080/",
          "height": 35
        }
      },
      "source": [
        "from google.colab import drive \n",
        "drive.mount('/content/drive')\n",
        "#เชื่อม Drive"
      ],
      "execution_count": 71,
      "outputs": [
        {
          "output_type": "stream",
          "text": [
            "Drive already mounted at /content/drive; to attempt to forcibly remount, call drive.mount(\"/content/drive\", force_remount=True).\n"
          ],
          "name": "stdout"
        }
      ]
    },
    {
      "cell_type": "code",
      "metadata": {
        "id": "-X0xe-iscCTJ"
      },
      "source": [
        "path = '/content/drive/My Drive/DWDM_material'"
      ],
      "execution_count": 72,
      "outputs": []
    },
    {
      "cell_type": "code",
      "metadata": {
        "id": "_e2I04cTdz5p"
      },
      "source": [
        "import os\n",
        "import pandas\n",
        "# เรียกใช้ฟังก์ชัน"
      ],
      "execution_count": 73,
      "outputs": []
    },
    {
      "cell_type": "code",
      "metadata": {
        "id": "a879UeJAcdIg"
      },
      "source": [
        "search_click = os.path.join(path,'search_click.csv')  #สร้างที่อยู่โดยใช้ os.path.join\n",
        "w_restaurant = os.path.join(path,'w_restaurant.csv')"
      ],
      "execution_count": 74,
      "outputs": []
    },
    {
      "cell_type": "markdown",
      "metadata": {
        "id": "lyINgNYWe5PW"
      },
      "source": [
        "#Then use _pandas_ to load the data into the environment"
      ]
    },
    {
      "cell_type": "code",
      "metadata": {
        "id": "IUPMd3FWcdRd",
        "outputId": "33e027c5-0867-4804-f8e0-6979f6895536",
        "colab": {
          "base_uri": "https://localhost:8080/",
          "height": 202
        }
      },
      "source": [
        "search_click_df = pandas.read_csv(search_click)\n",
        "search_click_df.head()"
      ],
      "execution_count": 75,
      "outputs": [
        {
          "output_type": "execute_result",
          "data": {
            "text/html": [
              "<div>\n",
              "<style scoped>\n",
              "    .dataframe tbody tr th:only-of-type {\n",
              "        vertical-align: middle;\n",
              "    }\n",
              "\n",
              "    .dataframe tbody tr th {\n",
              "        vertical-align: top;\n",
              "    }\n",
              "\n",
              "    .dataframe thead th {\n",
              "        text-align: right;\n",
              "    }\n",
              "</style>\n",
              "<table border=\"1\" class=\"dataframe\">\n",
              "  <thead>\n",
              "    <tr style=\"text-align: right;\">\n",
              "      <th></th>\n",
              "      <th>click_timestamp</th>\n",
              "      <th>search_id</th>\n",
              "      <th>business_id</th>\n",
              "      <th>display_position</th>\n",
              "      <th>time_diff_nanos</th>\n",
              "      <th>ads</th>\n",
              "    </tr>\n",
              "  </thead>\n",
              "  <tbody>\n",
              "    <tr>\n",
              "      <th>0</th>\n",
              "      <td>11:38.9</td>\n",
              "      <td>5c004472-5ecc-4159-9698-9f329b8e26e1</td>\n",
              "      <td>298839.0</td>\n",
              "      <td>0</td>\n",
              "      <td>2.222400e+15</td>\n",
              "      <td>True</td>\n",
              "    </tr>\n",
              "    <tr>\n",
              "      <th>1</th>\n",
              "      <td>30:51.3</td>\n",
              "      <td>5f34eca0-c04e-4c10-b600-54aa447dbd8e</td>\n",
              "      <td>171372.0</td>\n",
              "      <td>0</td>\n",
              "      <td>4.608380e+14</td>\n",
              "      <td>True</td>\n",
              "    </tr>\n",
              "    <tr>\n",
              "      <th>2</th>\n",
              "      <td>32:09.6</td>\n",
              "      <td>8dc6d1f0-11f1-4239-9dd2-5c1674c81224</td>\n",
              "      <td>16157.0</td>\n",
              "      <td>0</td>\n",
              "      <td>2.581490e+15</td>\n",
              "      <td>True</td>\n",
              "    </tr>\n",
              "    <tr>\n",
              "      <th>3</th>\n",
              "      <td>00:59.8</td>\n",
              "      <td>1a5810e9-3d1f-44b9-9a2e-26ede21c524b</td>\n",
              "      <td>89741.0</td>\n",
              "      <td>1</td>\n",
              "      <td>1.404580e+15</td>\n",
              "      <td>True</td>\n",
              "    </tr>\n",
              "    <tr>\n",
              "      <th>4</th>\n",
              "      <td>23:36.8</td>\n",
              "      <td>6bc75e0d-fc65-471e-9926-ff6be6708639</td>\n",
              "      <td>189564.0</td>\n",
              "      <td>1</td>\n",
              "      <td>9.333590e+14</td>\n",
              "      <td>True</td>\n",
              "    </tr>\n",
              "  </tbody>\n",
              "</table>\n",
              "</div>"
            ],
            "text/plain": [
              "  click_timestamp                             search_id  ...  time_diff_nanos   ads\n",
              "0         11:38.9  5c004472-5ecc-4159-9698-9f329b8e26e1  ...     2.222400e+15  True\n",
              "1         30:51.3  5f34eca0-c04e-4c10-b600-54aa447dbd8e  ...     4.608380e+14  True\n",
              "2         32:09.6  8dc6d1f0-11f1-4239-9dd2-5c1674c81224  ...     2.581490e+15  True\n",
              "3         00:59.8  1a5810e9-3d1f-44b9-9a2e-26ede21c524b  ...     1.404580e+15  True\n",
              "4         23:36.8  6bc75e0d-fc65-471e-9926-ff6be6708639  ...     9.333590e+14  True\n",
              "\n",
              "[5 rows x 6 columns]"
            ]
          },
          "metadata": {
            "tags": []
          },
          "execution_count": 75
        }
      ]
    },
    {
      "cell_type": "code",
      "metadata": {
        "id": "-4qfKcQlcdWq",
        "outputId": "7113a47c-cf44-4bf9-fbac-ae3cb1dc89e8",
        "colab": {
          "base_uri": "https://localhost:8080/",
          "height": 378
        }
      },
      "source": [
        "w_restaurant_df = pandas.read_csv(w_restaurant)\n",
        "w_restaurant_df.head()"
      ],
      "execution_count": 76,
      "outputs": [
        {
          "output_type": "execute_result",
          "data": {
            "text/html": [
              "<div>\n",
              "<style scoped>\n",
              "    .dataframe tbody tr th:only-of-type {\n",
              "        vertical-align: middle;\n",
              "    }\n",
              "\n",
              "    .dataframe tbody tr th {\n",
              "        vertical-align: top;\n",
              "    }\n",
              "\n",
              "    .dataframe thead th {\n",
              "        text-align: right;\n",
              "    }\n",
              "</style>\n",
              "<table border=\"1\" class=\"dataframe\">\n",
              "  <thead>\n",
              "    <tr style=\"text-align: right;\">\n",
              "      <th></th>\n",
              "      <th>id</th>\n",
              "      <th>name</th>\n",
              "      <th>domain_id</th>\n",
              "      <th>closed</th>\n",
              "      <th>city_name</th>\n",
              "      <th>zipcode</th>\n",
              "      <th>geohash</th>\n",
              "      <th>new_open</th>\n",
              "      <th>weighted_average_rating</th>\n",
              "      <th>number_of_chains</th>\n",
              "      <th>number_of_bookmarks</th>\n",
              "      <th>number_of_reviews</th>\n",
              "      <th>number_of_product_tags</th>\n",
              "      <th>total_number_of_views</th>\n",
              "      <th>number_of_checkins</th>\n",
              "      <th>number_of_menu_groups</th>\n",
              "      <th>number_of_menu_photos</th>\n",
              "      <th>category_name</th>\n",
              "      <th>price_range</th>\n",
              "      <th>avg_price</th>\n",
              "      <th>parking</th>\n",
              "      <th>credit_card_accepted</th>\n",
              "      <th>good_for_groups</th>\n",
              "      <th>good_for_kids</th>\n",
              "      <th>bookable</th>\n",
              "      <th>best_of_wongnai</th>\n",
              "      <th>wifi</th>\n",
              "      <th>number_of_seats</th>\n",
              "      <th>music_venue</th>\n",
              "      <th>hotel_restaurant</th>\n",
              "      <th>pet_friendly</th>\n",
              "      <th>delivery</th>\n",
              "    </tr>\n",
              "  </thead>\n",
              "  <tbody>\n",
              "    <tr>\n",
              "      <th>0</th>\n",
              "      <td>2</td>\n",
              "      <td>นครินทร์ทันตกรรม</td>\n",
              "      <td>2</td>\n",
              "      <td>0</td>\n",
              "      <td>Samut Songkhram</td>\n",
              "      <td>75000</td>\n",
              "      <td>w4rh7g3</td>\n",
              "      <td>0</td>\n",
              "      <td>5.000000</td>\n",
              "      <td>NaN</td>\n",
              "      <td>NaN</td>\n",
              "      <td>1</td>\n",
              "      <td>0</td>\n",
              "      <td>3016</td>\n",
              "      <td>0</td>\n",
              "      <td>0</td>\n",
              "      <td>0</td>\n",
              "      <td>Orthodontic</td>\n",
              "      <td>NaN</td>\n",
              "      <td>NaN</td>\n",
              "      <td>3.0</td>\n",
              "      <td>0.0</td>\n",
              "      <td>NaN</td>\n",
              "      <td>NaN</td>\n",
              "      <td>NaN</td>\n",
              "      <td>NaN</td>\n",
              "      <td>NaN</td>\n",
              "      <td>13.0</td>\n",
              "      <td>NaN</td>\n",
              "      <td>NaN</td>\n",
              "      <td>NaN</td>\n",
              "      <td>NaN</td>\n",
              "    </tr>\n",
              "    <tr>\n",
              "      <th>1</th>\n",
              "      <td>4</td>\n",
              "      <td>Corner House</td>\n",
              "      <td>1</td>\n",
              "      <td>0</td>\n",
              "      <td>Bangkok Metropolitan Region</td>\n",
              "      <td>12150</td>\n",
              "      <td>w4rx73h</td>\n",
              "      <td>0</td>\n",
              "      <td>2.000000</td>\n",
              "      <td>NaN</td>\n",
              "      <td>NaN</td>\n",
              "      <td>1</td>\n",
              "      <td>0</td>\n",
              "      <td>321</td>\n",
              "      <td>0</td>\n",
              "      <td>0</td>\n",
              "      <td>1</td>\n",
              "      <td>Quick Meal</td>\n",
              "      <td>1.0</td>\n",
              "      <td>NaN</td>\n",
              "      <td>1.0</td>\n",
              "      <td>NaN</td>\n",
              "      <td>NaN</td>\n",
              "      <td>NaN</td>\n",
              "      <td>NaN</td>\n",
              "      <td>NaN</td>\n",
              "      <td>NaN</td>\n",
              "      <td>NaN</td>\n",
              "      <td>NaN</td>\n",
              "      <td>NaN</td>\n",
              "      <td>NaN</td>\n",
              "      <td>NaN</td>\n",
              "    </tr>\n",
              "    <tr>\n",
              "      <th>2</th>\n",
              "      <td>5</td>\n",
              "      <td>วัดโลกยสุธาราม</td>\n",
              "      <td>4</td>\n",
              "      <td>0</td>\n",
              "      <td>Phra Nakhon Si Ayutthaya</td>\n",
              "      <td>13000</td>\n",
              "      <td>w4x98jk</td>\n",
              "      <td>0</td>\n",
              "      <td>4.000000</td>\n",
              "      <td>NaN</td>\n",
              "      <td>1.0</td>\n",
              "      <td>0</td>\n",
              "      <td>0</td>\n",
              "      <td>167</td>\n",
              "      <td>0</td>\n",
              "      <td>0</td>\n",
              "      <td>0</td>\n",
              "      <td>Historical/Religion</td>\n",
              "      <td>NaN</td>\n",
              "      <td>NaN</td>\n",
              "      <td>1.0</td>\n",
              "      <td>NaN</td>\n",
              "      <td>NaN</td>\n",
              "      <td>NaN</td>\n",
              "      <td>NaN</td>\n",
              "      <td>NaN</td>\n",
              "      <td>NaN</td>\n",
              "      <td>NaN</td>\n",
              "      <td>NaN</td>\n",
              "      <td>NaN</td>\n",
              "      <td>NaN</td>\n",
              "      <td>NaN</td>\n",
              "    </tr>\n",
              "    <tr>\n",
              "      <th>3</th>\n",
              "      <td>6</td>\n",
              "      <td>นันท์คาราโอเกะ</td>\n",
              "      <td>1</td>\n",
              "      <td>0</td>\n",
              "      <td>Bangkok Metropolitan Region</td>\n",
              "      <td>10700</td>\n",
              "      <td>w4rqw9q</td>\n",
              "      <td>0</td>\n",
              "      <td>0.000000</td>\n",
              "      <td>NaN</td>\n",
              "      <td>NaN</td>\n",
              "      <td>0</td>\n",
              "      <td>0</td>\n",
              "      <td>901</td>\n",
              "      <td>0</td>\n",
              "      <td>0</td>\n",
              "      <td>0</td>\n",
              "      <td>Karaoke</td>\n",
              "      <td>NaN</td>\n",
              "      <td>NaN</td>\n",
              "      <td>NaN</td>\n",
              "      <td>NaN</td>\n",
              "      <td>NaN</td>\n",
              "      <td>NaN</td>\n",
              "      <td>NaN</td>\n",
              "      <td>NaN</td>\n",
              "      <td>NaN</td>\n",
              "      <td>NaN</td>\n",
              "      <td>NaN</td>\n",
              "      <td>NaN</td>\n",
              "      <td>NaN</td>\n",
              "      <td>NaN</td>\n",
              "    </tr>\n",
              "    <tr>\n",
              "      <th>4</th>\n",
              "      <td>7</td>\n",
              "      <td>Buono Caffe</td>\n",
              "      <td>1</td>\n",
              "      <td>0</td>\n",
              "      <td>Bangkok Metropolitan Region</td>\n",
              "      <td>10220</td>\n",
              "      <td>w4rx4gd</td>\n",
              "      <td>0</td>\n",
              "      <td>3.738462</td>\n",
              "      <td>NaN</td>\n",
              "      <td>15.0</td>\n",
              "      <td>3</td>\n",
              "      <td>0</td>\n",
              "      <td>2360</td>\n",
              "      <td>1</td>\n",
              "      <td>0</td>\n",
              "      <td>2</td>\n",
              "      <td>Café/Coffee Shop</td>\n",
              "      <td>1.0</td>\n",
              "      <td>NaN</td>\n",
              "      <td>1.0</td>\n",
              "      <td>0.0</td>\n",
              "      <td>NaN</td>\n",
              "      <td>NaN</td>\n",
              "      <td>NaN</td>\n",
              "      <td>NaN</td>\n",
              "      <td>1.0</td>\n",
              "      <td>2.0</td>\n",
              "      <td>NaN</td>\n",
              "      <td>NaN</td>\n",
              "      <td>NaN</td>\n",
              "      <td>NaN</td>\n",
              "    </tr>\n",
              "  </tbody>\n",
              "</table>\n",
              "</div>"
            ],
            "text/plain": [
              "   id              name  domain_id  ...  hotel_restaurant pet_friendly delivery\n",
              "0   2  นครินทร์ทันตกรรม          2  ...               NaN          NaN      NaN\n",
              "1   4      Corner House          1  ...               NaN          NaN      NaN\n",
              "2   5    วัดโลกยสุธาราม          4  ...               NaN          NaN      NaN\n",
              "3   6    นันท์คาราโอเกะ          1  ...               NaN          NaN      NaN\n",
              "4   7       Buono Caffe          1  ...               NaN          NaN      NaN\n",
              "\n",
              "[5 rows x 32 columns]"
            ]
          },
          "metadata": {
            "tags": []
          },
          "execution_count": 76
        }
      ]
    },
    {
      "cell_type": "markdown",
      "metadata": {
        "id": "E6Aejpfvg1rF"
      },
      "source": [
        "#To check if the dimension of loaded data is correct as described in the description "
      ]
    },
    {
      "cell_type": "code",
      "metadata": {
        "id": "OayPCgEScdZp",
        "outputId": "77cbf818-594d-49a8-92a1-ec77257bd732",
        "colab": {
          "base_uri": "https://localhost:8080/",
          "height": 35
        }
      },
      "source": [
        "search_click_df.shape # .shape เป็นคำสั่งที่ใช้เช็คว่าข้อมูลที่เอามามีความผิดพลาดรึเปล่า จำนวนแถว,จำนวนหลัก"
      ],
      "execution_count": 77,
      "outputs": [
        {
          "output_type": "execute_result",
          "data": {
            "text/plain": [
              "(1048575, 6)"
            ]
          },
          "metadata": {
            "tags": []
          },
          "execution_count": 77
        }
      ]
    },
    {
      "cell_type": "code",
      "metadata": {
        "id": "Vv5YLt1IcdeY",
        "outputId": "dd6b2bfd-a009-4337-d75d-781596229a2b",
        "colab": {
          "base_uri": "https://localhost:8080/",
          "height": 35
        }
      },
      "source": [
        "w_restaurant_df.shape"
      ],
      "execution_count": 78,
      "outputs": [
        {
          "output_type": "execute_result",
          "data": {
            "text/plain": [
              "(246847, 32)"
            ]
          },
          "metadata": {
            "tags": []
          },
          "execution_count": 78
        }
      ]
    },
    {
      "cell_type": "markdown",
      "metadata": {
        "id": "9rmN3oSFmYta"
      },
      "source": [
        "## 0. Point to data in the table การชี้ข้อมูลไปที่ตารางโดยใช้ Dict"
      ]
    },
    {
      "cell_type": "code",
      "metadata": {
        "id": "_G4LykMEcdcm",
        "outputId": "082c098c-302b-4117-9658-f433bdb9a760",
        "colab": {
          "base_uri": "https://localhost:8080/",
          "height": 225
        }
      },
      "source": [
        "search_click_df['search_id'] #ใช้ชื่อคอลัมเรียกออกมา คือ search_id"
      ],
      "execution_count": 79,
      "outputs": [
        {
          "output_type": "execute_result",
          "data": {
            "text/plain": [
              "0          5c004472-5ecc-4159-9698-9f329b8e26e1\n",
              "1          5f34eca0-c04e-4c10-b600-54aa447dbd8e\n",
              "2          8dc6d1f0-11f1-4239-9dd2-5c1674c81224\n",
              "3          1a5810e9-3d1f-44b9-9a2e-26ede21c524b\n",
              "4          6bc75e0d-fc65-471e-9926-ff6be6708639\n",
              "                           ...                 \n",
              "1048570    99aab616-6fc5-4fbf-994b-4aebee7bb360\n",
              "1048571    d70a2c5d-ee94-4e4c-9f7c-c5faac6db12a\n",
              "1048572    4c1de7fe-300e-41aa-9d01-914344fc3753\n",
              "1048573    2ec0ddec-e450-4b98-9779-42b77aa7eda5\n",
              "1048574    5741d9cf-b9f1-441d-aa83-d2b0179bf874\n",
              "Name: search_id, Length: 1048575, dtype: object"
            ]
          },
          "metadata": {
            "tags": []
          },
          "execution_count": 79
        }
      ]
    },
    {
      "cell_type": "code",
      "metadata": {
        "id": "gnAQdrLBmk39",
        "outputId": "d6f9001d-e077-41ff-971c-0c1aeabfc204",
        "colab": {
          "base_uri": "https://localhost:8080/",
          "height": 35
        }
      },
      "source": [
        "search_click_df['search_id'][0] #indexแรก คือ คอมลัม indexสอง คือ แถวหรือลำดับของข้อมูล"
      ],
      "execution_count": 80,
      "outputs": [
        {
          "output_type": "execute_result",
          "data": {
            "application/vnd.google.colaboratory.intrinsic+json": {
              "type": "string"
            },
            "text/plain": [
              "'5c004472-5ecc-4159-9698-9f329b8e26e1'"
            ]
          },
          "metadata": {
            "tags": []
          },
          "execution_count": 80
        }
      ]
    },
    {
      "cell_type": "code",
      "metadata": {
        "id": "IVewQXLMo0SF",
        "outputId": "1812b255-d859-4310-f5d1-8d8d957c00ca",
        "colab": {
          "base_uri": "https://localhost:8080/",
          "height": 415
        }
      },
      "source": [
        "w_restaurant_df[['name' ,'city_name', 'weighted_average_rating']]\n",
        "#อยากได้แค่บางส่วนโดยการตัดตารางด้วยชื่อคอลัมที่มีอยู่ อยากได้ name , city_name , weighted_average_rating \n",
        "#โดยจะมีเครื่องหมายลิสต์ 2 อันซ้อนกันอยู่ [[]]"
      ],
      "execution_count": 81,
      "outputs": [
        {
          "output_type": "execute_result",
          "data": {
            "text/html": [
              "<div>\n",
              "<style scoped>\n",
              "    .dataframe tbody tr th:only-of-type {\n",
              "        vertical-align: middle;\n",
              "    }\n",
              "\n",
              "    .dataframe tbody tr th {\n",
              "        vertical-align: top;\n",
              "    }\n",
              "\n",
              "    .dataframe thead th {\n",
              "        text-align: right;\n",
              "    }\n",
              "</style>\n",
              "<table border=\"1\" class=\"dataframe\">\n",
              "  <thead>\n",
              "    <tr style=\"text-align: right;\">\n",
              "      <th></th>\n",
              "      <th>name</th>\n",
              "      <th>city_name</th>\n",
              "      <th>weighted_average_rating</th>\n",
              "    </tr>\n",
              "  </thead>\n",
              "  <tbody>\n",
              "    <tr>\n",
              "      <th>0</th>\n",
              "      <td>นครินทร์ทันตกรรม</td>\n",
              "      <td>Samut Songkhram</td>\n",
              "      <td>5.000000</td>\n",
              "    </tr>\n",
              "    <tr>\n",
              "      <th>1</th>\n",
              "      <td>Corner House</td>\n",
              "      <td>Bangkok Metropolitan Region</td>\n",
              "      <td>2.000000</td>\n",
              "    </tr>\n",
              "    <tr>\n",
              "      <th>2</th>\n",
              "      <td>วัดโลกยสุธาราม</td>\n",
              "      <td>Phra Nakhon Si Ayutthaya</td>\n",
              "      <td>4.000000</td>\n",
              "    </tr>\n",
              "    <tr>\n",
              "      <th>3</th>\n",
              "      <td>นันท์คาราโอเกะ</td>\n",
              "      <td>Bangkok Metropolitan Region</td>\n",
              "      <td>0.000000</td>\n",
              "    </tr>\n",
              "    <tr>\n",
              "      <th>4</th>\n",
              "      <td>Buono Caffe</td>\n",
              "      <td>Bangkok Metropolitan Region</td>\n",
              "      <td>3.738462</td>\n",
              "    </tr>\n",
              "    <tr>\n",
              "      <th>...</th>\n",
              "      <td>...</td>\n",
              "      <td>...</td>\n",
              "      <td>...</td>\n",
              "    </tr>\n",
              "    <tr>\n",
              "      <th>246842</th>\n",
              "      <td>Sushi Tama</td>\n",
              "      <td>Bangkok Metropolitan Region</td>\n",
              "      <td>3.663522</td>\n",
              "    </tr>\n",
              "    <tr>\n",
              "      <th>246843</th>\n",
              "      <td>สะบายดี คาราโอเกะ</td>\n",
              "      <td>Bangkok Metropolitan Region</td>\n",
              "      <td>0.000000</td>\n",
              "    </tr>\n",
              "    <tr>\n",
              "      <th>246844</th>\n",
              "      <td>สเต็กแม่&amp;กาแฟลูก</td>\n",
              "      <td>Bangkok Metropolitan Region</td>\n",
              "      <td>4.000000</td>\n",
              "    </tr>\n",
              "    <tr>\n",
              "      <th>246845</th>\n",
              "      <td>Mom Made</td>\n",
              "      <td>Nakhon Si Thammarat</td>\n",
              "      <td>5.000000</td>\n",
              "    </tr>\n",
              "    <tr>\n",
              "      <th>246846</th>\n",
              "      <td>ก๋วยเตี๋ยวหมูน้ำตก ก๋วยเตี๋ยวเรือทอง</td>\n",
              "      <td>Suphan Buri</td>\n",
              "      <td>3.000000</td>\n",
              "    </tr>\n",
              "  </tbody>\n",
              "</table>\n",
              "<p>246847 rows × 3 columns</p>\n",
              "</div>"
            ],
            "text/plain": [
              "                                        name  ... weighted_average_rating\n",
              "0                           นครินทร์ทันตกรรม  ...                5.000000\n",
              "1                               Corner House  ...                2.000000\n",
              "2                             วัดโลกยสุธาราม  ...                4.000000\n",
              "3                             นันท์คาราโอเกะ  ...                0.000000\n",
              "4                                Buono Caffe  ...                3.738462\n",
              "...                                      ...  ...                     ...\n",
              "246842                            Sushi Tama  ...                3.663522\n",
              "246843                     สะบายดี คาราโอเกะ  ...                0.000000\n",
              "246844                      สเต็กแม่&กาแฟลูก  ...                4.000000\n",
              "246845                              Mom Made  ...                5.000000\n",
              "246846  ก๋วยเตี๋ยวหมูน้ำตก ก๋วยเตี๋ยวเรือทอง  ...                3.000000\n",
              "\n",
              "[246847 rows x 3 columns]"
            ]
          },
          "metadata": {
            "tags": []
          },
          "execution_count": 81
        }
      ]
    },
    {
      "cell_type": "markdown",
      "metadata": {
        "id": "eEpGGfhAna36"
      },
      "source": [
        "#iloc เปลี่ยนมุมมองตารางให้เป็นเหมือน numply คือ มีคอลัมและแถว"
      ]
    },
    {
      "cell_type": "code",
      "metadata": {
        "id": "RZ1OYmVYmk7j",
        "outputId": "29cd608e-fd14-4a03-a4f2-79569ded400d",
        "colab": {
          "base_uri": "https://localhost:8080/",
          "height": 35
        }
      },
      "source": [
        "search_click_df.iloc[0,1] # แถวที่0 , หลักหรือคอลัมที่1 "
      ],
      "execution_count": 82,
      "outputs": [
        {
          "output_type": "execute_result",
          "data": {
            "application/vnd.google.colaboratory.intrinsic+json": {
              "type": "string"
            },
            "text/plain": [
              "'5c004472-5ecc-4159-9698-9f329b8e26e1'"
            ]
          },
          "metadata": {
            "tags": []
          },
          "execution_count": 82
        }
      ]
    },
    {
      "cell_type": "code",
      "metadata": {
        "id": "lb0felx2mk-i",
        "outputId": "038d7c34-5c21-45c4-d9f6-33b13c1d6f37",
        "colab": {
          "base_uri": "https://localhost:8080/",
          "height": 355
        }
      },
      "source": [
        "search_click_df.iloc[:10,:2]  "
      ],
      "execution_count": 83,
      "outputs": [
        {
          "output_type": "execute_result",
          "data": {
            "text/html": [
              "<div>\n",
              "<style scoped>\n",
              "    .dataframe tbody tr th:only-of-type {\n",
              "        vertical-align: middle;\n",
              "    }\n",
              "\n",
              "    .dataframe tbody tr th {\n",
              "        vertical-align: top;\n",
              "    }\n",
              "\n",
              "    .dataframe thead th {\n",
              "        text-align: right;\n",
              "    }\n",
              "</style>\n",
              "<table border=\"1\" class=\"dataframe\">\n",
              "  <thead>\n",
              "    <tr style=\"text-align: right;\">\n",
              "      <th></th>\n",
              "      <th>click_timestamp</th>\n",
              "      <th>search_id</th>\n",
              "    </tr>\n",
              "  </thead>\n",
              "  <tbody>\n",
              "    <tr>\n",
              "      <th>0</th>\n",
              "      <td>11:38.9</td>\n",
              "      <td>5c004472-5ecc-4159-9698-9f329b8e26e1</td>\n",
              "    </tr>\n",
              "    <tr>\n",
              "      <th>1</th>\n",
              "      <td>30:51.3</td>\n",
              "      <td>5f34eca0-c04e-4c10-b600-54aa447dbd8e</td>\n",
              "    </tr>\n",
              "    <tr>\n",
              "      <th>2</th>\n",
              "      <td>32:09.6</td>\n",
              "      <td>8dc6d1f0-11f1-4239-9dd2-5c1674c81224</td>\n",
              "    </tr>\n",
              "    <tr>\n",
              "      <th>3</th>\n",
              "      <td>00:59.8</td>\n",
              "      <td>1a5810e9-3d1f-44b9-9a2e-26ede21c524b</td>\n",
              "    </tr>\n",
              "    <tr>\n",
              "      <th>4</th>\n",
              "      <td>23:36.8</td>\n",
              "      <td>6bc75e0d-fc65-471e-9926-ff6be6708639</td>\n",
              "    </tr>\n",
              "    <tr>\n",
              "      <th>5</th>\n",
              "      <td>48:16.7</td>\n",
              "      <td>92ea02ba-2c89-4efd-973c-e23526c531de</td>\n",
              "    </tr>\n",
              "    <tr>\n",
              "      <th>6</th>\n",
              "      <td>39:18.4</td>\n",
              "      <td>79d61918-fb3e-4181-99b6-7a7abddfcdb1</td>\n",
              "    </tr>\n",
              "    <tr>\n",
              "      <th>7</th>\n",
              "      <td>33:39.0</td>\n",
              "      <td>7f8b2b57-dea1-4fe1-84c8-5a7d63750e47</td>\n",
              "    </tr>\n",
              "    <tr>\n",
              "      <th>8</th>\n",
              "      <td>07:48.3</td>\n",
              "      <td>3d9217bb-3eae-42b5-8cf3-a756efae2cfa</td>\n",
              "    </tr>\n",
              "    <tr>\n",
              "      <th>9</th>\n",
              "      <td>41:25.4</td>\n",
              "      <td>a2cb0d41-6e1f-4169-9140-cb671fbb41dc</td>\n",
              "    </tr>\n",
              "  </tbody>\n",
              "</table>\n",
              "</div>"
            ],
            "text/plain": [
              "  click_timestamp                             search_id\n",
              "0         11:38.9  5c004472-5ecc-4159-9698-9f329b8e26e1\n",
              "1         30:51.3  5f34eca0-c04e-4c10-b600-54aa447dbd8e\n",
              "2         32:09.6  8dc6d1f0-11f1-4239-9dd2-5c1674c81224\n",
              "3         00:59.8  1a5810e9-3d1f-44b9-9a2e-26ede21c524b\n",
              "4         23:36.8  6bc75e0d-fc65-471e-9926-ff6be6708639\n",
              "5         48:16.7  92ea02ba-2c89-4efd-973c-e23526c531de\n",
              "6         39:18.4  79d61918-fb3e-4181-99b6-7a7abddfcdb1\n",
              "7         33:39.0  7f8b2b57-dea1-4fe1-84c8-5a7d63750e47\n",
              "8         07:48.3  3d9217bb-3eae-42b5-8cf3-a756efae2cfa\n",
              "9         41:25.4  a2cb0d41-6e1f-4169-9140-cb671fbb41dc"
            ]
          },
          "metadata": {
            "tags": []
          },
          "execution_count": 83
        }
      ]
    },
    {
      "cell_type": "markdown",
      "metadata": {
        "id": "ImG175cqrXVB"
      },
      "source": [
        "#Missing Values"
      ]
    },
    {
      "cell_type": "code",
      "metadata": {
        "id": "z6Usmkt1mlCV",
        "outputId": "ff21f306-5008-4367-8987-a371e4404070",
        "colab": {
          "base_uri": "https://localhost:8080/",
          "height": 0
        }
      },
      "source": [
        "#เช็คว่าตารางมี missing หรือไม่\n",
        "## Missing Values\n",
        "search_click_df.isnull() #แต่ละช่องในตารางเป็นช่องว่างหรือป่าว"
      ],
      "execution_count": 84,
      "outputs": [
        {
          "output_type": "execute_result",
          "data": {
            "text/html": [
              "<div>\n",
              "<style scoped>\n",
              "    .dataframe tbody tr th:only-of-type {\n",
              "        vertical-align: middle;\n",
              "    }\n",
              "\n",
              "    .dataframe tbody tr th {\n",
              "        vertical-align: top;\n",
              "    }\n",
              "\n",
              "    .dataframe thead th {\n",
              "        text-align: right;\n",
              "    }\n",
              "</style>\n",
              "<table border=\"1\" class=\"dataframe\">\n",
              "  <thead>\n",
              "    <tr style=\"text-align: right;\">\n",
              "      <th></th>\n",
              "      <th>click_timestamp</th>\n",
              "      <th>search_id</th>\n",
              "      <th>business_id</th>\n",
              "      <th>display_position</th>\n",
              "      <th>time_diff_nanos</th>\n",
              "      <th>ads</th>\n",
              "    </tr>\n",
              "  </thead>\n",
              "  <tbody>\n",
              "    <tr>\n",
              "      <th>0</th>\n",
              "      <td>False</td>\n",
              "      <td>False</td>\n",
              "      <td>False</td>\n",
              "      <td>False</td>\n",
              "      <td>False</td>\n",
              "      <td>False</td>\n",
              "    </tr>\n",
              "    <tr>\n",
              "      <th>1</th>\n",
              "      <td>False</td>\n",
              "      <td>False</td>\n",
              "      <td>False</td>\n",
              "      <td>False</td>\n",
              "      <td>False</td>\n",
              "      <td>False</td>\n",
              "    </tr>\n",
              "    <tr>\n",
              "      <th>2</th>\n",
              "      <td>False</td>\n",
              "      <td>False</td>\n",
              "      <td>False</td>\n",
              "      <td>False</td>\n",
              "      <td>False</td>\n",
              "      <td>False</td>\n",
              "    </tr>\n",
              "    <tr>\n",
              "      <th>3</th>\n",
              "      <td>False</td>\n",
              "      <td>False</td>\n",
              "      <td>False</td>\n",
              "      <td>False</td>\n",
              "      <td>False</td>\n",
              "      <td>False</td>\n",
              "    </tr>\n",
              "    <tr>\n",
              "      <th>4</th>\n",
              "      <td>False</td>\n",
              "      <td>False</td>\n",
              "      <td>False</td>\n",
              "      <td>False</td>\n",
              "      <td>False</td>\n",
              "      <td>False</td>\n",
              "    </tr>\n",
              "    <tr>\n",
              "      <th>...</th>\n",
              "      <td>...</td>\n",
              "      <td>...</td>\n",
              "      <td>...</td>\n",
              "      <td>...</td>\n",
              "      <td>...</td>\n",
              "      <td>...</td>\n",
              "    </tr>\n",
              "    <tr>\n",
              "      <th>1048570</th>\n",
              "      <td>False</td>\n",
              "      <td>False</td>\n",
              "      <td>False</td>\n",
              "      <td>False</td>\n",
              "      <td>False</td>\n",
              "      <td>False</td>\n",
              "    </tr>\n",
              "    <tr>\n",
              "      <th>1048571</th>\n",
              "      <td>False</td>\n",
              "      <td>False</td>\n",
              "      <td>False</td>\n",
              "      <td>False</td>\n",
              "      <td>False</td>\n",
              "      <td>False</td>\n",
              "    </tr>\n",
              "    <tr>\n",
              "      <th>1048572</th>\n",
              "      <td>False</td>\n",
              "      <td>False</td>\n",
              "      <td>False</td>\n",
              "      <td>False</td>\n",
              "      <td>False</td>\n",
              "      <td>False</td>\n",
              "    </tr>\n",
              "    <tr>\n",
              "      <th>1048573</th>\n",
              "      <td>False</td>\n",
              "      <td>False</td>\n",
              "      <td>False</td>\n",
              "      <td>False</td>\n",
              "      <td>False</td>\n",
              "      <td>False</td>\n",
              "    </tr>\n",
              "    <tr>\n",
              "      <th>1048574</th>\n",
              "      <td>False</td>\n",
              "      <td>False</td>\n",
              "      <td>False</td>\n",
              "      <td>False</td>\n",
              "      <td>False</td>\n",
              "      <td>False</td>\n",
              "    </tr>\n",
              "  </tbody>\n",
              "</table>\n",
              "<p>1048575 rows × 6 columns</p>\n",
              "</div>"
            ],
            "text/plain": [
              "         click_timestamp  search_id  ...  time_diff_nanos    ads\n",
              "0                  False      False  ...            False  False\n",
              "1                  False      False  ...            False  False\n",
              "2                  False      False  ...            False  False\n",
              "3                  False      False  ...            False  False\n",
              "4                  False      False  ...            False  False\n",
              "...                  ...        ...  ...              ...    ...\n",
              "1048570            False      False  ...            False  False\n",
              "1048571            False      False  ...            False  False\n",
              "1048572            False      False  ...            False  False\n",
              "1048573            False      False  ...            False  False\n",
              "1048574            False      False  ...            False  False\n",
              "\n",
              "[1048575 rows x 6 columns]"
            ]
          },
          "metadata": {
            "tags": []
          },
          "execution_count": 84
        }
      ]
    },
    {
      "cell_type": "code",
      "metadata": {
        "id": "g10ZOgJBoyG0",
        "outputId": "42749001-b268-420b-f264-f6ce6cbe447e",
        "colab": {
          "base_uri": "https://localhost:8080/",
          "height": 0
        }
      },
      "source": [
        "search_click_df.isnull().any() #.any จะยุบรวม T ในแต่ละคอลัมมา or กัน ดูตามแนวคอลัมว่ามี"
      ],
      "execution_count": 85,
      "outputs": [
        {
          "output_type": "execute_result",
          "data": {
            "text/plain": [
              "click_timestamp     False\n",
              "search_id            True\n",
              "business_id          True\n",
              "display_position    False\n",
              "time_diff_nanos     False\n",
              "ads                 False\n",
              "dtype: bool"
            ]
          },
          "metadata": {
            "tags": []
          },
          "execution_count": 85
        }
      ]
    },
    {
      "cell_type": "code",
      "metadata": {
        "id": "zGqrF7TXoyJ3",
        "outputId": "479b4d63-89f1-4fda-8474-d1aabbb9a912",
        "colab": {
          "base_uri": "https://localhost:8080/",
          "height": 0
        }
      },
      "source": [
        "search_click_df.isnull().any().any()"
      ],
      "execution_count": 86,
      "outputs": [
        {
          "output_type": "execute_result",
          "data": {
            "text/plain": [
              "True"
            ]
          },
          "metadata": {
            "tags": []
          },
          "execution_count": 86
        }
      ]
    },
    {
      "cell_type": "markdown",
      "metadata": {
        "id": "TeJmTTHss22Q"
      },
      "source": [
        "# Handling missing values 1 การจัดการ Missing\n",
        "data ไหนมี missing อยู่ก็ให้ลบออก "
      ]
    },
    {
      "cell_type": "code",
      "metadata": {
        "id": "tQRjlvvnoyM7"
      },
      "source": [
        "search_click_df_nm = search_click_df.dropna()"
      ],
      "execution_count": 87,
      "outputs": []
    },
    {
      "cell_type": "code",
      "metadata": {
        "id": "LaL_FqcRoySp",
        "outputId": "62af2cda-d556-4c3c-bf94-03575bfe7efe",
        "colab": {
          "base_uri": "https://localhost:8080/",
          "height": 0
        }
      },
      "source": [
        "search_click_df_nm.isnull().any().any() #เอามาเช็คอีกรอบจะเห็นว่าเป็น False แล้ว คือ ไม่มี missing อยู่ แต่จะทำให้ข้อมูลมันลดลง"
      ],
      "execution_count": 88,
      "outputs": [
        {
          "output_type": "execute_result",
          "data": {
            "text/plain": [
              "False"
            ]
          },
          "metadata": {
            "tags": []
          },
          "execution_count": 88
        }
      ]
    },
    {
      "cell_type": "code",
      "metadata": {
        "id": "jM6zurU2oyPy",
        "outputId": "cee89b52-d2e2-4c5e-960d-c00014bcf19b",
        "colab": {
          "base_uri": "https://localhost:8080/",
          "height": 0
        }
      },
      "source": [
        "print(search_click_df.shape)\n",
        "print(search_click_df_nm.shape)"
      ],
      "execution_count": 89,
      "outputs": [
        {
          "output_type": "stream",
          "text": [
            "(1048575, 6)\n",
            "(1048206, 6)\n"
          ],
          "name": "stdout"
        }
      ]
    },
    {
      "cell_type": "code",
      "metadata": {
        "id": "j9OuvMURuKEj"
      },
      "source": [
        "## Excercise 1 ตรวจสอบว่า การลบข้อมูล missing ออกจากตาราง w_restarant จำทำให้ข้อมูลลดลงกี่เปอร์เซ็น"
      ],
      "execution_count": 90,
      "outputs": []
    },
    {
      "cell_type": "code",
      "metadata": {
        "id": "0mZTUPdauKKe",
        "outputId": "026eac32-9f57-44f4-e2ab-157991b4089b",
        "colab": {
          "base_uri": "https://localhost:8080/",
          "height": 0
        }
      },
      "source": [
        "w_restaurant_df.isnull() "
      ],
      "execution_count": 91,
      "outputs": [
        {
          "output_type": "execute_result",
          "data": {
            "text/html": [
              "<div>\n",
              "<style scoped>\n",
              "    .dataframe tbody tr th:only-of-type {\n",
              "        vertical-align: middle;\n",
              "    }\n",
              "\n",
              "    .dataframe tbody tr th {\n",
              "        vertical-align: top;\n",
              "    }\n",
              "\n",
              "    .dataframe thead th {\n",
              "        text-align: right;\n",
              "    }\n",
              "</style>\n",
              "<table border=\"1\" class=\"dataframe\">\n",
              "  <thead>\n",
              "    <tr style=\"text-align: right;\">\n",
              "      <th></th>\n",
              "      <th>id</th>\n",
              "      <th>name</th>\n",
              "      <th>domain_id</th>\n",
              "      <th>closed</th>\n",
              "      <th>city_name</th>\n",
              "      <th>zipcode</th>\n",
              "      <th>geohash</th>\n",
              "      <th>new_open</th>\n",
              "      <th>weighted_average_rating</th>\n",
              "      <th>number_of_chains</th>\n",
              "      <th>number_of_bookmarks</th>\n",
              "      <th>number_of_reviews</th>\n",
              "      <th>number_of_product_tags</th>\n",
              "      <th>total_number_of_views</th>\n",
              "      <th>number_of_checkins</th>\n",
              "      <th>number_of_menu_groups</th>\n",
              "      <th>number_of_menu_photos</th>\n",
              "      <th>category_name</th>\n",
              "      <th>price_range</th>\n",
              "      <th>avg_price</th>\n",
              "      <th>parking</th>\n",
              "      <th>credit_card_accepted</th>\n",
              "      <th>good_for_groups</th>\n",
              "      <th>good_for_kids</th>\n",
              "      <th>bookable</th>\n",
              "      <th>best_of_wongnai</th>\n",
              "      <th>wifi</th>\n",
              "      <th>number_of_seats</th>\n",
              "      <th>music_venue</th>\n",
              "      <th>hotel_restaurant</th>\n",
              "      <th>pet_friendly</th>\n",
              "      <th>delivery</th>\n",
              "    </tr>\n",
              "  </thead>\n",
              "  <tbody>\n",
              "    <tr>\n",
              "      <th>0</th>\n",
              "      <td>False</td>\n",
              "      <td>False</td>\n",
              "      <td>False</td>\n",
              "      <td>False</td>\n",
              "      <td>False</td>\n",
              "      <td>False</td>\n",
              "      <td>False</td>\n",
              "      <td>False</td>\n",
              "      <td>False</td>\n",
              "      <td>True</td>\n",
              "      <td>True</td>\n",
              "      <td>False</td>\n",
              "      <td>False</td>\n",
              "      <td>False</td>\n",
              "      <td>False</td>\n",
              "      <td>False</td>\n",
              "      <td>False</td>\n",
              "      <td>False</td>\n",
              "      <td>True</td>\n",
              "      <td>True</td>\n",
              "      <td>False</td>\n",
              "      <td>False</td>\n",
              "      <td>True</td>\n",
              "      <td>True</td>\n",
              "      <td>True</td>\n",
              "      <td>True</td>\n",
              "      <td>True</td>\n",
              "      <td>False</td>\n",
              "      <td>True</td>\n",
              "      <td>True</td>\n",
              "      <td>True</td>\n",
              "      <td>True</td>\n",
              "    </tr>\n",
              "    <tr>\n",
              "      <th>1</th>\n",
              "      <td>False</td>\n",
              "      <td>False</td>\n",
              "      <td>False</td>\n",
              "      <td>False</td>\n",
              "      <td>False</td>\n",
              "      <td>False</td>\n",
              "      <td>False</td>\n",
              "      <td>False</td>\n",
              "      <td>False</td>\n",
              "      <td>True</td>\n",
              "      <td>True</td>\n",
              "      <td>False</td>\n",
              "      <td>False</td>\n",
              "      <td>False</td>\n",
              "      <td>False</td>\n",
              "      <td>False</td>\n",
              "      <td>False</td>\n",
              "      <td>False</td>\n",
              "      <td>False</td>\n",
              "      <td>True</td>\n",
              "      <td>False</td>\n",
              "      <td>True</td>\n",
              "      <td>True</td>\n",
              "      <td>True</td>\n",
              "      <td>True</td>\n",
              "      <td>True</td>\n",
              "      <td>True</td>\n",
              "      <td>True</td>\n",
              "      <td>True</td>\n",
              "      <td>True</td>\n",
              "      <td>True</td>\n",
              "      <td>True</td>\n",
              "    </tr>\n",
              "    <tr>\n",
              "      <th>2</th>\n",
              "      <td>False</td>\n",
              "      <td>False</td>\n",
              "      <td>False</td>\n",
              "      <td>False</td>\n",
              "      <td>False</td>\n",
              "      <td>False</td>\n",
              "      <td>False</td>\n",
              "      <td>False</td>\n",
              "      <td>False</td>\n",
              "      <td>True</td>\n",
              "      <td>False</td>\n",
              "      <td>False</td>\n",
              "      <td>False</td>\n",
              "      <td>False</td>\n",
              "      <td>False</td>\n",
              "      <td>False</td>\n",
              "      <td>False</td>\n",
              "      <td>False</td>\n",
              "      <td>True</td>\n",
              "      <td>True</td>\n",
              "      <td>False</td>\n",
              "      <td>True</td>\n",
              "      <td>True</td>\n",
              "      <td>True</td>\n",
              "      <td>True</td>\n",
              "      <td>True</td>\n",
              "      <td>True</td>\n",
              "      <td>True</td>\n",
              "      <td>True</td>\n",
              "      <td>True</td>\n",
              "      <td>True</td>\n",
              "      <td>True</td>\n",
              "    </tr>\n",
              "    <tr>\n",
              "      <th>3</th>\n",
              "      <td>False</td>\n",
              "      <td>False</td>\n",
              "      <td>False</td>\n",
              "      <td>False</td>\n",
              "      <td>False</td>\n",
              "      <td>False</td>\n",
              "      <td>False</td>\n",
              "      <td>False</td>\n",
              "      <td>False</td>\n",
              "      <td>True</td>\n",
              "      <td>True</td>\n",
              "      <td>False</td>\n",
              "      <td>False</td>\n",
              "      <td>False</td>\n",
              "      <td>False</td>\n",
              "      <td>False</td>\n",
              "      <td>False</td>\n",
              "      <td>False</td>\n",
              "      <td>True</td>\n",
              "      <td>True</td>\n",
              "      <td>True</td>\n",
              "      <td>True</td>\n",
              "      <td>True</td>\n",
              "      <td>True</td>\n",
              "      <td>True</td>\n",
              "      <td>True</td>\n",
              "      <td>True</td>\n",
              "      <td>True</td>\n",
              "      <td>True</td>\n",
              "      <td>True</td>\n",
              "      <td>True</td>\n",
              "      <td>True</td>\n",
              "    </tr>\n",
              "    <tr>\n",
              "      <th>4</th>\n",
              "      <td>False</td>\n",
              "      <td>False</td>\n",
              "      <td>False</td>\n",
              "      <td>False</td>\n",
              "      <td>False</td>\n",
              "      <td>False</td>\n",
              "      <td>False</td>\n",
              "      <td>False</td>\n",
              "      <td>False</td>\n",
              "      <td>True</td>\n",
              "      <td>False</td>\n",
              "      <td>False</td>\n",
              "      <td>False</td>\n",
              "      <td>False</td>\n",
              "      <td>False</td>\n",
              "      <td>False</td>\n",
              "      <td>False</td>\n",
              "      <td>False</td>\n",
              "      <td>False</td>\n",
              "      <td>True</td>\n",
              "      <td>False</td>\n",
              "      <td>False</td>\n",
              "      <td>True</td>\n",
              "      <td>True</td>\n",
              "      <td>True</td>\n",
              "      <td>True</td>\n",
              "      <td>False</td>\n",
              "      <td>False</td>\n",
              "      <td>True</td>\n",
              "      <td>True</td>\n",
              "      <td>True</td>\n",
              "      <td>True</td>\n",
              "    </tr>\n",
              "    <tr>\n",
              "      <th>...</th>\n",
              "      <td>...</td>\n",
              "      <td>...</td>\n",
              "      <td>...</td>\n",
              "      <td>...</td>\n",
              "      <td>...</td>\n",
              "      <td>...</td>\n",
              "      <td>...</td>\n",
              "      <td>...</td>\n",
              "      <td>...</td>\n",
              "      <td>...</td>\n",
              "      <td>...</td>\n",
              "      <td>...</td>\n",
              "      <td>...</td>\n",
              "      <td>...</td>\n",
              "      <td>...</td>\n",
              "      <td>...</td>\n",
              "      <td>...</td>\n",
              "      <td>...</td>\n",
              "      <td>...</td>\n",
              "      <td>...</td>\n",
              "      <td>...</td>\n",
              "      <td>...</td>\n",
              "      <td>...</td>\n",
              "      <td>...</td>\n",
              "      <td>...</td>\n",
              "      <td>...</td>\n",
              "      <td>...</td>\n",
              "      <td>...</td>\n",
              "      <td>...</td>\n",
              "      <td>...</td>\n",
              "      <td>...</td>\n",
              "      <td>...</td>\n",
              "    </tr>\n",
              "    <tr>\n",
              "      <th>246842</th>\n",
              "      <td>False</td>\n",
              "      <td>False</td>\n",
              "      <td>False</td>\n",
              "      <td>False</td>\n",
              "      <td>False</td>\n",
              "      <td>False</td>\n",
              "      <td>False</td>\n",
              "      <td>False</td>\n",
              "      <td>False</td>\n",
              "      <td>False</td>\n",
              "      <td>False</td>\n",
              "      <td>False</td>\n",
              "      <td>False</td>\n",
              "      <td>False</td>\n",
              "      <td>False</td>\n",
              "      <td>False</td>\n",
              "      <td>False</td>\n",
              "      <td>False</td>\n",
              "      <td>False</td>\n",
              "      <td>True</td>\n",
              "      <td>False</td>\n",
              "      <td>False</td>\n",
              "      <td>False</td>\n",
              "      <td>False</td>\n",
              "      <td>False</td>\n",
              "      <td>True</td>\n",
              "      <td>False</td>\n",
              "      <td>True</td>\n",
              "      <td>True</td>\n",
              "      <td>True</td>\n",
              "      <td>True</td>\n",
              "      <td>True</td>\n",
              "    </tr>\n",
              "    <tr>\n",
              "      <th>246843</th>\n",
              "      <td>False</td>\n",
              "      <td>False</td>\n",
              "      <td>False</td>\n",
              "      <td>False</td>\n",
              "      <td>False</td>\n",
              "      <td>True</td>\n",
              "      <td>False</td>\n",
              "      <td>False</td>\n",
              "      <td>False</td>\n",
              "      <td>True</td>\n",
              "      <td>False</td>\n",
              "      <td>False</td>\n",
              "      <td>False</td>\n",
              "      <td>False</td>\n",
              "      <td>False</td>\n",
              "      <td>False</td>\n",
              "      <td>False</td>\n",
              "      <td>False</td>\n",
              "      <td>False</td>\n",
              "      <td>True</td>\n",
              "      <td>False</td>\n",
              "      <td>False</td>\n",
              "      <td>False</td>\n",
              "      <td>True</td>\n",
              "      <td>False</td>\n",
              "      <td>True</td>\n",
              "      <td>True</td>\n",
              "      <td>False</td>\n",
              "      <td>True</td>\n",
              "      <td>True</td>\n",
              "      <td>True</td>\n",
              "      <td>True</td>\n",
              "    </tr>\n",
              "    <tr>\n",
              "      <th>246844</th>\n",
              "      <td>False</td>\n",
              "      <td>False</td>\n",
              "      <td>False</td>\n",
              "      <td>False</td>\n",
              "      <td>False</td>\n",
              "      <td>False</td>\n",
              "      <td>False</td>\n",
              "      <td>False</td>\n",
              "      <td>False</td>\n",
              "      <td>True</td>\n",
              "      <td>False</td>\n",
              "      <td>False</td>\n",
              "      <td>False</td>\n",
              "      <td>False</td>\n",
              "      <td>False</td>\n",
              "      <td>False</td>\n",
              "      <td>False</td>\n",
              "      <td>False</td>\n",
              "      <td>False</td>\n",
              "      <td>True</td>\n",
              "      <td>False</td>\n",
              "      <td>False</td>\n",
              "      <td>False</td>\n",
              "      <td>False</td>\n",
              "      <td>False</td>\n",
              "      <td>True</td>\n",
              "      <td>True</td>\n",
              "      <td>True</td>\n",
              "      <td>True</td>\n",
              "      <td>True</td>\n",
              "      <td>True</td>\n",
              "      <td>True</td>\n",
              "    </tr>\n",
              "    <tr>\n",
              "      <th>246845</th>\n",
              "      <td>False</td>\n",
              "      <td>False</td>\n",
              "      <td>False</td>\n",
              "      <td>False</td>\n",
              "      <td>False</td>\n",
              "      <td>False</td>\n",
              "      <td>False</td>\n",
              "      <td>False</td>\n",
              "      <td>False</td>\n",
              "      <td>True</td>\n",
              "      <td>False</td>\n",
              "      <td>False</td>\n",
              "      <td>False</td>\n",
              "      <td>False</td>\n",
              "      <td>False</td>\n",
              "      <td>False</td>\n",
              "      <td>False</td>\n",
              "      <td>False</td>\n",
              "      <td>False</td>\n",
              "      <td>True</td>\n",
              "      <td>False</td>\n",
              "      <td>False</td>\n",
              "      <td>False</td>\n",
              "      <td>False</td>\n",
              "      <td>False</td>\n",
              "      <td>True</td>\n",
              "      <td>True</td>\n",
              "      <td>True</td>\n",
              "      <td>True</td>\n",
              "      <td>True</td>\n",
              "      <td>True</td>\n",
              "      <td>True</td>\n",
              "    </tr>\n",
              "    <tr>\n",
              "      <th>246846</th>\n",
              "      <td>False</td>\n",
              "      <td>False</td>\n",
              "      <td>False</td>\n",
              "      <td>False</td>\n",
              "      <td>False</td>\n",
              "      <td>False</td>\n",
              "      <td>False</td>\n",
              "      <td>False</td>\n",
              "      <td>False</td>\n",
              "      <td>True</td>\n",
              "      <td>True</td>\n",
              "      <td>False</td>\n",
              "      <td>False</td>\n",
              "      <td>False</td>\n",
              "      <td>False</td>\n",
              "      <td>False</td>\n",
              "      <td>False</td>\n",
              "      <td>False</td>\n",
              "      <td>False</td>\n",
              "      <td>True</td>\n",
              "      <td>True</td>\n",
              "      <td>True</td>\n",
              "      <td>True</td>\n",
              "      <td>True</td>\n",
              "      <td>True</td>\n",
              "      <td>True</td>\n",
              "      <td>True</td>\n",
              "      <td>True</td>\n",
              "      <td>True</td>\n",
              "      <td>True</td>\n",
              "      <td>True</td>\n",
              "      <td>True</td>\n",
              "    </tr>\n",
              "  </tbody>\n",
              "</table>\n",
              "<p>246847 rows × 32 columns</p>\n",
              "</div>"
            ],
            "text/plain": [
              "           id   name  domain_id  ...  hotel_restaurant  pet_friendly  delivery\n",
              "0       False  False      False  ...              True          True      True\n",
              "1       False  False      False  ...              True          True      True\n",
              "2       False  False      False  ...              True          True      True\n",
              "3       False  False      False  ...              True          True      True\n",
              "4       False  False      False  ...              True          True      True\n",
              "...       ...    ...        ...  ...               ...           ...       ...\n",
              "246842  False  False      False  ...              True          True      True\n",
              "246843  False  False      False  ...              True          True      True\n",
              "246844  False  False      False  ...              True          True      True\n",
              "246845  False  False      False  ...              True          True      True\n",
              "246846  False  False      False  ...              True          True      True\n",
              "\n",
              "[246847 rows x 32 columns]"
            ]
          },
          "metadata": {
            "tags": []
          },
          "execution_count": 91
        }
      ]
    },
    {
      "cell_type": "code",
      "metadata": {
        "id": "SJX5_j0BuKOH",
        "outputId": "a1d8efd6-face-4481-aabb-614bbfbe8f07",
        "colab": {
          "base_uri": "https://localhost:8080/",
          "height": 0
        }
      },
      "source": [
        "w_restaurant_df.isnull().any() "
      ],
      "execution_count": 92,
      "outputs": [
        {
          "output_type": "execute_result",
          "data": {
            "text/plain": [
              "id                         False\n",
              "name                       False\n",
              "domain_id                  False\n",
              "closed                     False\n",
              "city_name                  False\n",
              "zipcode                     True\n",
              "geohash                    False\n",
              "new_open                   False\n",
              "weighted_average_rating    False\n",
              "number_of_chains            True\n",
              "number_of_bookmarks         True\n",
              "number_of_reviews          False\n",
              "number_of_product_tags     False\n",
              "total_number_of_views      False\n",
              "number_of_checkins         False\n",
              "number_of_menu_groups      False\n",
              "number_of_menu_photos      False\n",
              "category_name              False\n",
              "price_range                 True\n",
              "avg_price                   True\n",
              "parking                     True\n",
              "credit_card_accepted        True\n",
              "good_for_groups             True\n",
              "good_for_kids               True\n",
              "bookable                    True\n",
              "best_of_wongnai             True\n",
              "wifi                        True\n",
              "number_of_seats             True\n",
              "music_venue                 True\n",
              "hotel_restaurant            True\n",
              "pet_friendly                True\n",
              "delivery                    True\n",
              "dtype: bool"
            ]
          },
          "metadata": {
            "tags": []
          },
          "execution_count": 92
        }
      ]
    },
    {
      "cell_type": "code",
      "metadata": {
        "id": "39ltBofXuKUd"
      },
      "source": [
        "w_restaurant_df_nm = w_restaurant_df.dropna()"
      ],
      "execution_count": 93,
      "outputs": []
    },
    {
      "cell_type": "code",
      "metadata": {
        "id": "9VwuA5w5uKTH",
        "outputId": "87cbd870-66cf-4af2-c7bf-16d2bc1401cc",
        "colab": {
          "base_uri": "https://localhost:8080/",
          "height": 0
        }
      },
      "source": [
        "w_restaurant_df_nm.isnull().any().any()"
      ],
      "execution_count": 94,
      "outputs": [
        {
          "output_type": "execute_result",
          "data": {
            "text/plain": [
              "False"
            ]
          },
          "metadata": {
            "tags": []
          },
          "execution_count": 94
        }
      ]
    },
    {
      "cell_type": "code",
      "metadata": {
        "id": "IBacHVaQvO-h",
        "outputId": "df00ae71-4966-4719-809b-0d5a673abf33",
        "colab": {
          "base_uri": "https://localhost:8080/",
          "height": 0
        }
      },
      "source": [
        "print(w_restaurant_df.shape)\n",
        "print(w_restaurant_df_nm.shape)"
      ],
      "execution_count": 95,
      "outputs": [
        {
          "output_type": "stream",
          "text": [
            "(246847, 32)\n",
            "(4, 32)\n"
          ],
          "name": "stdout"
        }
      ]
    },
    {
      "cell_type": "code",
      "metadata": {
        "id": "E_eOuD8ovWsY",
        "outputId": "afa2c5c6-5b61-4d3a-c671-314bbaf10460",
        "colab": {
          "base_uri": "https://localhost:8080/",
          "height": 0
        }
      },
      "source": [
        "size_before_drop = w_restaurant_df.shape[0]\n",
        "size_after_drop = w_restaurant_df.dropna().shape[0]\n",
        "print(f'size_before_drop = {size_before_drop},\\nsize after drop = {size_after_drop}\\\n",
        "        \\nwhich is {100*((size_before_drop-size_after_drop)/size_before_drop)}')"
      ],
      "execution_count": 96,
      "outputs": [
        {
          "output_type": "stream",
          "text": [
            "size_before_drop = 246847,\n",
            "size after drop = 4        \n",
            "which is 99.99837956304918\n"
          ],
          "name": "stdout"
        }
      ]
    },
    {
      "cell_type": "markdown",
      "metadata": {
        "id": "_eQULfpllkWP"
      },
      "source": [
        "#Method 1.5 "
      ]
    },
    {
      "cell_type": "code",
      "metadata": {
        "id": "v7hlSct-yh0R",
        "outputId": "fb64292e-8d20-4763-9088-2d2aff67c587",
        "colab": {
          "base_uri": "https://localhost:8080/",
          "height": 0
        }
      },
      "source": [
        "w_restaurant_df.isnull().any()"
      ],
      "execution_count": 97,
      "outputs": [
        {
          "output_type": "execute_result",
          "data": {
            "text/plain": [
              "id                         False\n",
              "name                       False\n",
              "domain_id                  False\n",
              "closed                     False\n",
              "city_name                  False\n",
              "zipcode                     True\n",
              "geohash                    False\n",
              "new_open                   False\n",
              "weighted_average_rating    False\n",
              "number_of_chains            True\n",
              "number_of_bookmarks         True\n",
              "number_of_reviews          False\n",
              "number_of_product_tags     False\n",
              "total_number_of_views      False\n",
              "number_of_checkins         False\n",
              "number_of_menu_groups      False\n",
              "number_of_menu_photos      False\n",
              "category_name              False\n",
              "price_range                 True\n",
              "avg_price                   True\n",
              "parking                     True\n",
              "credit_card_accepted        True\n",
              "good_for_groups             True\n",
              "good_for_kids               True\n",
              "bookable                    True\n",
              "best_of_wongnai             True\n",
              "wifi                        True\n",
              "number_of_seats             True\n",
              "music_venue                 True\n",
              "hotel_restaurant            True\n",
              "pet_friendly                True\n",
              "delivery                    True\n",
              "dtype: bool"
            ]
          },
          "metadata": {
            "tags": []
          },
          "execution_count": 97
        }
      ]
    },
    {
      "cell_type": "code",
      "metadata": {
        "id": "oMWTmvBiyh_J",
        "outputId": "80e4ce66-0d75-4c1b-c36b-f8fc1f19e6ec",
        "colab": {
          "base_uri": "https://localhost:8080/",
          "height": 0
        }
      },
      "source": [
        "w_restaurant_df.dropna(subset=['id','price_range']).shape #เลือก drop เฉพาะคอลัมที่ต้องการ โดยใช้ subset "
      ],
      "execution_count": 98,
      "outputs": [
        {
          "output_type": "execute_result",
          "data": {
            "text/plain": [
              "(180972, 32)"
            ]
          },
          "metadata": {
            "tags": []
          },
          "execution_count": 98
        }
      ]
    },
    {
      "cell_type": "markdown",
      "metadata": {
        "id": "Ixg4VTFV0CrV"
      },
      "source": [
        "#Methot 2 (raplace with reasonable value) แทนที่ด้วยค่าที่เหมาะสม"
      ]
    },
    {
      "cell_type": "code",
      "metadata": {
        "id": "S-jbMVSNyiEp"
      },
      "source": [
        "#เราจะไม่ให้ data หายไปเลย โดยการเอาค่า default ใส่เข้าไป คือ ค่ามาตรฐานของแต่ละฟิวส์"
      ],
      "execution_count": 99,
      "outputs": []
    },
    {
      "cell_type": "markdown",
      "metadata": {
        "id": "HW_4JxNp1SEW"
      },
      "source": [
        "#\n",
        "เราจะใส่ค่า missing value เข้าไป"
      ]
    },
    {
      "cell_type": "code",
      "metadata": {
        "id": "10Nf4PlVyiDC"
      },
      "source": [
        "w_restaurant_df[['number_of_chains']] = w_restaurant_df[['number_of_chains']].fillna(0)\n",
        "#เราจะสร้างคอลัมใหม่ไปแทน number_of_chains โดยให้ค่าเป็นค่าเดิม แต่ missing จะถูกแทนด้วย 0 โดยใช้ .fillna"
      ],
      "execution_count": 100,
      "outputs": []
    },
    {
      "cell_type": "code",
      "metadata": {
        "id": "vS8Hvo9R3PBO",
        "outputId": "68d32f3f-cbf5-45ff-9fec-a315a5b012fc",
        "colab": {
          "base_uri": "https://localhost:8080/",
          "height": 0
        }
      },
      "source": [
        "w_restaurant_df.isnull().any()"
      ],
      "execution_count": 101,
      "outputs": [
        {
          "output_type": "execute_result",
          "data": {
            "text/plain": [
              "id                         False\n",
              "name                       False\n",
              "domain_id                  False\n",
              "closed                     False\n",
              "city_name                  False\n",
              "zipcode                     True\n",
              "geohash                    False\n",
              "new_open                   False\n",
              "weighted_average_rating    False\n",
              "number_of_chains           False\n",
              "number_of_bookmarks         True\n",
              "number_of_reviews          False\n",
              "number_of_product_tags     False\n",
              "total_number_of_views      False\n",
              "number_of_checkins         False\n",
              "number_of_menu_groups      False\n",
              "number_of_menu_photos      False\n",
              "category_name              False\n",
              "price_range                 True\n",
              "avg_price                   True\n",
              "parking                     True\n",
              "credit_card_accepted        True\n",
              "good_for_groups             True\n",
              "good_for_kids               True\n",
              "bookable                    True\n",
              "best_of_wongnai             True\n",
              "wifi                        True\n",
              "number_of_seats             True\n",
              "music_venue                 True\n",
              "hotel_restaurant            True\n",
              "pet_friendly                True\n",
              "delivery                    True\n",
              "dtype: bool"
            ]
          },
          "metadata": {
            "tags": []
          },
          "execution_count": 101
        }
      ]
    },
    {
      "cell_type": "markdown",
      "metadata": {
        "id": "yfQ7sHAFlBjH"
      },
      "source": [
        "#Method 2.1 (replace with unknow value)"
      ]
    },
    {
      "cell_type": "markdown",
      "metadata": {
        "id": "5RXeCDUVqA7O"
      },
      "source": [
        "#Method 3\n",
        "# เติมค่าตามฟิวส์อื่น โดยพิจารณาคอลัมว่าแบ่งเป็นหน่วยย่อยๆได้ "
      ]
    },
    {
      "cell_type": "code",
      "metadata": {
        "id": "mUU9MNIelAmL",
        "outputId": "c2ea2a4f-1882-4049-df7c-35202ff51d78",
        "colab": {
          "base_uri": "https://localhost:8080/",
          "height": 0
        }
      },
      "source": [
        "new_table = w_restaurant_df[['name' ,'city_name', 'avg_price']] \n",
        "new_table"
      ],
      "execution_count": 102,
      "outputs": [
        {
          "output_type": "execute_result",
          "data": {
            "text/html": [
              "<div>\n",
              "<style scoped>\n",
              "    .dataframe tbody tr th:only-of-type {\n",
              "        vertical-align: middle;\n",
              "    }\n",
              "\n",
              "    .dataframe tbody tr th {\n",
              "        vertical-align: top;\n",
              "    }\n",
              "\n",
              "    .dataframe thead th {\n",
              "        text-align: right;\n",
              "    }\n",
              "</style>\n",
              "<table border=\"1\" class=\"dataframe\">\n",
              "  <thead>\n",
              "    <tr style=\"text-align: right;\">\n",
              "      <th></th>\n",
              "      <th>name</th>\n",
              "      <th>city_name</th>\n",
              "      <th>avg_price</th>\n",
              "    </tr>\n",
              "  </thead>\n",
              "  <tbody>\n",
              "    <tr>\n",
              "      <th>0</th>\n",
              "      <td>นครินทร์ทันตกรรม</td>\n",
              "      <td>Samut Songkhram</td>\n",
              "      <td>NaN</td>\n",
              "    </tr>\n",
              "    <tr>\n",
              "      <th>1</th>\n",
              "      <td>Corner House</td>\n",
              "      <td>Bangkok Metropolitan Region</td>\n",
              "      <td>NaN</td>\n",
              "    </tr>\n",
              "    <tr>\n",
              "      <th>2</th>\n",
              "      <td>วัดโลกยสุธาราม</td>\n",
              "      <td>Phra Nakhon Si Ayutthaya</td>\n",
              "      <td>NaN</td>\n",
              "    </tr>\n",
              "    <tr>\n",
              "      <th>3</th>\n",
              "      <td>นันท์คาราโอเกะ</td>\n",
              "      <td>Bangkok Metropolitan Region</td>\n",
              "      <td>NaN</td>\n",
              "    </tr>\n",
              "    <tr>\n",
              "      <th>4</th>\n",
              "      <td>Buono Caffe</td>\n",
              "      <td>Bangkok Metropolitan Region</td>\n",
              "      <td>NaN</td>\n",
              "    </tr>\n",
              "    <tr>\n",
              "      <th>...</th>\n",
              "      <td>...</td>\n",
              "      <td>...</td>\n",
              "      <td>...</td>\n",
              "    </tr>\n",
              "    <tr>\n",
              "      <th>246842</th>\n",
              "      <td>Sushi Tama</td>\n",
              "      <td>Bangkok Metropolitan Region</td>\n",
              "      <td>NaN</td>\n",
              "    </tr>\n",
              "    <tr>\n",
              "      <th>246843</th>\n",
              "      <td>สะบายดี คาราโอเกะ</td>\n",
              "      <td>Bangkok Metropolitan Region</td>\n",
              "      <td>NaN</td>\n",
              "    </tr>\n",
              "    <tr>\n",
              "      <th>246844</th>\n",
              "      <td>สเต็กแม่&amp;กาแฟลูก</td>\n",
              "      <td>Bangkok Metropolitan Region</td>\n",
              "      <td>NaN</td>\n",
              "    </tr>\n",
              "    <tr>\n",
              "      <th>246845</th>\n",
              "      <td>Mom Made</td>\n",
              "      <td>Nakhon Si Thammarat</td>\n",
              "      <td>NaN</td>\n",
              "    </tr>\n",
              "    <tr>\n",
              "      <th>246846</th>\n",
              "      <td>ก๋วยเตี๋ยวหมูน้ำตก ก๋วยเตี๋ยวเรือทอง</td>\n",
              "      <td>Suphan Buri</td>\n",
              "      <td>NaN</td>\n",
              "    </tr>\n",
              "  </tbody>\n",
              "</table>\n",
              "<p>246847 rows × 3 columns</p>\n",
              "</div>"
            ],
            "text/plain": [
              "                                        name  ... avg_price\n",
              "0                           นครินทร์ทันตกรรม  ...       NaN\n",
              "1                               Corner House  ...       NaN\n",
              "2                             วัดโลกยสุธาราม  ...       NaN\n",
              "3                             นันท์คาราโอเกะ  ...       NaN\n",
              "4                                Buono Caffe  ...       NaN\n",
              "...                                      ...  ...       ...\n",
              "246842                            Sushi Tama  ...       NaN\n",
              "246843                     สะบายดี คาราโอเกะ  ...       NaN\n",
              "246844                      สเต็กแม่&กาแฟลูก  ...       NaN\n",
              "246845                              Mom Made  ...       NaN\n",
              "246846  ก๋วยเตี๋ยวหมูน้ำตก ก๋วยเตี๋ยวเรือทอง  ...       NaN\n",
              "\n",
              "[246847 rows x 3 columns]"
            ]
          },
          "metadata": {
            "tags": []
          },
          "execution_count": 102
        }
      ]
    },
    {
      "cell_type": "markdown",
      "metadata": {
        "id": "Rtu48ydYtL9u"
      },
      "source": [
        "##PD select data วิธีเลือกข้อมูลใน padas โดยสามารเลือกตาม row ได้ "
      ]
    },
    {
      "cell_type": "code",
      "metadata": {
        "id": "UlP1iDA4rkjL",
        "outputId": "e52bbfb5-966c-40ef-ffd7-21075fe56b59",
        "colab": {
          "base_uri": "https://localhost:8080/",
          "height": 0
        }
      },
      "source": [
        "new_table['city_name']=='Bangkok Metropolitan Region'\n",
        "#เราจะเลือกให้ฟิวส์ city name โดยสร้างลิตส์ที่บอกว่าจะเอาข้อมูลอะไรบ้าง โดยจะสร้างลิตส์ที่มีจำนวนข้อมูลทั้งหมดก่อน"
      ],
      "execution_count": 103,
      "outputs": [
        {
          "output_type": "execute_result",
          "data": {
            "text/plain": [
              "0         False\n",
              "1          True\n",
              "2         False\n",
              "3          True\n",
              "4          True\n",
              "          ...  \n",
              "246842     True\n",
              "246843     True\n",
              "246844     True\n",
              "246845    False\n",
              "246846    False\n",
              "Name: city_name, Length: 246847, dtype: bool"
            ]
          },
          "metadata": {
            "tags": []
          },
          "execution_count": 103
        }
      ]
    },
    {
      "cell_type": "code",
      "metadata": {
        "id": "aMbB1h3nrkv8",
        "outputId": "a22d44ca-9d75-4007-88c5-f715febfbdcf",
        "colab": {
          "base_uri": "https://localhost:8080/",
          "height": 0
        }
      },
      "source": [
        "new_table[new_table['city_name']=='Bangkok Metropolitan Region']\n",
        "#จากนั้นในลิตส์ city_name จะเลือกข้อมูลที่มีแต่ Bangkok Metropolitan Region มาแสดงตามที่เราต้องการ"
      ],
      "execution_count": 104,
      "outputs": [
        {
          "output_type": "execute_result",
          "data": {
            "text/html": [
              "<div>\n",
              "<style scoped>\n",
              "    .dataframe tbody tr th:only-of-type {\n",
              "        vertical-align: middle;\n",
              "    }\n",
              "\n",
              "    .dataframe tbody tr th {\n",
              "        vertical-align: top;\n",
              "    }\n",
              "\n",
              "    .dataframe thead th {\n",
              "        text-align: right;\n",
              "    }\n",
              "</style>\n",
              "<table border=\"1\" class=\"dataframe\">\n",
              "  <thead>\n",
              "    <tr style=\"text-align: right;\">\n",
              "      <th></th>\n",
              "      <th>name</th>\n",
              "      <th>city_name</th>\n",
              "      <th>avg_price</th>\n",
              "    </tr>\n",
              "  </thead>\n",
              "  <tbody>\n",
              "    <tr>\n",
              "      <th>1</th>\n",
              "      <td>Corner House</td>\n",
              "      <td>Bangkok Metropolitan Region</td>\n",
              "      <td>NaN</td>\n",
              "    </tr>\n",
              "    <tr>\n",
              "      <th>3</th>\n",
              "      <td>นันท์คาราโอเกะ</td>\n",
              "      <td>Bangkok Metropolitan Region</td>\n",
              "      <td>NaN</td>\n",
              "    </tr>\n",
              "    <tr>\n",
              "      <th>4</th>\n",
              "      <td>Buono Caffe</td>\n",
              "      <td>Bangkok Metropolitan Region</td>\n",
              "      <td>NaN</td>\n",
              "    </tr>\n",
              "    <tr>\n",
              "      <th>7</th>\n",
              "      <td>Sazanami</td>\n",
              "      <td>Bangkok Metropolitan Region</td>\n",
              "      <td>NaN</td>\n",
              "    </tr>\n",
              "    <tr>\n",
              "      <th>10</th>\n",
              "      <td>Rotee Me Chabu</td>\n",
              "      <td>Bangkok Metropolitan Region</td>\n",
              "      <td>NaN</td>\n",
              "    </tr>\n",
              "    <tr>\n",
              "      <th>...</th>\n",
              "      <td>...</td>\n",
              "      <td>...</td>\n",
              "      <td>...</td>\n",
              "    </tr>\n",
              "    <tr>\n",
              "      <th>246835</th>\n",
              "      <td>ร้านครัวแกงป่า</td>\n",
              "      <td>Bangkok Metropolitan Region</td>\n",
              "      <td>NaN</td>\n",
              "    </tr>\n",
              "    <tr>\n",
              "      <th>246840</th>\n",
              "      <td>โตข้าวต้มปลา</td>\n",
              "      <td>Bangkok Metropolitan Region</td>\n",
              "      <td>NaN</td>\n",
              "    </tr>\n",
              "    <tr>\n",
              "      <th>246842</th>\n",
              "      <td>Sushi Tama</td>\n",
              "      <td>Bangkok Metropolitan Region</td>\n",
              "      <td>NaN</td>\n",
              "    </tr>\n",
              "    <tr>\n",
              "      <th>246843</th>\n",
              "      <td>สะบายดี คาราโอเกะ</td>\n",
              "      <td>Bangkok Metropolitan Region</td>\n",
              "      <td>NaN</td>\n",
              "    </tr>\n",
              "    <tr>\n",
              "      <th>246844</th>\n",
              "      <td>สเต็กแม่&amp;กาแฟลูก</td>\n",
              "      <td>Bangkok Metropolitan Region</td>\n",
              "      <td>NaN</td>\n",
              "    </tr>\n",
              "  </tbody>\n",
              "</table>\n",
              "<p>100588 rows × 3 columns</p>\n",
              "</div>"
            ],
            "text/plain": [
              "                     name                    city_name  avg_price\n",
              "1            Corner House  Bangkok Metropolitan Region        NaN\n",
              "3          นันท์คาราโอเกะ  Bangkok Metropolitan Region        NaN\n",
              "4             Buono Caffe  Bangkok Metropolitan Region        NaN\n",
              "7                Sazanami  Bangkok Metropolitan Region        NaN\n",
              "10         Rotee Me Chabu  Bangkok Metropolitan Region        NaN\n",
              "...                   ...                          ...        ...\n",
              "246835     ร้านครัวแกงป่า  Bangkok Metropolitan Region        NaN\n",
              "246840       โตข้าวต้มปลา  Bangkok Metropolitan Region        NaN\n",
              "246842         Sushi Tama  Bangkok Metropolitan Region        NaN\n",
              "246843  สะบายดี คาราโอเกะ  Bangkok Metropolitan Region        NaN\n",
              "246844   สเต็กแม่&กาแฟลูก  Bangkok Metropolitan Region        NaN\n",
              "\n",
              "[100588 rows x 3 columns]"
            ]
          },
          "metadata": {
            "tags": []
          },
          "execution_count": 104
        }
      ]
    },
    {
      "cell_type": "code",
      "metadata": {
        "id": "wsO5XfuJwY7W",
        "outputId": "c20c436a-5a40-4fd6-87cc-e68d0fc5ad97",
        "colab": {
          "base_uri": "https://localhost:8080/",
          "height": 0
        }
      },
      "source": [
        "selected_list = new_table['city_name'] =='Bangkok Metropolitan Region'\n",
        "selected_list"
      ],
      "execution_count": 105,
      "outputs": [
        {
          "output_type": "execute_result",
          "data": {
            "text/plain": [
              "0         False\n",
              "1          True\n",
              "2         False\n",
              "3          True\n",
              "4          True\n",
              "          ...  \n",
              "246842     True\n",
              "246843     True\n",
              "246844     True\n",
              "246845    False\n",
              "246846    False\n",
              "Name: city_name, Length: 246847, dtype: bool"
            ]
          },
          "metadata": {
            "tags": []
          },
          "execution_count": 105
        }
      ]
    },
    {
      "cell_type": "code",
      "metadata": {
        "id": "yYzOVFxAwoN0",
        "outputId": "228cd6bc-d462-4f97-c414-adbf41676ee6",
        "colab": {
          "base_uri": "https://localhost:8080/",
          "height": 0
        }
      },
      "source": [
        "new_table[selected_list].head()"
      ],
      "execution_count": 106,
      "outputs": [
        {
          "output_type": "execute_result",
          "data": {
            "text/html": [
              "<div>\n",
              "<style scoped>\n",
              "    .dataframe tbody tr th:only-of-type {\n",
              "        vertical-align: middle;\n",
              "    }\n",
              "\n",
              "    .dataframe tbody tr th {\n",
              "        vertical-align: top;\n",
              "    }\n",
              "\n",
              "    .dataframe thead th {\n",
              "        text-align: right;\n",
              "    }\n",
              "</style>\n",
              "<table border=\"1\" class=\"dataframe\">\n",
              "  <thead>\n",
              "    <tr style=\"text-align: right;\">\n",
              "      <th></th>\n",
              "      <th>name</th>\n",
              "      <th>city_name</th>\n",
              "      <th>avg_price</th>\n",
              "    </tr>\n",
              "  </thead>\n",
              "  <tbody>\n",
              "    <tr>\n",
              "      <th>1</th>\n",
              "      <td>Corner House</td>\n",
              "      <td>Bangkok Metropolitan Region</td>\n",
              "      <td>NaN</td>\n",
              "    </tr>\n",
              "    <tr>\n",
              "      <th>3</th>\n",
              "      <td>นันท์คาราโอเกะ</td>\n",
              "      <td>Bangkok Metropolitan Region</td>\n",
              "      <td>NaN</td>\n",
              "    </tr>\n",
              "    <tr>\n",
              "      <th>4</th>\n",
              "      <td>Buono Caffe</td>\n",
              "      <td>Bangkok Metropolitan Region</td>\n",
              "      <td>NaN</td>\n",
              "    </tr>\n",
              "    <tr>\n",
              "      <th>7</th>\n",
              "      <td>Sazanami</td>\n",
              "      <td>Bangkok Metropolitan Region</td>\n",
              "      <td>NaN</td>\n",
              "    </tr>\n",
              "    <tr>\n",
              "      <th>10</th>\n",
              "      <td>Rotee Me Chabu</td>\n",
              "      <td>Bangkok Metropolitan Region</td>\n",
              "      <td>NaN</td>\n",
              "    </tr>\n",
              "  </tbody>\n",
              "</table>\n",
              "</div>"
            ],
            "text/plain": [
              "              name                    city_name  avg_price\n",
              "1     Corner House  Bangkok Metropolitan Region        NaN\n",
              "3   นันท์คาราโอเกะ  Bangkok Metropolitan Region        NaN\n",
              "4      Buono Caffe  Bangkok Metropolitan Region        NaN\n",
              "7         Sazanami  Bangkok Metropolitan Region        NaN\n",
              "10  Rotee Me Chabu  Bangkok Metropolitan Region        NaN"
            ]
          },
          "metadata": {
            "tags": []
          },
          "execution_count": 106
        }
      ]
    },
    {
      "cell_type": "markdown",
      "metadata": {
        "id": "uzH_OrbBxyRV"
      },
      "source": [
        "#หาค่าเฉลี่ยของร้านในจังหวัดกรุงเทพ"
      ]
    },
    {
      "cell_type": "code",
      "metadata": {
        "id": "m4_29eJlrk1z",
        "outputId": "13606dec-11d4-4c7b-fc1d-fd3309dcbce6",
        "colab": {
          "base_uri": "https://localhost:8080/",
          "height": 0
        }
      },
      "source": [
        "#สร้างตารางขึ้นมาใหม่new_table แล้วเลือกตารางที่ city_name == Bangkok Metropolitan Region จากนั้นจึง .dropna() ค่าที่เป็น missing ออก\n",
        "new_table[new_table['city_name']=='Bangkok Metropolitan Region'].dropna()['avg_price']"
      ],
      "execution_count": 107,
      "outputs": [
        {
          "output_type": "execute_result",
          "data": {
            "text/plain": [
              "67         375.0\n",
              "134        175.0\n",
              "247       1500.0\n",
              "319        375.0\n",
              "382        175.0\n",
              "           ...  \n",
              "246458      50.0\n",
              "246472    1500.0\n",
              "246508     375.0\n",
              "246666     375.0\n",
              "246721     375.0\n",
              "Name: avg_price, Length: 3001, dtype: float64"
            ]
          },
          "metadata": {
            "tags": []
          },
          "execution_count": 107
        }
      ]
    },
    {
      "cell_type": "code",
      "metadata": {
        "id": "CTmLlB1-rkzb",
        "outputId": "82beb2b8-3d3d-4541-d07f-33856652987d",
        "colab": {
          "base_uri": "https://localhost:8080/",
          "height": 0
        }
      },
      "source": [
        "new_table[new_table['city_name']=='Bangkok Metropolitan Region'].dropna()['avg_price'].mean()\n",
        "# หลังจากเอาค่า missing ออก จะหาค่าเฉลี่ยของคอลัม avg_price โดยใช้คำสั่ง .mean() เพื่อหาค่าเฉลี่ย"
      ],
      "execution_count": 108,
      "outputs": [
        {
          "output_type": "execute_result",
          "data": {
            "text/plain": [
              "392.5854715094968"
            ]
          },
          "metadata": {
            "tags": []
          },
          "execution_count": 108
        }
      ]
    },
    {
      "cell_type": "markdown",
      "metadata": {
        "id": "AOLOZgLgzYFy"
      },
      "source": [
        "1.เลือกเฉพาะ กทม."
      ]
    },
    {
      "cell_type": "code",
      "metadata": {
        "id": "OQwKeZG5rkty",
        "outputId": "c256fd47-24d8-41ec-9f3d-e78b630b3815",
        "colab": {
          "base_uri": "https://localhost:8080/",
          "height": 0
        }
      },
      "source": [
        "bkk_table = new_table[new_table['city_name']=='Bangkok Metropolitan Region']\n",
        "bkk_table.head()"
      ],
      "execution_count": 109,
      "outputs": [
        {
          "output_type": "execute_result",
          "data": {
            "text/html": [
              "<div>\n",
              "<style scoped>\n",
              "    .dataframe tbody tr th:only-of-type {\n",
              "        vertical-align: middle;\n",
              "    }\n",
              "\n",
              "    .dataframe tbody tr th {\n",
              "        vertical-align: top;\n",
              "    }\n",
              "\n",
              "    .dataframe thead th {\n",
              "        text-align: right;\n",
              "    }\n",
              "</style>\n",
              "<table border=\"1\" class=\"dataframe\">\n",
              "  <thead>\n",
              "    <tr style=\"text-align: right;\">\n",
              "      <th></th>\n",
              "      <th>name</th>\n",
              "      <th>city_name</th>\n",
              "      <th>avg_price</th>\n",
              "    </tr>\n",
              "  </thead>\n",
              "  <tbody>\n",
              "    <tr>\n",
              "      <th>1</th>\n",
              "      <td>Corner House</td>\n",
              "      <td>Bangkok Metropolitan Region</td>\n",
              "      <td>NaN</td>\n",
              "    </tr>\n",
              "    <tr>\n",
              "      <th>3</th>\n",
              "      <td>นันท์คาราโอเกะ</td>\n",
              "      <td>Bangkok Metropolitan Region</td>\n",
              "      <td>NaN</td>\n",
              "    </tr>\n",
              "    <tr>\n",
              "      <th>4</th>\n",
              "      <td>Buono Caffe</td>\n",
              "      <td>Bangkok Metropolitan Region</td>\n",
              "      <td>NaN</td>\n",
              "    </tr>\n",
              "    <tr>\n",
              "      <th>7</th>\n",
              "      <td>Sazanami</td>\n",
              "      <td>Bangkok Metropolitan Region</td>\n",
              "      <td>NaN</td>\n",
              "    </tr>\n",
              "    <tr>\n",
              "      <th>10</th>\n",
              "      <td>Rotee Me Chabu</td>\n",
              "      <td>Bangkok Metropolitan Region</td>\n",
              "      <td>NaN</td>\n",
              "    </tr>\n",
              "  </tbody>\n",
              "</table>\n",
              "</div>"
            ],
            "text/plain": [
              "              name                    city_name  avg_price\n",
              "1     Corner House  Bangkok Metropolitan Region        NaN\n",
              "3   นันท์คาราโอเกะ  Bangkok Metropolitan Region        NaN\n",
              "4      Buono Caffe  Bangkok Metropolitan Region        NaN\n",
              "7         Sazanami  Bangkok Metropolitan Region        NaN\n",
              "10  Rotee Me Chabu  Bangkok Metropolitan Region        NaN"
            ]
          },
          "metadata": {
            "tags": []
          },
          "execution_count": 109
        }
      ]
    },
    {
      "cell_type": "markdown",
      "metadata": {
        "id": "14k2Tb-5z7tc"
      },
      "source": [
        "2.ลบค่า missing ออกไป"
      ]
    },
    {
      "cell_type": "code",
      "metadata": {
        "id": "xIfT8VzPrkqE",
        "outputId": "7d607bc2-3511-491f-c4e6-b550890e136f",
        "colab": {
          "base_uri": "https://localhost:8080/",
          "height": 0
        }
      },
      "source": [
        "bkk_table_dp = bkk_table.dropna()\n",
        "bkk_table_dp.head()"
      ],
      "execution_count": 110,
      "outputs": [
        {
          "output_type": "execute_result",
          "data": {
            "text/html": [
              "<div>\n",
              "<style scoped>\n",
              "    .dataframe tbody tr th:only-of-type {\n",
              "        vertical-align: middle;\n",
              "    }\n",
              "\n",
              "    .dataframe tbody tr th {\n",
              "        vertical-align: top;\n",
              "    }\n",
              "\n",
              "    .dataframe thead th {\n",
              "        text-align: right;\n",
              "    }\n",
              "</style>\n",
              "<table border=\"1\" class=\"dataframe\">\n",
              "  <thead>\n",
              "    <tr style=\"text-align: right;\">\n",
              "      <th></th>\n",
              "      <th>name</th>\n",
              "      <th>city_name</th>\n",
              "      <th>avg_price</th>\n",
              "    </tr>\n",
              "  </thead>\n",
              "  <tbody>\n",
              "    <tr>\n",
              "      <th>67</th>\n",
              "      <td>เล็กกุ้งเผา</td>\n",
              "      <td>Bangkok Metropolitan Region</td>\n",
              "      <td>375.0</td>\n",
              "    </tr>\n",
              "    <tr>\n",
              "      <th>134</th>\n",
              "      <td>Cafe Cha</td>\n",
              "      <td>Bangkok Metropolitan Region</td>\n",
              "      <td>175.0</td>\n",
              "    </tr>\n",
              "    <tr>\n",
              "      <th>247</th>\n",
              "      <td>Masterpiece clinic</td>\n",
              "      <td>Bangkok Metropolitan Region</td>\n",
              "      <td>1500.0</td>\n",
              "    </tr>\n",
              "    <tr>\n",
              "      <th>319</th>\n",
              "      <td>Chaba Nails &amp; Eyelashes Pro</td>\n",
              "      <td>Bangkok Metropolitan Region</td>\n",
              "      <td>375.0</td>\n",
              "    </tr>\n",
              "    <tr>\n",
              "      <th>382</th>\n",
              "      <td>Panlee Bakery</td>\n",
              "      <td>Bangkok Metropolitan Region</td>\n",
              "      <td>175.0</td>\n",
              "    </tr>\n",
              "  </tbody>\n",
              "</table>\n",
              "</div>"
            ],
            "text/plain": [
              "                            name                    city_name  avg_price\n",
              "67                   เล็กกุ้งเผา  Bangkok Metropolitan Region      375.0\n",
              "134                     Cafe Cha  Bangkok Metropolitan Region      175.0\n",
              "247           Masterpiece clinic  Bangkok Metropolitan Region     1500.0\n",
              "319  Chaba Nails & Eyelashes Pro  Bangkok Metropolitan Region      375.0\n",
              "382                Panlee Bakery  Bangkok Metropolitan Region      175.0"
            ]
          },
          "metadata": {
            "tags": []
          },
          "execution_count": 110
        }
      ]
    },
    {
      "cell_type": "markdown",
      "metadata": {
        "id": "YSrKqGMa0WFI"
      },
      "source": [
        "3.เลือกเฉพาะคอลัม avg_price "
      ]
    },
    {
      "cell_type": "code",
      "metadata": {
        "id": "xKpf0Mv90WvW",
        "outputId": "f1fa8718-d320-4719-d11f-73ca66c44ec6",
        "colab": {
          "base_uri": "https://localhost:8080/",
          "height": 0
        }
      },
      "source": [
        "bkk_table_dp_avg_price = bkk_table_dp['avg_price']\n",
        "bkk_table_dp_avg_price"
      ],
      "execution_count": 111,
      "outputs": [
        {
          "output_type": "execute_result",
          "data": {
            "text/plain": [
              "67         375.0\n",
              "134        175.0\n",
              "247       1500.0\n",
              "319        375.0\n",
              "382        175.0\n",
              "           ...  \n",
              "246458      50.0\n",
              "246472    1500.0\n",
              "246508     375.0\n",
              "246666     375.0\n",
              "246721     375.0\n",
              "Name: avg_price, Length: 3001, dtype: float64"
            ]
          },
          "metadata": {
            "tags": []
          },
          "execution_count": 111
        }
      ]
    },
    {
      "cell_type": "markdown",
      "metadata": {
        "id": "c5wra5-O0_y7"
      },
      "source": [
        "4.หาค่าเฉลี่ย"
      ]
    },
    {
      "cell_type": "code",
      "metadata": {
        "id": "WGSduubk1AHz",
        "outputId": "1cc62944-ea45-4084-b920-dbd75b4586e9",
        "colab": {
          "base_uri": "https://localhost:8080/",
          "height": 0
        }
      },
      "source": [
        "bkk_table_dp_avg_price.mean()"
      ],
      "execution_count": 112,
      "outputs": [
        {
          "output_type": "execute_result",
          "data": {
            "text/plain": [
              "392.5854715094968"
            ]
          },
          "metadata": {
            "tags": []
          },
          "execution_count": 112
        }
      ]
    },
    {
      "cell_type": "markdown",
      "metadata": {
        "id": "iXjisDUP2x6C"
      },
      "source": [
        "## แก้ missing method 3 เติมค่าที่เหมาะสมตามกลุ่มของมัน"
      ]
    },
    {
      "cell_type": "code",
      "metadata": {
        "id": "47V6O2sW2yjj",
        "outputId": "b80a4fd1-f3ae-492f-9017-34b9f10220fc",
        "colab": {
          "base_uri": "https://localhost:8080/",
          "height": 0
        }
      },
      "source": [
        "bkk_table[['avg_price']] = bkk_table[['avg_price']].fillna(bkk_table_dp_avg_price.mean()) \n",
        "bkk_table.head()\n",
        "#"
      ],
      "execution_count": 113,
      "outputs": [
        {
          "output_type": "stream",
          "text": [
            "/usr/local/lib/python3.6/dist-packages/pandas/core/frame.py:3065: SettingWithCopyWarning: \n",
            "A value is trying to be set on a copy of a slice from a DataFrame.\n",
            "Try using .loc[row_indexer,col_indexer] = value instead\n",
            "\n",
            "See the caveats in the documentation: https://pandas.pydata.org/pandas-docs/stable/user_guide/indexing.html#returning-a-view-versus-a-copy\n",
            "  self[k1] = value[k2]\n"
          ],
          "name": "stderr"
        },
        {
          "output_type": "execute_result",
          "data": {
            "text/html": [
              "<div>\n",
              "<style scoped>\n",
              "    .dataframe tbody tr th:only-of-type {\n",
              "        vertical-align: middle;\n",
              "    }\n",
              "\n",
              "    .dataframe tbody tr th {\n",
              "        vertical-align: top;\n",
              "    }\n",
              "\n",
              "    .dataframe thead th {\n",
              "        text-align: right;\n",
              "    }\n",
              "</style>\n",
              "<table border=\"1\" class=\"dataframe\">\n",
              "  <thead>\n",
              "    <tr style=\"text-align: right;\">\n",
              "      <th></th>\n",
              "      <th>name</th>\n",
              "      <th>city_name</th>\n",
              "      <th>avg_price</th>\n",
              "    </tr>\n",
              "  </thead>\n",
              "  <tbody>\n",
              "    <tr>\n",
              "      <th>1</th>\n",
              "      <td>Corner House</td>\n",
              "      <td>Bangkok Metropolitan Region</td>\n",
              "      <td>392.585472</td>\n",
              "    </tr>\n",
              "    <tr>\n",
              "      <th>3</th>\n",
              "      <td>นันท์คาราโอเกะ</td>\n",
              "      <td>Bangkok Metropolitan Region</td>\n",
              "      <td>392.585472</td>\n",
              "    </tr>\n",
              "    <tr>\n",
              "      <th>4</th>\n",
              "      <td>Buono Caffe</td>\n",
              "      <td>Bangkok Metropolitan Region</td>\n",
              "      <td>392.585472</td>\n",
              "    </tr>\n",
              "    <tr>\n",
              "      <th>7</th>\n",
              "      <td>Sazanami</td>\n",
              "      <td>Bangkok Metropolitan Region</td>\n",
              "      <td>392.585472</td>\n",
              "    </tr>\n",
              "    <tr>\n",
              "      <th>10</th>\n",
              "      <td>Rotee Me Chabu</td>\n",
              "      <td>Bangkok Metropolitan Region</td>\n",
              "      <td>392.585472</td>\n",
              "    </tr>\n",
              "  </tbody>\n",
              "</table>\n",
              "</div>"
            ],
            "text/plain": [
              "              name                    city_name   avg_price\n",
              "1     Corner House  Bangkok Metropolitan Region  392.585472\n",
              "3   นันท์คาราโอเกะ  Bangkok Metropolitan Region  392.585472\n",
              "4      Buono Caffe  Bangkok Metropolitan Region  392.585472\n",
              "7         Sazanami  Bangkok Metropolitan Region  392.585472\n",
              "10  Rotee Me Chabu  Bangkok Metropolitan Region  392.585472"
            ]
          },
          "metadata": {
            "tags": []
          },
          "execution_count": 113
        }
      ]
    },
    {
      "cell_type": "code",
      "metadata": {
        "id": "Z-Z4UU6L4o10",
        "outputId": "104fd768-210d-4e93-e4e3-480f0af08d32",
        "colab": {
          "base_uri": "https://localhost:8080/",
          "height": 0
        }
      },
      "source": [
        "bkk_table[['avg_price']] = bkk_table[['avg_price']].fillna(bkk_table_dp_avg_price.mean(),inplace=True)\n",
        "bkk_table.head()"
      ],
      "execution_count": 114,
      "outputs": [
        {
          "output_type": "stream",
          "text": [
            "/usr/local/lib/python3.6/dist-packages/pandas/core/frame.py:4322: SettingWithCopyWarning: \n",
            "A value is trying to be set on a copy of a slice from a DataFrame\n",
            "\n",
            "See the caveats in the documentation: https://pandas.pydata.org/pandas-docs/stable/user_guide/indexing.html#returning-a-view-versus-a-copy\n",
            "  downcast=downcast,\n",
            "/usr/local/lib/python3.6/dist-packages/ipykernel_launcher.py:1: SettingWithCopyWarning: \n",
            "A value is trying to be set on a copy of a slice from a DataFrame.\n",
            "Try using .loc[row_indexer,col_indexer] = value instead\n",
            "\n",
            "See the caveats in the documentation: https://pandas.pydata.org/pandas-docs/stable/user_guide/indexing.html#returning-a-view-versus-a-copy\n",
            "  \"\"\"Entry point for launching an IPython kernel.\n",
            "/usr/local/lib/python3.6/dist-packages/pandas/core/indexing.py:1765: SettingWithCopyWarning: \n",
            "A value is trying to be set on a copy of a slice from a DataFrame.\n",
            "Try using .loc[row_indexer,col_indexer] = value instead\n",
            "\n",
            "See the caveats in the documentation: https://pandas.pydata.org/pandas-docs/stable/user_guide/indexing.html#returning-a-view-versus-a-copy\n",
            "  isetter(loc, value)\n"
          ],
          "name": "stderr"
        },
        {
          "output_type": "execute_result",
          "data": {
            "text/html": [
              "<div>\n",
              "<style scoped>\n",
              "    .dataframe tbody tr th:only-of-type {\n",
              "        vertical-align: middle;\n",
              "    }\n",
              "\n",
              "    .dataframe tbody tr th {\n",
              "        vertical-align: top;\n",
              "    }\n",
              "\n",
              "    .dataframe thead th {\n",
              "        text-align: right;\n",
              "    }\n",
              "</style>\n",
              "<table border=\"1\" class=\"dataframe\">\n",
              "  <thead>\n",
              "    <tr style=\"text-align: right;\">\n",
              "      <th></th>\n",
              "      <th>name</th>\n",
              "      <th>city_name</th>\n",
              "      <th>avg_price</th>\n",
              "    </tr>\n",
              "  </thead>\n",
              "  <tbody>\n",
              "    <tr>\n",
              "      <th>1</th>\n",
              "      <td>Corner House</td>\n",
              "      <td>Bangkok Metropolitan Region</td>\n",
              "      <td>None</td>\n",
              "    </tr>\n",
              "    <tr>\n",
              "      <th>3</th>\n",
              "      <td>นันท์คาราโอเกะ</td>\n",
              "      <td>Bangkok Metropolitan Region</td>\n",
              "      <td>None</td>\n",
              "    </tr>\n",
              "    <tr>\n",
              "      <th>4</th>\n",
              "      <td>Buono Caffe</td>\n",
              "      <td>Bangkok Metropolitan Region</td>\n",
              "      <td>None</td>\n",
              "    </tr>\n",
              "    <tr>\n",
              "      <th>7</th>\n",
              "      <td>Sazanami</td>\n",
              "      <td>Bangkok Metropolitan Region</td>\n",
              "      <td>None</td>\n",
              "    </tr>\n",
              "    <tr>\n",
              "      <th>10</th>\n",
              "      <td>Rotee Me Chabu</td>\n",
              "      <td>Bangkok Metropolitan Region</td>\n",
              "      <td>None</td>\n",
              "    </tr>\n",
              "  </tbody>\n",
              "</table>\n",
              "</div>"
            ],
            "text/plain": [
              "              name                    city_name avg_price\n",
              "1     Corner House  Bangkok Metropolitan Region      None\n",
              "3   นันท์คาราโอเกะ  Bangkok Metropolitan Region      None\n",
              "4      Buono Caffe  Bangkok Metropolitan Region      None\n",
              "7         Sazanami  Bangkok Metropolitan Region      None\n",
              "10  Rotee Me Chabu  Bangkok Metropolitan Region      None"
            ]
          },
          "metadata": {
            "tags": []
          },
          "execution_count": 114
        }
      ]
    },
    {
      "cell_type": "markdown",
      "metadata": {
        "id": "N6PkNqnz1P06"
      },
      "source": [
        "#Ex9 หาค่าเฉลี่ยของร้านในจังหวัดเชียงใหม่"
      ]
    },
    {
      "cell_type": "code",
      "metadata": {
        "id": "zkGVHijK1PJ4",
        "outputId": "5838d3cd-92fe-4024-992b-f81ff921485c",
        "colab": {
          "base_uri": "https://localhost:8080/",
          "height": 0
        }
      },
      "source": [
        "new_table[new_table['city_name']=='Chiang Mai'].dropna()['avg_price']"
      ],
      "execution_count": 115,
      "outputs": [
        {
          "output_type": "execute_result",
          "data": {
            "text/plain": [
              "196       175.0\n",
              "1465      375.0\n",
              "2978       50.0\n",
              "4683      175.0\n",
              "4918      175.0\n",
              "          ...  \n",
              "243517     50.0\n",
              "244433    175.0\n",
              "244841     50.0\n",
              "244937     50.0\n",
              "245954    375.0\n",
              "Name: avg_price, Length: 464, dtype: float64"
            ]
          },
          "metadata": {
            "tags": []
          },
          "execution_count": 115
        }
      ]
    },
    {
      "cell_type": "code",
      "metadata": {
        "id": "aNJ84TNr13Ah",
        "outputId": "e1e627e3-68fe-4b3f-bd36-cbd7d9a0450b",
        "colab": {
          "base_uri": "https://localhost:8080/",
          "height": 0
        }
      },
      "source": [
        "new_table[new_table['city_name']=='Chiang Mai'].dropna()['avg_price'].mean()"
      ],
      "execution_count": 116,
      "outputs": [
        {
          "output_type": "execute_result",
          "data": {
            "text/plain": [
              "188.41594827586206"
            ]
          },
          "metadata": {
            "tags": []
          },
          "execution_count": 116
        }
      ]
    },
    {
      "cell_type": "code",
      "metadata": {
        "id": "myPNud_l7Kxj",
        "outputId": "fa23746f-dcb1-49ea-f3b5-9915c5d4019a",
        "colab": {
          "base_uri": "https://localhost:8080/",
          "height": 0
        }
      },
      "source": [
        "ch_table = new_table[new_table['city_name']=='Chiang Mai']\n",
        "ch_table_dp = ch_table.dropna()\n",
        "ch_table_dp_avg_price = ch_table_dp['avg_price']\n",
        "ch_table_dp_avg_price.mean()\n",
        "ch_table.head()"
      ],
      "execution_count": 117,
      "outputs": [
        {
          "output_type": "execute_result",
          "data": {
            "text/html": [
              "<div>\n",
              "<style scoped>\n",
              "    .dataframe tbody tr th:only-of-type {\n",
              "        vertical-align: middle;\n",
              "    }\n",
              "\n",
              "    .dataframe tbody tr th {\n",
              "        vertical-align: top;\n",
              "    }\n",
              "\n",
              "    .dataframe thead th {\n",
              "        text-align: right;\n",
              "    }\n",
              "</style>\n",
              "<table border=\"1\" class=\"dataframe\">\n",
              "  <thead>\n",
              "    <tr style=\"text-align: right;\">\n",
              "      <th></th>\n",
              "      <th>name</th>\n",
              "      <th>city_name</th>\n",
              "      <th>avg_price</th>\n",
              "    </tr>\n",
              "  </thead>\n",
              "  <tbody>\n",
              "    <tr>\n",
              "      <th>36</th>\n",
              "      <td>Wrap Master</td>\n",
              "      <td>Chiang Mai</td>\n",
              "      <td>NaN</td>\n",
              "    </tr>\n",
              "    <tr>\n",
              "      <th>40</th>\n",
              "      <td>Sozen</td>\n",
              "      <td>Chiang Mai</td>\n",
              "      <td>NaN</td>\n",
              "    </tr>\n",
              "    <tr>\n",
              "      <th>52</th>\n",
              "      <td>ไวท์ดราก้อน หมูกะทะ</td>\n",
              "      <td>Chiang Mai</td>\n",
              "      <td>NaN</td>\n",
              "    </tr>\n",
              "    <tr>\n",
              "      <th>60</th>\n",
              "      <td>เต-ชา ก๋วยเตี๋ยวไข่ไดโนเสาร์</td>\n",
              "      <td>Chiang Mai</td>\n",
              "      <td>NaN</td>\n",
              "    </tr>\n",
              "    <tr>\n",
              "      <th>79</th>\n",
              "      <td>ก๋วยเตี๋ยวเรือสะใจ</td>\n",
              "      <td>Chiang Mai</td>\n",
              "      <td>NaN</td>\n",
              "    </tr>\n",
              "  </tbody>\n",
              "</table>\n",
              "</div>"
            ],
            "text/plain": [
              "                            name   city_name  avg_price\n",
              "36                   Wrap Master  Chiang Mai        NaN\n",
              "40                         Sozen  Chiang Mai        NaN\n",
              "52           ไวท์ดราก้อน หมูกะทะ  Chiang Mai        NaN\n",
              "60  เต-ชา ก๋วยเตี๋ยวไข่ไดโนเสาร์  Chiang Mai        NaN\n",
              "79            ก๋วยเตี๋ยวเรือสะใจ  Chiang Mai        NaN"
            ]
          },
          "metadata": {
            "tags": []
          },
          "execution_count": 117
        }
      ]
    },
    {
      "cell_type": "markdown",
      "metadata": {
        "id": "OG1mbKVb5oSB"
      },
      "source": [
        "#วิธีต่อตารางในแนวแกน Y (เพิ่มจำนวน data)"
      ]
    },
    {
      "cell_type": "markdown",
      "metadata": {
        "id": "77eLMX1s2dkc"
      },
      "source": [
        "## คำสั่ง pd.concat "
      ]
    },
    {
      "cell_type": "code",
      "metadata": {
        "id": "rC_YfGsg2cm2",
        "outputId": "955d7598-fa6d-4a14-9816-59190688fb25",
        "colab": {
          "base_uri": "https://localhost:8080/",
          "height": 0
        }
      },
      "source": [
        "ch_table[['avg_price']] = ch_table[['avg_price']].fillna(ch_table_dp_avg_price.mean()) \n",
        "ch_table.head()"
      ],
      "execution_count": 118,
      "outputs": [
        {
          "output_type": "stream",
          "text": [
            "/usr/local/lib/python3.6/dist-packages/pandas/core/frame.py:3065: SettingWithCopyWarning: \n",
            "A value is trying to be set on a copy of a slice from a DataFrame.\n",
            "Try using .loc[row_indexer,col_indexer] = value instead\n",
            "\n",
            "See the caveats in the documentation: https://pandas.pydata.org/pandas-docs/stable/user_guide/indexing.html#returning-a-view-versus-a-copy\n",
            "  self[k1] = value[k2]\n"
          ],
          "name": "stderr"
        },
        {
          "output_type": "execute_result",
          "data": {
            "text/html": [
              "<div>\n",
              "<style scoped>\n",
              "    .dataframe tbody tr th:only-of-type {\n",
              "        vertical-align: middle;\n",
              "    }\n",
              "\n",
              "    .dataframe tbody tr th {\n",
              "        vertical-align: top;\n",
              "    }\n",
              "\n",
              "    .dataframe thead th {\n",
              "        text-align: right;\n",
              "    }\n",
              "</style>\n",
              "<table border=\"1\" class=\"dataframe\">\n",
              "  <thead>\n",
              "    <tr style=\"text-align: right;\">\n",
              "      <th></th>\n",
              "      <th>name</th>\n",
              "      <th>city_name</th>\n",
              "      <th>avg_price</th>\n",
              "    </tr>\n",
              "  </thead>\n",
              "  <tbody>\n",
              "    <tr>\n",
              "      <th>36</th>\n",
              "      <td>Wrap Master</td>\n",
              "      <td>Chiang Mai</td>\n",
              "      <td>188.415948</td>\n",
              "    </tr>\n",
              "    <tr>\n",
              "      <th>40</th>\n",
              "      <td>Sozen</td>\n",
              "      <td>Chiang Mai</td>\n",
              "      <td>188.415948</td>\n",
              "    </tr>\n",
              "    <tr>\n",
              "      <th>52</th>\n",
              "      <td>ไวท์ดราก้อน หมูกะทะ</td>\n",
              "      <td>Chiang Mai</td>\n",
              "      <td>188.415948</td>\n",
              "    </tr>\n",
              "    <tr>\n",
              "      <th>60</th>\n",
              "      <td>เต-ชา ก๋วยเตี๋ยวไข่ไดโนเสาร์</td>\n",
              "      <td>Chiang Mai</td>\n",
              "      <td>188.415948</td>\n",
              "    </tr>\n",
              "    <tr>\n",
              "      <th>79</th>\n",
              "      <td>ก๋วยเตี๋ยวเรือสะใจ</td>\n",
              "      <td>Chiang Mai</td>\n",
              "      <td>188.415948</td>\n",
              "    </tr>\n",
              "  </tbody>\n",
              "</table>\n",
              "</div>"
            ],
            "text/plain": [
              "                            name   city_name   avg_price\n",
              "36                   Wrap Master  Chiang Mai  188.415948\n",
              "40                         Sozen  Chiang Mai  188.415948\n",
              "52           ไวท์ดราก้อน หมูกะทะ  Chiang Mai  188.415948\n",
              "60  เต-ชา ก๋วยเตี๋ยวไข่ไดโนเสาร์  Chiang Mai  188.415948\n",
              "79            ก๋วยเตี๋ยวเรือสะใจ  Chiang Mai  188.415948"
            ]
          },
          "metadata": {
            "tags": []
          },
          "execution_count": 118
        }
      ]
    },
    {
      "cell_type": "markdown",
      "metadata": {
        "id": "8A994dWm1kr5"
      },
      "source": [
        ""
      ]
    },
    {
      "cell_type": "code",
      "metadata": {
        "id": "g_lzAxFT2cpj",
        "outputId": "1fd7efe8-dbc8-449a-8dca-62fec0508165",
        "colab": {
          "base_uri": "https://localhost:8080/",
          "height": 0
        }
      },
      "source": [
        "pd_concat = pandas.concat([bkk_table,ch_table])\n",
        "pd_concat #การเอาตารางมารวมกันโดยใช้ concat"
      ],
      "execution_count": 119,
      "outputs": [
        {
          "output_type": "execute_result",
          "data": {
            "text/html": [
              "<div>\n",
              "<style scoped>\n",
              "    .dataframe tbody tr th:only-of-type {\n",
              "        vertical-align: middle;\n",
              "    }\n",
              "\n",
              "    .dataframe tbody tr th {\n",
              "        vertical-align: top;\n",
              "    }\n",
              "\n",
              "    .dataframe thead th {\n",
              "        text-align: right;\n",
              "    }\n",
              "</style>\n",
              "<table border=\"1\" class=\"dataframe\">\n",
              "  <thead>\n",
              "    <tr style=\"text-align: right;\">\n",
              "      <th></th>\n",
              "      <th>name</th>\n",
              "      <th>city_name</th>\n",
              "      <th>avg_price</th>\n",
              "    </tr>\n",
              "  </thead>\n",
              "  <tbody>\n",
              "    <tr>\n",
              "      <th>1</th>\n",
              "      <td>Corner House</td>\n",
              "      <td>Bangkok Metropolitan Region</td>\n",
              "      <td>NaN</td>\n",
              "    </tr>\n",
              "    <tr>\n",
              "      <th>3</th>\n",
              "      <td>นันท์คาราโอเกะ</td>\n",
              "      <td>Bangkok Metropolitan Region</td>\n",
              "      <td>NaN</td>\n",
              "    </tr>\n",
              "    <tr>\n",
              "      <th>4</th>\n",
              "      <td>Buono Caffe</td>\n",
              "      <td>Bangkok Metropolitan Region</td>\n",
              "      <td>NaN</td>\n",
              "    </tr>\n",
              "    <tr>\n",
              "      <th>7</th>\n",
              "      <td>Sazanami</td>\n",
              "      <td>Bangkok Metropolitan Region</td>\n",
              "      <td>NaN</td>\n",
              "    </tr>\n",
              "    <tr>\n",
              "      <th>10</th>\n",
              "      <td>Rotee Me Chabu</td>\n",
              "      <td>Bangkok Metropolitan Region</td>\n",
              "      <td>NaN</td>\n",
              "    </tr>\n",
              "    <tr>\n",
              "      <th>...</th>\n",
              "      <td>...</td>\n",
              "      <td>...</td>\n",
              "      <td>...</td>\n",
              "    </tr>\n",
              "    <tr>\n",
              "      <th>246783</th>\n",
              "      <td>ส้มตำลำฮิมกอง</td>\n",
              "      <td>Chiang Mai</td>\n",
              "      <td>188.415948</td>\n",
              "    </tr>\n",
              "    <tr>\n",
              "      <th>246803</th>\n",
              "      <td>ไก่ทอดปักษ์ใต้ นายหัวโต</td>\n",
              "      <td>Chiang Mai</td>\n",
              "      <td>188.415948</td>\n",
              "    </tr>\n",
              "    <tr>\n",
              "      <th>246808</th>\n",
              "      <td>แคลิฟอร์เนียเวร็ป</td>\n",
              "      <td>Chiang Mai</td>\n",
              "      <td>188.415948</td>\n",
              "    </tr>\n",
              "    <tr>\n",
              "      <th>246813</th>\n",
              "      <td>TOONGs COFFEE Roasters</td>\n",
              "      <td>Chiang Mai</td>\n",
              "      <td>188.415948</td>\n",
              "    </tr>\n",
              "    <tr>\n",
              "      <th>246826</th>\n",
              "      <td>ลาบเขยยอง</td>\n",
              "      <td>Chiang Mai</td>\n",
              "      <td>188.415948</td>\n",
              "    </tr>\n",
              "  </tbody>\n",
              "</table>\n",
              "<p>116258 rows × 3 columns</p>\n",
              "</div>"
            ],
            "text/plain": [
              "                           name                    city_name   avg_price\n",
              "1                  Corner House  Bangkok Metropolitan Region         NaN\n",
              "3                นันท์คาราโอเกะ  Bangkok Metropolitan Region         NaN\n",
              "4                   Buono Caffe  Bangkok Metropolitan Region         NaN\n",
              "7                      Sazanami  Bangkok Metropolitan Region         NaN\n",
              "10               Rotee Me Chabu  Bangkok Metropolitan Region         NaN\n",
              "...                         ...                          ...         ...\n",
              "246783            ส้มตำลำฮิมกอง                   Chiang Mai  188.415948\n",
              "246803  ไก่ทอดปักษ์ใต้ นายหัวโต                   Chiang Mai  188.415948\n",
              "246808        แคลิฟอร์เนียเวร็ป                   Chiang Mai  188.415948\n",
              "246813   TOONGs COFFEE Roasters                   Chiang Mai  188.415948\n",
              "246826                ลาบเขยยอง                   Chiang Mai  188.415948\n",
              "\n",
              "[116258 rows x 3 columns]"
            ]
          },
          "metadata": {
            "tags": []
          },
          "execution_count": 119
        }
      ]
    },
    {
      "cell_type": "markdown",
      "metadata": {
        "id": "PQ-0645n2dh3"
      },
      "source": [
        "## Method 3 Looping (concat)\n",
        "วนลูป concat "
      ]
    },
    {
      "cell_type": "markdown",
      "metadata": {
        "id": "iE6Jy6-D2obr"
      },
      "source": [
        "1.ดึงจังหวัดที่มีอยู่ทั้งหมดในตารางออกมา"
      ]
    },
    {
      "cell_type": "code",
      "metadata": {
        "id": "LmcXgCs52csj",
        "outputId": "1c03a173-af88-4a2b-8dc1-d1714a845b4b",
        "colab": {
          "base_uri": "https://localhost:8080/",
          "height": 35
        }
      },
      "source": [
        "all_cities = set(new_table['city_name']) #set คือ ตัวแปลอะไรที่ซ้ำกันจะตัดออกทั้งหมด\n",
        "len(all_cities) "
      ],
      "execution_count": 127,
      "outputs": [
        {
          "output_type": "execute_result",
          "data": {
            "text/plain": [
              "479"
            ]
          },
          "metadata": {
            "tags": []
          },
          "execution_count": 127
        }
      ]
    },
    {
      "cell_type": "markdown",
      "metadata": {
        "id": "DdwjDi6c3wbz"
      },
      "source": [
        "2.คำนวณหาค่ามีนของคอลัม city_name เพื่อเก็บไว้เติมใส่เมืองที่เป็น missing ทุกร้าน"
      ]
    },
    {
      "cell_type": "code",
      "metadata": {
        "id": "1ls-r1ka2cvc",
        "outputId": "9dcd7790-aec1-4ccf-ba49-30d3901e292a",
        "colab": {
          "base_uri": "https://localhost:8080/",
          "height": 35
        }
      },
      "source": [
        "#หาค่าเฉลี่ยทั้งหมดเพื่อเอาไปใส่ตัวที่ missing\n",
        "all_cities = new_table.dropna(subset=['avg_price'])['avg_price'].mean()\n",
        "all_cities"
      ],
      "execution_count": 133,
      "outputs": [
        {
          "output_type": "execute_result",
          "data": {
            "text/plain": [
              "327.44728783902013"
            ]
          },
          "metadata": {
            "tags": []
          },
          "execution_count": 133
        }
      ]
    },
    {
      "cell_type": "markdown",
      "metadata": {
        "id": "qgXDRNdQ4tsA"
      },
      "source": [
        "3.สร้าง list ของตารางของทุกๆจังหวัดที่แก้ missing แล้ว แล้วไปวนลูป "
      ]
    },
    {
      "cell_type": "code",
      "metadata": {
        "id": "aDXS-_zk2cyC"
      },
      "source": [
        "all_cities_list = []\n",
        "for each_city in list(all_cities):\n",
        "    temp_table = new_table[new_table['city_name']==each_city].copy()\n",
        "    temp_table[['avg_price']] = temp_table[['avg_price']].fillna(new_table[new_table['city_name']==each_city].dropna()['avg_price'].mean())\n",
        "    all_cities_list.append(temp_table)\n"
      ],
      "execution_count": 131,
      "outputs": []
    },
    {
      "cell_type": "markdown",
      "metadata": {
        "id": "EDpE39yi8voK"
      },
      "source": [
        "4.สร้างตารางจาก list ของตาราง ด้วย pd.concat"
      ]
    },
    {
      "cell_type": "code",
      "metadata": {
        "id": "jtTcCLrD2c0x",
        "outputId": "dbf27081-b5b1-4a42-9bde-e28d807603b0",
        "colab": {
          "base_uri": "https://localhost:8080/",
          "height": 415
        }
      },
      "source": [
        "all_no_missing = pandas.concat(all_cities_list)\n",
        "all_no_missing"
      ],
      "execution_count": 129,
      "outputs": [
        {
          "output_type": "execute_result",
          "data": {
            "text/html": [
              "<div>\n",
              "<style scoped>\n",
              "    .dataframe tbody tr th:only-of-type {\n",
              "        vertical-align: middle;\n",
              "    }\n",
              "\n",
              "    .dataframe tbody tr th {\n",
              "        vertical-align: top;\n",
              "    }\n",
              "\n",
              "    .dataframe thead th {\n",
              "        text-align: right;\n",
              "    }\n",
              "</style>\n",
              "<table border=\"1\" class=\"dataframe\">\n",
              "  <thead>\n",
              "    <tr style=\"text-align: right;\">\n",
              "      <th></th>\n",
              "      <th>name</th>\n",
              "      <th>city_name</th>\n",
              "      <th>avg_price</th>\n",
              "    </tr>\n",
              "  </thead>\n",
              "  <tbody>\n",
              "    <tr>\n",
              "      <th>58061</th>\n",
              "      <td>ก๋วยเตี๋ยว ต.345</td>\n",
              "      <td>Stavropolskiy kray</td>\n",
              "      <td>NaN</td>\n",
              "    </tr>\n",
              "    <tr>\n",
              "      <th>138972</th>\n",
              "      <td>Feng Lin Ge</td>\n",
              "      <td>Shanxi Sheng</td>\n",
              "      <td>NaN</td>\n",
              "    </tr>\n",
              "    <tr>\n",
              "      <th>236365</th>\n",
              "      <td>Kaige Hotpot</td>\n",
              "      <td>Shanxi Sheng</td>\n",
              "      <td>NaN</td>\n",
              "    </tr>\n",
              "    <tr>\n",
              "      <th>22932</th>\n",
              "      <td>Green Leaves</td>\n",
              "      <td>Fukushima-ken</td>\n",
              "      <td>NaN</td>\n",
              "    </tr>\n",
              "    <tr>\n",
              "      <th>69195</th>\n",
              "      <td>Yamautchi Nouen</td>\n",
              "      <td>Fukushima-ken</td>\n",
              "      <td>NaN</td>\n",
              "    </tr>\n",
              "    <tr>\n",
              "      <th>...</th>\n",
              "      <td>...</td>\n",
              "      <td>...</td>\n",
              "      <td>...</td>\n",
              "    </tr>\n",
              "    <tr>\n",
              "      <th>139871</th>\n",
              "      <td>Pivovar</td>\n",
              "      <td>Jihočeský kraj</td>\n",
              "      <td>NaN</td>\n",
              "    </tr>\n",
              "    <tr>\n",
              "      <th>176611</th>\n",
              "      <td>Castle View Apartment</td>\n",
              "      <td>Jihočeský kraj</td>\n",
              "      <td>NaN</td>\n",
              "    </tr>\n",
              "    <tr>\n",
              "      <th>197683</th>\n",
              "      <td>Papa's Living Restaurant</td>\n",
              "      <td>Jihočeský kraj</td>\n",
              "      <td>NaN</td>\n",
              "    </tr>\n",
              "    <tr>\n",
              "      <th>216184</th>\n",
              "      <td>Piazza D' Oro</td>\n",
              "      <td>Jihočeský kraj</td>\n",
              "      <td>NaN</td>\n",
              "    </tr>\n",
              "    <tr>\n",
              "      <th>233705</th>\n",
              "      <td>Mastal Restaurant</td>\n",
              "      <td>Jihočeský kraj</td>\n",
              "      <td>NaN</td>\n",
              "    </tr>\n",
              "  </tbody>\n",
              "</table>\n",
              "<p>246847 rows × 3 columns</p>\n",
              "</div>"
            ],
            "text/plain": [
              "                            name           city_name  avg_price\n",
              "58061           ก๋วยเตี๋ยว ต.345  Stavropolskiy kray        NaN\n",
              "138972               Feng Lin Ge        Shanxi Sheng        NaN\n",
              "236365              Kaige Hotpot        Shanxi Sheng        NaN\n",
              "22932               Green Leaves       Fukushima-ken        NaN\n",
              "69195            Yamautchi Nouen       Fukushima-ken        NaN\n",
              "...                          ...                 ...        ...\n",
              "139871                   Pivovar      Jihočeský kraj        NaN\n",
              "176611     Castle View Apartment      Jihočeský kraj        NaN\n",
              "197683  Papa's Living Restaurant      Jihočeský kraj        NaN\n",
              "216184             Piazza D' Oro      Jihočeský kraj        NaN\n",
              "233705         Mastal Restaurant      Jihočeský kraj        NaN\n",
              "\n",
              "[246847 rows x 3 columns]"
            ]
          },
          "metadata": {
            "tags": []
          },
          "execution_count": 129
        }
      ]
    },
    {
      "cell_type": "markdown",
      "metadata": {
        "id": "5ntH_0kH_Aga"
      },
      "source": [
        "5.เติมค่ามีนของทั้งตารางให้กับจังหวัดที่ไม่มีมีน"
      ]
    },
    {
      "cell_type": "code",
      "metadata": {
        "id": "K9zPOa4U2ccs",
        "outputId": "df98ca17-1587-4d3f-8218-e716de4cc558",
        "colab": {
          "base_uri": "https://localhost:8080/",
          "height": 87
        }
      },
      "source": [
        "all_no_missing = all_no_missing.fillna(all_cities)\n",
        "all_no_missing.isnull().any()"
      ],
      "execution_count": 134,
      "outputs": [
        {
          "output_type": "execute_result",
          "data": {
            "text/plain": [
              "name         False\n",
              "city_name    False\n",
              "avg_price    False\n",
              "dtype: bool"
            ]
          },
          "metadata": {
            "tags": []
          },
          "execution_count": 134
        }
      ]
    },
    {
      "cell_type": "markdown",
      "metadata": {
        "id": "ENGY1niT_6qg"
      },
      "source": [
        "#Remove Outlier (boxplot)"
      ]
    },
    {
      "cell_type": "markdown",
      "metadata": {
        "id": "a-V26UBKAagh"
      },
      "source": [
        "###Quiz วาด boxplot ของค่า avg_price ของตาราง all_no_missing แนวนอน"
      ]
    },
    {
      "cell_type": "code",
      "metadata": {
        "id": "2hjEVEGoAHU0"
      },
      "source": [
        "from matplotlib import pyplot as plt"
      ],
      "execution_count": 135,
      "outputs": []
    },
    {
      "cell_type": "code",
      "metadata": {
        "id": "x4UsPjIJA8E2",
        "outputId": "f6959cee-513c-479b-9976-caaa23e928d2",
        "colab": {
          "base_uri": "https://localhost:8080/",
          "height": 404
        }
      },
      "source": [
        "plt.boxplot(all_no_missing['avg_price'])"
      ],
      "execution_count": 140,
      "outputs": [
        {
          "output_type": "execute_result",
          "data": {
            "text/plain": [
              "{'boxes': [<matplotlib.lines.Line2D at 0x7fc3bc220a90>],\n",
              " 'caps': [<matplotlib.lines.Line2D at 0x7fc3b553b4e0>,\n",
              "  <matplotlib.lines.Line2D at 0x7fc3b553b860>],\n",
              " 'fliers': [<matplotlib.lines.Line2D at 0x7fc3b553bf60>],\n",
              " 'means': [],\n",
              " 'medians': [<matplotlib.lines.Line2D at 0x7fc3b553bbe0>],\n",
              " 'whiskers': [<matplotlib.lines.Line2D at 0x7fc3bc220da0>,\n",
              "  <matplotlib.lines.Line2D at 0x7fc3b553b160>]}"
            ]
          },
          "metadata": {
            "tags": []
          },
          "execution_count": 140
        },
        {
          "output_type": "display_data",
          "data": {
            "image/png": "[encoded data removed]",
            "text/plain": [
              "<Figure size 432x288 with 1 Axes>"
            ]
          },
          "metadata": {
            "tags": [],
            "needs_background": "light"
          }
        }
      ]
    },
    {
      "cell_type": "code",
      "metadata": {
        "id": "loviaay7AH5A",
        "outputId": "c9a32801-f923-4110-b801-96a82cfe94b1",
        "colab": {
          "base_uri": "https://localhost:8080/",
          "height": 404
        }
      },
      "source": [
        "plt.boxplot(all_no_missing['avg_price'],vert=False)"
      ],
      "execution_count": 141,
      "outputs": [
        {
          "output_type": "execute_result",
          "data": {
            "text/plain": [
              "{'boxes': [<matplotlib.lines.Line2D at 0x7fc3b4fb9908>],\n",
              " 'caps': [<matplotlib.lines.Line2D at 0x7fc3b4fc5358>,\n",
              "  <matplotlib.lines.Line2D at 0x7fc3b4fc56d8>],\n",
              " 'fliers': [<matplotlib.lines.Line2D at 0x7fc3b4fc5dd8>],\n",
              " 'means': [],\n",
              " 'medians': [<matplotlib.lines.Line2D at 0x7fc3b4fc5a58>],\n",
              " 'whiskers': [<matplotlib.lines.Line2D at 0x7fc3b4fb9c18>,\n",
              "  <matplotlib.lines.Line2D at 0x7fc3b4fb9f98>]}"
            ]
          },
          "metadata": {
            "tags": []
          },
          "execution_count": 141
        },
        {
          "output_type": "display_data",
          "data": {
            "image/png": "[encoded data removed]",
            "text/plain": [
              "<Figure size 432x288 with 1 Axes>"
            ]
          },
          "metadata": {
            "tags": [],
            "needs_background": "light"
          }
        }
      ]
    },
    {
      "cell_type": "code",
      "metadata": {
        "id": "W9R66ITCAIWo"
      },
      "source": [
        ""
      ],
      "execution_count": null,
      "outputs": []
    },
    {
      "cell_type": "code",
      "metadata": {
        "id": "HtjXLLMVAIML"
      },
      "source": [
        ""
      ],
      "execution_count": null,
      "outputs": []
    },
    {
      "cell_type": "code",
      "metadata": {
        "id": "A4-5H0wiAHr_"
      },
      "source": [
        ""
      ],
      "execution_count": null,
      "outputs": []
    }
  ]
}