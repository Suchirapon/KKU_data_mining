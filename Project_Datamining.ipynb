{
  "nbformat": 4,
  "nbformat_minor": 0,
  "metadata": {
    "colab": {
      "name": "Project_Datamining.ipynb",
      "provenance": [],
      "include_colab_link": true
    },
    "kernelspec": {
      "name": "python3",
      "display_name": "Python 3"
    }
  },
  "cells": [
    {
      "cell_type": "markdown",
      "metadata": {
        "id": "view-in-github",
        "colab_type": "text"
      },
      "source": [
        "<a href=\"https://colab.research.google.com/github/Suchirapon/KKU_data_mining/blob/master/Project_Datamining.ipynb\" target=\"_parent\"><img src=\"https://colab.research.google.com/assets/colab-badge.svg\" alt=\"Open In Colab\"/></a>"
      ]
    },
    {
      "cell_type": "markdown",
      "metadata": {
        "id": "_K8SkcsfY0Xm"
      },
      "source": [
        "# Project Final Data Warehouse and Data Mining \n",
        "จัดทำโดย \n",
        "- นางสาวสุชิราภรณ์  สุนทรภักดิ์   613020619-0\n",
        "- นางสาวกัณญารัตน์  พรมสุข  613021014-9\n",
        "\n"
      ]
    },
    {
      "cell_type": "markdown",
      "metadata": {
        "id": "3eF_tK1Q9KJY"
      },
      "source": [
        "# Association Rule และ K-Nearest Neighbors\n",
        "- Association เป็นการดูรูปแบบของข้อมูลว่าถ้ามีลักษณะนี้ แล้วจะเกิดลักษณะใดตามมา โดยกำหนดให้ Transection คือ ชื่อสัตว์ และ Feature คือ ลักษณะทั้ง 16 ลักษณะของสัตว์\n",
        "- KNN ทำขึ้นเพื่อทำนายประเภทของสัตว์จากลักษณะทั้ง 16 ลักษณะของสัตว์"
      ]
    },
    {
      "cell_type": "markdown",
      "metadata": {
        "id": "64Q9rYjT94a5"
      },
      "source": [
        "### ข้อมูล\n",
        "- https://www.kaggle.com/uciml/zoo-animal-classification?select=zoo.csv&fbclid=IwAR19ybeDlNDWZ0uthvV0srz4Rs44fiheUCsGhUgOIIgDLphGEAjnNPPvSfA"
      ]
    },
    {
      "cell_type": "markdown",
      "metadata": {
        "id": "in7YjRiBqIj8"
      },
      "source": [
        "ข้อมูลชุดนี้เป็นข้อมูลของสัตว์ในสวนสัตว์ โดยจะประกอบไปด้วย สัตว์ 101 ตัว มีตัวแปร 16 ตัว ที่อธิบายลักษณะต่าง ๆ ของสัตว์ ดังนี้ ​\n",
        "\n",
        "hair(ผม), feathers(ขน), eggs(ไข่), milk(นม), airborne(ปีก), aquatic(อยู่ในน้ำ), predator(นักล่า), toothed(ฟัน), backbone(กระดูกสันหลัง), breathes(ใช้จมูกหายใจ), venomous(มีพิษ), fins(ครีบ), legs(ขา), tail(หาง), domestic(ในประเทศ) และ catsize(ใบหู)​\n",
        "\n",
        "ซึ่งสามารถแบ่งประเภทของสัตว์ออกเป็น 7 ประเภท ได้แก่  Mammal(สัตว์เลี้ยงลูกด้วยนม), Bird(นก), Reptile(สัตว์เลื้อยคลาน), Fish(ปลา), Amphibian(สัตว์สะเทินน้ำสะเทินบก), Bug(แมลง) และInvertebrate(สัตว์ไม่มีกระดูกสันหลัง)\n"
      ]
    },
    {
      "cell_type": "markdown",
      "metadata": {
        "id": "Jv6EFppF-BOh"
      },
      "source": [
        "### เรียกใช้ไฟล์ "
      ]
    },
    {
      "cell_type": "markdown",
      "metadata": {
        "id": "R9DZcTRx1oCU"
      },
      "source": [
        "เชื่อมต่อ Google Drive ของเราเข้ากับ Google Colab"
      ]
    },
    {
      "cell_type": "code",
      "metadata": {
        "colab": {
          "base_uri": "https://localhost:8080/"
        },
        "id": "YcT5_xI2-HNM",
        "outputId": "966d4f77-fb75-4960-e8fc-6de8211328db"
      },
      "source": [
        "from google.colab import drive \n",
        "drive.mount('/content/drive')"
      ],
      "execution_count": 1,
      "outputs": [
        {
          "output_type": "stream",
          "text": [
            "Mounted at /content/drive\n"
          ],
          "name": "stdout"
        }
      ]
    },
    {
      "cell_type": "markdown",
      "metadata": {
        "id": "qDTXqrkqwES6"
      },
      "source": [
        "การเชื่อมต่อข้อมูลที่อยู่ใน Google Drive ให้มาอยู่ในตัวแปลที่ชื่อ path"
      ]
    },
    {
      "cell_type": "code",
      "metadata": {
        "id": "b-nsL0xS-JwO"
      },
      "source": [
        "path = '/content/drive/My Drive/DataMining_Project'"
      ],
      "execution_count": 2,
      "outputs": []
    },
    {
      "cell_type": "markdown",
      "metadata": {
        "id": "VYpMIdtsxCGV"
      },
      "source": [
        "เรียกดูไฟล์ข้อมูลที่อยู่ใน Google Drive ที่ได้เชื่อมต่อไว้"
      ]
    },
    {
      "cell_type": "code",
      "metadata": {
        "colab": {
          "base_uri": "https://localhost:8080/"
        },
        "id": "BfGgzrHBwzhu",
        "outputId": "a649641e-a231-4f33-c43f-a356d6ef1551"
      },
      "source": [
        "import os\n",
        "os.listdir(path)"
      ],
      "execution_count": 3,
      "outputs": [
        {
          "output_type": "execute_result",
          "data": {
            "text/plain": [
              "['AdvWorksCusts.csv', 'AW_BikeBuyer.csv', 'class.csv', 'zoo.csv']"
            ]
          },
          "metadata": {
            "tags": []
          },
          "execution_count": 3
        }
      ]
    },
    {
      "cell_type": "markdown",
      "metadata": {
        "id": "W8dut0e9v-qu"
      },
      "source": [
        "การ join ไฟล์ข้อมูล กับ path และทำการอ่านไฟล์ข้อมูล ตั้งชื่อให้อยู่ในตัวแปล ชื่อ zoo_type_df และ class_type_df"
      ]
    },
    {
      "cell_type": "code",
      "metadata": {
        "id": "GGWxBOse-XqB"
      },
      "source": [
        "import pandas as pd\n",
        "zoo_type = os.path.join(path,'zoo.csv')  \n",
        "class_type = os.path.join(path,'class.csv')\n",
        "zoo_type_df = pd.read_csv(zoo_type)\n",
        "class_type_df = pd.read_csv(class_type)"
      ],
      "execution_count": 4,
      "outputs": []
    },
    {
      "cell_type": "markdown",
      "metadata": {
        "id": "iGKjRmU6yihj"
      },
      "source": [
        "เรียกดูข้อมูล\n",
        "\n",
        "จะเห็นได้ว่าใน Dataframe ที่ชื่อว่า zoo_type_df มี ข้อมูลทั้งหมด 101 แถว และ 18 คอลัมน์\n"
      ]
    },
    {
      "cell_type": "code",
      "metadata": {
        "colab": {
          "base_uri": "https://localhost:8080/",
          "height": 435
        },
        "id": "_JOpb6Js-ZbR",
        "outputId": "00b41166-4c46-4481-ccfa-55bd9796e101"
      },
      "source": [
        "zoo_type_df"
      ],
      "execution_count": 5,
      "outputs": [
        {
          "output_type": "execute_result",
          "data": {
            "text/html": [
              "<div>\n",
              "<style scoped>\n",
              "    .dataframe tbody tr th:only-of-type {\n",
              "        vertical-align: middle;\n",
              "    }\n",
              "\n",
              "    .dataframe tbody tr th {\n",
              "        vertical-align: top;\n",
              "    }\n",
              "\n",
              "    .dataframe thead th {\n",
              "        text-align: right;\n",
              "    }\n",
              "</style>\n",
              "<table border=\"1\" class=\"dataframe\">\n",
              "  <thead>\n",
              "    <tr style=\"text-align: right;\">\n",
              "      <th></th>\n",
              "      <th>animal_name</th>\n",
              "      <th>hair</th>\n",
              "      <th>feathers</th>\n",
              "      <th>eggs</th>\n",
              "      <th>milk</th>\n",
              "      <th>airborne</th>\n",
              "      <th>aquatic</th>\n",
              "      <th>predator</th>\n",
              "      <th>toothed</th>\n",
              "      <th>backbone</th>\n",
              "      <th>breathes</th>\n",
              "      <th>venomous</th>\n",
              "      <th>fins</th>\n",
              "      <th>legs</th>\n",
              "      <th>tail</th>\n",
              "      <th>domestic</th>\n",
              "      <th>catsize</th>\n",
              "      <th>class_type</th>\n",
              "    </tr>\n",
              "  </thead>\n",
              "  <tbody>\n",
              "    <tr>\n",
              "      <th>0</th>\n",
              "      <td>aardvark</td>\n",
              "      <td>1</td>\n",
              "      <td>0</td>\n",
              "      <td>0</td>\n",
              "      <td>1</td>\n",
              "      <td>0</td>\n",
              "      <td>0</td>\n",
              "      <td>1</td>\n",
              "      <td>1</td>\n",
              "      <td>1</td>\n",
              "      <td>1</td>\n",
              "      <td>0</td>\n",
              "      <td>0</td>\n",
              "      <td>4</td>\n",
              "      <td>0</td>\n",
              "      <td>0</td>\n",
              "      <td>1</td>\n",
              "      <td>1</td>\n",
              "    </tr>\n",
              "    <tr>\n",
              "      <th>1</th>\n",
              "      <td>antelope</td>\n",
              "      <td>1</td>\n",
              "      <td>0</td>\n",
              "      <td>0</td>\n",
              "      <td>1</td>\n",
              "      <td>0</td>\n",
              "      <td>0</td>\n",
              "      <td>0</td>\n",
              "      <td>1</td>\n",
              "      <td>1</td>\n",
              "      <td>1</td>\n",
              "      <td>0</td>\n",
              "      <td>0</td>\n",
              "      <td>4</td>\n",
              "      <td>1</td>\n",
              "      <td>0</td>\n",
              "      <td>1</td>\n",
              "      <td>1</td>\n",
              "    </tr>\n",
              "    <tr>\n",
              "      <th>2</th>\n",
              "      <td>bass</td>\n",
              "      <td>0</td>\n",
              "      <td>0</td>\n",
              "      <td>1</td>\n",
              "      <td>0</td>\n",
              "      <td>0</td>\n",
              "      <td>1</td>\n",
              "      <td>1</td>\n",
              "      <td>1</td>\n",
              "      <td>1</td>\n",
              "      <td>0</td>\n",
              "      <td>0</td>\n",
              "      <td>1</td>\n",
              "      <td>0</td>\n",
              "      <td>1</td>\n",
              "      <td>0</td>\n",
              "      <td>0</td>\n",
              "      <td>4</td>\n",
              "    </tr>\n",
              "    <tr>\n",
              "      <th>3</th>\n",
              "      <td>bear</td>\n",
              "      <td>1</td>\n",
              "      <td>0</td>\n",
              "      <td>0</td>\n",
              "      <td>1</td>\n",
              "      <td>0</td>\n",
              "      <td>0</td>\n",
              "      <td>1</td>\n",
              "      <td>1</td>\n",
              "      <td>1</td>\n",
              "      <td>1</td>\n",
              "      <td>0</td>\n",
              "      <td>0</td>\n",
              "      <td>4</td>\n",
              "      <td>0</td>\n",
              "      <td>0</td>\n",
              "      <td>1</td>\n",
              "      <td>1</td>\n",
              "    </tr>\n",
              "    <tr>\n",
              "      <th>4</th>\n",
              "      <td>boar</td>\n",
              "      <td>1</td>\n",
              "      <td>0</td>\n",
              "      <td>0</td>\n",
              "      <td>1</td>\n",
              "      <td>0</td>\n",
              "      <td>0</td>\n",
              "      <td>1</td>\n",
              "      <td>1</td>\n",
              "      <td>1</td>\n",
              "      <td>1</td>\n",
              "      <td>0</td>\n",
              "      <td>0</td>\n",
              "      <td>4</td>\n",
              "      <td>1</td>\n",
              "      <td>0</td>\n",
              "      <td>1</td>\n",
              "      <td>1</td>\n",
              "    </tr>\n",
              "    <tr>\n",
              "      <th>...</th>\n",
              "      <td>...</td>\n",
              "      <td>...</td>\n",
              "      <td>...</td>\n",
              "      <td>...</td>\n",
              "      <td>...</td>\n",
              "      <td>...</td>\n",
              "      <td>...</td>\n",
              "      <td>...</td>\n",
              "      <td>...</td>\n",
              "      <td>...</td>\n",
              "      <td>...</td>\n",
              "      <td>...</td>\n",
              "      <td>...</td>\n",
              "      <td>...</td>\n",
              "      <td>...</td>\n",
              "      <td>...</td>\n",
              "      <td>...</td>\n",
              "      <td>...</td>\n",
              "    </tr>\n",
              "    <tr>\n",
              "      <th>96</th>\n",
              "      <td>wallaby</td>\n",
              "      <td>1</td>\n",
              "      <td>0</td>\n",
              "      <td>0</td>\n",
              "      <td>1</td>\n",
              "      <td>0</td>\n",
              "      <td>0</td>\n",
              "      <td>0</td>\n",
              "      <td>1</td>\n",
              "      <td>1</td>\n",
              "      <td>1</td>\n",
              "      <td>0</td>\n",
              "      <td>0</td>\n",
              "      <td>2</td>\n",
              "      <td>1</td>\n",
              "      <td>0</td>\n",
              "      <td>1</td>\n",
              "      <td>1</td>\n",
              "    </tr>\n",
              "    <tr>\n",
              "      <th>97</th>\n",
              "      <td>wasp</td>\n",
              "      <td>1</td>\n",
              "      <td>0</td>\n",
              "      <td>1</td>\n",
              "      <td>0</td>\n",
              "      <td>1</td>\n",
              "      <td>0</td>\n",
              "      <td>0</td>\n",
              "      <td>0</td>\n",
              "      <td>0</td>\n",
              "      <td>1</td>\n",
              "      <td>1</td>\n",
              "      <td>0</td>\n",
              "      <td>6</td>\n",
              "      <td>0</td>\n",
              "      <td>0</td>\n",
              "      <td>0</td>\n",
              "      <td>6</td>\n",
              "    </tr>\n",
              "    <tr>\n",
              "      <th>98</th>\n",
              "      <td>wolf</td>\n",
              "      <td>1</td>\n",
              "      <td>0</td>\n",
              "      <td>0</td>\n",
              "      <td>1</td>\n",
              "      <td>0</td>\n",
              "      <td>0</td>\n",
              "      <td>1</td>\n",
              "      <td>1</td>\n",
              "      <td>1</td>\n",
              "      <td>1</td>\n",
              "      <td>0</td>\n",
              "      <td>0</td>\n",
              "      <td>4</td>\n",
              "      <td>1</td>\n",
              "      <td>0</td>\n",
              "      <td>1</td>\n",
              "      <td>1</td>\n",
              "    </tr>\n",
              "    <tr>\n",
              "      <th>99</th>\n",
              "      <td>worm</td>\n",
              "      <td>0</td>\n",
              "      <td>0</td>\n",
              "      <td>1</td>\n",
              "      <td>0</td>\n",
              "      <td>0</td>\n",
              "      <td>0</td>\n",
              "      <td>0</td>\n",
              "      <td>0</td>\n",
              "      <td>0</td>\n",
              "      <td>1</td>\n",
              "      <td>0</td>\n",
              "      <td>0</td>\n",
              "      <td>0</td>\n",
              "      <td>0</td>\n",
              "      <td>0</td>\n",
              "      <td>0</td>\n",
              "      <td>7</td>\n",
              "    </tr>\n",
              "    <tr>\n",
              "      <th>100</th>\n",
              "      <td>wren</td>\n",
              "      <td>0</td>\n",
              "      <td>1</td>\n",
              "      <td>1</td>\n",
              "      <td>0</td>\n",
              "      <td>1</td>\n",
              "      <td>0</td>\n",
              "      <td>0</td>\n",
              "      <td>0</td>\n",
              "      <td>1</td>\n",
              "      <td>1</td>\n",
              "      <td>0</td>\n",
              "      <td>0</td>\n",
              "      <td>2</td>\n",
              "      <td>1</td>\n",
              "      <td>0</td>\n",
              "      <td>0</td>\n",
              "      <td>2</td>\n",
              "    </tr>\n",
              "  </tbody>\n",
              "</table>\n",
              "<p>101 rows × 18 columns</p>\n",
              "</div>"
            ],
            "text/plain": [
              "    animal_name  hair  feathers  eggs  ...  tail  domestic  catsize  class_type\n",
              "0      aardvark     1         0     0  ...     0         0        1           1\n",
              "1      antelope     1         0     0  ...     1         0        1           1\n",
              "2          bass     0         0     1  ...     1         0        0           4\n",
              "3          bear     1         0     0  ...     0         0        1           1\n",
              "4          boar     1         0     0  ...     1         0        1           1\n",
              "..          ...   ...       ...   ...  ...   ...       ...      ...         ...\n",
              "96      wallaby     1         0     0  ...     1         0        1           1\n",
              "97         wasp     1         0     1  ...     0         0        0           6\n",
              "98         wolf     1         0     0  ...     1         0        1           1\n",
              "99         worm     0         0     1  ...     0         0        0           7\n",
              "100        wren     0         1     1  ...     1         0        0           2\n",
              "\n",
              "[101 rows x 18 columns]"
            ]
          },
          "metadata": {
            "tags": []
          },
          "execution_count": 5
        }
      ]
    },
    {
      "cell_type": "markdown",
      "metadata": {
        "id": "8FYSwh-n16by"
      },
      "source": [
        "จะเห็นได้ว่าใน Dataframe ที่ชื่อว่า class_type_df มี ข้อมูลทั้งหมด 7 แถว และ 4 คอลัมน์\n",
        "\n",
        "ทำการตรวจสอบค่า Missing จะเห็นว่าในตารางข้อมูล zoo_type_df ไม่มีค่าว่าง"
      ]
    },
    {
      "cell_type": "code",
      "metadata": {
        "colab": {
          "base_uri": "https://localhost:8080/"
        },
        "id": "irlTaKC379PM",
        "outputId": "13bb8877-0773-477b-87ab-9e6295313d36"
      },
      "source": [
        "zoo_type_df.isnull().any()"
      ],
      "execution_count": 6,
      "outputs": [
        {
          "output_type": "execute_result",
          "data": {
            "text/plain": [
              "animal_name    False\n",
              "hair           False\n",
              "feathers       False\n",
              "eggs           False\n",
              "milk           False\n",
              "airborne       False\n",
              "aquatic        False\n",
              "predator       False\n",
              "toothed        False\n",
              "backbone       False\n",
              "breathes       False\n",
              "venomous       False\n",
              "fins           False\n",
              "legs           False\n",
              "tail           False\n",
              "domestic       False\n",
              "catsize        False\n",
              "class_type     False\n",
              "dtype: bool"
            ]
          },
          "metadata": {
            "tags": []
          },
          "execution_count": 6
        }
      ]
    },
    {
      "cell_type": "code",
      "metadata": {
        "colab": {
          "base_uri": "https://localhost:8080/",
          "height": 258
        },
        "id": "5opmvVnWDJ8w",
        "outputId": "fda56682-3c40-4507-aa45-13e3a890cf24"
      },
      "source": [
        "class_type_df"
      ],
      "execution_count": null,
      "outputs": [
        {
          "output_type": "execute_result",
          "data": {
            "text/html": [
              "<div>\n",
              "<style scoped>\n",
              "    .dataframe tbody tr th:only-of-type {\n",
              "        vertical-align: middle;\n",
              "    }\n",
              "\n",
              "    .dataframe tbody tr th {\n",
              "        vertical-align: top;\n",
              "    }\n",
              "\n",
              "    .dataframe thead th {\n",
              "        text-align: right;\n",
              "    }\n",
              "</style>\n",
              "<table border=\"1\" class=\"dataframe\">\n",
              "  <thead>\n",
              "    <tr style=\"text-align: right;\">\n",
              "      <th></th>\n",
              "      <th>Class_Number</th>\n",
              "      <th>Number_Of_Animal_Species_In_Class</th>\n",
              "      <th>Class_Type</th>\n",
              "      <th>Animal_Name</th>\n",
              "    </tr>\n",
              "  </thead>\n",
              "  <tbody>\n",
              "    <tr>\n",
              "      <th>0</th>\n",
              "      <td>1</td>\n",
              "      <td>41</td>\n",
              "      <td>Mammal</td>\n",
              "      <td>aardvark, antelope, bear, boar, buffalo, calf,...</td>\n",
              "    </tr>\n",
              "    <tr>\n",
              "      <th>1</th>\n",
              "      <td>2</td>\n",
              "      <td>20</td>\n",
              "      <td>Bird</td>\n",
              "      <td>chicken, crow, dove, duck, flamingo, gull, haw...</td>\n",
              "    </tr>\n",
              "    <tr>\n",
              "      <th>2</th>\n",
              "      <td>3</td>\n",
              "      <td>5</td>\n",
              "      <td>Reptile</td>\n",
              "      <td>pitviper, seasnake, slowworm, tortoise, tuatara</td>\n",
              "    </tr>\n",
              "    <tr>\n",
              "      <th>3</th>\n",
              "      <td>4</td>\n",
              "      <td>13</td>\n",
              "      <td>Fish</td>\n",
              "      <td>bass, carp, catfish, chub, dogfish, haddock, h...</td>\n",
              "    </tr>\n",
              "    <tr>\n",
              "      <th>4</th>\n",
              "      <td>5</td>\n",
              "      <td>4</td>\n",
              "      <td>Amphibian</td>\n",
              "      <td>frog, frog, newt, toad</td>\n",
              "    </tr>\n",
              "    <tr>\n",
              "      <th>5</th>\n",
              "      <td>6</td>\n",
              "      <td>8</td>\n",
              "      <td>Bug</td>\n",
              "      <td>flea, gnat, honeybee, housefly, ladybird, moth...</td>\n",
              "    </tr>\n",
              "    <tr>\n",
              "      <th>6</th>\n",
              "      <td>7</td>\n",
              "      <td>10</td>\n",
              "      <td>Invertebrate</td>\n",
              "      <td>clam, crab, crayfish, lobster, octopus, scorpi...</td>\n",
              "    </tr>\n",
              "  </tbody>\n",
              "</table>\n",
              "</div>"
            ],
            "text/plain": [
              "   Class_Number  ...                                        Animal_Name\n",
              "0             1  ...  aardvark, antelope, bear, boar, buffalo, calf,...\n",
              "1             2  ...  chicken, crow, dove, duck, flamingo, gull, haw...\n",
              "2             3  ...    pitviper, seasnake, slowworm, tortoise, tuatara\n",
              "3             4  ...  bass, carp, catfish, chub, dogfish, haddock, h...\n",
              "4             5  ...                             frog, frog, newt, toad\n",
              "5             6  ...  flea, gnat, honeybee, housefly, ladybird, moth...\n",
              "6             7  ...  clam, crab, crayfish, lobster, octopus, scorpi...\n",
              "\n",
              "[7 rows x 4 columns]"
            ]
          },
          "metadata": {
            "tags": []
          },
          "execution_count": 8
        }
      ]
    },
    {
      "cell_type": "markdown",
      "metadata": {
        "id": "z80qBBA98QMw"
      },
      "source": [
        "ทำการตรวจสอบค่า Missing ของตาราง class_type_df จะพบว่าในตารางไม่มีค่าว่าง"
      ]
    },
    {
      "cell_type": "code",
      "metadata": {
        "colab": {
          "base_uri": "https://localhost:8080/"
        },
        "id": "k5U1aOg68Qmf",
        "outputId": "6345f388-daf0-4414-db23-f44005e189f4"
      },
      "source": [
        "class_type_df.isnull().any()"
      ],
      "execution_count": 7,
      "outputs": [
        {
          "output_type": "execute_result",
          "data": {
            "text/plain": [
              "Class_Number                         False\n",
              "Number_Of_Animal_Species_In_Class    False\n",
              "Class_Type                           False\n",
              "Animal_Names                         False\n",
              "dtype: bool"
            ]
          },
          "metadata": {
            "tags": []
          },
          "execution_count": 7
        }
      ]
    },
    {
      "cell_type": "markdown",
      "metadata": {
        "id": "1HYt5mln-iHJ"
      },
      "source": [
        "## ทำการเเตรียมข้อมูล สำหรับทำ Association"
      ]
    },
    {
      "cell_type": "code",
      "metadata": {
        "id": "EU6tqSTa-nAp"
      },
      "source": [
        "from pandas.api.types import CategoricalDtype"
      ],
      "execution_count": 8,
      "outputs": []
    },
    {
      "cell_type": "markdown",
      "metadata": {
        "id": "Y3_sJXUj_It_"
      },
      "source": [
        "###แบ่งกลุ่มลักษณะของสัตว์ทั้งหมด 16 ลักษณะ จากไฟล์ข้อมูล zoo_type_df"
      ]
    },
    {
      "cell_type": "markdown",
      "metadata": {
        "id": "26q9wu-22HTg"
      },
      "source": [
        "ให้ข้อมูลที่อยู่ใน zoo_type_df ตัวในตัวแปลใหม่ที่ชื่อว่า zoo_type เพื่อนำไปแปลงข้อมูลให้สามารถนำไปทำ Association ได้"
      ]
    },
    {
      "cell_type": "code",
      "metadata": {
        "id": "45R4uBTz_FkV"
      },
      "source": [
        "zoo_type1 = zoo_type_df"
      ],
      "execution_count": 9,
      "outputs": []
    },
    {
      "cell_type": "markdown",
      "metadata": {
        "id": "Co3QRyII3wVq"
      },
      "source": [
        "การแบ่งข้อมูลออกเป็นกลุ่มตามช่วงของค่าแบ่งที่เราได้กำหนดไว้ \n",
        "\n",
        "โดยจะแบ่งแค่คอลัมน์ที่เป็นลักษณะของสัตว์ ได้แก่ hair(ผม), heathers(ขน), eggs(ไข่), milk(นม), airborne(ในอากาศ), aquatic(อยู่ในน้ำ), predator(นักล่า), toothed(ฟัน), backbone(กระดูกสันหลัง), breathes(ใช้จมูกหายใจ), venomous(มีพิษ), fins(ครีบ), legs(ขา), tail(หาง), domestic(ในประเทศ) และ catsize(ใบหู)​"
      ]
    },
    {
      "cell_type": "code",
      "metadata": {
        "id": "-VshzoQ_-ynx"
      },
      "source": [
        "h_bucket = ['nohair','hair']      #ข้อมูลที่จะถูกนำไปเติมในคอลัมน์ใหม่\n",
        "zoo_type1['hair_group'] = pd.cut(zoo_type1.hair,      #เพิ่มคอลัมน์ hair_group ในตาราง zoo_type1 โดยทำการแบ่งจากข้อมูลที่อยู่ในคอลัมน์ hair\n",
        "                            bins=[0,1,2],     #กำหนดช่วงของข้อมูลที่จะทำการแบ่ง \n",
        "                            labels=h_bucket,      #ข้อมูลที่จะนำมาเติมอยู่ใน h_bucket นั่นคือ nohair และ hair\n",
        "                            right=False).astype(str).astype(CategoricalDtype(h_bucket,ordered=True))      \n",
        "                            #right = False คือ ให้แบ่งข้อมูลจาก เริ่มจาก เลข ที่อยู่ซ้าย ไปจนถึง เลข ที่ยังไม่ถึง เลขที่อยู่ขวา เช่น 0,1 คือ เริ่มจาก 0 ไปถึง 0.99 ซึ่งจะยังไม่ถึง 1 โดยจะให้ค่าที่อยู่ในช่วงนี้ แทนด้วย nohair"
      ],
      "execution_count": 10,
      "outputs": []
    },
    {
      "cell_type": "code",
      "metadata": {
        "id": "z_PWHU_O_SwF"
      },
      "source": [
        "f_bucket = ['nofeathers','feathers']\n",
        "zoo_type1['feathers_group'] = pd.cut(zoo_type1.feathers,\n",
        "                            bins=[0,1,2],\n",
        "                            labels=f_bucket,\n",
        "                            right=False).astype(str).astype(CategoricalDtype(f_bucket,ordered=True))"
      ],
      "execution_count": 11,
      "outputs": []
    },
    {
      "cell_type": "code",
      "metadata": {
        "id": "BijeTReL_Vtd"
      },
      "source": [
        "e_bucket = ['noeggs','eggs']\n",
        "zoo_type1['eggs_group'] = pd.cut(zoo_type1.eggs,\n",
        "                            bins=[0,1,2],\n",
        "                            labels=e_bucket,\n",
        "                            right=False).astype(str).astype(CategoricalDtype(e_bucket,ordered=True))"
      ],
      "execution_count": 12,
      "outputs": []
    },
    {
      "cell_type": "code",
      "metadata": {
        "id": "UMFr2YFm_YGr"
      },
      "source": [
        "m_bucket = ['nomilk','milk']\n",
        "zoo_type1['milk_group'] = pd.cut(zoo_type1.milk,\n",
        "                            bins=[0,1,2],\n",
        "                            labels=m_bucket,\n",
        "                            right=False).astype(str).astype(CategoricalDtype(m_bucket,ordered=True))"
      ],
      "execution_count": 13,
      "outputs": []
    },
    {
      "cell_type": "code",
      "metadata": {
        "id": "KSAZSI_t_aQR"
      },
      "source": [
        "a_bucket = ['noairborne','airborne']\n",
        "zoo_type1['airborne_group'] = pd.cut(zoo_type1.airborne,\n",
        "                            bins=[0,1,2],\n",
        "                            labels=a_bucket,\n",
        "                            right=False).astype(str).astype(CategoricalDtype(a_bucket,ordered=True))"
      ],
      "execution_count": 14,
      "outputs": []
    },
    {
      "cell_type": "code",
      "metadata": {
        "id": "ShHw7zeM_dDz"
      },
      "source": [
        "a_bucket = ['noaquatic','aquatic']\n",
        "zoo_type1['aquatic_group'] = pd.cut(zoo_type1.aquatic,\n",
        "                            bins=[0,1,2],\n",
        "                            labels=a_bucket,\n",
        "                            right=False).astype(str).astype(CategoricalDtype(a_bucket,ordered=True))"
      ],
      "execution_count": 15,
      "outputs": []
    },
    {
      "cell_type": "code",
      "metadata": {
        "id": "DzscxcIW_fpJ"
      },
      "source": [
        "p_bucket = ['nopredator','predator']\n",
        "zoo_type1['predator_group'] = pd.cut(zoo_type1.predator,\n",
        "                            bins=[0,1,2],\n",
        "                            labels=p_bucket,\n",
        "                            right=False).astype(str).astype(CategoricalDtype(p_bucket,ordered=True))"
      ],
      "execution_count": 16,
      "outputs": []
    },
    {
      "cell_type": "code",
      "metadata": {
        "id": "3fpdjMXK_jaY"
      },
      "source": [
        "t_bucket = ['notoothed','toothed']\n",
        "zoo_type1['toothed_group'] = pd.cut(zoo_type1.toothed,\n",
        "                            bins=[0,1,2],\n",
        "                            labels=t_bucket,\n",
        "                            right=False).astype(str).astype(CategoricalDtype(t_bucket,ordered=True))"
      ],
      "execution_count": 17,
      "outputs": []
    },
    {
      "cell_type": "code",
      "metadata": {
        "id": "oJwQs09W_lzY"
      },
      "source": [
        "b_bucket = ['nobackbone','backbone']\n",
        "zoo_type1['backbone_group'] = pd.cut(zoo_type1.backbone,\n",
        "                            bins=[0,1,2],\n",
        "                            labels=b_bucket,\n",
        "                            right=False).astype(str).astype(CategoricalDtype(b_bucket,ordered=True))"
      ],
      "execution_count": 18,
      "outputs": []
    },
    {
      "cell_type": "code",
      "metadata": {
        "id": "iaV5JlWU_o5L"
      },
      "source": [
        "b_bucket = ['nobreathes','breathes']\n",
        "zoo_type1['breathes_group'] = pd.cut(zoo_type1.breathes,\n",
        "                            bins=[0,1,2],\n",
        "                            labels=b_bucket,\n",
        "                            right=False).astype(str).astype(CategoricalDtype(b_bucket,ordered=True))"
      ],
      "execution_count": 19,
      "outputs": []
    },
    {
      "cell_type": "code",
      "metadata": {
        "id": "Ci4XGe59_rpA"
      },
      "source": [
        "v_bucket = ['novenomous','venomous']\n",
        "zoo_type1['venomous_group'] = pd.cut(zoo_type1.venomous,\n",
        "                            bins=[0,1,2],\n",
        "                            labels=v_bucket,\n",
        "                            right=False).astype(str).astype(CategoricalDtype(v_bucket,ordered=True))"
      ],
      "execution_count": 20,
      "outputs": []
    },
    {
      "cell_type": "code",
      "metadata": {
        "id": "Cl9hkdff_ueM"
      },
      "source": [
        "f_bucket = ['nofins','fins']\n",
        "zoo_type1['fins_group'] = pd.cut(zoo_type1.\tfins,\n",
        "                            bins=[0,1,2],\n",
        "                            labels=f_bucket,\n",
        "                            right=False).astype(str).astype(CategoricalDtype(f_bucket,ordered=True))"
      ],
      "execution_count": 21,
      "outputs": []
    },
    {
      "cell_type": "code",
      "metadata": {
        "id": "9DQddzBt_wrY"
      },
      "source": [
        "l_bucket = ['nolegs','2legs','4legs','6legs','8legs']\n",
        "zoo_type1['legs_group'] = pd.cut(zoo_type1.\tlegs,\n",
        "                            bins=[0,2,4,6,7,9],\n",
        "                            labels=l_bucket,\n",
        "                            right=False).astype(str).astype(CategoricalDtype(l_bucket,ordered=True))"
      ],
      "execution_count": 22,
      "outputs": []
    },
    {
      "cell_type": "code",
      "metadata": {
        "colab": {
          "base_uri": "https://localhost:8080/",
          "height": 364
        },
        "id": "EY-mhPVhARml",
        "outputId": "bdcc1c0e-ed17-4856-c4ed-1ae3d38fece0"
      },
      "source": [
        "t_bucket = ['notail','tail']\n",
        "zoo_type1['tail_group'] = pd.cut(zoo_type1.tail,\n",
        "                            bins=[0,1,2],\n",
        "                            labels=t_bucket,\n",
        "                            right=False).astype(str).astype(CategoricalDtype(t_bucket,ordered=True))\n",
        "zoo_type1"
      ],
      "execution_count": 23,
      "outputs": [
        {
          "output_type": "error",
          "ename": "ValueError",
          "evalue": "ignored",
          "traceback": [
            "\u001b[0;31m---------------------------------------------------------------------------\u001b[0m",
            "\u001b[0;31mValueError\u001b[0m                                Traceback (most recent call last)",
            "\u001b[0;32m<ipython-input-23-d3e4e459a2eb>\u001b[0m in \u001b[0;36m<module>\u001b[0;34m()\u001b[0m\n\u001b[1;32m      3\u001b[0m                             \u001b[0mbins\u001b[0m\u001b[0;34m=\u001b[0m\u001b[0;34m[\u001b[0m\u001b[0;36m0\u001b[0m\u001b[0;34m,\u001b[0m\u001b[0;36m1\u001b[0m\u001b[0;34m,\u001b[0m\u001b[0;36m2\u001b[0m\u001b[0;34m]\u001b[0m\u001b[0;34m,\u001b[0m\u001b[0;34m\u001b[0m\u001b[0;34m\u001b[0m\u001b[0m\n\u001b[1;32m      4\u001b[0m                             \u001b[0mlabels\u001b[0m\u001b[0;34m=\u001b[0m\u001b[0mt_bucket\u001b[0m\u001b[0;34m,\u001b[0m\u001b[0;34m\u001b[0m\u001b[0;34m\u001b[0m\u001b[0m\n\u001b[0;32m----> 5\u001b[0;31m                             right=False).astype(str).astype(CategoricalDtype(t_bucket,ordered=True))\n\u001b[0m\u001b[1;32m      6\u001b[0m \u001b[0mzoo_type1\u001b[0m\u001b[0;34m\u001b[0m\u001b[0;34m\u001b[0m\u001b[0m\n",
            "\u001b[0;32m/usr/local/lib/python3.6/dist-packages/pandas/core/reshape/tile.py\u001b[0m in \u001b[0;36mcut\u001b[0;34m(x, bins, right, labels, retbins, precision, include_lowest, duplicates, ordered)\u001b[0m\n\u001b[1;32m    222\u001b[0m \u001b[0;34m\u001b[0m\u001b[0m\n\u001b[1;32m    223\u001b[0m     \u001b[0moriginal\u001b[0m \u001b[0;34m=\u001b[0m \u001b[0mx\u001b[0m\u001b[0;34m\u001b[0m\u001b[0;34m\u001b[0m\u001b[0m\n\u001b[0;32m--> 224\u001b[0;31m     \u001b[0mx\u001b[0m \u001b[0;34m=\u001b[0m \u001b[0m_preprocess_for_cut\u001b[0m\u001b[0;34m(\u001b[0m\u001b[0mx\u001b[0m\u001b[0;34m)\u001b[0m\u001b[0;34m\u001b[0m\u001b[0;34m\u001b[0m\u001b[0m\n\u001b[0m\u001b[1;32m    225\u001b[0m     \u001b[0mx\u001b[0m\u001b[0;34m,\u001b[0m \u001b[0mdtype\u001b[0m \u001b[0;34m=\u001b[0m \u001b[0m_coerce_to_type\u001b[0m\u001b[0;34m(\u001b[0m\u001b[0mx\u001b[0m\u001b[0;34m)\u001b[0m\u001b[0;34m\u001b[0m\u001b[0;34m\u001b[0m\u001b[0m\n\u001b[1;32m    226\u001b[0m \u001b[0;34m\u001b[0m\u001b[0m\n",
            "\u001b[0;32m/usr/local/lib/python3.6/dist-packages/pandas/core/reshape/tile.py\u001b[0m in \u001b[0;36m_preprocess_for_cut\u001b[0;34m(x)\u001b[0m\n\u001b[1;32m    578\u001b[0m         \u001b[0mx\u001b[0m \u001b[0;34m=\u001b[0m \u001b[0mnp\u001b[0m\u001b[0;34m.\u001b[0m\u001b[0masarray\u001b[0m\u001b[0;34m(\u001b[0m\u001b[0mx\u001b[0m\u001b[0;34m)\u001b[0m\u001b[0;34m\u001b[0m\u001b[0;34m\u001b[0m\u001b[0m\n\u001b[1;32m    579\u001b[0m     \u001b[0;32mif\u001b[0m \u001b[0mx\u001b[0m\u001b[0;34m.\u001b[0m\u001b[0mndim\u001b[0m \u001b[0;34m!=\u001b[0m \u001b[0;36m1\u001b[0m\u001b[0;34m:\u001b[0m\u001b[0;34m\u001b[0m\u001b[0;34m\u001b[0m\u001b[0m\n\u001b[0;32m--> 580\u001b[0;31m         \u001b[0;32mraise\u001b[0m \u001b[0mValueError\u001b[0m\u001b[0;34m(\u001b[0m\u001b[0;34m\"Input array must be 1 dimensional\"\u001b[0m\u001b[0;34m)\u001b[0m\u001b[0;34m\u001b[0m\u001b[0;34m\u001b[0m\u001b[0m\n\u001b[0m\u001b[1;32m    581\u001b[0m \u001b[0;34m\u001b[0m\u001b[0m\n\u001b[1;32m    582\u001b[0m     \u001b[0;32mreturn\u001b[0m \u001b[0mx\u001b[0m\u001b[0;34m\u001b[0m\u001b[0;34m\u001b[0m\u001b[0m\n",
            "\u001b[0;31mValueError\u001b[0m: Input array must be 1 dimensional"
          ]
        }
      ]
    },
    {
      "cell_type": "markdown",
      "metadata": {
        "id": "7n_CaTbqAMj9"
      },
      "source": [
        "### เนื่องจากคอลัมลักษณะ tail เกิด Error Input array must be 1 dimensional จึงทำการวนลูปค่า \n"
      ]
    },
    {
      "cell_type": "markdown",
      "metadata": {
        "id": "F-M496Lg6xkE"
      },
      "source": [
        "วนลูปเพื่อเติมข้อมูล เริ่มจาก i ไปจนถึง ความยาวของ zoo_type1\n",
        "\n",
        "ถ้า ข้อมูลตัวที่ i ของ คอลัมน์ tail = 0 ให้ เติมค่า notail ลงใน ข้อมูลตัวที่ i ของ คอลัมน์ tail_group \n",
        "\n",
        "ถ้าข้อมูล ไม่ = 0  (เป็น 1 )ให้ เติมค่า tail ลงใน ข้อมูลตัวที่ i ของ คอลัมน์ tail_group "
      ]
    },
    {
      "cell_type": "code",
      "metadata": {
        "id": "D35PRpcwAEcA"
      },
      "source": [
        "for i in range(len(zoo_type1)):\n",
        "  if zoo_type1['tail'][i] == 0:\n",
        "    zoo_type1['tail_group'] = 'notail'\n",
        "  else:\n",
        "    zoo_type1['tail_group'] = 'tail'"
      ],
      "execution_count": 24,
      "outputs": []
    },
    {
      "cell_type": "code",
      "metadata": {
        "id": "Ko1RItLXBH-E"
      },
      "source": [
        "d_bucket = ['nodomestic','domestic']\n",
        "zoo_type1['domestic_group'] = pd.cut(zoo_type1.domestic,\n",
        "                            bins=[0,1,2],\n",
        "                            labels=d_bucket,\n",
        "                            right=False).astype(str).astype(CategoricalDtype(d_bucket,ordered=True))"
      ],
      "execution_count": 25,
      "outputs": []
    },
    {
      "cell_type": "code",
      "metadata": {
        "id": "n6txkA3rA3Ya"
      },
      "source": [
        "c_bucket = ['nocatsize','catsize']\n",
        "zoo_type1['catsize_group'] = pd.cut(zoo_type1.catsize,\n",
        "                            bins=[0,1,2],\n",
        "                            labels=c_bucket,\n",
        "                            right=False).astype(str).astype(CategoricalDtype(c_bucket,ordered=True))"
      ],
      "execution_count": 26,
      "outputs": []
    },
    {
      "cell_type": "markdown",
      "metadata": {
        "id": "6DFth5rn7830"
      },
      "source": [
        "หลังจากเพิ่มคอลัมน์ครบทุกตัวแล้วจะได้ข้อมูลดังตาราง zoo_type1 มี 101 แถว 34 คอลัมน์ จะเห็นว่า คอลัมน์จะเพิ่มขึ้นมา 16 คอลัมน์จากการแบ่งข้อมูล"
      ]
    },
    {
      "cell_type": "code",
      "metadata": {
        "colab": {
          "base_uri": "https://localhost:8080/",
          "height": 435
        },
        "id": "TSD2s46orhUI",
        "outputId": "b252f31a-ddf2-4249-b65f-faa74d41fb35"
      },
      "source": [
        "zoo_type1"
      ],
      "execution_count": 27,
      "outputs": [
        {
          "output_type": "execute_result",
          "data": {
            "text/html": [
              "<div>\n",
              "<style scoped>\n",
              "    .dataframe tbody tr th:only-of-type {\n",
              "        vertical-align: middle;\n",
              "    }\n",
              "\n",
              "    .dataframe tbody tr th {\n",
              "        vertical-align: top;\n",
              "    }\n",
              "\n",
              "    .dataframe thead th {\n",
              "        text-align: right;\n",
              "    }\n",
              "</style>\n",
              "<table border=\"1\" class=\"dataframe\">\n",
              "  <thead>\n",
              "    <tr style=\"text-align: right;\">\n",
              "      <th></th>\n",
              "      <th>animal_name</th>\n",
              "      <th>hair</th>\n",
              "      <th>feathers</th>\n",
              "      <th>eggs</th>\n",
              "      <th>milk</th>\n",
              "      <th>airborne</th>\n",
              "      <th>aquatic</th>\n",
              "      <th>predator</th>\n",
              "      <th>toothed</th>\n",
              "      <th>backbone</th>\n",
              "      <th>breathes</th>\n",
              "      <th>venomous</th>\n",
              "      <th>fins</th>\n",
              "      <th>legs</th>\n",
              "      <th>tail</th>\n",
              "      <th>domestic</th>\n",
              "      <th>catsize</th>\n",
              "      <th>class_type</th>\n",
              "      <th>hair_group</th>\n",
              "      <th>feathers_group</th>\n",
              "      <th>eggs_group</th>\n",
              "      <th>milk_group</th>\n",
              "      <th>airborne_group</th>\n",
              "      <th>aquatic_group</th>\n",
              "      <th>predator_group</th>\n",
              "      <th>toothed_group</th>\n",
              "      <th>backbone_group</th>\n",
              "      <th>breathes_group</th>\n",
              "      <th>venomous_group</th>\n",
              "      <th>fins_group</th>\n",
              "      <th>legs_group</th>\n",
              "      <th>tail_group</th>\n",
              "      <th>domestic_group</th>\n",
              "      <th>catsize_group</th>\n",
              "    </tr>\n",
              "  </thead>\n",
              "  <tbody>\n",
              "    <tr>\n",
              "      <th>0</th>\n",
              "      <td>aardvark</td>\n",
              "      <td>1</td>\n",
              "      <td>0</td>\n",
              "      <td>0</td>\n",
              "      <td>1</td>\n",
              "      <td>0</td>\n",
              "      <td>0</td>\n",
              "      <td>1</td>\n",
              "      <td>1</td>\n",
              "      <td>1</td>\n",
              "      <td>1</td>\n",
              "      <td>0</td>\n",
              "      <td>0</td>\n",
              "      <td>4</td>\n",
              "      <td>0</td>\n",
              "      <td>0</td>\n",
              "      <td>1</td>\n",
              "      <td>1</td>\n",
              "      <td>hair</td>\n",
              "      <td>nofeathers</td>\n",
              "      <td>noeggs</td>\n",
              "      <td>milk</td>\n",
              "      <td>noairborne</td>\n",
              "      <td>noaquatic</td>\n",
              "      <td>predator</td>\n",
              "      <td>toothed</td>\n",
              "      <td>backbone</td>\n",
              "      <td>breathes</td>\n",
              "      <td>novenomous</td>\n",
              "      <td>nofins</td>\n",
              "      <td>4legs</td>\n",
              "      <td>tail</td>\n",
              "      <td>nodomestic</td>\n",
              "      <td>catsize</td>\n",
              "    </tr>\n",
              "    <tr>\n",
              "      <th>1</th>\n",
              "      <td>antelope</td>\n",
              "      <td>1</td>\n",
              "      <td>0</td>\n",
              "      <td>0</td>\n",
              "      <td>1</td>\n",
              "      <td>0</td>\n",
              "      <td>0</td>\n",
              "      <td>0</td>\n",
              "      <td>1</td>\n",
              "      <td>1</td>\n",
              "      <td>1</td>\n",
              "      <td>0</td>\n",
              "      <td>0</td>\n",
              "      <td>4</td>\n",
              "      <td>1</td>\n",
              "      <td>0</td>\n",
              "      <td>1</td>\n",
              "      <td>1</td>\n",
              "      <td>hair</td>\n",
              "      <td>nofeathers</td>\n",
              "      <td>noeggs</td>\n",
              "      <td>milk</td>\n",
              "      <td>noairborne</td>\n",
              "      <td>noaquatic</td>\n",
              "      <td>nopredator</td>\n",
              "      <td>toothed</td>\n",
              "      <td>backbone</td>\n",
              "      <td>breathes</td>\n",
              "      <td>novenomous</td>\n",
              "      <td>nofins</td>\n",
              "      <td>4legs</td>\n",
              "      <td>tail</td>\n",
              "      <td>nodomestic</td>\n",
              "      <td>catsize</td>\n",
              "    </tr>\n",
              "    <tr>\n",
              "      <th>2</th>\n",
              "      <td>bass</td>\n",
              "      <td>0</td>\n",
              "      <td>0</td>\n",
              "      <td>1</td>\n",
              "      <td>0</td>\n",
              "      <td>0</td>\n",
              "      <td>1</td>\n",
              "      <td>1</td>\n",
              "      <td>1</td>\n",
              "      <td>1</td>\n",
              "      <td>0</td>\n",
              "      <td>0</td>\n",
              "      <td>1</td>\n",
              "      <td>0</td>\n",
              "      <td>1</td>\n",
              "      <td>0</td>\n",
              "      <td>0</td>\n",
              "      <td>4</td>\n",
              "      <td>nohair</td>\n",
              "      <td>nofeathers</td>\n",
              "      <td>eggs</td>\n",
              "      <td>nomilk</td>\n",
              "      <td>noairborne</td>\n",
              "      <td>aquatic</td>\n",
              "      <td>predator</td>\n",
              "      <td>toothed</td>\n",
              "      <td>backbone</td>\n",
              "      <td>nobreathes</td>\n",
              "      <td>novenomous</td>\n",
              "      <td>fins</td>\n",
              "      <td>nolegs</td>\n",
              "      <td>tail</td>\n",
              "      <td>nodomestic</td>\n",
              "      <td>nocatsize</td>\n",
              "    </tr>\n",
              "    <tr>\n",
              "      <th>3</th>\n",
              "      <td>bear</td>\n",
              "      <td>1</td>\n",
              "      <td>0</td>\n",
              "      <td>0</td>\n",
              "      <td>1</td>\n",
              "      <td>0</td>\n",
              "      <td>0</td>\n",
              "      <td>1</td>\n",
              "      <td>1</td>\n",
              "      <td>1</td>\n",
              "      <td>1</td>\n",
              "      <td>0</td>\n",
              "      <td>0</td>\n",
              "      <td>4</td>\n",
              "      <td>0</td>\n",
              "      <td>0</td>\n",
              "      <td>1</td>\n",
              "      <td>1</td>\n",
              "      <td>hair</td>\n",
              "      <td>nofeathers</td>\n",
              "      <td>noeggs</td>\n",
              "      <td>milk</td>\n",
              "      <td>noairborne</td>\n",
              "      <td>noaquatic</td>\n",
              "      <td>predator</td>\n",
              "      <td>toothed</td>\n",
              "      <td>backbone</td>\n",
              "      <td>breathes</td>\n",
              "      <td>novenomous</td>\n",
              "      <td>nofins</td>\n",
              "      <td>4legs</td>\n",
              "      <td>tail</td>\n",
              "      <td>nodomestic</td>\n",
              "      <td>catsize</td>\n",
              "    </tr>\n",
              "    <tr>\n",
              "      <th>4</th>\n",
              "      <td>boar</td>\n",
              "      <td>1</td>\n",
              "      <td>0</td>\n",
              "      <td>0</td>\n",
              "      <td>1</td>\n",
              "      <td>0</td>\n",
              "      <td>0</td>\n",
              "      <td>1</td>\n",
              "      <td>1</td>\n",
              "      <td>1</td>\n",
              "      <td>1</td>\n",
              "      <td>0</td>\n",
              "      <td>0</td>\n",
              "      <td>4</td>\n",
              "      <td>1</td>\n",
              "      <td>0</td>\n",
              "      <td>1</td>\n",
              "      <td>1</td>\n",
              "      <td>hair</td>\n",
              "      <td>nofeathers</td>\n",
              "      <td>noeggs</td>\n",
              "      <td>milk</td>\n",
              "      <td>noairborne</td>\n",
              "      <td>noaquatic</td>\n",
              "      <td>predator</td>\n",
              "      <td>toothed</td>\n",
              "      <td>backbone</td>\n",
              "      <td>breathes</td>\n",
              "      <td>novenomous</td>\n",
              "      <td>nofins</td>\n",
              "      <td>4legs</td>\n",
              "      <td>tail</td>\n",
              "      <td>nodomestic</td>\n",
              "      <td>catsize</td>\n",
              "    </tr>\n",
              "    <tr>\n",
              "      <th>...</th>\n",
              "      <td>...</td>\n",
              "      <td>...</td>\n",
              "      <td>...</td>\n",
              "      <td>...</td>\n",
              "      <td>...</td>\n",
              "      <td>...</td>\n",
              "      <td>...</td>\n",
              "      <td>...</td>\n",
              "      <td>...</td>\n",
              "      <td>...</td>\n",
              "      <td>...</td>\n",
              "      <td>...</td>\n",
              "      <td>...</td>\n",
              "      <td>...</td>\n",
              "      <td>...</td>\n",
              "      <td>...</td>\n",
              "      <td>...</td>\n",
              "      <td>...</td>\n",
              "      <td>...</td>\n",
              "      <td>...</td>\n",
              "      <td>...</td>\n",
              "      <td>...</td>\n",
              "      <td>...</td>\n",
              "      <td>...</td>\n",
              "      <td>...</td>\n",
              "      <td>...</td>\n",
              "      <td>...</td>\n",
              "      <td>...</td>\n",
              "      <td>...</td>\n",
              "      <td>...</td>\n",
              "      <td>...</td>\n",
              "      <td>...</td>\n",
              "      <td>...</td>\n",
              "      <td>...</td>\n",
              "    </tr>\n",
              "    <tr>\n",
              "      <th>96</th>\n",
              "      <td>wallaby</td>\n",
              "      <td>1</td>\n",
              "      <td>0</td>\n",
              "      <td>0</td>\n",
              "      <td>1</td>\n",
              "      <td>0</td>\n",
              "      <td>0</td>\n",
              "      <td>0</td>\n",
              "      <td>1</td>\n",
              "      <td>1</td>\n",
              "      <td>1</td>\n",
              "      <td>0</td>\n",
              "      <td>0</td>\n",
              "      <td>2</td>\n",
              "      <td>1</td>\n",
              "      <td>0</td>\n",
              "      <td>1</td>\n",
              "      <td>1</td>\n",
              "      <td>hair</td>\n",
              "      <td>nofeathers</td>\n",
              "      <td>noeggs</td>\n",
              "      <td>milk</td>\n",
              "      <td>noairborne</td>\n",
              "      <td>noaquatic</td>\n",
              "      <td>nopredator</td>\n",
              "      <td>toothed</td>\n",
              "      <td>backbone</td>\n",
              "      <td>breathes</td>\n",
              "      <td>novenomous</td>\n",
              "      <td>nofins</td>\n",
              "      <td>2legs</td>\n",
              "      <td>tail</td>\n",
              "      <td>nodomestic</td>\n",
              "      <td>catsize</td>\n",
              "    </tr>\n",
              "    <tr>\n",
              "      <th>97</th>\n",
              "      <td>wasp</td>\n",
              "      <td>1</td>\n",
              "      <td>0</td>\n",
              "      <td>1</td>\n",
              "      <td>0</td>\n",
              "      <td>1</td>\n",
              "      <td>0</td>\n",
              "      <td>0</td>\n",
              "      <td>0</td>\n",
              "      <td>0</td>\n",
              "      <td>1</td>\n",
              "      <td>1</td>\n",
              "      <td>0</td>\n",
              "      <td>6</td>\n",
              "      <td>0</td>\n",
              "      <td>0</td>\n",
              "      <td>0</td>\n",
              "      <td>6</td>\n",
              "      <td>hair</td>\n",
              "      <td>nofeathers</td>\n",
              "      <td>eggs</td>\n",
              "      <td>nomilk</td>\n",
              "      <td>airborne</td>\n",
              "      <td>noaquatic</td>\n",
              "      <td>nopredator</td>\n",
              "      <td>notoothed</td>\n",
              "      <td>nobackbone</td>\n",
              "      <td>breathes</td>\n",
              "      <td>venomous</td>\n",
              "      <td>nofins</td>\n",
              "      <td>6legs</td>\n",
              "      <td>tail</td>\n",
              "      <td>nodomestic</td>\n",
              "      <td>nocatsize</td>\n",
              "    </tr>\n",
              "    <tr>\n",
              "      <th>98</th>\n",
              "      <td>wolf</td>\n",
              "      <td>1</td>\n",
              "      <td>0</td>\n",
              "      <td>0</td>\n",
              "      <td>1</td>\n",
              "      <td>0</td>\n",
              "      <td>0</td>\n",
              "      <td>1</td>\n",
              "      <td>1</td>\n",
              "      <td>1</td>\n",
              "      <td>1</td>\n",
              "      <td>0</td>\n",
              "      <td>0</td>\n",
              "      <td>4</td>\n",
              "      <td>1</td>\n",
              "      <td>0</td>\n",
              "      <td>1</td>\n",
              "      <td>1</td>\n",
              "      <td>hair</td>\n",
              "      <td>nofeathers</td>\n",
              "      <td>noeggs</td>\n",
              "      <td>milk</td>\n",
              "      <td>noairborne</td>\n",
              "      <td>noaquatic</td>\n",
              "      <td>predator</td>\n",
              "      <td>toothed</td>\n",
              "      <td>backbone</td>\n",
              "      <td>breathes</td>\n",
              "      <td>novenomous</td>\n",
              "      <td>nofins</td>\n",
              "      <td>4legs</td>\n",
              "      <td>tail</td>\n",
              "      <td>nodomestic</td>\n",
              "      <td>catsize</td>\n",
              "    </tr>\n",
              "    <tr>\n",
              "      <th>99</th>\n",
              "      <td>worm</td>\n",
              "      <td>0</td>\n",
              "      <td>0</td>\n",
              "      <td>1</td>\n",
              "      <td>0</td>\n",
              "      <td>0</td>\n",
              "      <td>0</td>\n",
              "      <td>0</td>\n",
              "      <td>0</td>\n",
              "      <td>0</td>\n",
              "      <td>1</td>\n",
              "      <td>0</td>\n",
              "      <td>0</td>\n",
              "      <td>0</td>\n",
              "      <td>0</td>\n",
              "      <td>0</td>\n",
              "      <td>0</td>\n",
              "      <td>7</td>\n",
              "      <td>nohair</td>\n",
              "      <td>nofeathers</td>\n",
              "      <td>eggs</td>\n",
              "      <td>nomilk</td>\n",
              "      <td>noairborne</td>\n",
              "      <td>noaquatic</td>\n",
              "      <td>nopredator</td>\n",
              "      <td>notoothed</td>\n",
              "      <td>nobackbone</td>\n",
              "      <td>breathes</td>\n",
              "      <td>novenomous</td>\n",
              "      <td>nofins</td>\n",
              "      <td>nolegs</td>\n",
              "      <td>tail</td>\n",
              "      <td>nodomestic</td>\n",
              "      <td>nocatsize</td>\n",
              "    </tr>\n",
              "    <tr>\n",
              "      <th>100</th>\n",
              "      <td>wren</td>\n",
              "      <td>0</td>\n",
              "      <td>1</td>\n",
              "      <td>1</td>\n",
              "      <td>0</td>\n",
              "      <td>1</td>\n",
              "      <td>0</td>\n",
              "      <td>0</td>\n",
              "      <td>0</td>\n",
              "      <td>1</td>\n",
              "      <td>1</td>\n",
              "      <td>0</td>\n",
              "      <td>0</td>\n",
              "      <td>2</td>\n",
              "      <td>1</td>\n",
              "      <td>0</td>\n",
              "      <td>0</td>\n",
              "      <td>2</td>\n",
              "      <td>nohair</td>\n",
              "      <td>feathers</td>\n",
              "      <td>eggs</td>\n",
              "      <td>nomilk</td>\n",
              "      <td>airborne</td>\n",
              "      <td>noaquatic</td>\n",
              "      <td>nopredator</td>\n",
              "      <td>notoothed</td>\n",
              "      <td>backbone</td>\n",
              "      <td>breathes</td>\n",
              "      <td>novenomous</td>\n",
              "      <td>nofins</td>\n",
              "      <td>2legs</td>\n",
              "      <td>tail</td>\n",
              "      <td>nodomestic</td>\n",
              "      <td>nocatsize</td>\n",
              "    </tr>\n",
              "  </tbody>\n",
              "</table>\n",
              "<p>101 rows × 34 columns</p>\n",
              "</div>"
            ],
            "text/plain": [
              "    animal_name  hair  feathers  ...  tail_group  domestic_group  catsize_group\n",
              "0      aardvark     1         0  ...        tail      nodomestic        catsize\n",
              "1      antelope     1         0  ...        tail      nodomestic        catsize\n",
              "2          bass     0         0  ...        tail      nodomestic      nocatsize\n",
              "3          bear     1         0  ...        tail      nodomestic        catsize\n",
              "4          boar     1         0  ...        tail      nodomestic        catsize\n",
              "..          ...   ...       ...  ...         ...             ...            ...\n",
              "96      wallaby     1         0  ...        tail      nodomestic        catsize\n",
              "97         wasp     1         0  ...        tail      nodomestic      nocatsize\n",
              "98         wolf     1         0  ...        tail      nodomestic        catsize\n",
              "99         worm     0         0  ...        tail      nodomestic      nocatsize\n",
              "100        wren     0         1  ...        tail      nodomestic      nocatsize\n",
              "\n",
              "[101 rows x 34 columns]"
            ]
          },
          "metadata": {
            "tags": []
          },
          "execution_count": 27
        }
      ]
    },
    {
      "cell_type": "markdown",
      "metadata": {
        "id": "fvXHEZ9t-ff8"
      },
      "source": [
        "จาก zoo_type1 ดึงข้อมูลมาเฉพาะ คอลัมน์ที่เราต้องการ นั่นคือ animal_name และ ลักษณะทั้ง 16 ลักษณะ  ให้อยู่ในตัวแปลชื่อ zoo_type2"
      ]
    },
    {
      "cell_type": "code",
      "metadata": {
        "colab": {
          "base_uri": "https://localhost:8080/",
          "height": 435
        },
        "id": "xEX4pSUt-ds4",
        "outputId": "4605506d-dda5-4347-b083-6bf848c2f857"
      },
      "source": [
        "zoo_type2 = zoo_type1[['animal_name','hair_group','feathers_group', 'eggs_group', 'milk_group', 'airborne_group', 'aquatic_group', 'predator_group', 'toothed_group', 'backbone_group', 'breathes_group', 'venomous_group', 'fins_group', 'legs_group','tail_group', 'domestic_group', 'catsize_group' ]]\n",
        "zoo_type2"
      ],
      "execution_count": 28,
      "outputs": [
        {
          "output_type": "execute_result",
          "data": {
            "text/html": [
              "<div>\n",
              "<style scoped>\n",
              "    .dataframe tbody tr th:only-of-type {\n",
              "        vertical-align: middle;\n",
              "    }\n",
              "\n",
              "    .dataframe tbody tr th {\n",
              "        vertical-align: top;\n",
              "    }\n",
              "\n",
              "    .dataframe thead th {\n",
              "        text-align: right;\n",
              "    }\n",
              "</style>\n",
              "<table border=\"1\" class=\"dataframe\">\n",
              "  <thead>\n",
              "    <tr style=\"text-align: right;\">\n",
              "      <th></th>\n",
              "      <th>animal_name</th>\n",
              "      <th>hair_group</th>\n",
              "      <th>feathers_group</th>\n",
              "      <th>eggs_group</th>\n",
              "      <th>milk_group</th>\n",
              "      <th>airborne_group</th>\n",
              "      <th>aquatic_group</th>\n",
              "      <th>predator_group</th>\n",
              "      <th>toothed_group</th>\n",
              "      <th>backbone_group</th>\n",
              "      <th>breathes_group</th>\n",
              "      <th>venomous_group</th>\n",
              "      <th>fins_group</th>\n",
              "      <th>legs_group</th>\n",
              "      <th>tail_group</th>\n",
              "      <th>domestic_group</th>\n",
              "      <th>catsize_group</th>\n",
              "    </tr>\n",
              "  </thead>\n",
              "  <tbody>\n",
              "    <tr>\n",
              "      <th>0</th>\n",
              "      <td>aardvark</td>\n",
              "      <td>hair</td>\n",
              "      <td>nofeathers</td>\n",
              "      <td>noeggs</td>\n",
              "      <td>milk</td>\n",
              "      <td>noairborne</td>\n",
              "      <td>noaquatic</td>\n",
              "      <td>predator</td>\n",
              "      <td>toothed</td>\n",
              "      <td>backbone</td>\n",
              "      <td>breathes</td>\n",
              "      <td>novenomous</td>\n",
              "      <td>nofins</td>\n",
              "      <td>4legs</td>\n",
              "      <td>tail</td>\n",
              "      <td>nodomestic</td>\n",
              "      <td>catsize</td>\n",
              "    </tr>\n",
              "    <tr>\n",
              "      <th>1</th>\n",
              "      <td>antelope</td>\n",
              "      <td>hair</td>\n",
              "      <td>nofeathers</td>\n",
              "      <td>noeggs</td>\n",
              "      <td>milk</td>\n",
              "      <td>noairborne</td>\n",
              "      <td>noaquatic</td>\n",
              "      <td>nopredator</td>\n",
              "      <td>toothed</td>\n",
              "      <td>backbone</td>\n",
              "      <td>breathes</td>\n",
              "      <td>novenomous</td>\n",
              "      <td>nofins</td>\n",
              "      <td>4legs</td>\n",
              "      <td>tail</td>\n",
              "      <td>nodomestic</td>\n",
              "      <td>catsize</td>\n",
              "    </tr>\n",
              "    <tr>\n",
              "      <th>2</th>\n",
              "      <td>bass</td>\n",
              "      <td>nohair</td>\n",
              "      <td>nofeathers</td>\n",
              "      <td>eggs</td>\n",
              "      <td>nomilk</td>\n",
              "      <td>noairborne</td>\n",
              "      <td>aquatic</td>\n",
              "      <td>predator</td>\n",
              "      <td>toothed</td>\n",
              "      <td>backbone</td>\n",
              "      <td>nobreathes</td>\n",
              "      <td>novenomous</td>\n",
              "      <td>fins</td>\n",
              "      <td>nolegs</td>\n",
              "      <td>tail</td>\n",
              "      <td>nodomestic</td>\n",
              "      <td>nocatsize</td>\n",
              "    </tr>\n",
              "    <tr>\n",
              "      <th>3</th>\n",
              "      <td>bear</td>\n",
              "      <td>hair</td>\n",
              "      <td>nofeathers</td>\n",
              "      <td>noeggs</td>\n",
              "      <td>milk</td>\n",
              "      <td>noairborne</td>\n",
              "      <td>noaquatic</td>\n",
              "      <td>predator</td>\n",
              "      <td>toothed</td>\n",
              "      <td>backbone</td>\n",
              "      <td>breathes</td>\n",
              "      <td>novenomous</td>\n",
              "      <td>nofins</td>\n",
              "      <td>4legs</td>\n",
              "      <td>tail</td>\n",
              "      <td>nodomestic</td>\n",
              "      <td>catsize</td>\n",
              "    </tr>\n",
              "    <tr>\n",
              "      <th>4</th>\n",
              "      <td>boar</td>\n",
              "      <td>hair</td>\n",
              "      <td>nofeathers</td>\n",
              "      <td>noeggs</td>\n",
              "      <td>milk</td>\n",
              "      <td>noairborne</td>\n",
              "      <td>noaquatic</td>\n",
              "      <td>predator</td>\n",
              "      <td>toothed</td>\n",
              "      <td>backbone</td>\n",
              "      <td>breathes</td>\n",
              "      <td>novenomous</td>\n",
              "      <td>nofins</td>\n",
              "      <td>4legs</td>\n",
              "      <td>tail</td>\n",
              "      <td>nodomestic</td>\n",
              "      <td>catsize</td>\n",
              "    </tr>\n",
              "    <tr>\n",
              "      <th>...</th>\n",
              "      <td>...</td>\n",
              "      <td>...</td>\n",
              "      <td>...</td>\n",
              "      <td>...</td>\n",
              "      <td>...</td>\n",
              "      <td>...</td>\n",
              "      <td>...</td>\n",
              "      <td>...</td>\n",
              "      <td>...</td>\n",
              "      <td>...</td>\n",
              "      <td>...</td>\n",
              "      <td>...</td>\n",
              "      <td>...</td>\n",
              "      <td>...</td>\n",
              "      <td>...</td>\n",
              "      <td>...</td>\n",
              "      <td>...</td>\n",
              "    </tr>\n",
              "    <tr>\n",
              "      <th>96</th>\n",
              "      <td>wallaby</td>\n",
              "      <td>hair</td>\n",
              "      <td>nofeathers</td>\n",
              "      <td>noeggs</td>\n",
              "      <td>milk</td>\n",
              "      <td>noairborne</td>\n",
              "      <td>noaquatic</td>\n",
              "      <td>nopredator</td>\n",
              "      <td>toothed</td>\n",
              "      <td>backbone</td>\n",
              "      <td>breathes</td>\n",
              "      <td>novenomous</td>\n",
              "      <td>nofins</td>\n",
              "      <td>2legs</td>\n",
              "      <td>tail</td>\n",
              "      <td>nodomestic</td>\n",
              "      <td>catsize</td>\n",
              "    </tr>\n",
              "    <tr>\n",
              "      <th>97</th>\n",
              "      <td>wasp</td>\n",
              "      <td>hair</td>\n",
              "      <td>nofeathers</td>\n",
              "      <td>eggs</td>\n",
              "      <td>nomilk</td>\n",
              "      <td>airborne</td>\n",
              "      <td>noaquatic</td>\n",
              "      <td>nopredator</td>\n",
              "      <td>notoothed</td>\n",
              "      <td>nobackbone</td>\n",
              "      <td>breathes</td>\n",
              "      <td>venomous</td>\n",
              "      <td>nofins</td>\n",
              "      <td>6legs</td>\n",
              "      <td>tail</td>\n",
              "      <td>nodomestic</td>\n",
              "      <td>nocatsize</td>\n",
              "    </tr>\n",
              "    <tr>\n",
              "      <th>98</th>\n",
              "      <td>wolf</td>\n",
              "      <td>hair</td>\n",
              "      <td>nofeathers</td>\n",
              "      <td>noeggs</td>\n",
              "      <td>milk</td>\n",
              "      <td>noairborne</td>\n",
              "      <td>noaquatic</td>\n",
              "      <td>predator</td>\n",
              "      <td>toothed</td>\n",
              "      <td>backbone</td>\n",
              "      <td>breathes</td>\n",
              "      <td>novenomous</td>\n",
              "      <td>nofins</td>\n",
              "      <td>4legs</td>\n",
              "      <td>tail</td>\n",
              "      <td>nodomestic</td>\n",
              "      <td>catsize</td>\n",
              "    </tr>\n",
              "    <tr>\n",
              "      <th>99</th>\n",
              "      <td>worm</td>\n",
              "      <td>nohair</td>\n",
              "      <td>nofeathers</td>\n",
              "      <td>eggs</td>\n",
              "      <td>nomilk</td>\n",
              "      <td>noairborne</td>\n",
              "      <td>noaquatic</td>\n",
              "      <td>nopredator</td>\n",
              "      <td>notoothed</td>\n",
              "      <td>nobackbone</td>\n",
              "      <td>breathes</td>\n",
              "      <td>novenomous</td>\n",
              "      <td>nofins</td>\n",
              "      <td>nolegs</td>\n",
              "      <td>tail</td>\n",
              "      <td>nodomestic</td>\n",
              "      <td>nocatsize</td>\n",
              "    </tr>\n",
              "    <tr>\n",
              "      <th>100</th>\n",
              "      <td>wren</td>\n",
              "      <td>nohair</td>\n",
              "      <td>feathers</td>\n",
              "      <td>eggs</td>\n",
              "      <td>nomilk</td>\n",
              "      <td>airborne</td>\n",
              "      <td>noaquatic</td>\n",
              "      <td>nopredator</td>\n",
              "      <td>notoothed</td>\n",
              "      <td>backbone</td>\n",
              "      <td>breathes</td>\n",
              "      <td>novenomous</td>\n",
              "      <td>nofins</td>\n",
              "      <td>2legs</td>\n",
              "      <td>tail</td>\n",
              "      <td>nodomestic</td>\n",
              "      <td>nocatsize</td>\n",
              "    </tr>\n",
              "  </tbody>\n",
              "</table>\n",
              "<p>101 rows × 17 columns</p>\n",
              "</div>"
            ],
            "text/plain": [
              "    animal_name hair_group  ... domestic_group catsize_group\n",
              "0      aardvark       hair  ...     nodomestic       catsize\n",
              "1      antelope       hair  ...     nodomestic       catsize\n",
              "2          bass     nohair  ...     nodomestic     nocatsize\n",
              "3          bear       hair  ...     nodomestic       catsize\n",
              "4          boar       hair  ...     nodomestic       catsize\n",
              "..          ...        ...  ...            ...           ...\n",
              "96      wallaby       hair  ...     nodomestic       catsize\n",
              "97         wasp       hair  ...     nodomestic     nocatsize\n",
              "98         wolf       hair  ...     nodomestic       catsize\n",
              "99         worm     nohair  ...     nodomestic     nocatsize\n",
              "100        wren     nohair  ...     nodomestic     nocatsize\n",
              "\n",
              "[101 rows x 17 columns]"
            ]
          },
          "metadata": {
            "tags": []
          },
          "execution_count": 28
        }
      ]
    },
    {
      "cell_type": "code",
      "metadata": {
        "colab": {
          "base_uri": "https://localhost:8080/"
        },
        "id": "-ILL6MEw-doU",
        "outputId": "870bcc1f-5f06-4a36-96d5-315480a83ae7"
      },
      "source": [
        "zoo_type2.isnull().any().any()      #เป็นการเช็คว่า isnull หรือไม่ จะเห็นว่าจากข้อมูลนี้ ไม่มีค่า null"
      ],
      "execution_count": 29,
      "outputs": [
        {
          "output_type": "execute_result",
          "data": {
            "text/plain": [
              "False"
            ]
          },
          "metadata": {
            "tags": []
          },
          "execution_count": 29
        }
      ]
    },
    {
      "cell_type": "markdown",
      "metadata": {
        "id": "QlX1eJiJBlXA"
      },
      "source": [
        "# Association ของแต่ละลักษณะ"
      ]
    },
    {
      "cell_type": "code",
      "metadata": {
        "colab": {
          "base_uri": "https://localhost:8080/"
        },
        "id": "9_7eWWmXCVdV",
        "outputId": "8a8a9f13-ce52-4179-c982-043d4a93f743"
      },
      "source": [
        "!pip install apyori\n",
        "import numpy as np\n",
        "import matplotlib.pyplot as plt\n",
        "from apyori import apriori"
      ],
      "execution_count": 30,
      "outputs": [
        {
          "output_type": "stream",
          "text": [
            "Collecting apyori\n",
            "  Downloading https://files.pythonhosted.org/packages/5e/62/5ffde5c473ea4b033490617ec5caa80d59804875ad3c3c57c0976533a21a/apyori-1.1.2.tar.gz\n",
            "Building wheels for collected packages: apyori\n",
            "  Building wheel for apyori (setup.py) ... \u001b[?25l\u001b[?25hdone\n",
            "  Created wheel for apyori: filename=apyori-1.1.2-cp36-none-any.whl size=5975 sha256=454d89b2fb9aa6f6f65f3e44518ef49f26a0f0a6581c7f13c02cc06f62599650\n",
            "  Stored in directory: /root/.cache/pip/wheels/5d/92/bb/474bbadbc8c0062b9eb168f69982a0443263f8ab1711a8cad0\n",
            "Successfully built apyori\n",
            "Installing collected packages: apyori\n",
            "Successfully installed apyori-1.1.2\n"
          ],
          "name": "stdout"
        }
      ]
    },
    {
      "cell_type": "code",
      "metadata": {
        "id": "gFAGOW7UCBzR"
      },
      "source": [
        "#Convert data to list\n",
        "transacs = []                                                                                 #กำหนดให้ transacs เป็น list ว่าง สำหรับนำข้อมูลมาใส่\n",
        "for i in range(0,len(zoo_type2)):                                                     # range(0,len(zoo_type2)) คือ แถวที่ 0 ถึง 100 ของตาราง zoo_type2\n",
        "  transacs.append([str(zoo_type2.values[i,j]) for j in range(1,17)])      #zoo_type2.values เป็นการดูข้อมูลเรียงตาคอลัมน์ คือ คอลัมน์ที่ 1 ถึง 17   .append คือการเพิ่มข้อมูลเข้าไปใน list\n",
        "transacs                                                                                        #จะได้ list ที่แยกแต่ละ transection (สัตว์แต่ละตัว)"
      ],
      "execution_count": null,
      "outputs": []
    },
    {
      "cell_type": "markdown",
      "metadata": {
        "id": "G5NtJQ7DSW-z"
      },
      "source": [
        " Association เพื่อหารูปแบบ"
      ]
    },
    {
      "cell_type": "code",
      "metadata": {
        "colab": {
          "base_uri": "https://localhost:8080/"
        },
        "id": "LswakmdhCIaN",
        "outputId": "27613c62-7e11-443d-ab3c-ba6be6ccf1de"
      },
      "source": [
        "asso = list(apriori(transacs,min_support = 0.8, min_confidence = 0.7))\n",
        "asso"
      ],
      "execution_count": 32,
      "outputs": [
        {
          "output_type": "execute_result",
          "data": {
            "text/plain": [
              "[RelationRecord(items=frozenset({'backbone'}), support=0.8217821782178217, ordered_statistics=[OrderedStatistic(items_base=frozenset(), items_add=frozenset({'backbone'}), confidence=0.8217821782178217, lift=1.0)]),\n",
              " RelationRecord(items=frozenset({'nodomestic'}), support=0.8712871287128713, ordered_statistics=[OrderedStatistic(items_base=frozenset(), items_add=frozenset({'nodomestic'}), confidence=0.8712871287128713, lift=1.0)]),\n",
              " RelationRecord(items=frozenset({'nofeathers'}), support=0.801980198019802, ordered_statistics=[OrderedStatistic(items_base=frozenset(), items_add=frozenset({'nofeathers'}), confidence=0.801980198019802, lift=1.0)]),\n",
              " RelationRecord(items=frozenset({'nofins'}), support=0.8316831683168316, ordered_statistics=[OrderedStatistic(items_base=frozenset(), items_add=frozenset({'nofins'}), confidence=0.8316831683168316, lift=1.0)]),\n",
              " RelationRecord(items=frozenset({'novenomous'}), support=0.9207920792079208, ordered_statistics=[OrderedStatistic(items_base=frozenset(), items_add=frozenset({'novenomous'}), confidence=0.9207920792079208, lift=1.0)]),\n",
              " RelationRecord(items=frozenset({'tail'}), support=1.0, ordered_statistics=[OrderedStatistic(items_base=frozenset(), items_add=frozenset({'tail'}), confidence=1.0, lift=1.0)]),\n",
              " RelationRecord(items=frozenset({'backbone', 'tail'}), support=0.8217821782178217, ordered_statistics=[OrderedStatistic(items_base=frozenset(), items_add=frozenset({'backbone', 'tail'}), confidence=0.8217821782178217, lift=1.0), OrderedStatistic(items_base=frozenset({'backbone'}), items_add=frozenset({'tail'}), confidence=1.0, lift=1.0), OrderedStatistic(items_base=frozenset({'tail'}), items_add=frozenset({'backbone'}), confidence=0.8217821782178217, lift=1.0)]),\n",
              " RelationRecord(items=frozenset({'nodomestic', 'novenomous'}), support=0.801980198019802, ordered_statistics=[OrderedStatistic(items_base=frozenset(), items_add=frozenset({'nodomestic', 'novenomous'}), confidence=0.801980198019802, lift=1.0), OrderedStatistic(items_base=frozenset({'nodomestic'}), items_add=frozenset({'novenomous'}), confidence=0.9204545454545455, lift=0.999633431085044), OrderedStatistic(items_base=frozenset({'novenomous'}), items_add=frozenset({'nodomestic'}), confidence=0.8709677419354839, lift=0.999633431085044)]),\n",
              " RelationRecord(items=frozenset({'nodomestic', 'tail'}), support=0.8712871287128713, ordered_statistics=[OrderedStatistic(items_base=frozenset(), items_add=frozenset({'nodomestic', 'tail'}), confidence=0.8712871287128713, lift=1.0), OrderedStatistic(items_base=frozenset({'nodomestic'}), items_add=frozenset({'tail'}), confidence=1.0, lift=1.0), OrderedStatistic(items_base=frozenset({'tail'}), items_add=frozenset({'nodomestic'}), confidence=0.8712871287128713, lift=1.0)]),\n",
              " RelationRecord(items=frozenset({'nofeathers', 'tail'}), support=0.801980198019802, ordered_statistics=[OrderedStatistic(items_base=frozenset(), items_add=frozenset({'nofeathers', 'tail'}), confidence=0.801980198019802, lift=1.0), OrderedStatistic(items_base=frozenset({'nofeathers'}), items_add=frozenset({'tail'}), confidence=1.0, lift=1.0), OrderedStatistic(items_base=frozenset({'tail'}), items_add=frozenset({'nofeathers'}), confidence=0.801980198019802, lift=1.0)]),\n",
              " RelationRecord(items=frozenset({'nofins', 'tail'}), support=0.8316831683168316, ordered_statistics=[OrderedStatistic(items_base=frozenset(), items_add=frozenset({'nofins', 'tail'}), confidence=0.8316831683168316, lift=1.0), OrderedStatistic(items_base=frozenset({'nofins'}), items_add=frozenset({'tail'}), confidence=1.0, lift=1.0), OrderedStatistic(items_base=frozenset({'tail'}), items_add=frozenset({'nofins'}), confidence=0.8316831683168316, lift=1.0)]),\n",
              " RelationRecord(items=frozenset({'novenomous', 'tail'}), support=0.9207920792079208, ordered_statistics=[OrderedStatistic(items_base=frozenset(), items_add=frozenset({'novenomous', 'tail'}), confidence=0.9207920792079208, lift=1.0), OrderedStatistic(items_base=frozenset({'novenomous'}), items_add=frozenset({'tail'}), confidence=1.0, lift=1.0), OrderedStatistic(items_base=frozenset({'tail'}), items_add=frozenset({'novenomous'}), confidence=0.9207920792079208, lift=1.0)]),\n",
              " RelationRecord(items=frozenset({'nodomestic', 'novenomous', 'tail'}), support=0.801980198019802, ordered_statistics=[OrderedStatistic(items_base=frozenset(), items_add=frozenset({'nodomestic', 'novenomous', 'tail'}), confidence=0.801980198019802, lift=1.0), OrderedStatistic(items_base=frozenset({'nodomestic'}), items_add=frozenset({'novenomous', 'tail'}), confidence=0.9204545454545455, lift=0.999633431085044), OrderedStatistic(items_base=frozenset({'novenomous'}), items_add=frozenset({'nodomestic', 'tail'}), confidence=0.8709677419354839, lift=0.999633431085044), OrderedStatistic(items_base=frozenset({'tail'}), items_add=frozenset({'nodomestic', 'novenomous'}), confidence=0.801980198019802, lift=1.0), OrderedStatistic(items_base=frozenset({'nodomestic', 'novenomous'}), items_add=frozenset({'tail'}), confidence=1.0, lift=1.0), OrderedStatistic(items_base=frozenset({'nodomestic', 'tail'}), items_add=frozenset({'novenomous'}), confidence=0.9204545454545455, lift=0.999633431085044), OrderedStatistic(items_base=frozenset({'novenomous', 'tail'}), items_add=frozenset({'nodomestic'}), confidence=0.8709677419354839, lift=0.999633431085044)])]"
            ]
          },
          "metadata": {
            "tags": []
          },
          "execution_count": 32
        }
      ]
    },
    {
      "cell_type": "markdown",
      "metadata": {
        "id": "pJOlekpFofL2"
      },
      "source": [
        "#### จะเห็นว่าลักษณะสัตว์ที่ไม่มีพิษ มีโอกาสที่จะมีหางด้วยอยู่ที่ 92.08 %  \n",
        "#### lift เท่ากับ 1 คือ ลักษณะทั้งสองมีความสัมพันธ์กัน\n"
      ]
    },
    {
      "cell_type": "markdown",
      "metadata": {
        "id": "1bcSu7xwCmaA"
      },
      "source": [
        "# Association ของแต่ละประเภท"
      ]
    },
    {
      "cell_type": "markdown",
      "metadata": {
        "id": "cBN8K-2mJ6Mj"
      },
      "source": [
        "### ดึงส่วนของข้อมูลที่ทำการเปลี่ยนค่าแล้วออกมา"
      ]
    },
    {
      "cell_type": "code",
      "metadata": {
        "colab": {
          "base_uri": "https://localhost:8080/",
          "height": 218
        },
        "id": "zc1pQhT4Cs3U",
        "outputId": "d602233d-4a8d-49e9-8eb1-ed12d1c650f1"
      },
      "source": [
        "class_zoo = zoo_type1[['class_type','animal_name','hair_group','feathers_group', 'eggs_group', 'milk_group', 'airborne_group', 'aquatic_group', 'predator_group', 'toothed_group', 'backbone_group', 'breathes_group', 'venomous_group', 'fins_group', 'legs_group','tail_group', 'domestic_group', 'catsize_group' ]]\n",
        "class_zoo.head()"
      ],
      "execution_count": null,
      "outputs": [
        {
          "output_type": "execute_result",
          "data": {
            "text/html": [
              "<div>\n",
              "<style scoped>\n",
              "    .dataframe tbody tr th:only-of-type {\n",
              "        vertical-align: middle;\n",
              "    }\n",
              "\n",
              "    .dataframe tbody tr th {\n",
              "        vertical-align: top;\n",
              "    }\n",
              "\n",
              "    .dataframe thead th {\n",
              "        text-align: right;\n",
              "    }\n",
              "</style>\n",
              "<table border=\"1\" class=\"dataframe\">\n",
              "  <thead>\n",
              "    <tr style=\"text-align: right;\">\n",
              "      <th></th>\n",
              "      <th>class_type</th>\n",
              "      <th>animal_name</th>\n",
              "      <th>hair_group</th>\n",
              "      <th>feathers_group</th>\n",
              "      <th>eggs_group</th>\n",
              "      <th>milk_group</th>\n",
              "      <th>airborne_group</th>\n",
              "      <th>aquatic_group</th>\n",
              "      <th>predator_group</th>\n",
              "      <th>toothed_group</th>\n",
              "      <th>backbone_group</th>\n",
              "      <th>breathes_group</th>\n",
              "      <th>venomous_group</th>\n",
              "      <th>fins_group</th>\n",
              "      <th>legs_group</th>\n",
              "      <th>tail_group</th>\n",
              "      <th>domestic_group</th>\n",
              "      <th>catsize_group</th>\n",
              "    </tr>\n",
              "  </thead>\n",
              "  <tbody>\n",
              "    <tr>\n",
              "      <th>0</th>\n",
              "      <td>1</td>\n",
              "      <td>aardvark</td>\n",
              "      <td>hair</td>\n",
              "      <td>nofeathers</td>\n",
              "      <td>noeggs</td>\n",
              "      <td>milk</td>\n",
              "      <td>noairborne</td>\n",
              "      <td>noaquatic</td>\n",
              "      <td>predator</td>\n",
              "      <td>toothed</td>\n",
              "      <td>backbone</td>\n",
              "      <td>breathes</td>\n",
              "      <td>novenomous</td>\n",
              "      <td>nofins</td>\n",
              "      <td>4legs</td>\n",
              "      <td>tail</td>\n",
              "      <td>nodomestic</td>\n",
              "      <td>catsize</td>\n",
              "    </tr>\n",
              "    <tr>\n",
              "      <th>1</th>\n",
              "      <td>1</td>\n",
              "      <td>antelope</td>\n",
              "      <td>hair</td>\n",
              "      <td>nofeathers</td>\n",
              "      <td>noeggs</td>\n",
              "      <td>milk</td>\n",
              "      <td>noairborne</td>\n",
              "      <td>noaquatic</td>\n",
              "      <td>nopredator</td>\n",
              "      <td>toothed</td>\n",
              "      <td>backbone</td>\n",
              "      <td>breathes</td>\n",
              "      <td>novenomous</td>\n",
              "      <td>nofins</td>\n",
              "      <td>4legs</td>\n",
              "      <td>tail</td>\n",
              "      <td>nodomestic</td>\n",
              "      <td>catsize</td>\n",
              "    </tr>\n",
              "    <tr>\n",
              "      <th>2</th>\n",
              "      <td>4</td>\n",
              "      <td>bass</td>\n",
              "      <td>nohair</td>\n",
              "      <td>nofeathers</td>\n",
              "      <td>eggs</td>\n",
              "      <td>nomilk</td>\n",
              "      <td>noairborne</td>\n",
              "      <td>aquatic</td>\n",
              "      <td>predator</td>\n",
              "      <td>toothed</td>\n",
              "      <td>backbone</td>\n",
              "      <td>nobreathes</td>\n",
              "      <td>novenomous</td>\n",
              "      <td>fins</td>\n",
              "      <td>nolegs</td>\n",
              "      <td>tail</td>\n",
              "      <td>nodomestic</td>\n",
              "      <td>nocatsize</td>\n",
              "    </tr>\n",
              "    <tr>\n",
              "      <th>3</th>\n",
              "      <td>1</td>\n",
              "      <td>bear</td>\n",
              "      <td>hair</td>\n",
              "      <td>nofeathers</td>\n",
              "      <td>noeggs</td>\n",
              "      <td>milk</td>\n",
              "      <td>noairborne</td>\n",
              "      <td>noaquatic</td>\n",
              "      <td>predator</td>\n",
              "      <td>toothed</td>\n",
              "      <td>backbone</td>\n",
              "      <td>breathes</td>\n",
              "      <td>novenomous</td>\n",
              "      <td>nofins</td>\n",
              "      <td>4legs</td>\n",
              "      <td>tail</td>\n",
              "      <td>nodomestic</td>\n",
              "      <td>catsize</td>\n",
              "    </tr>\n",
              "    <tr>\n",
              "      <th>4</th>\n",
              "      <td>1</td>\n",
              "      <td>boar</td>\n",
              "      <td>hair</td>\n",
              "      <td>nofeathers</td>\n",
              "      <td>noeggs</td>\n",
              "      <td>milk</td>\n",
              "      <td>noairborne</td>\n",
              "      <td>noaquatic</td>\n",
              "      <td>predator</td>\n",
              "      <td>toothed</td>\n",
              "      <td>backbone</td>\n",
              "      <td>breathes</td>\n",
              "      <td>novenomous</td>\n",
              "      <td>nofins</td>\n",
              "      <td>4legs</td>\n",
              "      <td>tail</td>\n",
              "      <td>nodomestic</td>\n",
              "      <td>catsize</td>\n",
              "    </tr>\n",
              "  </tbody>\n",
              "</table>\n",
              "</div>"
            ],
            "text/plain": [
              "   class_type animal_name hair_group  ... tail_group domestic_group catsize_group\n",
              "0           1    aardvark       hair  ...       tail     nodomestic       catsize\n",
              "1           1    antelope       hair  ...       tail     nodomestic       catsize\n",
              "2           4        bass     nohair  ...       tail     nodomestic     nocatsize\n",
              "3           1        bear       hair  ...       tail     nodomestic       catsize\n",
              "4           1        boar       hair  ...       tail     nodomestic       catsize\n",
              "\n",
              "[5 rows x 18 columns]"
            ]
          },
          "metadata": {
            "tags": []
          },
          "execution_count": 34
        }
      ]
    },
    {
      "cell_type": "markdown",
      "metadata": {
        "id": "dA3LasIFJ2Tq"
      },
      "source": [
        "### ทำการรวมตาราง"
      ]
    },
    {
      "cell_type": "code",
      "metadata": {
        "id": "CLPYQ_6_C49I"
      },
      "source": [
        "class_z_merged = class_zoo.merge(class_type_df,how='left',left_on='class_type',right_on='Class_Number')\n",
        "class_z_merged.head()"
      ],
      "execution_count": null,
      "outputs": []
    },
    {
      "cell_type": "markdown",
      "metadata": {
        "id": "lMYMyRZQKBX0"
      },
      "source": [
        "### ตัดตารางบางส่วนที่ไม่ได้ใช้ออก"
      ]
    },
    {
      "cell_type": "code",
      "metadata": {
        "id": "VkHBuO-sDZoc"
      },
      "source": [
        "class_z_merged_dr = class_z_merged.drop(['Class_Number','Number_Of_Animal_Species_In_Class','class_type','animal_name','Animal_Name'],axis=1)\n",
        "class_z_merged_dr.head()"
      ],
      "execution_count": null,
      "outputs": []
    },
    {
      "cell_type": "markdown",
      "metadata": {
        "id": "g0jDwFH-Fzl8"
      },
      "source": [
        "## Association ของสัตว์ประเภท Mammal(เลี้ยงลูกด้วยนม)"
      ]
    },
    {
      "cell_type": "markdown",
      "metadata": {
        "id": "MWq3bI0jrIcL"
      },
      "source": [
        "### ทำการเลือกข้อมูลสัตว์ประเภท Mammal จากคอลัม Class Type ออกมา"
      ]
    },
    {
      "cell_type": "code",
      "metadata": {
        "colab": {
          "base_uri": "https://localhost:8080/",
          "height": 218
        },
        "id": "vh4wIK5pDtKJ",
        "outputId": "786ef601-9cbf-42cb-d7b6-72f4f1b04fd3"
      },
      "source": [
        "class_Mammal = class_z_merged_dr[class_z_merged_dr['Class_Type']=='Mammal']\n",
        "class_Mammal.head()"
      ],
      "execution_count": null,
      "outputs": [
        {
          "output_type": "execute_result",
          "data": {
            "text/html": [
              "<div>\n",
              "<style scoped>\n",
              "    .dataframe tbody tr th:only-of-type {\n",
              "        vertical-align: middle;\n",
              "    }\n",
              "\n",
              "    .dataframe tbody tr th {\n",
              "        vertical-align: top;\n",
              "    }\n",
              "\n",
              "    .dataframe thead th {\n",
              "        text-align: right;\n",
              "    }\n",
              "</style>\n",
              "<table border=\"1\" class=\"dataframe\">\n",
              "  <thead>\n",
              "    <tr style=\"text-align: right;\">\n",
              "      <th></th>\n",
              "      <th>hair_group</th>\n",
              "      <th>feathers_group</th>\n",
              "      <th>eggs_group</th>\n",
              "      <th>milk_group</th>\n",
              "      <th>airborne_group</th>\n",
              "      <th>aquatic_group</th>\n",
              "      <th>predator_group</th>\n",
              "      <th>toothed_group</th>\n",
              "      <th>backbone_group</th>\n",
              "      <th>breathes_group</th>\n",
              "      <th>venomous_group</th>\n",
              "      <th>fins_group</th>\n",
              "      <th>legs_group</th>\n",
              "      <th>tail_group</th>\n",
              "      <th>domestic_group</th>\n",
              "      <th>catsize_group</th>\n",
              "      <th>Class_Type</th>\n",
              "    </tr>\n",
              "  </thead>\n",
              "  <tbody>\n",
              "    <tr>\n",
              "      <th>0</th>\n",
              "      <td>hair</td>\n",
              "      <td>nofeathers</td>\n",
              "      <td>noeggs</td>\n",
              "      <td>milk</td>\n",
              "      <td>noairborne</td>\n",
              "      <td>noaquatic</td>\n",
              "      <td>predator</td>\n",
              "      <td>toothed</td>\n",
              "      <td>backbone</td>\n",
              "      <td>breathes</td>\n",
              "      <td>novenomous</td>\n",
              "      <td>nofins</td>\n",
              "      <td>4legs</td>\n",
              "      <td>tail</td>\n",
              "      <td>nodomestic</td>\n",
              "      <td>catsize</td>\n",
              "      <td>Mammal</td>\n",
              "    </tr>\n",
              "    <tr>\n",
              "      <th>1</th>\n",
              "      <td>hair</td>\n",
              "      <td>nofeathers</td>\n",
              "      <td>noeggs</td>\n",
              "      <td>milk</td>\n",
              "      <td>noairborne</td>\n",
              "      <td>noaquatic</td>\n",
              "      <td>nopredator</td>\n",
              "      <td>toothed</td>\n",
              "      <td>backbone</td>\n",
              "      <td>breathes</td>\n",
              "      <td>novenomous</td>\n",
              "      <td>nofins</td>\n",
              "      <td>4legs</td>\n",
              "      <td>tail</td>\n",
              "      <td>nodomestic</td>\n",
              "      <td>catsize</td>\n",
              "      <td>Mammal</td>\n",
              "    </tr>\n",
              "    <tr>\n",
              "      <th>3</th>\n",
              "      <td>hair</td>\n",
              "      <td>nofeathers</td>\n",
              "      <td>noeggs</td>\n",
              "      <td>milk</td>\n",
              "      <td>noairborne</td>\n",
              "      <td>noaquatic</td>\n",
              "      <td>predator</td>\n",
              "      <td>toothed</td>\n",
              "      <td>backbone</td>\n",
              "      <td>breathes</td>\n",
              "      <td>novenomous</td>\n",
              "      <td>nofins</td>\n",
              "      <td>4legs</td>\n",
              "      <td>tail</td>\n",
              "      <td>nodomestic</td>\n",
              "      <td>catsize</td>\n",
              "      <td>Mammal</td>\n",
              "    </tr>\n",
              "    <tr>\n",
              "      <th>4</th>\n",
              "      <td>hair</td>\n",
              "      <td>nofeathers</td>\n",
              "      <td>noeggs</td>\n",
              "      <td>milk</td>\n",
              "      <td>noairborne</td>\n",
              "      <td>noaquatic</td>\n",
              "      <td>predator</td>\n",
              "      <td>toothed</td>\n",
              "      <td>backbone</td>\n",
              "      <td>breathes</td>\n",
              "      <td>novenomous</td>\n",
              "      <td>nofins</td>\n",
              "      <td>4legs</td>\n",
              "      <td>tail</td>\n",
              "      <td>nodomestic</td>\n",
              "      <td>catsize</td>\n",
              "      <td>Mammal</td>\n",
              "    </tr>\n",
              "    <tr>\n",
              "      <th>5</th>\n",
              "      <td>hair</td>\n",
              "      <td>nofeathers</td>\n",
              "      <td>noeggs</td>\n",
              "      <td>milk</td>\n",
              "      <td>noairborne</td>\n",
              "      <td>noaquatic</td>\n",
              "      <td>nopredator</td>\n",
              "      <td>toothed</td>\n",
              "      <td>backbone</td>\n",
              "      <td>breathes</td>\n",
              "      <td>novenomous</td>\n",
              "      <td>nofins</td>\n",
              "      <td>4legs</td>\n",
              "      <td>tail</td>\n",
              "      <td>nodomestic</td>\n",
              "      <td>catsize</td>\n",
              "      <td>Mammal</td>\n",
              "    </tr>\n",
              "  </tbody>\n",
              "</table>\n",
              "</div>"
            ],
            "text/plain": [
              "  hair_group feathers_group eggs_group  ... domestic_group catsize_group Class_Type\n",
              "0       hair     nofeathers     noeggs  ...     nodomestic       catsize     Mammal\n",
              "1       hair     nofeathers     noeggs  ...     nodomestic       catsize     Mammal\n",
              "3       hair     nofeathers     noeggs  ...     nodomestic       catsize     Mammal\n",
              "4       hair     nofeathers     noeggs  ...     nodomestic       catsize     Mammal\n",
              "5       hair     nofeathers     noeggs  ...     nodomestic       catsize     Mammal\n",
              "\n",
              "[5 rows x 17 columns]"
            ]
          },
          "metadata": {
            "tags": []
          },
          "execution_count": 37
        }
      ]
    },
    {
      "cell_type": "code",
      "metadata": {
        "id": "FkYU5V_AEQaD"
      },
      "source": [
        "transacs_class_Mammal = []\n",
        "for i in range(0,len(class_Mammal)):\n",
        "  transacs_class_Mammal.append([str(class_Mammal.values[i,j]) for j in range(1,16)])\n",
        "transacs_class_Mammal"
      ],
      "execution_count": null,
      "outputs": []
    },
    {
      "cell_type": "code",
      "metadata": {
        "id": "MhWqnT-QsoEK"
      },
      "source": [
        "asso_class_Mam = list(apriori(transacs_class_Mammal,min_support = 0.95, min_confidence = 0.9))\n",
        "asso_class_Mam"
      ],
      "execution_count": null,
      "outputs": []
    },
    {
      "cell_type": "markdown",
      "metadata": {
        "id": "FurB1P09uIe7"
      },
      "source": [
        "## สัตว์ประเภท Mammal (เลี้ยงลูกด้วยนม)\n",
        "- ถ้ามีกระดูกสันหลัง มีโอกาสที่จะมีฟัน นม และมีหาง อยู่ 97.56%\n",
        "- ถ้ามีกระดูกสันหลังและมีนมด้วย มีโอกาสที่จะมีฟันและหาง อยู่ 97.56%\n",
        "- ถ้ามีกระดูกสันหลัง ฟัน และนม มีโอกาสที่จะมีหาง อยู่ 100%\n",
        "- lift เท่ากับ 1 คือ ลักษณะทั้งสองมีความสัมพันธ์กัน"
      ]
    },
    {
      "cell_type": "markdown",
      "metadata": {
        "id": "WvhyW33IF8yL"
      },
      "source": [
        "## Association ของสัตว์ประเภท Fish(ปลา)"
      ]
    },
    {
      "cell_type": "code",
      "metadata": {
        "id": "XiM6B92nGsJK"
      },
      "source": [
        "class_Fish = class_z_merged_dr[class_z_merged_dr['Class_Type']=='Fish']\n",
        "class_Fish.head()"
      ],
      "execution_count": null,
      "outputs": []
    },
    {
      "cell_type": "code",
      "metadata": {
        "id": "WA2YESz6G1Xz"
      },
      "source": [
        "transacs_class_Fish = []\n",
        "for i in range(0,len(class_Fish)):\n",
        "  transacs_class_Fish.append([str(class_Fish.values[i,j]) for j in range(1,16)])\n",
        "transacs_class_Fish"
      ],
      "execution_count": null,
      "outputs": []
    },
    {
      "cell_type": "code",
      "metadata": {
        "id": "SPtYhkr5cTpD"
      },
      "source": [
        "asso_class_Fish = list(apriori(transacs_class_Fish,min_support = 0.95, min_confidence = 0.9))\n",
        "asso_class_Fish"
      ],
      "execution_count": null,
      "outputs": []
    },
    {
      "cell_type": "markdown",
      "metadata": {
        "id": "L1CQjno3NLFI"
      },
      "source": [
        "## สัตว์ประเภท Fish (ปลา)\n",
        "- ถ้ามี ครีบ จะมีโอกาสที่จะไม่มีปีก อยู่ 100%\n",
        "- ถ้าอาศัยอยู่ในน้ำ และมีครีบ จะมีโอกาสที่จะมีไข่ด้วย อยู่ 100%\n",
        "- lift เท่ากับ 1 คือ ลักษณะทั้งสองมีความสัมพันธ์กัน\n"
      ]
    },
    {
      "cell_type": "markdown",
      "metadata": {
        "id": "XUDG1bG4GDZv"
      },
      "source": [
        "## Association ของสัตว์ประเภท Bird(นก)"
      ]
    },
    {
      "cell_type": "code",
      "metadata": {
        "id": "QCqJthfrHbNR"
      },
      "source": [
        "class_Bird = class_z_merged_dr[class_z_merged_dr['Class_Type']=='Bird']\n",
        "class_Bird.head()"
      ],
      "execution_count": null,
      "outputs": []
    },
    {
      "cell_type": "code",
      "metadata": {
        "id": "qpPtRfl4HfHW"
      },
      "source": [
        "transacs_class_Bird = []\n",
        "for i in range(0,len(class_Bird)):\n",
        "  transacs_class_Bird.append([str(class_Bird.values[i,j]) for j in range(1,16)])\n",
        "transacs_class_Bird"
      ],
      "execution_count": null,
      "outputs": []
    },
    {
      "cell_type": "code",
      "metadata": {
        "id": "V0bAr0dRHfAn"
      },
      "source": [
        "asso_class_Bird = list(apriori(transacs_class_Bird,min_support = 0.95, min_confidence = 0.9))\n",
        "asso_class_Bird"
      ],
      "execution_count": null,
      "outputs": []
    },
    {
      "cell_type": "markdown",
      "metadata": {
        "id": "jB1EsbduOi_o"
      },
      "source": [
        "## สัตว์ประเภท Bird (นก)\n",
        "- ถ้ามี 2 ขา และมีขน จะมีโอกาสที่จะหายใจทางจมูก และไม่มีฟัน อยู่ 100%\n",
        "- ถ้ามีไข่ แต่ไม่มีครีบและไม่มีนม มีโอกาสที่จะมีกระดูกสันหลัง และมีขน อยู่ 100%\n",
        "- lift เท่ากับ 1 คือ ลักษณะทั้งสองมีความสัมพันธ์กัน\n"
      ]
    },
    {
      "cell_type": "markdown",
      "metadata": {
        "id": "MszcdXRcGRS3"
      },
      "source": [
        "## Association ของสัตว์ประเภท Reptile(สัตว์เลื้อยคลาน)"
      ]
    },
    {
      "cell_type": "code",
      "metadata": {
        "colab": {
          "base_uri": "https://localhost:8080/",
          "height": 218
        },
        "id": "wDfEr366HoXF",
        "outputId": "0b7a87cf-1136-45e1-e084-b3526fbc444d"
      },
      "source": [
        "class_Reptile = class_z_merged_dr[class_z_merged_dr['Class_Type']=='Reptile']\n",
        "class_Reptile.head()"
      ],
      "execution_count": null,
      "outputs": [
        {
          "output_type": "execute_result",
          "data": {
            "text/html": [
              "<div>\n",
              "<style scoped>\n",
              "    .dataframe tbody tr th:only-of-type {\n",
              "        vertical-align: middle;\n",
              "    }\n",
              "\n",
              "    .dataframe tbody tr th {\n",
              "        vertical-align: top;\n",
              "    }\n",
              "\n",
              "    .dataframe thead th {\n",
              "        text-align: right;\n",
              "    }\n",
              "</style>\n",
              "<table border=\"1\" class=\"dataframe\">\n",
              "  <thead>\n",
              "    <tr style=\"text-align: right;\">\n",
              "      <th></th>\n",
              "      <th>hair_group</th>\n",
              "      <th>feathers_group</th>\n",
              "      <th>eggs_group</th>\n",
              "      <th>milk_group</th>\n",
              "      <th>airborne_group</th>\n",
              "      <th>aquatic_group</th>\n",
              "      <th>predator_group</th>\n",
              "      <th>toothed_group</th>\n",
              "      <th>backbone_group</th>\n",
              "      <th>breathes_group</th>\n",
              "      <th>venomous_group</th>\n",
              "      <th>fins_group</th>\n",
              "      <th>legs_group</th>\n",
              "      <th>tail_group</th>\n",
              "      <th>domestic_group</th>\n",
              "      <th>catsize_group</th>\n",
              "      <th>Class_Type</th>\n",
              "    </tr>\n",
              "  </thead>\n",
              "  <tbody>\n",
              "    <tr>\n",
              "      <th>62</th>\n",
              "      <td>nohair</td>\n",
              "      <td>nofeathers</td>\n",
              "      <td>eggs</td>\n",
              "      <td>nomilk</td>\n",
              "      <td>noairborne</td>\n",
              "      <td>noaquatic</td>\n",
              "      <td>predator</td>\n",
              "      <td>toothed</td>\n",
              "      <td>backbone</td>\n",
              "      <td>breathes</td>\n",
              "      <td>venomous</td>\n",
              "      <td>nofins</td>\n",
              "      <td>nolegs</td>\n",
              "      <td>tail</td>\n",
              "      <td>nodomestic</td>\n",
              "      <td>nocatsize</td>\n",
              "      <td>Reptile</td>\n",
              "    </tr>\n",
              "    <tr>\n",
              "      <th>76</th>\n",
              "      <td>nohair</td>\n",
              "      <td>nofeathers</td>\n",
              "      <td>noeggs</td>\n",
              "      <td>nomilk</td>\n",
              "      <td>noairborne</td>\n",
              "      <td>aquatic</td>\n",
              "      <td>predator</td>\n",
              "      <td>toothed</td>\n",
              "      <td>backbone</td>\n",
              "      <td>nobreathes</td>\n",
              "      <td>venomous</td>\n",
              "      <td>nofins</td>\n",
              "      <td>nolegs</td>\n",
              "      <td>tail</td>\n",
              "      <td>nodomestic</td>\n",
              "      <td>nocatsize</td>\n",
              "      <td>Reptile</td>\n",
              "    </tr>\n",
              "    <tr>\n",
              "      <th>80</th>\n",
              "      <td>nohair</td>\n",
              "      <td>nofeathers</td>\n",
              "      <td>eggs</td>\n",
              "      <td>nomilk</td>\n",
              "      <td>noairborne</td>\n",
              "      <td>noaquatic</td>\n",
              "      <td>predator</td>\n",
              "      <td>toothed</td>\n",
              "      <td>backbone</td>\n",
              "      <td>breathes</td>\n",
              "      <td>novenomous</td>\n",
              "      <td>nofins</td>\n",
              "      <td>nolegs</td>\n",
              "      <td>tail</td>\n",
              "      <td>nodomestic</td>\n",
              "      <td>nocatsize</td>\n",
              "      <td>Reptile</td>\n",
              "    </tr>\n",
              "    <tr>\n",
              "      <th>90</th>\n",
              "      <td>nohair</td>\n",
              "      <td>nofeathers</td>\n",
              "      <td>eggs</td>\n",
              "      <td>nomilk</td>\n",
              "      <td>noairborne</td>\n",
              "      <td>noaquatic</td>\n",
              "      <td>nopredator</td>\n",
              "      <td>notoothed</td>\n",
              "      <td>backbone</td>\n",
              "      <td>breathes</td>\n",
              "      <td>novenomous</td>\n",
              "      <td>nofins</td>\n",
              "      <td>4legs</td>\n",
              "      <td>tail</td>\n",
              "      <td>nodomestic</td>\n",
              "      <td>catsize</td>\n",
              "      <td>Reptile</td>\n",
              "    </tr>\n",
              "    <tr>\n",
              "      <th>91</th>\n",
              "      <td>nohair</td>\n",
              "      <td>nofeathers</td>\n",
              "      <td>eggs</td>\n",
              "      <td>nomilk</td>\n",
              "      <td>noairborne</td>\n",
              "      <td>noaquatic</td>\n",
              "      <td>predator</td>\n",
              "      <td>toothed</td>\n",
              "      <td>backbone</td>\n",
              "      <td>breathes</td>\n",
              "      <td>novenomous</td>\n",
              "      <td>nofins</td>\n",
              "      <td>4legs</td>\n",
              "      <td>tail</td>\n",
              "      <td>nodomestic</td>\n",
              "      <td>nocatsize</td>\n",
              "      <td>Reptile</td>\n",
              "    </tr>\n",
              "  </tbody>\n",
              "</table>\n",
              "</div>"
            ],
            "text/plain": [
              "   hair_group feathers_group eggs_group  ... domestic_group catsize_group Class_Type\n",
              "62     nohair     nofeathers       eggs  ...     nodomestic     nocatsize    Reptile\n",
              "76     nohair     nofeathers     noeggs  ...     nodomestic     nocatsize    Reptile\n",
              "80     nohair     nofeathers       eggs  ...     nodomestic     nocatsize    Reptile\n",
              "90     nohair     nofeathers       eggs  ...     nodomestic       catsize    Reptile\n",
              "91     nohair     nofeathers       eggs  ...     nodomestic     nocatsize    Reptile\n",
              "\n",
              "[5 rows x 17 columns]"
            ]
          },
          "metadata": {
            "tags": []
          },
          "execution_count": 50
        }
      ]
    },
    {
      "cell_type": "code",
      "metadata": {
        "id": "1NOdJ6BUHoXF"
      },
      "source": [
        "transacs_class_Reptile = []\n",
        "for i in range(0,len(class_Reptile)):\n",
        "  transacs_class_Reptile.append([str(class_Reptile.values[i,j]) for j in range(1,16)])\n",
        "transacs_class_Reptile"
      ],
      "execution_count": null,
      "outputs": []
    },
    {
      "cell_type": "code",
      "metadata": {
        "id": "bQk8b7ovHoXF"
      },
      "source": [
        "asso_class_Reptile = list(apriori(transacs_class_Reptile,min_support = 0.95, min_confidence = 0.9))\n",
        "asso_class_Reptile"
      ],
      "execution_count": null,
      "outputs": []
    },
    {
      "cell_type": "markdown",
      "metadata": {
        "id": "-hh4l780y6Sf"
      },
      "source": [
        "## สัตว์ประเภท Reptile (สัตว์เลื้อยคลาน)\n",
        "- ถ้ามีหาง มีโอกาสจะไม่มีปีก อยู่ 100%\n",
        "- ถ้าไม่มีนม ไม่มีปีก และไม่มีขน จะมีโอกาสที่จะมีกระดูกสันหลัง อยู่ 100%\n",
        "- lift เท่ากับ 1 คือ ลักษณะทั้งสองมีความสัมพันธ์กัน"
      ]
    },
    {
      "cell_type": "markdown",
      "metadata": {
        "id": "TyU829OSGVEP"
      },
      "source": [
        "## Association ของสัตว์ประเภท Amphibian(สัตว์สะเทินน้ำสะเทินบก)"
      ]
    },
    {
      "cell_type": "code",
      "metadata": {
        "id": "vvbQ17M1HrYV"
      },
      "source": [
        "class_Amphibian = class_z_merged_dr[class_z_merged_dr['Class_Type']=='Amphibian']\n",
        "class_Amphibian.head()"
      ],
      "execution_count": null,
      "outputs": []
    },
    {
      "cell_type": "code",
      "metadata": {
        "id": "o4wNHnHCHrYV"
      },
      "source": [
        "transacs_class_Amphibian = []\n",
        "for i in range(0,len(class_Amphibian)):\n",
        "  transacs_class_Amphibian.append([str(class_Amphibian.values[i,j]) for j in range(1,16)])\n",
        "transacs_class_Amphibian"
      ],
      "execution_count": null,
      "outputs": []
    },
    {
      "cell_type": "code",
      "metadata": {
        "id": "uPoEGDzmHrYV"
      },
      "source": [
        "asso_class_Amphibian = list(apriori(transacs_class_Amphibian,min_support = 0.95, min_confidence = 0.9))\n",
        "asso_class_Amphibian"
      ],
      "execution_count": null,
      "outputs": []
    },
    {
      "cell_type": "markdown",
      "metadata": {
        "id": "Iz1UQOvu0lGh"
      },
      "source": [
        "## ถ้าสัตว์ประเภท Amphibian(สัตว์สะเทินน้ำสะเทินบก)\n",
        "- ถ้ามีหาง มีกระดูกสันหลัง มีโอกาสที่จะไม่มีปีก อยู่ 100%\n",
        "- ถ้ามีฟัน มีหาง และอยู่ในน้ำ มีโอกาสที่จะไม่มีขน อยู่ 100%\n",
        "- lift เท่ากับ 1 คือ ลักษณะทั้งสองมีความสัมพันธ์กัน"
      ]
    },
    {
      "cell_type": "markdown",
      "metadata": {
        "id": "9KzmSa3UGV0i"
      },
      "source": [
        "## Association ของสัตว์ประเภท Bug(แมลง)"
      ]
    },
    {
      "cell_type": "code",
      "metadata": {
        "colab": {
          "base_uri": "https://localhost:8080/",
          "height": 216
        },
        "id": "tJwGsOFLHr70",
        "outputId": "3b466a0d-7335-4e3d-f41d-25dfbe5a60d0"
      },
      "source": [
        "class_Bug = class_z_merged_dr[class_z_merged_dr['Class_Type']=='Bug']\n",
        "class_Bug.head()"
      ],
      "execution_count": null,
      "outputs": [
        {
          "output_type": "execute_result",
          "data": {
            "text/html": [
              "<div>\n",
              "<style scoped>\n",
              "    .dataframe tbody tr th:only-of-type {\n",
              "        vertical-align: middle;\n",
              "    }\n",
              "\n",
              "    .dataframe tbody tr th {\n",
              "        vertical-align: top;\n",
              "    }\n",
              "\n",
              "    .dataframe thead th {\n",
              "        text-align: right;\n",
              "    }\n",
              "</style>\n",
              "<table border=\"1\" class=\"dataframe\">\n",
              "  <thead>\n",
              "    <tr style=\"text-align: right;\">\n",
              "      <th></th>\n",
              "      <th>hair_group</th>\n",
              "      <th>feathers_group</th>\n",
              "      <th>eggs_group</th>\n",
              "      <th>milk_group</th>\n",
              "      <th>airborne_group</th>\n",
              "      <th>aquatic_group</th>\n",
              "      <th>predator_group</th>\n",
              "      <th>toothed_group</th>\n",
              "      <th>backbone_group</th>\n",
              "      <th>breathes_group</th>\n",
              "      <th>venomous_group</th>\n",
              "      <th>fins_group</th>\n",
              "      <th>legs_group</th>\n",
              "      <th>tail_group</th>\n",
              "      <th>domestic_group</th>\n",
              "      <th>catsize_group</th>\n",
              "      <th>Class_Type</th>\n",
              "    </tr>\n",
              "  </thead>\n",
              "  <tbody>\n",
              "    <tr>\n",
              "      <th>24</th>\n",
              "      <td>nohair</td>\n",
              "      <td>nofeathers</td>\n",
              "      <td>eggs</td>\n",
              "      <td>nomilk</td>\n",
              "      <td>noairborne</td>\n",
              "      <td>noaquatic</td>\n",
              "      <td>nopredator</td>\n",
              "      <td>notoothed</td>\n",
              "      <td>nobackbone</td>\n",
              "      <td>breathes</td>\n",
              "      <td>novenomous</td>\n",
              "      <td>nofins</td>\n",
              "      <td>6legs</td>\n",
              "      <td>tail</td>\n",
              "      <td>nodomestic</td>\n",
              "      <td>nocatsize</td>\n",
              "      <td>Bug</td>\n",
              "    </tr>\n",
              "    <tr>\n",
              "      <th>30</th>\n",
              "      <td>nohair</td>\n",
              "      <td>nofeathers</td>\n",
              "      <td>eggs</td>\n",
              "      <td>nomilk</td>\n",
              "      <td>airborne</td>\n",
              "      <td>noaquatic</td>\n",
              "      <td>nopredator</td>\n",
              "      <td>notoothed</td>\n",
              "      <td>nobackbone</td>\n",
              "      <td>breathes</td>\n",
              "      <td>novenomous</td>\n",
              "      <td>nofins</td>\n",
              "      <td>6legs</td>\n",
              "      <td>tail</td>\n",
              "      <td>nodomestic</td>\n",
              "      <td>nocatsize</td>\n",
              "      <td>Bug</td>\n",
              "    </tr>\n",
              "    <tr>\n",
              "      <th>39</th>\n",
              "      <td>hair</td>\n",
              "      <td>nofeathers</td>\n",
              "      <td>eggs</td>\n",
              "      <td>nomilk</td>\n",
              "      <td>airborne</td>\n",
              "      <td>noaquatic</td>\n",
              "      <td>nopredator</td>\n",
              "      <td>notoothed</td>\n",
              "      <td>nobackbone</td>\n",
              "      <td>breathes</td>\n",
              "      <td>venomous</td>\n",
              "      <td>nofins</td>\n",
              "      <td>6legs</td>\n",
              "      <td>tail</td>\n",
              "      <td>domestic</td>\n",
              "      <td>nocatsize</td>\n",
              "      <td>Bug</td>\n",
              "    </tr>\n",
              "    <tr>\n",
              "      <th>40</th>\n",
              "      <td>hair</td>\n",
              "      <td>nofeathers</td>\n",
              "      <td>eggs</td>\n",
              "      <td>nomilk</td>\n",
              "      <td>airborne</td>\n",
              "      <td>noaquatic</td>\n",
              "      <td>nopredator</td>\n",
              "      <td>notoothed</td>\n",
              "      <td>nobackbone</td>\n",
              "      <td>breathes</td>\n",
              "      <td>novenomous</td>\n",
              "      <td>nofins</td>\n",
              "      <td>6legs</td>\n",
              "      <td>tail</td>\n",
              "      <td>nodomestic</td>\n",
              "      <td>nocatsize</td>\n",
              "      <td>Bug</td>\n",
              "    </tr>\n",
              "    <tr>\n",
              "      <th>42</th>\n",
              "      <td>nohair</td>\n",
              "      <td>nofeathers</td>\n",
              "      <td>eggs</td>\n",
              "      <td>nomilk</td>\n",
              "      <td>airborne</td>\n",
              "      <td>noaquatic</td>\n",
              "      <td>predator</td>\n",
              "      <td>notoothed</td>\n",
              "      <td>nobackbone</td>\n",
              "      <td>breathes</td>\n",
              "      <td>novenomous</td>\n",
              "      <td>nofins</td>\n",
              "      <td>6legs</td>\n",
              "      <td>tail</td>\n",
              "      <td>nodomestic</td>\n",
              "      <td>nocatsize</td>\n",
              "      <td>Bug</td>\n",
              "    </tr>\n",
              "  </tbody>\n",
              "</table>\n",
              "</div>"
            ],
            "text/plain": [
              "   hair_group feathers_group eggs_group  ... domestic_group catsize_group Class_Type\n",
              "24     nohair     nofeathers       eggs  ...     nodomestic     nocatsize        Bug\n",
              "30     nohair     nofeathers       eggs  ...     nodomestic     nocatsize        Bug\n",
              "39       hair     nofeathers       eggs  ...       domestic     nocatsize        Bug\n",
              "40       hair     nofeathers       eggs  ...     nodomestic     nocatsize        Bug\n",
              "42     nohair     nofeathers       eggs  ...     nodomestic     nocatsize        Bug\n",
              "\n",
              "[5 rows x 17 columns]"
            ]
          },
          "metadata": {
            "tags": []
          },
          "execution_count": 86
        }
      ]
    },
    {
      "cell_type": "code",
      "metadata": {
        "id": "X6mfoQhdHr70"
      },
      "source": [
        "transacs_class_Bug = []\n",
        "for i in range(0,len(class_Bug)):\n",
        "  transacs_class_Bug.append([str(class_Bug.values[i,j]) for j in range(1,16)])\n",
        "transacs_class_Bug"
      ],
      "execution_count": null,
      "outputs": []
    },
    {
      "cell_type": "code",
      "metadata": {
        "id": "42rE32-tHr70"
      },
      "source": [
        "asso_class_Bug = list(apriori(transacs_class_Bug,min_support = 0.95, min_confidence = 0.9))\n",
        "asso_class_Bug"
      ],
      "execution_count": null,
      "outputs": []
    },
    {
      "cell_type": "markdown",
      "metadata": {
        "id": "---7gH951JZU"
      },
      "source": [
        "## สัตว์ประเภท Bug(แมลง)\n",
        "- ถ้ามีการหายใจทางจมูก มี 6 ขา มีไข่ จะไม่ใบหู อยู่ 100%\n",
        "- ถ้ามีหาง ไม่มีนม มี 6 ขา มีโอกาสที่จะไม่มีครีบ อยู่ 100%\n",
        "- lift เท่ากับ 1 คือ ลักษณะทั้งสองมีความสัมพันธ์กัน"
      ]
    },
    {
      "cell_type": "markdown",
      "metadata": {
        "id": "MTtrSNB9GkyR"
      },
      "source": [
        "## Association ของสัตว์ประเภท Invertebrate(สัตว์ไม่มีกระดูกสันหลัง)"
      ]
    },
    {
      "cell_type": "code",
      "metadata": {
        "id": "IRQRVMNPHsgg"
      },
      "source": [
        "class_Invertebrate = class_z_merged_dr[class_z_merged_dr['Class_Type']=='Invertebrate']\n",
        "class_Invertebrate.head()"
      ],
      "execution_count": null,
      "outputs": []
    },
    {
      "cell_type": "code",
      "metadata": {
        "id": "aE8XfLS8Hsgg"
      },
      "source": [
        "transacs_class_Invertebrate = []\n",
        "for i in range(0,len(class_Invertebrate)):\n",
        "  transacs_class_Invertebrate.append([str(class_Invertebrate.values[i,j]) for j in range(1,16)])\n",
        "transacs_class_Invertebrate"
      ],
      "execution_count": null,
      "outputs": []
    },
    {
      "cell_type": "code",
      "metadata": {
        "id": "Ybc6IN_2Hsgg"
      },
      "source": [
        "asso_class_Invertebrate = list(apriori(transacs_class_Invertebrate,min_support = 0.95, min_confidence = 0.9))\n",
        "asso_class_Invertebrate"
      ],
      "execution_count": null,
      "outputs": []
    },
    {
      "cell_type": "markdown",
      "metadata": {
        "id": "rcsiY8sp1_vh"
      },
      "source": [
        "## สัตว์ประเภท Invertebrate(สัตว์ไม่มีกระดูกสันหลัง)\n",
        "- ถ้าไม่มีนม ไม่มีครีบ ไม่มีปีก มีโอกาสที่จะไม่มีฟัน อยู่ 100%\n",
        "- ถ้ามีหาง มีโอกาสที่จะไม่มีครีบ และกระดูกสันหลัง อยู่ 100%\n",
        "- lift เท่ากับ 1 คือ ลักษณะทั้งสองมีความสัมพันธ์กัน"
      ]
    },
    {
      "cell_type": "markdown",
      "metadata": {
        "id": "KQL4g3ul8HRB"
      },
      "source": [
        "# K-Nearest Neighbors\n",
        "##เพื่อทำนาย Class ของสัตว์ โดยทำนายลักษณทั้ง 16 ลักษณะ"
      ]
    },
    {
      "cell_type": "markdown",
      "metadata": {
        "id": "tlKgCSHsmq1R"
      },
      "source": [
        "### เรียกตารางที่ต้องการใช้ออกมาให้อยู่ในตัวแปร animal"
      ]
    },
    {
      "cell_type": "code",
      "metadata": {
        "colab": {
          "base_uri": "https://localhost:8080/",
          "height": 216
        },
        "id": "ZZx_dOyfhImM",
        "outputId": "4d217884-0a4f-444f-c6ab-66234d1a3a2c"
      },
      "source": [
        "animal = zoo_type_df  \n",
        "animal.head()"
      ],
      "execution_count": null,
      "outputs": [
        {
          "output_type": "execute_result",
          "data": {
            "text/html": [
              "<div>\n",
              "<style scoped>\n",
              "    .dataframe tbody tr th:only-of-type {\n",
              "        vertical-align: middle;\n",
              "    }\n",
              "\n",
              "    .dataframe tbody tr th {\n",
              "        vertical-align: top;\n",
              "    }\n",
              "\n",
              "    .dataframe thead th {\n",
              "        text-align: right;\n",
              "    }\n",
              "</style>\n",
              "<table border=\"1\" class=\"dataframe\">\n",
              "  <thead>\n",
              "    <tr style=\"text-align: right;\">\n",
              "      <th></th>\n",
              "      <th>animal_name</th>\n",
              "      <th>hair</th>\n",
              "      <th>feathers</th>\n",
              "      <th>eggs</th>\n",
              "      <th>milk</th>\n",
              "      <th>airborne</th>\n",
              "      <th>aquatic</th>\n",
              "      <th>predator</th>\n",
              "      <th>toothed</th>\n",
              "      <th>backbone</th>\n",
              "      <th>breathes</th>\n",
              "      <th>venomous</th>\n",
              "      <th>fins</th>\n",
              "      <th>legs</th>\n",
              "      <th>tail</th>\n",
              "      <th>domestic</th>\n",
              "      <th>catsize</th>\n",
              "      <th>class_type</th>\n",
              "      <th>hair_group</th>\n",
              "      <th>feathers_group</th>\n",
              "      <th>eggs_group</th>\n",
              "      <th>milk_group</th>\n",
              "      <th>airborne_group</th>\n",
              "      <th>aquatic_group</th>\n",
              "      <th>predator_group</th>\n",
              "      <th>toothed_group</th>\n",
              "      <th>backbone_group</th>\n",
              "      <th>breathes_group</th>\n",
              "      <th>venomous_group</th>\n",
              "      <th>fins_group</th>\n",
              "      <th>legs_group</th>\n",
              "      <th>tail_group</th>\n",
              "      <th>domestic_group</th>\n",
              "      <th>catsize_group</th>\n",
              "    </tr>\n",
              "  </thead>\n",
              "  <tbody>\n",
              "    <tr>\n",
              "      <th>0</th>\n",
              "      <td>aardvark</td>\n",
              "      <td>1</td>\n",
              "      <td>0</td>\n",
              "      <td>0</td>\n",
              "      <td>1</td>\n",
              "      <td>0</td>\n",
              "      <td>0</td>\n",
              "      <td>1</td>\n",
              "      <td>1</td>\n",
              "      <td>1</td>\n",
              "      <td>1</td>\n",
              "      <td>0</td>\n",
              "      <td>0</td>\n",
              "      <td>4</td>\n",
              "      <td>0</td>\n",
              "      <td>0</td>\n",
              "      <td>1</td>\n",
              "      <td>1</td>\n",
              "      <td>hair</td>\n",
              "      <td>nofeathers</td>\n",
              "      <td>noeggs</td>\n",
              "      <td>milk</td>\n",
              "      <td>noairborne</td>\n",
              "      <td>noaquatic</td>\n",
              "      <td>predator</td>\n",
              "      <td>toothed</td>\n",
              "      <td>backbone</td>\n",
              "      <td>breathes</td>\n",
              "      <td>novenomous</td>\n",
              "      <td>nofins</td>\n",
              "      <td>4legs</td>\n",
              "      <td>tail</td>\n",
              "      <td>nodomestic</td>\n",
              "      <td>catsize</td>\n",
              "    </tr>\n",
              "    <tr>\n",
              "      <th>1</th>\n",
              "      <td>antelope</td>\n",
              "      <td>1</td>\n",
              "      <td>0</td>\n",
              "      <td>0</td>\n",
              "      <td>1</td>\n",
              "      <td>0</td>\n",
              "      <td>0</td>\n",
              "      <td>0</td>\n",
              "      <td>1</td>\n",
              "      <td>1</td>\n",
              "      <td>1</td>\n",
              "      <td>0</td>\n",
              "      <td>0</td>\n",
              "      <td>4</td>\n",
              "      <td>1</td>\n",
              "      <td>0</td>\n",
              "      <td>1</td>\n",
              "      <td>1</td>\n",
              "      <td>hair</td>\n",
              "      <td>nofeathers</td>\n",
              "      <td>noeggs</td>\n",
              "      <td>milk</td>\n",
              "      <td>noairborne</td>\n",
              "      <td>noaquatic</td>\n",
              "      <td>nopredator</td>\n",
              "      <td>toothed</td>\n",
              "      <td>backbone</td>\n",
              "      <td>breathes</td>\n",
              "      <td>novenomous</td>\n",
              "      <td>nofins</td>\n",
              "      <td>4legs</td>\n",
              "      <td>tail</td>\n",
              "      <td>nodomestic</td>\n",
              "      <td>catsize</td>\n",
              "    </tr>\n",
              "    <tr>\n",
              "      <th>2</th>\n",
              "      <td>bass</td>\n",
              "      <td>0</td>\n",
              "      <td>0</td>\n",
              "      <td>1</td>\n",
              "      <td>0</td>\n",
              "      <td>0</td>\n",
              "      <td>1</td>\n",
              "      <td>1</td>\n",
              "      <td>1</td>\n",
              "      <td>1</td>\n",
              "      <td>0</td>\n",
              "      <td>0</td>\n",
              "      <td>1</td>\n",
              "      <td>0</td>\n",
              "      <td>1</td>\n",
              "      <td>0</td>\n",
              "      <td>0</td>\n",
              "      <td>4</td>\n",
              "      <td>nohair</td>\n",
              "      <td>nofeathers</td>\n",
              "      <td>eggs</td>\n",
              "      <td>nomilk</td>\n",
              "      <td>noairborne</td>\n",
              "      <td>aquatic</td>\n",
              "      <td>predator</td>\n",
              "      <td>toothed</td>\n",
              "      <td>backbone</td>\n",
              "      <td>nobreathes</td>\n",
              "      <td>novenomous</td>\n",
              "      <td>fins</td>\n",
              "      <td>nolegs</td>\n",
              "      <td>tail</td>\n",
              "      <td>nodomestic</td>\n",
              "      <td>nocatsize</td>\n",
              "    </tr>\n",
              "    <tr>\n",
              "      <th>3</th>\n",
              "      <td>bear</td>\n",
              "      <td>1</td>\n",
              "      <td>0</td>\n",
              "      <td>0</td>\n",
              "      <td>1</td>\n",
              "      <td>0</td>\n",
              "      <td>0</td>\n",
              "      <td>1</td>\n",
              "      <td>1</td>\n",
              "      <td>1</td>\n",
              "      <td>1</td>\n",
              "      <td>0</td>\n",
              "      <td>0</td>\n",
              "      <td>4</td>\n",
              "      <td>0</td>\n",
              "      <td>0</td>\n",
              "      <td>1</td>\n",
              "      <td>1</td>\n",
              "      <td>hair</td>\n",
              "      <td>nofeathers</td>\n",
              "      <td>noeggs</td>\n",
              "      <td>milk</td>\n",
              "      <td>noairborne</td>\n",
              "      <td>noaquatic</td>\n",
              "      <td>predator</td>\n",
              "      <td>toothed</td>\n",
              "      <td>backbone</td>\n",
              "      <td>breathes</td>\n",
              "      <td>novenomous</td>\n",
              "      <td>nofins</td>\n",
              "      <td>4legs</td>\n",
              "      <td>tail</td>\n",
              "      <td>nodomestic</td>\n",
              "      <td>catsize</td>\n",
              "    </tr>\n",
              "    <tr>\n",
              "      <th>4</th>\n",
              "      <td>boar</td>\n",
              "      <td>1</td>\n",
              "      <td>0</td>\n",
              "      <td>0</td>\n",
              "      <td>1</td>\n",
              "      <td>0</td>\n",
              "      <td>0</td>\n",
              "      <td>1</td>\n",
              "      <td>1</td>\n",
              "      <td>1</td>\n",
              "      <td>1</td>\n",
              "      <td>0</td>\n",
              "      <td>0</td>\n",
              "      <td>4</td>\n",
              "      <td>1</td>\n",
              "      <td>0</td>\n",
              "      <td>1</td>\n",
              "      <td>1</td>\n",
              "      <td>hair</td>\n",
              "      <td>nofeathers</td>\n",
              "      <td>noeggs</td>\n",
              "      <td>milk</td>\n",
              "      <td>noairborne</td>\n",
              "      <td>noaquatic</td>\n",
              "      <td>predator</td>\n",
              "      <td>toothed</td>\n",
              "      <td>backbone</td>\n",
              "      <td>breathes</td>\n",
              "      <td>novenomous</td>\n",
              "      <td>nofins</td>\n",
              "      <td>4legs</td>\n",
              "      <td>tail</td>\n",
              "      <td>nodomestic</td>\n",
              "      <td>catsize</td>\n",
              "    </tr>\n",
              "  </tbody>\n",
              "</table>\n",
              "</div>"
            ],
            "text/plain": [
              "  animal_name  hair  feathers  ...  tail_group  domestic_group  catsize_group\n",
              "0    aardvark     1         0  ...        tail      nodomestic        catsize\n",
              "1    antelope     1         0  ...        tail      nodomestic        catsize\n",
              "2        bass     0         0  ...        tail      nodomestic      nocatsize\n",
              "3        bear     1         0  ...        tail      nodomestic        catsize\n",
              "4        boar     1         0  ...        tail      nodomestic        catsize\n",
              "\n",
              "[5 rows x 34 columns]"
            ]
          },
          "metadata": {
            "tags": []
          },
          "execution_count": 92
        }
      ]
    },
    {
      "cell_type": "markdown",
      "metadata": {
        "id": "8C3oOFDth0My"
      },
      "source": [
        "### ทำการตรวจสอบค่า Missing"
      ]
    },
    {
      "cell_type": "code",
      "metadata": {
        "colab": {
          "base_uri": "https://localhost:8080/"
        },
        "id": "R8-qICoxhpi4",
        "outputId": "b762593c-834b-44f5-94fb-3ed28f06cc80"
      },
      "source": [
        "#ตรวจสอบว่ามีค่า null หรือไม่\n",
        "animal.isnull().any()"
      ],
      "execution_count": null,
      "outputs": [
        {
          "output_type": "execute_result",
          "data": {
            "text/plain": [
              "animal_name       False\n",
              "hair              False\n",
              "feathers          False\n",
              "eggs              False\n",
              "milk              False\n",
              "airborne          False\n",
              "aquatic           False\n",
              "predator          False\n",
              "toothed           False\n",
              "backbone          False\n",
              "breathes          False\n",
              "venomous          False\n",
              "fins              False\n",
              "legs              False\n",
              "tail              False\n",
              "domestic          False\n",
              "catsize           False\n",
              "class_type        False\n",
              "hair_group        False\n",
              "feathers_group    False\n",
              "eggs_group        False\n",
              "milk_group        False\n",
              "airborne_group    False\n",
              "aquatic_group     False\n",
              "predator_group    False\n",
              "toothed_group     False\n",
              "backbone_group    False\n",
              "breathes_group    False\n",
              "venomous_group    False\n",
              "fins_group        False\n",
              "legs_group        False\n",
              "tail_group        False\n",
              "domestic_group    False\n",
              "catsize_group     False\n",
              "dtype: bool"
            ]
          },
          "metadata": {
            "tags": []
          },
          "execution_count": 93
        }
      ]
    },
    {
      "cell_type": "markdown",
      "metadata": {
        "id": "V4RvotCv1gpL"
      },
      "source": [
        "### - ร่วมตาราง animal และตาราง class เข้าด้วยกัน โดยกำหนดตาราง class_type_df ให้อยู่ในตัวแปรที่ชื่อ ani_class \n",
        "### - หลังจากนั้นทำการตั้งชื่อตัวแปร df เพื่อ merge ตาราง animal และ ani_class เข้าด้วยกันโดยมีคีย์ คือ class_type และ Class_Number"
      ]
    },
    {
      "cell_type": "code",
      "metadata": {
        "colab": {
          "base_uri": "https://localhost:8080/",
          "height": 467
        },
        "id": "1MVNzcEoics8",
        "outputId": "10a2fa3f-08cc-4232-a4af-f05c77541c33"
      },
      "source": [
        "ani_class = class_type_df \n",
        "df = pd.merge(animal,ani_class,how='left',left_on='class_type',right_on='Class_Number')\n",
        "df.head()"
      ],
      "execution_count": null,
      "outputs": [
        {
          "output_type": "execute_result",
          "data": {
            "text/html": [
              "<div>\n",
              "<style scoped>\n",
              "    .dataframe tbody tr th:only-of-type {\n",
              "        vertical-align: middle;\n",
              "    }\n",
              "\n",
              "    .dataframe tbody tr th {\n",
              "        vertical-align: top;\n",
              "    }\n",
              "\n",
              "    .dataframe thead th {\n",
              "        text-align: right;\n",
              "    }\n",
              "</style>\n",
              "<table border=\"1\" class=\"dataframe\">\n",
              "  <thead>\n",
              "    <tr style=\"text-align: right;\">\n",
              "      <th></th>\n",
              "      <th>animal_name</th>\n",
              "      <th>hair</th>\n",
              "      <th>feathers</th>\n",
              "      <th>eggs</th>\n",
              "      <th>milk</th>\n",
              "      <th>airborne</th>\n",
              "      <th>aquatic</th>\n",
              "      <th>predator</th>\n",
              "      <th>toothed</th>\n",
              "      <th>backbone</th>\n",
              "      <th>breathes</th>\n",
              "      <th>venomous</th>\n",
              "      <th>fins</th>\n",
              "      <th>legs</th>\n",
              "      <th>tail</th>\n",
              "      <th>domestic</th>\n",
              "      <th>catsize</th>\n",
              "      <th>class_type</th>\n",
              "      <th>hair_group</th>\n",
              "      <th>feathers_group</th>\n",
              "      <th>eggs_group</th>\n",
              "      <th>milk_group</th>\n",
              "      <th>airborne_group</th>\n",
              "      <th>aquatic_group</th>\n",
              "      <th>predator_group</th>\n",
              "      <th>toothed_group</th>\n",
              "      <th>backbone_group</th>\n",
              "      <th>breathes_group</th>\n",
              "      <th>venomous_group</th>\n",
              "      <th>fins_group</th>\n",
              "      <th>legs_group</th>\n",
              "      <th>tail_group</th>\n",
              "      <th>domestic_group</th>\n",
              "      <th>catsize_group</th>\n",
              "      <th>Class_Number</th>\n",
              "      <th>Number_Of_Animal_Species_In_Class</th>\n",
              "      <th>Class_Type</th>\n",
              "      <th>Animal_Name</th>\n",
              "    </tr>\n",
              "  </thead>\n",
              "  <tbody>\n",
              "    <tr>\n",
              "      <th>0</th>\n",
              "      <td>aardvark</td>\n",
              "      <td>1</td>\n",
              "      <td>0</td>\n",
              "      <td>0</td>\n",
              "      <td>1</td>\n",
              "      <td>0</td>\n",
              "      <td>0</td>\n",
              "      <td>1</td>\n",
              "      <td>1</td>\n",
              "      <td>1</td>\n",
              "      <td>1</td>\n",
              "      <td>0</td>\n",
              "      <td>0</td>\n",
              "      <td>4</td>\n",
              "      <td>0</td>\n",
              "      <td>0</td>\n",
              "      <td>1</td>\n",
              "      <td>1</td>\n",
              "      <td>hair</td>\n",
              "      <td>nofeathers</td>\n",
              "      <td>noeggs</td>\n",
              "      <td>milk</td>\n",
              "      <td>noairborne</td>\n",
              "      <td>noaquatic</td>\n",
              "      <td>predator</td>\n",
              "      <td>toothed</td>\n",
              "      <td>backbone</td>\n",
              "      <td>breathes</td>\n",
              "      <td>novenomous</td>\n",
              "      <td>nofins</td>\n",
              "      <td>4legs</td>\n",
              "      <td>tail</td>\n",
              "      <td>nodomestic</td>\n",
              "      <td>catsize</td>\n",
              "      <td>1</td>\n",
              "      <td>41</td>\n",
              "      <td>Mammal</td>\n",
              "      <td>aardvark, antelope, bear, boar, buffalo, calf,...</td>\n",
              "    </tr>\n",
              "    <tr>\n",
              "      <th>1</th>\n",
              "      <td>antelope</td>\n",
              "      <td>1</td>\n",
              "      <td>0</td>\n",
              "      <td>0</td>\n",
              "      <td>1</td>\n",
              "      <td>0</td>\n",
              "      <td>0</td>\n",
              "      <td>0</td>\n",
              "      <td>1</td>\n",
              "      <td>1</td>\n",
              "      <td>1</td>\n",
              "      <td>0</td>\n",
              "      <td>0</td>\n",
              "      <td>4</td>\n",
              "      <td>1</td>\n",
              "      <td>0</td>\n",
              "      <td>1</td>\n",
              "      <td>1</td>\n",
              "      <td>hair</td>\n",
              "      <td>nofeathers</td>\n",
              "      <td>noeggs</td>\n",
              "      <td>milk</td>\n",
              "      <td>noairborne</td>\n",
              "      <td>noaquatic</td>\n",
              "      <td>nopredator</td>\n",
              "      <td>toothed</td>\n",
              "      <td>backbone</td>\n",
              "      <td>breathes</td>\n",
              "      <td>novenomous</td>\n",
              "      <td>nofins</td>\n",
              "      <td>4legs</td>\n",
              "      <td>tail</td>\n",
              "      <td>nodomestic</td>\n",
              "      <td>catsize</td>\n",
              "      <td>1</td>\n",
              "      <td>41</td>\n",
              "      <td>Mammal</td>\n",
              "      <td>aardvark, antelope, bear, boar, buffalo, calf,...</td>\n",
              "    </tr>\n",
              "    <tr>\n",
              "      <th>2</th>\n",
              "      <td>bass</td>\n",
              "      <td>0</td>\n",
              "      <td>0</td>\n",
              "      <td>1</td>\n",
              "      <td>0</td>\n",
              "      <td>0</td>\n",
              "      <td>1</td>\n",
              "      <td>1</td>\n",
              "      <td>1</td>\n",
              "      <td>1</td>\n",
              "      <td>0</td>\n",
              "      <td>0</td>\n",
              "      <td>1</td>\n",
              "      <td>0</td>\n",
              "      <td>1</td>\n",
              "      <td>0</td>\n",
              "      <td>0</td>\n",
              "      <td>4</td>\n",
              "      <td>nohair</td>\n",
              "      <td>nofeathers</td>\n",
              "      <td>eggs</td>\n",
              "      <td>nomilk</td>\n",
              "      <td>noairborne</td>\n",
              "      <td>aquatic</td>\n",
              "      <td>predator</td>\n",
              "      <td>toothed</td>\n",
              "      <td>backbone</td>\n",
              "      <td>nobreathes</td>\n",
              "      <td>novenomous</td>\n",
              "      <td>fins</td>\n",
              "      <td>nolegs</td>\n",
              "      <td>tail</td>\n",
              "      <td>nodomestic</td>\n",
              "      <td>nocatsize</td>\n",
              "      <td>4</td>\n",
              "      <td>13</td>\n",
              "      <td>Fish</td>\n",
              "      <td>bass, carp, catfish, chub, dogfish, haddock, h...</td>\n",
              "    </tr>\n",
              "    <tr>\n",
              "      <th>3</th>\n",
              "      <td>bear</td>\n",
              "      <td>1</td>\n",
              "      <td>0</td>\n",
              "      <td>0</td>\n",
              "      <td>1</td>\n",
              "      <td>0</td>\n",
              "      <td>0</td>\n",
              "      <td>1</td>\n",
              "      <td>1</td>\n",
              "      <td>1</td>\n",
              "      <td>1</td>\n",
              "      <td>0</td>\n",
              "      <td>0</td>\n",
              "      <td>4</td>\n",
              "      <td>0</td>\n",
              "      <td>0</td>\n",
              "      <td>1</td>\n",
              "      <td>1</td>\n",
              "      <td>hair</td>\n",
              "      <td>nofeathers</td>\n",
              "      <td>noeggs</td>\n",
              "      <td>milk</td>\n",
              "      <td>noairborne</td>\n",
              "      <td>noaquatic</td>\n",
              "      <td>predator</td>\n",
              "      <td>toothed</td>\n",
              "      <td>backbone</td>\n",
              "      <td>breathes</td>\n",
              "      <td>novenomous</td>\n",
              "      <td>nofins</td>\n",
              "      <td>4legs</td>\n",
              "      <td>tail</td>\n",
              "      <td>nodomestic</td>\n",
              "      <td>catsize</td>\n",
              "      <td>1</td>\n",
              "      <td>41</td>\n",
              "      <td>Mammal</td>\n",
              "      <td>aardvark, antelope, bear, boar, buffalo, calf,...</td>\n",
              "    </tr>\n",
              "    <tr>\n",
              "      <th>4</th>\n",
              "      <td>boar</td>\n",
              "      <td>1</td>\n",
              "      <td>0</td>\n",
              "      <td>0</td>\n",
              "      <td>1</td>\n",
              "      <td>0</td>\n",
              "      <td>0</td>\n",
              "      <td>1</td>\n",
              "      <td>1</td>\n",
              "      <td>1</td>\n",
              "      <td>1</td>\n",
              "      <td>0</td>\n",
              "      <td>0</td>\n",
              "      <td>4</td>\n",
              "      <td>1</td>\n",
              "      <td>0</td>\n",
              "      <td>1</td>\n",
              "      <td>1</td>\n",
              "      <td>hair</td>\n",
              "      <td>nofeathers</td>\n",
              "      <td>noeggs</td>\n",
              "      <td>milk</td>\n",
              "      <td>noairborne</td>\n",
              "      <td>noaquatic</td>\n",
              "      <td>predator</td>\n",
              "      <td>toothed</td>\n",
              "      <td>backbone</td>\n",
              "      <td>breathes</td>\n",
              "      <td>novenomous</td>\n",
              "      <td>nofins</td>\n",
              "      <td>4legs</td>\n",
              "      <td>tail</td>\n",
              "      <td>nodomestic</td>\n",
              "      <td>catsize</td>\n",
              "      <td>1</td>\n",
              "      <td>41</td>\n",
              "      <td>Mammal</td>\n",
              "      <td>aardvark, antelope, bear, boar, buffalo, calf,...</td>\n",
              "    </tr>\n",
              "  </tbody>\n",
              "</table>\n",
              "</div>"
            ],
            "text/plain": [
              "  animal_name  ...                                        Animal_Name\n",
              "0    aardvark  ...  aardvark, antelope, bear, boar, buffalo, calf,...\n",
              "1    antelope  ...  aardvark, antelope, bear, boar, buffalo, calf,...\n",
              "2        bass  ...  bass, carp, catfish, chub, dogfish, haddock, h...\n",
              "3        bear  ...  aardvark, antelope, bear, boar, buffalo, calf,...\n",
              "4        boar  ...  aardvark, antelope, bear, boar, buffalo, calf,...\n",
              "\n",
              "[5 rows x 38 columns]"
            ]
          },
          "metadata": {
            "tags": []
          },
          "execution_count": 94
        }
      ]
    },
    {
      "cell_type": "code",
      "metadata": {
        "colab": {
          "base_uri": "https://localhost:8080/",
          "height": 256
        },
        "id": "5mT4_Gci63J4",
        "outputId": "c98eb635-1310-47b1-df77-1ee3b58ccf63"
      },
      "source": [
        "N_df = class_type_df[['Class_Number','Class_Type']]\n",
        "N_df"
      ],
      "execution_count": null,
      "outputs": [
        {
          "output_type": "execute_result",
          "data": {
            "text/html": [
              "<div>\n",
              "<style scoped>\n",
              "    .dataframe tbody tr th:only-of-type {\n",
              "        vertical-align: middle;\n",
              "    }\n",
              "\n",
              "    .dataframe tbody tr th {\n",
              "        vertical-align: top;\n",
              "    }\n",
              "\n",
              "    .dataframe thead th {\n",
              "        text-align: right;\n",
              "    }\n",
              "</style>\n",
              "<table border=\"1\" class=\"dataframe\">\n",
              "  <thead>\n",
              "    <tr style=\"text-align: right;\">\n",
              "      <th></th>\n",
              "      <th>Class_Number</th>\n",
              "      <th>Class_Type</th>\n",
              "    </tr>\n",
              "  </thead>\n",
              "  <tbody>\n",
              "    <tr>\n",
              "      <th>0</th>\n",
              "      <td>1</td>\n",
              "      <td>Mammal</td>\n",
              "    </tr>\n",
              "    <tr>\n",
              "      <th>1</th>\n",
              "      <td>2</td>\n",
              "      <td>Bird</td>\n",
              "    </tr>\n",
              "    <tr>\n",
              "      <th>2</th>\n",
              "      <td>3</td>\n",
              "      <td>Reptile</td>\n",
              "    </tr>\n",
              "    <tr>\n",
              "      <th>3</th>\n",
              "      <td>4</td>\n",
              "      <td>Fish</td>\n",
              "    </tr>\n",
              "    <tr>\n",
              "      <th>4</th>\n",
              "      <td>5</td>\n",
              "      <td>Amphibian</td>\n",
              "    </tr>\n",
              "    <tr>\n",
              "      <th>5</th>\n",
              "      <td>6</td>\n",
              "      <td>Bug</td>\n",
              "    </tr>\n",
              "    <tr>\n",
              "      <th>6</th>\n",
              "      <td>7</td>\n",
              "      <td>Invertebrate</td>\n",
              "    </tr>\n",
              "  </tbody>\n",
              "</table>\n",
              "</div>"
            ],
            "text/plain": [
              "   Class_Number    Class_Type\n",
              "0             1        Mammal\n",
              "1             2          Bird\n",
              "2             3       Reptile\n",
              "3             4          Fish\n",
              "4             5     Amphibian\n",
              "5             6           Bug\n",
              "6             7  Invertebrate"
            ]
          },
          "metadata": {
            "tags": []
          },
          "execution_count": 113
        }
      ]
    },
    {
      "cell_type": "code",
      "metadata": {
        "id": "0lGRewb_8uBo"
      },
      "source": [
        "from sklearn.model_selection import train_test_split"
      ],
      "execution_count": null,
      "outputs": []
    },
    {
      "cell_type": "markdown",
      "metadata": {
        "id": "27gKEXam2asq"
      },
      "source": [
        "### ทำการแบ่ง train และ test ออกเป็น 80/20 "
      ]
    },
    {
      "cell_type": "markdown",
      "metadata": {
        "id": "79wXJpHM8yfj"
      },
      "source": [
        "### - กำหนดค่า X โดยเรียกใช้ตาราง animal และใช้คำสั่ง .iloc ให้เอาทุกแถวตั้งแต่คอลัมที่ 1 ถึง คอลัมที่ 17 \n",
        "### - กำหนดค่า y โดยเรียกใช้ตาราง animal และใช้คำสั่ง .iloc ให้เอาทุกแถวของคอลัมที่ 17 \n",
        "### - เราจะส่ง X และ y ไปให้ฟังก์ชั่น train_test_split นี้ พร้อมกับกำหนด \n",
        "*   test_size คือ ขนาดอัตราส่วนของข้อมูลกลุ่ม test ต่อข้อมูลกลุ่ม train ในที่นี้เท่ากับ 0.2 \n",
        "*  random_state คือ ค่าที่กำหนดการ random กลุ่มข้อมูล จะเป็นเลขจำนวนเต็ม ถ้ากำหนดเลขเดิม ผลการ split ก็เหมือนเดิม\n",
        "*  stratify คือ การกำหนดการกระจายของข้อมูลที่ split ให้มีการกระจายเหมือน original dataset\n",
        "\n"
      ]
    },
    {
      "cell_type": "code",
      "metadata": {
        "id": "ocZpl3DTiw_M"
      },
      "source": [
        "X = df.iloc[:,1:17] \n",
        "y = df.iloc[:,17]\n",
        "X_train, X_test, y_train, y_test = train_test_split(X, y, test_size=0.2, random_state=1, stratify=y)"
      ],
      "execution_count": null,
      "outputs": []
    },
    {
      "cell_type": "code",
      "metadata": {
        "colab": {
          "base_uri": "https://localhost:8080/"
        },
        "id": "wiXyvlSk5zlv",
        "outputId": "113121c7-b024-4108-c5b3-eba01ebdae00"
      },
      "source": [
        "X_train.shape"
      ],
      "execution_count": null,
      "outputs": [
        {
          "output_type": "execute_result",
          "data": {
            "text/plain": [
              "(80, 16)"
            ]
          },
          "metadata": {
            "tags": []
          },
          "execution_count": 107
        }
      ]
    },
    {
      "cell_type": "code",
      "metadata": {
        "colab": {
          "base_uri": "https://localhost:8080/"
        },
        "id": "KhTqILRu55YI",
        "outputId": "787456ed-81af-43ae-ce4c-4f5aad714dbe"
      },
      "source": [
        "X_test.shape"
      ],
      "execution_count": null,
      "outputs": [
        {
          "output_type": "execute_result",
          "data": {
            "text/plain": [
              "(21, 16)"
            ]
          },
          "metadata": {
            "tags": []
          },
          "execution_count": 109
        }
      ]
    },
    {
      "cell_type": "code",
      "metadata": {
        "id": "xN4OlNhNAYN_"
      },
      "source": [
        "from sklearn.neighbors import KNeighborsClassifier\n",
        "from sklearn.model_selection import cross_val_score"
      ],
      "execution_count": null,
      "outputs": []
    },
    {
      "cell_type": "markdown",
      "metadata": {
        "id": "e7qWRopueJX3"
      },
      "source": [
        "### Define นิยามโมเดล เช่น กำหนดค่า K "
      ]
    },
    {
      "cell_type": "code",
      "metadata": {
        "id": "bFH8ENslAbrj"
      },
      "source": [
        "myKNN = KNeighborsClassifier(n_neighbors=3) "
      ],
      "execution_count": null,
      "outputs": []
    },
    {
      "cell_type": "markdown",
      "metadata": {
        "id": "_CRudLA9eRzD"
      },
      "source": [
        "### ทำการ Train (fit) เพื่อสร้างโมเดล"
      ]
    },
    {
      "cell_type": "code",
      "metadata": {
        "colab": {
          "base_uri": "https://localhost:8080/"
        },
        "id": "eYRMG4V2AtNv",
        "outputId": "8ef5fad4-5632-4b08-b614-fce04bb5bfc9"
      },
      "source": [
        "myKNN.fit(X_train,y_train)"
      ],
      "execution_count": null,
      "outputs": [
        {
          "output_type": "execute_result",
          "data": {
            "text/plain": [
              "KNeighborsClassifier(algorithm='auto', leaf_size=30, metric='minkowski',\n",
              "                     metric_params=None, n_jobs=None, n_neighbors=3, p=2,\n",
              "                     weights='uniform')"
            ]
          },
          "metadata": {
            "tags": []
          },
          "execution_count": 104
        }
      ]
    },
    {
      "cell_type": "markdown",
      "metadata": {
        "id": "fAFo4RQCebpZ"
      },
      "source": [
        "### ทำการ Test โดยใช้คำสั่ง .predict นำข้อมูลจาก X_test "
      ]
    },
    {
      "cell_type": "code",
      "metadata": {
        "colab": {
          "base_uri": "https://localhost:8080/"
        },
        "id": "k7KMaXZgAylh",
        "outputId": "d904e83a-2ead-43d4-ec61-1716188b0e43"
      },
      "source": [
        "myKNN.predict(X_test)"
      ],
      "execution_count": null,
      "outputs": [
        {
          "output_type": "execute_result",
          "data": {
            "text/plain": [
              "array([5, 3, 1, 1, 6, 4, 1, 6, 1, 2, 1, 1, 1, 2, 7, 2, 4, 7, 1, 2, 4])"
            ]
          },
          "metadata": {
            "tags": []
          },
          "execution_count": 105
        }
      ]
    },
    {
      "cell_type": "markdown",
      "metadata": {
        "id": "L_9APnyCenW-"
      },
      "source": [
        "### ใช้คำสั่ง .predict_proba เป็นการคำนวณความน่าจะเป็นว่า ข้อมูลลักษณะของสัตว์ที่นำเข้าไปในโมเดลนั้นจะอยู่ประเภทไหนกี่เปอร์เซ็นต์\n",
        "\n",
        "จะเห็นว่า ข้อมูลลักษณะของสัตว์ ตัวแรก ที่นำเข้าโมเดล มีผลการทำนายเป็น [0.   , 0.   , 0.   , 0.   , 1.   ,  0.   , 0.  ] นั่นคือ สัตว์ตัวแรกนี้ มีโอกาสที่จะอยู่ในประเภท ที่ 1,2,3,4,6,7 อยู่ 0 %  แต่มีโอกาสที่จะอยู่ในประเภท ที่ 5 อยู่ 100 %\n",
        "\n",
        "สัตว์ตัวที่ 2 มีผลการทำนายเป็น  [0.  , 0.  , 0.66666667, 0.33333333    , 0.     ,  0.     , 0.]  สัตว์ตัวที่ 2 นี้ มีโอกาสที่จะอยู่ในประเภท ที่ 3 อยู่ 66.67 %  "
      ]
    },
    {
      "cell_type": "code",
      "metadata": {
        "colab": {
          "base_uri": "https://localhost:8080/"
        },
        "id": "NP5IYq1FA2LB",
        "outputId": "1283d02e-dfce-4151-df72-7f7c692ab5fe"
      },
      "source": [
        "myKNN.predict_proba(X_test)"
      ],
      "execution_count": null,
      "outputs": [
        {
          "output_type": "execute_result",
          "data": {
            "text/plain": [
              "array([[0.        , 0.        , 0.        , 0.        , 1.        ,\n",
              "        0.        , 0.        ],\n",
              "       [0.        , 0.        , 0.66666667, 0.33333333, 0.        ,\n",
              "        0.        , 0.        ],\n",
              "       [0.66666667, 0.33333333, 0.        , 0.        , 0.        ,\n",
              "        0.        , 0.        ],\n",
              "       [1.        , 0.        , 0.        , 0.        , 0.        ,\n",
              "        0.        , 0.        ],\n",
              "       [0.        , 0.        , 0.        , 0.        , 0.        ,\n",
              "        1.        , 0.        ],\n",
              "       [0.        , 0.        , 0.        , 1.        , 0.        ,\n",
              "        0.        , 0.        ],\n",
              "       [1.        , 0.        , 0.        , 0.        , 0.        ,\n",
              "        0.        , 0.        ],\n",
              "       [0.        , 0.        , 0.        , 0.        , 0.        ,\n",
              "        1.        , 0.        ],\n",
              "       [0.66666667, 0.        , 0.        , 0.33333333, 0.        ,\n",
              "        0.        , 0.        ],\n",
              "       [0.        , 1.        , 0.        , 0.        , 0.        ,\n",
              "        0.        , 0.        ],\n",
              "       [1.        , 0.        , 0.        , 0.        , 0.        ,\n",
              "        0.        , 0.        ],\n",
              "       [0.66666667, 0.33333333, 0.        , 0.        , 0.        ,\n",
              "        0.        , 0.        ],\n",
              "       [1.        , 0.        , 0.        , 0.        , 0.        ,\n",
              "        0.        , 0.        ],\n",
              "       [0.        , 1.        , 0.        , 0.        , 0.        ,\n",
              "        0.        , 0.        ],\n",
              "       [0.        , 0.        , 0.        , 0.        , 0.        ,\n",
              "        0.33333333, 0.66666667],\n",
              "       [0.        , 1.        , 0.        , 0.        , 0.        ,\n",
              "        0.        , 0.        ],\n",
              "       [0.        , 0.        , 0.        , 1.        , 0.        ,\n",
              "        0.        , 0.        ],\n",
              "       [0.        , 0.        , 0.        , 0.        , 0.        ,\n",
              "        0.        , 1.        ],\n",
              "       [1.        , 0.        , 0.        , 0.        , 0.        ,\n",
              "        0.        , 0.        ],\n",
              "       [0.        , 1.        , 0.        , 0.        , 0.        ,\n",
              "        0.        , 0.        ],\n",
              "       [0.        , 0.        , 0.        , 1.        , 0.        ,\n",
              "        0.        , 0.        ]])"
            ]
          },
          "metadata": {
            "tags": []
          },
          "execution_count": 119
        }
      ]
    },
    {
      "cell_type": "markdown",
      "metadata": {
        "id": "WxvHBiC28l3D"
      },
      "source": [
        "### ตรวจสอบความแม่นยำของโมเดล ว่าสามารถจำแจกประเภทของสัตว์ ได้ที่ความแม่นยำกี่เปอร์เซ็นต์\n",
        "จากผล จะเห็นว่าโมเดลนี้ มีความแม่นยำอยู่ที่ 0.9125 นั่นคือ โมเดลนี้สามารถทำนายประเภทของสัตว์ จากลักษณะต่าง ๆ ของสัตว์ได้ 91.25%"
      ]
    },
    {
      "cell_type": "code",
      "metadata": {
        "colab": {
          "base_uri": "https://localhost:8080/"
        },
        "id": "HDY6yuEiBhnu",
        "outputId": "80500edb-ed96-4a94-e4a7-0c69d6fb120c"
      },
      "source": [
        "cross_val_score(myKNN, X_train, y_train, cv=10).mean()"
      ],
      "execution_count": null,
      "outputs": [
        {
          "output_type": "stream",
          "text": [
            "/usr/local/lib/python3.6/dist-packages/sklearn/model_selection/_split.py:667: UserWarning: The least populated class in y has only 3 members, which is less than n_splits=10.\n",
            "  % (min_groups, self.n_splits)), UserWarning)\n"
          ],
          "name": "stderr"
        },
        {
          "output_type": "execute_result",
          "data": {
            "text/plain": [
              "0.9125"
            ]
          },
          "metadata": {
            "tags": []
          },
          "execution_count": 120
        }
      ]
    }
  ]
}